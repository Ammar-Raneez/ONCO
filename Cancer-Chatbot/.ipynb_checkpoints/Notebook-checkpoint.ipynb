{
 "cells": [
  {
   "cell_type": "code",
   "execution_count": null,
   "metadata": {},
   "outputs": [],
   "source": [
    "import nltk\n",
    "from nltk.stem.lancaster import LancasterStemmer\n",
    "import numpy\n",
    "import tflearn\n",
    "import tensorflow as tf\n",
    "import random\n",
    "import json"
   ]
  },
  {
   "cell_type": "code",
   "execution_count": null,
   "metadata": {
    "scrolled": true
   },
   "outputs": [],
   "source": [
    "#open the json and store it\n",
    "with open(\"intents.json\") as intents:\n",
    "    intent_data = json.load(intents)\n",
    "# intent_data"
   ]
  },
  {
   "cell_type": "code",
   "execution_count": null,
   "metadata": {},
   "outputs": [],
   "source": [
    "#will hold all words\n",
    "all_words = []\n",
    "\n",
    "#will hold all possible intent tags\n",
    "all_labels = []\n",
    "\n",
    "#will hold all pattern data, each pattern in a list of itself\n",
    "all_patterns = []\n",
    "\n",
    "#will hold the type of intent of the corresponding word in all_patterns\n",
    "all_responses = []"
   ]
  },
  {
   "cell_type": "code",
   "execution_count": null,
   "metadata": {},
   "outputs": [],
   "source": [
    "stemmer = LancasterStemmer()"
   ]
  },
  {
   "cell_type": "code",
   "execution_count": null,
   "metadata": {},
   "outputs": [],
   "source": [
    "#loop through the intent dictionary\n",
    "for intent in intent_data['intents']:\n",
    "    #loop through each pattern in each patterns list\n",
    "    for pattern in intent['patterns']:\n",
    "        #tokenize basically separates each sentence into individual words\n",
    "        words = nltk.word_tokenize(pattern)\n",
    "        #add all the words into all words\n",
    "        all_words.extend(words)\n",
    "        all_patterns.append(words)\n",
    "        all_responses.append(intent['tag'])\n",
    "        \n",
    "    if intent['tag'] not in all_labels:\n",
    "        all_labels.append(intent['tag'])"
   ]
  },
  {
   "cell_type": "code",
   "execution_count": null,
   "metadata": {},
   "outputs": [],
   "source": [
    "print(all_words[:5])\n",
    "print(all_labels)\n",
    "print(all_patterns[:5])\n",
    "print(all_responses[:5])"
   ]
  },
  {
   "cell_type": "code",
   "execution_count": null,
   "metadata": {
    "scrolled": true
   },
   "outputs": [],
   "source": [
    "#removes the ends of the words. Basically reducing the words to their root type\n",
    "#for example if there was a word that is \"Whats\" it removes the \"s\" returning only \"what\"\n",
    "#the reason for doing this is to get the plain meaning of the word whilst ignoring any unnecessary\n",
    "#additions that might confuse the model, making it to be able to generalize more\n",
    "all_words = [stemmer.stem(word.lower()) for word in all_words if word != \"?\"]\n",
    "print(all_words)\n",
    "print(len(all_words))"
   ]
  },
  {
   "cell_type": "code",
   "execution_count": null,
   "metadata": {},
   "outputs": [],
   "source": [
    "#remove any duplicate words, and sort for easiness\n",
    "all_words = sorted(list(set(all_words)))\n",
    "len(all_words)"
   ]
  },
  {
   "cell_type": "code",
   "execution_count": null,
   "metadata": {},
   "outputs": [],
   "source": [
    "all_labels = sorted(all_labels)\n",
    "print(len(all_labels))"
   ]
  },
  {
   "cell_type": "code",
   "execution_count": null,
   "metadata": {},
   "outputs": [],
   "source": [
    "#A neural network cannot interpret these Strings\n",
    "#However, they can be one-hot encoded to numbers\n",
    "#One hot encoding - Bag of Words (if word is there - \"hot\", represented with a 1)\n",
    "#the mapping is [the, she, he, him, they, was, a, guy, person]\n",
    "#one-hot representation -> [0, 0, 1, 0, 0, 1, 1, 0, 1], for the sentence \"he was a person\"\n",
    "#We'll use this representation for each sentence, using {all_words} as its list to mapped against\n",
    "\n",
    "#training and output list\n",
    "training = []\n",
    "output = []\n",
    "\n",
    "#creating a list of all 0's  to use as a starting point\n",
    "out_empty = [0 for _ in range(len(all_labels))]\n",
    "# print(out_empty) -> [0,0,0,0,0,0]\n",
    "\n",
    "for index, pattern in enumerate(all_patterns):\n",
    "    #the bag of words\n",
    "    bag = []\n",
    "    words = [stemmer.stem(word.lower()) for word in pattern]\n",
    "    \n",
    "    for word in all_words:\n",
    "        #loop and check whether each word consists\n",
    "        if word in words:\n",
    "            #if it does append 1\n",
    "            bag.append(1)\n",
    "        else:\n",
    "            bag.append(0)\n",
    "    \n",
    "    #create a copy of out_empty\n",
    "    output_row = out_empty[:]\n",
    "    \n",
    "    #set the position of the tag equal to 1\n",
    "    output_row[all_labels.index(all_responses[index])] = 1\n",
    "#     print(output_row)\n",
    "    training.append(bag)\n",
    "    output.append(output_row)\n",
    "    \n",
    "#convert to arrays, for tflearn to accept\n",
    "training = numpy.array(training)\n",
    "output = numpy.array(output)\n",
    "# print()\n",
    "# print(training)\n",
    "\n",
    "#the data is now ready to be used to train"
   ]
  },
  {
   "cell_type": "code",
   "execution_count": null,
   "metadata": {},
   "outputs": [],
   "source": [
    "#input data size - bag of words length\n",
    "net = tflearn.input_data(shape=[None, len(training[0])])\n",
    "#hidden layers\n",
    "net = tflearn.fully_connected(net, 8)\n",
    "net = tflearn.fully_connected(net, 8)\n",
    "#output layer, size equal to number of possibilities\n",
    "net = tflearn.fully_connected(net, len(output[0]), activation='softmax')\n",
    "net = tflearn.regression(net)\n",
    "#Regular deep neural network\n",
    "model = tflearn.DNN(net)\n",
    "\n",
    "print(training.shape)\n",
    "print(output.shape)"
   ]
  },
  {
   "cell_type": "code",
   "execution_count": null,
   "metadata": {},
   "outputs": [],
   "source": [
    "#Reset any previous settings\n",
    "# tf.compat.v1.reset_default_graph()"
   ]
  },
  {
   "cell_type": "code",
   "execution_count": null,
   "metadata": {},
   "outputs": [],
   "source": [
    "# try:\n",
    "#     model.load(\"chatbot.tflearn\")\n",
    "# except:\n",
    "model.fit(X_inputs=training, Y_targets=output, n_epoch=1000, batch_size=8, show_metric=True)\n",
    "model.save(\"chatbot.tflearn\")"
   ]
  },
  {
   "cell_type": "code",
   "execution_count": null,
   "metadata": {},
   "outputs": [],
   "source": [
    "#convert the input text into bag of words\n",
    "def bag_of_words(text, all_words):\n",
    "    bag = [0 for _ in range(len(all_words))]\n",
    "                            \n",
    "    text_words = nltk.word_tokenize(text)\n",
    "    text_words = [stemmer.stem(word.lower()) for word in text_words]\n",
    "    \n",
    "    for se in text_words:\n",
    "        for index, word in enumerate(all_words):\n",
    "            if word==se:\n",
    "                bag[index] = 1\n",
    "    \n",
    "    return numpy.array(bag)"
   ]
  },
  {
   "cell_type": "code",
   "execution_count": null,
   "metadata": {},
   "outputs": [],
   "source": [
    "def chat():\n",
    "    #Reset context on start, due to there being no context\n",
    "    context = None\n",
    "    #default responses if no proper valid match\n",
    "    default_responses = [\n",
    "    \"Sorry, can't understand you, I am not perfect :'(\", \"Please give me more info :(\", \"Not sure I understand :(\",\n",
    "    \"Please be more specific\"\n",
    "    ]\n",
    "    \n",
    "    print(\"Start talking! (quit to stop)\")\n",
    "\n",
    "    while True:\n",
    "        user_input = str(input(\"You: \")).lower()\n",
    "        if user_input == 'quit':\n",
    "            break\n",
    "    \n",
    "        #will hold a list of probabilities (softmax)\n",
    "        results = model.predict([bag_of_words(user_input, all_words)])\n",
    "        #will return index of highest probability\n",
    "        result_index = numpy.argmax(results)\n",
    "        #Corresponding tag of prediction\n",
    "        result_tag = all_labels[results_index]\n",
    "        \n",
    "        #only if the model is quite confident do this\n",
    "        if results[result_index] > 0.8:\n",
    "            for intent in intent_data['intents']:\n",
    "                #predicted intent\n",
    "                if intent['tag'] == result_tag:\n",
    "                    if result_tag == 'goodbye' or result_tag == 'thanks':\n",
    "                        break\n",
    "                        \n",
    "                    #does it have some context\n",
    "                    if ('context_filter' not in intent) or ('context_filter' in intent and intent['context_filter'] == context):\n",
    "                        #responses of corresponding intent\n",
    "                        responses = intent['responses']\n",
    "                        \n",
    "                        if 'context' in intent:\n",
    "                            context = intent['context']\n",
    "                        else:\n",
    "                            context = None\n",
    "\n",
    "                        #choose some random response\n",
    "                        print(\"CHANCO: \" + random.choice(responses))\n",
    "                    else:\n",
    "                        print(\"CHANCO: \" + random.choice(default_responses))\n",
    "        \n",
    "        #if not so confident - print a default text\n",
    "        else :\n",
    "            print(\"CHANCO: \" + random.choice(default_responses))\n",
    "        print()"
   ]
  },
  {
   "cell_type": "code",
   "execution_count": null,
   "metadata": {},
   "outputs": [],
   "source": [
    "chat()"
   ]
  }
 ],
 "metadata": {
  "kernelspec": {
   "display_name": "Python 3",
   "language": "python",
   "name": "python3"
  },
  "language_info": {
   "codemirror_mode": {
    "name": "ipython",
    "version": 3
   },
   "file_extension": ".py",
   "mimetype": "text/x-python",
   "name": "python",
   "nbconvert_exporter": "python",
   "pygments_lexer": "ipython3",
   "version": "3.7.4"
  }
 },
 "nbformat": 4,
 "nbformat_minor": 4
}
