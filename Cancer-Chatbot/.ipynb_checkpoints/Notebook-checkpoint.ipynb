{
 "cells": [
  {
   "cell_type": "code",
   "execution_count": 1,
   "metadata": {},
   "outputs": [
    {
     "name": "stdout",
     "output_type": "stream",
     "text": [
      "WARNING:tensorflow:From c:\\users\\ammuuu\\appdata\\local\\programs\\python\\python37\\lib\\site-packages\\tensorflow\\python\\compat\\v2_compat.py:96: disable_resource_variables (from tensorflow.python.ops.variable_scope) is deprecated and will be removed in a future version.\n",
      "Instructions for updating:\n",
      "non-resource variables are not supported in the long term\n",
      "curses is not supported on this machine (please install/reinstall curses for an optimal experience)\n"
     ]
    }
   ],
   "source": [
    "import nltk\n",
    "from nltk.stem.lancaster import LancasterStemmer\n",
    "import numpy\n",
    "import tflearn\n",
    "import tensorflow as tf\n",
    "import random\n",
    "import json\n",
    "from nltk.stem.wordnet import WordNetLemmatizer\n",
    "from nltk.stem.snowball import SnowballStemmer"
   ]
  },
  {
   "cell_type": "code",
   "execution_count": 2,
   "metadata": {
    "scrolled": true
   },
   "outputs": [],
   "source": [
    "#open the json and store it\n",
    "with open(\"intents.json\") as intents:\n",
    "    intent_data = json.load(intents)\n",
    "# intent_data"
   ]
  },
  {
   "cell_type": "code",
   "execution_count": 3,
   "metadata": {},
   "outputs": [],
   "source": [
    "#will hold all words\n",
    "all_words = []\n",
    "\n",
    "#will hold all possible intent tags\n",
    "all_labels = []\n",
    "\n",
    "#will hold all pattern data, each pattern in a list of itself\n",
    "all_patterns = []\n",
    "\n",
    "#will hold the type of intent of the corresponding word in all_patterns\n",
    "all_responses = []"
   ]
  },
  {
   "cell_type": "code",
   "execution_count": 4,
   "metadata": {},
   "outputs": [],
   "source": [
    "stemmer = SnowballStemmer(\"english\")\n",
    "lemmatizer = WordNetLemmatizer() "
   ]
  },
  {
   "cell_type": "code",
   "execution_count": 5,
   "metadata": {},
   "outputs": [],
   "source": [
    "#loop through the intent dictionary\n",
    "for intent in intent_data['intents']:\n",
    "    #loop through each pattern in each patterns list\n",
    "    for pattern in intent['patterns']:\n",
    "        #tokenize basically separates each sentence into individual words\n",
    "        words = nltk.word_tokenize(pattern)\n",
    "        #add all the words into all words\n",
    "        all_words.extend(words)\n",
    "        all_patterns.append(words)\n",
    "        all_responses.append(intent['tag'])\n",
    "        \n",
    "    if intent['tag'] not in all_labels:\n",
    "        all_labels.append(intent['tag'])"
   ]
  },
  {
   "cell_type": "code",
   "execution_count": 6,
   "metadata": {},
   "outputs": [
    {
     "name": "stdout",
     "output_type": "stream",
     "text": [
      "['Hi', 'How', 'are', 'you', 'hey']\n",
      "['greeting', 'goodbye', 'name', 'name_yes', 'name_no', 'thanks', 'first', 'lc_initial', 'lc_main', 'bc_initial', 'bc_main', 'sc_main']\n",
      "[['Hi'], ['How', 'are', 'you'], ['hey'], ['yo'], ['Is', 'anyone', 'there', '?']]\n",
      "['greeting', 'greeting', 'greeting', 'greeting', 'greeting']\n"
     ]
    }
   ],
   "source": [
    "print(all_words[:5])\n",
    "print(all_labels)\n",
    "print(all_patterns[:5])\n",
    "print(all_responses[:5])"
   ]
  },
  {
   "cell_type": "code",
   "execution_count": 7,
   "metadata": {
    "scrolled": true
   },
   "outputs": [
    {
     "name": "stdout",
     "output_type": "stream",
     "text": [
      "['hi', 'how', 'are', 'you', 'hey', 'yo', 'is', 'anyon', 'there', 'hello', 'good', 'day', 'what', 'up', 'sup', 'cya', 'see', 'you', 'later', 'goodby', 'im', 'leav', 'have', 'a', 'good', 'day', 'bye', 'what', 'is', 'your', 'name', 'what', 'should', 'i', 'call', 'you', 'what', 'your', 'name', 'name', 'your', 'name', 'yes', 'haha', 'yes', 'yep', 'nice', 'inde', 'yup', 'nah', 'no', 'nope', 'not', 'realli', 'ew', 'cring', 'thank', 'thank', 'you', 'that', \"'s\", 'help', 'awesom', ',', 'thank', 'thank', 'for', 'help', 'me', 'sick', 'i', 'dont', 'feel', 'good', 'not', 'well', 'i', 'am', 'not', 'feel', 'well', 'i', 'feel', 'sick', 'someth', 'is', 'wrong', 'with', 'me', 'i', 'do', 'not', 'think', 'i', 'am', 'of', 'perfect', 'health', 'cough', 'i', 'have', 'a', 'cough', 'i', 'have', 'a', 'chest', 'pain', 'chest', 'pain', 'i', 'have', 'a', 'chest', 'ach', 'chest', 'ach', 'i', 'feel', 'unusu', 'tire', 'i', 'feel', 'too', 'tire', 'i', 'feel', 'exhaust', 'i', 'get', 'tire', 'too', 'easili', 'no', 'energi', 'lack', 'in', 'energi', 'i', 'dont', 'want', 'to', 'eat', 'i', 'dont', 'have', 'an', 'appetit', 'i', 'dont', 'want', 'to', 'eat', 'cough', 'blood', 'i', 'cough', 'blood', 'out', 'of', 'breath', 'breath', 'difficulti', 'hard', 'to', 'breath', 'non', 'stop', 'cough', 'long', 'cough', 'breast', 'size', 'chang', 'breast', 'swell', 'breast', 'darken', 'breast', 'warmth', 'breast', 'ach', 'my', 'breast', 'pain', 'shoulder', 'lump', 'breast', 'lump', 'i', 'have', 'a', 'lump', 'on', 'my', 'breast', 'i', 'have', 'a', 'lump', 'on', 'my', 'shoulder', 'nippl', 'skin', 'flake', 'skin', 'around', 'nippl', 'unusu', 'peel', 'of', 'skin', 'around', 'nippl', 'unheal', 'sore', 'sore', 'not', 'heal', 'waxi', 'bump', 'pear', 'bump', 'brown', 'scar', 'crusti', 'skin', 'return', 'scab', 'mole', 'brown', 'spot', 'pain', 'lesion', 'dark', 'lesion']\n",
      "237\n"
     ]
    }
   ],
   "source": [
    "#removes the ends of the words. Basically reducing the words to their root type\n",
    "#for example if there was a word that is \"Whats\" it removes the \"s\" returning only \"what\"\n",
    "#the reason for doing this is to get the plain meaning of the word whilst ignoring any unnecessary\n",
    "#additions that might confuse the model, making it to be able to generalize more\n",
    "# all_words = [stemmer.stem(word.lower()) for word in all_words if word != \"?\"]\n",
    "\n",
    "all_words = [lemmatizer.lemmatize(word.lower()) for word in all_words if word != \"?\"]\n",
    "all_words = [stemmer.stem(word.lower()) for word in all_words if word != \"?\"]\n",
    "print(all_words)\n",
    "print(len(all_words))"
   ]
  },
  {
   "cell_type": "code",
   "execution_count": 8,
   "metadata": {},
   "outputs": [
    {
     "data": {
      "text/plain": [
       "119"
      ]
     },
     "execution_count": 8,
     "metadata": {},
     "output_type": "execute_result"
    }
   ],
   "source": [
    "#remove any duplicate words, and sort for easiness\n",
    "all_words = sorted(list(set(all_words)))\n",
    "len(all_words)"
   ]
  },
  {
   "cell_type": "code",
   "execution_count": 9,
   "metadata": {},
   "outputs": [
    {
     "name": "stdout",
     "output_type": "stream",
     "text": [
      "12\n"
     ]
    }
   ],
   "source": [
    "all_labels = sorted(all_labels)\n",
    "print(len(all_labels))"
   ]
  },
  {
   "cell_type": "code",
   "execution_count": 10,
   "metadata": {},
   "outputs": [],
   "source": [
    "#A neural network cannot interpret these Strings\n",
    "#However, they can be one-hot encoded to numbers\n",
    "#One hot encoding - Bag of Words (if word is there - \"hot\", represented with a 1)\n",
    "#the mapping is [the, she, he, him, they, was, a, guy, person]\n",
    "#one-hot representation -> [0, 0, 1, 0, 0, 1, 1, 0, 1], for the sentence \"he was a person\"\n",
    "#We'll use this representation for each sentence, using {all_words} as its list to mapped against\n",
    "\n",
    "#training and output list\n",
    "training = []\n",
    "output = []\n",
    "\n",
    "#creating a list of all 0's  to use as a starting point\n",
    "out_empty = [0 for _ in range(len(all_labels))]\n",
    "# print(out_empty) -> [0,0,0,0,0,0]\n",
    "\n",
    "for index, pattern in enumerate(all_patterns):\n",
    "    #the bag of words\n",
    "    bag = []\n",
    "    words = [stemmer.stem(word.lower()) for word in pattern]\n",
    "    \n",
    "    for word in all_words:\n",
    "        #loop and check whether each word consists\n",
    "        if word in words:\n",
    "            #if it does append 1\n",
    "            bag.append(1)\n",
    "        else:\n",
    "            bag.append(0)\n",
    "    \n",
    "    #create a copy of out_empty\n",
    "    output_row = out_empty[:]\n",
    "    \n",
    "    #set the position of the tag equal to 1\n",
    "    output_row[all_labels.index(all_responses[index])] = 1\n",
    "#     print(output_row)\n",
    "    training.append(bag)\n",
    "    output.append(output_row)\n",
    "    \n",
    "#convert to arrays, for tflearn to accept\n",
    "training = numpy.array(training)\n",
    "output = numpy.array(output)\n",
    "# print()\n",
    "# print(training)\n",
    "\n",
    "#the data is now ready to be used to train"
   ]
  },
  {
   "cell_type": "code",
   "execution_count": 11,
   "metadata": {},
   "outputs": [
    {
     "name": "stdout",
     "output_type": "stream",
     "text": [
      "WARNING:tensorflow:From c:\\users\\ammuuu\\appdata\\local\\programs\\python\\python37\\lib\\site-packages\\tflearn\\initializations.py:165: calling TruncatedNormal.__init__ (from tensorflow.python.ops.init_ops) with dtype is deprecated and will be removed in a future version.\n",
      "Instructions for updating:\n",
      "Call initializer instance with the dtype argument instead of passing it to the constructor\n",
      "(90, 119)\n",
      "(90, 12)\n"
     ]
    }
   ],
   "source": [
    "#input data size - bag of words length\n",
    "net = tflearn.input_data(shape=[None, len(training[0])])\n",
    "#hidden layers\n",
    "net = tflearn.fully_connected(net, 8)\n",
    "net = tflearn.fully_connected(net, 8)\n",
    "#output layer, size equal to number of possibilities\n",
    "net = tflearn.fully_connected(net, len(output[0]), activation='softmax')\n",
    "net = tflearn.regression(net)\n",
    "#Regular deep neural network\n",
    "model = tflearn.DNN(net)\n",
    "\n",
    "print(training.shape)\n",
    "print(output.shape)"
   ]
  },
  {
   "cell_type": "code",
   "execution_count": 12,
   "metadata": {},
   "outputs": [],
   "source": [
    "#Reset any previous settings\n",
    "# tf.compat.v1.reset_default_graph()"
   ]
  },
  {
   "cell_type": "code",
   "execution_count": 13,
   "metadata": {},
   "outputs": [
    {
     "name": "stdout",
     "output_type": "stream",
     "text": [
      "Training Step: 11999  | total loss: \u001b[1m\u001b[32m0.85323\u001b[0m\u001b[0m | time: 0.025s\n",
      "| Adam | epoch: 1000 | loss: 0.85323 - acc: 0.9535 -- iter: 88/90\n",
      "Training Step: 12000  | total loss: \u001b[1m\u001b[32m0.76800\u001b[0m\u001b[0m | time: 0.027s\n",
      "| Adam | epoch: 1000 | loss: 0.76800 - acc: 0.9581 -- iter: 90/90\n",
      "--\n",
      "INFO:tensorflow:C:\\Users\\Ammuuu\\Downloads\\learning\\UNI\\Semester II\\SDGP-Module\\SDGP-ONCO\\Cancer-Chatbot\\chatbot.tflearn is not in all_model_checkpoint_paths. Manually adding it.\n"
     ]
    }
   ],
   "source": [
    "# try:\n",
    "#     model.load(\"chatbot.tflearn\")\n",
    "# except:\n",
    "model.fit(X_inputs=training, Y_targets=output, n_epoch=1000, batch_size=8, show_metric=True)\n",
    "model.save(\"chatbot.tflearn\")"
   ]
  },
  {
   "cell_type": "code",
   "execution_count": 14,
   "metadata": {},
   "outputs": [],
   "source": [
    "#convert the input text into bag of words\n",
    "def bag_of_words(text, all_words):\n",
    "    bag = [0 for _ in range(len(all_words))]\n",
    "                            \n",
    "    text_words = nltk.word_tokenize(text)\n",
    "    text_words = [lemmatizer.lemmatize(word.lower()) for word in text_words]\n",
    "    text_words = [stemmer.stem(word.lower()) for word in text_words]\n",
    "    \n",
    "    for wrd in text_words:\n",
    "        for index, word in enumerate(all_words):\n",
    "            if word==wrd:\n",
    "                bag[index] = 1\n",
    "    \n",
    "    return numpy.array(bag)"
   ]
  },
  {
   "cell_type": "code",
   "execution_count": 15,
   "metadata": {},
   "outputs": [],
   "source": [
    "def chat(username):\n",
    "    print(f'Hi {username}, how can I help you today?')\n",
    "    \n",
    "    #Reset context on start, due to there being no context\n",
    "    context = None\n",
    "    #default responses if no proper valid match\n",
    "    default_responses = [\n",
    "    \"Sorry, can't understand you, I am not perfect :'(\", \"Please give me more info :(\", \"Not sure I understand :(\",\n",
    "    \"Please be more specific\"\n",
    "    ]\n",
    "    \n",
    "    while True:\n",
    "        user_input = str(input(\"You: \")).lower()\n",
    "        if user_input == 'quit':\n",
    "            break\n",
    "    \n",
    "        #will hold a list of probabilities (softmax)\n",
    "        bag = bag_of_words(user_input, all_words)\n",
    "        \n",
    "        results = model.predict([bag])[0]\n",
    "        #will return index of highest probability\n",
    "        result_index = numpy.argmax(results)\n",
    "        #Corresponding tag of prediction\n",
    "        result_tag = all_labels[result_index]\n",
    "           \n",
    "        print(\"Prediction Probability\", results[result_index])\n",
    "            \n",
    "        #only if the model is quite confident do this\n",
    "        if results[result_index] > 0.8:\n",
    "            #break loop if end\n",
    "            if result_tag == 'goodbye' or result_tag == 'thanks':\n",
    "                responses = intent_data['intents'][1]['responses'] if result_tag == 'goodbye' else intent_data['intents'][5]['responses']\n",
    "                print(\"CHANCO: \" + random.choice(responses))\n",
    "                break\n",
    "            \n",
    "            for intent in intent_data['intents']:\n",
    "                #predicted intent\n",
    "                if intent['tag'] == result_tag:\n",
    "                    #this if condition checks to see whether the context_filter intent has the same value as the context of the\n",
    "                    #intent it is referring to\n",
    "                    print('context_filter' in intent and intent['context_filter'] == context)\n",
    "                    if 'context_filter' not in intent or 'context_filter' in intent and intent['context_filter'] == context:\n",
    "                        #responses of corresponding intent\n",
    "                        responses = intent['responses']\n",
    "                        \n",
    "                        #does the current intent have context\n",
    "                        if 'context' in intent:\n",
    "                            context = intent['context']\n",
    "                        else:\n",
    "                            context = None\n",
    "\n",
    "                        #choose some random response\n",
    "                        print(\"CHANCO: \" + random.choice(responses))\n",
    "                    else:\n",
    "                        print(\"CHANCO: \" + random.choice(default_responses))\n",
    "        \n",
    "        #if not so confident - print a default text\n",
    "        else :\n",
    "            print(\"CHANCO: \" + random.choice(default_responses))\n",
    "        print()"
   ]
  },
  {
   "cell_type": "code",
   "execution_count": 16,
   "metadata": {
    "scrolled": true
   },
   "outputs": [
    {
     "name": "stdout",
     "output_type": "stream",
     "text": [
      "Hi pakaya, how can I help you today?\n",
      "You: what is your name\n",
      "Prediction Probability 0.99996793\n",
      "False\n",
      "CHANCO: I am CHANCO! does it fit?\n",
      "\n",
      "You: yes\n",
      "Prediction Probability 0.99929\n",
      "True\n",
      "CHANCO: See! I am smart ;)\n",
      "\n",
      "You: hari ban ela\n",
      "Prediction Probability 0.48937422\n",
      "CHANCO: Not sure I understand :(\n",
      "\n",
      "You: i feel sick\n",
      "Prediction Probability 0.999899\n",
      "False\n",
      "CHANCO: not to worry, you have me! lets get started, what do have?\n",
      "\n",
      "You: a cough\n",
      "Prediction Probability 0.98638713\n",
      "False\n",
      "CHANCO: I am sorry to hear that... These symptoms however can be less serious than you think! :) So please let me know further symptoms that you might have (Coughing up blood, a cough that does not stop, breathlessness)\n",
      "\n",
      "You: cough blood\n",
      "Prediction Probability 0.99914134\n",
      "True\n",
      "CHANCO: I suspect a chance of you having lung cancer... But there's always a chance of positivity! I suggest that you please get an x-ray uploaded on our detection section so that we can confirm\n",
      "\n"
     ]
    },
    {
     "ename": "KeyboardInterrupt",
     "evalue": "Interrupted by user",
     "output_type": "error",
     "traceback": [
      "\u001b[1;31m---------------------------------------------------------------------------\u001b[0m",
      "\u001b[1;31mKeyboardInterrupt\u001b[0m                         Traceback (most recent call last)",
      "\u001b[1;32m<ipython-input-16-fc41a83ea645>\u001b[0m in \u001b[0;36m<module>\u001b[1;34m\u001b[0m\n\u001b[1;32m----> 1\u001b[1;33m \u001b[0mchat\u001b[0m\u001b[1;33m(\u001b[0m\u001b[1;34m\"pakaya\"\u001b[0m\u001b[1;33m)\u001b[0m\u001b[1;33m\u001b[0m\u001b[1;33m\u001b[0m\u001b[0m\n\u001b[0m",
      "\u001b[1;32m<ipython-input-15-7e8803239f20>\u001b[0m in \u001b[0;36mchat\u001b[1;34m(username)\u001b[0m\n\u001b[0;32m     11\u001b[0m \u001b[1;33m\u001b[0m\u001b[0m\n\u001b[0;32m     12\u001b[0m     \u001b[1;32mwhile\u001b[0m \u001b[1;32mTrue\u001b[0m\u001b[1;33m:\u001b[0m\u001b[1;33m\u001b[0m\u001b[1;33m\u001b[0m\u001b[0m\n\u001b[1;32m---> 13\u001b[1;33m         \u001b[0muser_input\u001b[0m \u001b[1;33m=\u001b[0m \u001b[0mstr\u001b[0m\u001b[1;33m(\u001b[0m\u001b[0minput\u001b[0m\u001b[1;33m(\u001b[0m\u001b[1;34m\"You: \"\u001b[0m\u001b[1;33m)\u001b[0m\u001b[1;33m)\u001b[0m\u001b[1;33m.\u001b[0m\u001b[0mlower\u001b[0m\u001b[1;33m(\u001b[0m\u001b[1;33m)\u001b[0m\u001b[1;33m\u001b[0m\u001b[1;33m\u001b[0m\u001b[0m\n\u001b[0m\u001b[0;32m     14\u001b[0m         \u001b[1;32mif\u001b[0m \u001b[0muser_input\u001b[0m \u001b[1;33m==\u001b[0m \u001b[1;34m'quit'\u001b[0m\u001b[1;33m:\u001b[0m\u001b[1;33m\u001b[0m\u001b[1;33m\u001b[0m\u001b[0m\n\u001b[0;32m     15\u001b[0m             \u001b[1;32mbreak\u001b[0m\u001b[1;33m\u001b[0m\u001b[1;33m\u001b[0m\u001b[0m\n",
      "\u001b[1;32mc:\\users\\ammuuu\\appdata\\local\\programs\\python\\python37\\lib\\site-packages\\ipykernel\\kernelbase.py\u001b[0m in \u001b[0;36mraw_input\u001b[1;34m(self, prompt)\u001b[0m\n\u001b[0;32m    861\u001b[0m             \u001b[0mself\u001b[0m\u001b[1;33m.\u001b[0m\u001b[0m_parent_ident\u001b[0m\u001b[1;33m,\u001b[0m\u001b[1;33m\u001b[0m\u001b[1;33m\u001b[0m\u001b[0m\n\u001b[0;32m    862\u001b[0m             \u001b[0mself\u001b[0m\u001b[1;33m.\u001b[0m\u001b[0m_parent_header\u001b[0m\u001b[1;33m,\u001b[0m\u001b[1;33m\u001b[0m\u001b[1;33m\u001b[0m\u001b[0m\n\u001b[1;32m--> 863\u001b[1;33m             \u001b[0mpassword\u001b[0m\u001b[1;33m=\u001b[0m\u001b[1;32mFalse\u001b[0m\u001b[1;33m,\u001b[0m\u001b[1;33m\u001b[0m\u001b[1;33m\u001b[0m\u001b[0m\n\u001b[0m\u001b[0;32m    864\u001b[0m         )\n\u001b[0;32m    865\u001b[0m \u001b[1;33m\u001b[0m\u001b[0m\n",
      "\u001b[1;32mc:\\users\\ammuuu\\appdata\\local\\programs\\python\\python37\\lib\\site-packages\\ipykernel\\kernelbase.py\u001b[0m in \u001b[0;36m_input_request\u001b[1;34m(self, prompt, ident, parent, password)\u001b[0m\n\u001b[0;32m    902\u001b[0m             \u001b[1;32mexcept\u001b[0m \u001b[0mKeyboardInterrupt\u001b[0m\u001b[1;33m:\u001b[0m\u001b[1;33m\u001b[0m\u001b[1;33m\u001b[0m\u001b[0m\n\u001b[0;32m    903\u001b[0m                 \u001b[1;31m# re-raise KeyboardInterrupt, to truncate traceback\u001b[0m\u001b[1;33m\u001b[0m\u001b[1;33m\u001b[0m\u001b[1;33m\u001b[0m\u001b[0m\n\u001b[1;32m--> 904\u001b[1;33m                 \u001b[1;32mraise\u001b[0m \u001b[0mKeyboardInterrupt\u001b[0m\u001b[1;33m(\u001b[0m\u001b[1;34m\"Interrupted by user\"\u001b[0m\u001b[1;33m)\u001b[0m \u001b[1;32mfrom\u001b[0m \u001b[1;32mNone\u001b[0m\u001b[1;33m\u001b[0m\u001b[1;33m\u001b[0m\u001b[0m\n\u001b[0m\u001b[0;32m    905\u001b[0m             \u001b[1;32mexcept\u001b[0m \u001b[0mException\u001b[0m \u001b[1;32mas\u001b[0m \u001b[0me\u001b[0m\u001b[1;33m:\u001b[0m\u001b[1;33m\u001b[0m\u001b[1;33m\u001b[0m\u001b[0m\n\u001b[0;32m    906\u001b[0m                 \u001b[0mself\u001b[0m\u001b[1;33m.\u001b[0m\u001b[0mlog\u001b[0m\u001b[1;33m.\u001b[0m\u001b[0mwarning\u001b[0m\u001b[1;33m(\u001b[0m\u001b[1;34m\"Invalid Message:\"\u001b[0m\u001b[1;33m,\u001b[0m \u001b[0mexc_info\u001b[0m\u001b[1;33m=\u001b[0m\u001b[1;32mTrue\u001b[0m\u001b[1;33m)\u001b[0m\u001b[1;33m\u001b[0m\u001b[1;33m\u001b[0m\u001b[0m\n",
      "\u001b[1;31mKeyboardInterrupt\u001b[0m: Interrupted by user"
     ]
    }
   ],
   "source": [
    "chat(\"bro\")"
   ]
  }
 ],
 "metadata": {
  "kernelspec": {
   "display_name": "Python 3",
   "language": "python",
   "name": "python3"
  },
  "language_info": {
   "codemirror_mode": {
    "name": "ipython",
    "version": 3
   },
   "file_extension": ".py",
   "mimetype": "text/x-python",
   "name": "python",
   "nbconvert_exporter": "python",
   "pygments_lexer": "ipython3",
   "version": "3.7.4"
  }
 },
 "nbformat": 4,
 "nbformat_minor": 4
}
