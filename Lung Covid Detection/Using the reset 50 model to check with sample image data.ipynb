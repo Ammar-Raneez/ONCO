{
 "cells": [
  {
   "cell_type": "code",
   "execution_count": 69,
   "metadata": {},
   "outputs": [
    {
     "data": {
      "text/html": [
       "<div>\n",
       "<style scoped>\n",
       "    .dataframe tbody tr th:only-of-type {\n",
       "        vertical-align: middle;\n",
       "    }\n",
       "\n",
       "    .dataframe tbody tr th {\n",
       "        vertical-align: top;\n",
       "    }\n",
       "\n",
       "    .dataframe thead th {\n",
       "        text-align: right;\n",
       "    }\n",
       "</style>\n",
       "<table border=\"1\" class=\"dataframe\">\n",
       "  <thead>\n",
       "    <tr style=\"text-align: right;\">\n",
       "      <th></th>\n",
       "      <th>Unnamed: 0</th>\n",
       "      <th>X_ray_image_name</th>\n",
       "      <th>Label</th>\n",
       "      <th>Dataset_type</th>\n",
       "      <th>Label_2_Virus_category</th>\n",
       "      <th>Label_1_Virus_category</th>\n",
       "    </tr>\n",
       "  </thead>\n",
       "  <tbody>\n",
       "    <tr>\n",
       "      <th>5739</th>\n",
       "      <td>5762</td>\n",
       "      <td>person88_bacteria_438.jpeg</td>\n",
       "      <td>Pnemonia</td>\n",
       "      <td>TEST</td>\n",
       "      <td>NaN</td>\n",
       "      <td>bacteria</td>\n",
       "    </tr>\n",
       "    <tr>\n",
       "      <th>5803</th>\n",
       "      <td>5826</td>\n",
       "      <td>person53_virus_107.jpeg</td>\n",
       "      <td>Pnemonia</td>\n",
       "      <td>TEST</td>\n",
       "      <td>NaN</td>\n",
       "      <td>Virus</td>\n",
       "    </tr>\n",
       "    <tr>\n",
       "      <th>5393</th>\n",
       "      <td>5416</td>\n",
       "      <td>NORMAL2-IM-0315-0001.jpeg</td>\n",
       "      <td>Normal</td>\n",
       "      <td>TEST</td>\n",
       "      <td>NaN</td>\n",
       "      <td>NaN</td>\n",
       "    </tr>\n",
       "    <tr>\n",
       "      <th>5322</th>\n",
       "      <td>5345</td>\n",
       "      <td>NORMAL2-IM-0007-0001.jpeg</td>\n",
       "      <td>Normal</td>\n",
       "      <td>TEST</td>\n",
       "      <td>NaN</td>\n",
       "      <td>NaN</td>\n",
       "    </tr>\n",
       "    <tr>\n",
       "      <th>5896</th>\n",
       "      <td>5919</td>\n",
       "      <td>person1650_virus_2852.jpeg</td>\n",
       "      <td>Pnemonia</td>\n",
       "      <td>TEST</td>\n",
       "      <td>NaN</td>\n",
       "      <td>Virus</td>\n",
       "    </tr>\n",
       "    <tr>\n",
       "      <th>5317</th>\n",
       "      <td>5340</td>\n",
       "      <td>NORMAL2-IM-0027-0001.jpeg</td>\n",
       "      <td>Normal</td>\n",
       "      <td>TEST</td>\n",
       "      <td>NaN</td>\n",
       "      <td>NaN</td>\n",
       "    </tr>\n",
       "    <tr>\n",
       "      <th>5897</th>\n",
       "      <td>5920</td>\n",
       "      <td>person1649_virus_2850.jpeg</td>\n",
       "      <td>Pnemonia</td>\n",
       "      <td>TEST</td>\n",
       "      <td>NaN</td>\n",
       "      <td>Virus</td>\n",
       "    </tr>\n",
       "    <tr>\n",
       "      <th>5805</th>\n",
       "      <td>5828</td>\n",
       "      <td>person51_virus_105.jpeg</td>\n",
       "      <td>Pnemonia</td>\n",
       "      <td>TEST</td>\n",
       "      <td>NaN</td>\n",
       "      <td>Virus</td>\n",
       "    </tr>\n",
       "    <tr>\n",
       "      <th>5772</th>\n",
       "      <td>5795</td>\n",
       "      <td>person78_bacteria_387.jpeg</td>\n",
       "      <td>Pnemonia</td>\n",
       "      <td>TEST</td>\n",
       "      <td>NaN</td>\n",
       "      <td>bacteria</td>\n",
       "    </tr>\n",
       "    <tr>\n",
       "      <th>5810</th>\n",
       "      <td>5833</td>\n",
       "      <td>person46_virus_96.jpeg</td>\n",
       "      <td>Pnemonia</td>\n",
       "      <td>TEST</td>\n",
       "      <td>NaN</td>\n",
       "      <td>Virus</td>\n",
       "    </tr>\n",
       "  </tbody>\n",
       "</table>\n",
       "</div>"
      ],
      "text/plain": [
       "      Unnamed: 0            X_ray_image_name     Label Dataset_type  \\\n",
       "5739        5762  person88_bacteria_438.jpeg  Pnemonia         TEST   \n",
       "5803        5826     person53_virus_107.jpeg  Pnemonia         TEST   \n",
       "5393        5416   NORMAL2-IM-0315-0001.jpeg    Normal         TEST   \n",
       "5322        5345   NORMAL2-IM-0007-0001.jpeg    Normal         TEST   \n",
       "5896        5919  person1650_virus_2852.jpeg  Pnemonia         TEST   \n",
       "5317        5340   NORMAL2-IM-0027-0001.jpeg    Normal         TEST   \n",
       "5897        5920  person1649_virus_2850.jpeg  Pnemonia         TEST   \n",
       "5805        5828     person51_virus_105.jpeg  Pnemonia         TEST   \n",
       "5772        5795  person78_bacteria_387.jpeg  Pnemonia         TEST   \n",
       "5810        5833      person46_virus_96.jpeg  Pnemonia         TEST   \n",
       "\n",
       "     Label_2_Virus_category Label_1_Virus_category  \n",
       "5739                    NaN               bacteria  \n",
       "5803                    NaN                  Virus  \n",
       "5393                    NaN                    NaN  \n",
       "5322                    NaN                    NaN  \n",
       "5896                    NaN                  Virus  \n",
       "5317                    NaN                    NaN  \n",
       "5897                    NaN                  Virus  \n",
       "5805                    NaN                  Virus  \n",
       "5772                    NaN               bacteria  \n",
       "5810                    NaN                  Virus  "
      ]
     },
     "execution_count": 69,
     "metadata": {},
     "output_type": "execute_result"
    }
   ],
   "source": [
    "import pandas as pd\n",
    "data = pd.read_csv('Chest_xray_Corona_Metadata.csv')\n",
    "data[data['Dataset_type']=='TEST'].sample(10)"
   ]
  },
  {
   "cell_type": "code",
   "execution_count": 2,
   "metadata": {},
   "outputs": [],
   "source": [
    "\n",
    "## Predicting using the saved model\n",
    "import tensorflow as tf\n",
    "import cv2\n",
    "\n",
    "CATRGORIES = [\"COVID-19\", \"Normal\"]\n",
    "\n",
    "def prepare(filepath):\n",
    "    IMG_SIZE = 224\n",
    "    img_array = cv2.imread(filepath)\n",
    "    new_array = cv2.resize(img_array, (IMG_SIZE,IMG_SIZE), 3)\n",
    "    return new_array.reshape(1, 224, 224, 3)\n",
    "\n",
    "\n",
    "productionModel = tf.keras.models.load_model('covid19_xray_resnet_50.h5')\n"
   ]
  },
  {
   "cell_type": "code",
   "execution_count": 3,
   "metadata": {},
   "outputs": [
    {
     "name": "stdout",
     "output_type": "stream",
     "text": [
      "Normal\n",
      "COVID-19\n",
      "Normal\n",
      "COVID-19\n"
     ]
    }
   ],
   "source": [
    "pred = productionModel.predict([prepare('dataset/test/NORMAL2-IM-0374-0001-0001.jpeg')])\n",
    "print(CATRGORIES[int(round(pred[0][0]))]) #Normal\n",
    "\n",
    "pred = productionModel.predict([prepare('dataset/test/person76_virus_138.jpeg')])\n",
    "print(CATRGORIES[int(round(pred[0][0]))])  #COVID-19\n",
    "\n",
    "pred = productionModel.predict([prepare('dataset/test/IM-0091-0001.jpeg')])\n",
    "print(CATRGORIES[int(round(pred[0][0]))]) #Normal\n",
    "\n",
    "pred = productionModel.predict([prepare('dataset/test/person1668_virus_2882.jpeg')])\n",
    "print(CATRGORIES[int(round(pred[0][0]))])  #COVID-19"
   ]
  },
  {
   "cell_type": "code",
   "execution_count": 11,
   "metadata": {},
   "outputs": [
    {
     "name": "stdout",
     "output_type": "stream",
     "text": [
      "Normal\n"
     ]
    }
   ],
   "source": [
    "pred = productionModel.predict([prepare('dataset/test/NORMAL2-IM-0027-0001.jpeg')])\n",
    "print(CATRGORIES[int(round(pred[0][0]))]) #Normal"
   ]
  },
  {
   "cell_type": "code",
   "execution_count": 12,
   "metadata": {},
   "outputs": [
    {
     "name": "stdout",
     "output_type": "stream",
     "text": [
      "Normal\n"
     ]
    }
   ],
   "source": [
    "pred = productionModel.predict([prepare('dataset/test/IM-0035-0001.jpeg')])\n",
    "print(CATRGORIES[int(round(pred[0][0]))]) #Normal"
   ]
  },
  {
   "cell_type": "code",
   "execution_count": 25,
   "metadata": {},
   "outputs": [
    {
     "name": "stdout",
     "output_type": "stream",
     "text": [
      "COVID-19\n"
     ]
    }
   ],
   "source": [
    "pred = productionModel.predict([prepare('dataset/test/person1613_virus_2799.jpeg')])\n",
    "print(CATRGORIES[int(round(pred[0][0]))]) #COVID-19"
   ]
  },
  {
   "cell_type": "code",
   "execution_count": 29,
   "metadata": {},
   "outputs": [
    {
     "name": "stdout",
     "output_type": "stream",
     "text": [
      "Normal\n"
     ]
    }
   ],
   "source": [
    "pred = productionModel.predict([prepare('dataset/test/NORMAL2-IM-0041-0001.jpeg')])\n",
    "print(CATRGORIES[int(round(pred[0][0]))]) #Normal"
   ]
  },
  {
   "cell_type": "code",
   "execution_count": 33,
   "metadata": {},
   "outputs": [
    {
     "name": "stdout",
     "output_type": "stream",
     "text": [
      "COVID-19\n"
     ]
    }
   ],
   "source": [
    "pred = productionModel.predict([prepare('dataset/test/person1667_virus_2881.jpeg')])\n",
    "print(CATRGORIES[int(round(pred[0][0]))]) #COVID-19"
   ]
  },
  {
   "cell_type": "code",
   "execution_count": 34,
   "metadata": {},
   "outputs": [
    {
     "name": "stdout",
     "output_type": "stream",
     "text": [
      "COVID-19\n"
     ]
    }
   ],
   "source": [
    "pred = productionModel.predict([prepare('dataset/test/person74_virus_135.jpeg')])\n",
    "print(CATRGORIES[int(round(pred[0][0]))]) #COVID-19"
   ]
  },
  {
   "cell_type": "code",
   "execution_count": 35,
   "metadata": {},
   "outputs": [
    {
     "name": "stdout",
     "output_type": "stream",
     "text": [
      "COVID-19\n"
     ]
    }
   ],
   "source": [
    "pred = productionModel.predict([prepare('dataset/test/person1640_virus_2839.jpeg')])\n",
    "print(CATRGORIES[int(round(pred[0][0]))]) #COVID-19"
   ]
  },
  {
   "cell_type": "code",
   "execution_count": 44,
   "metadata": {},
   "outputs": [
    {
     "name": "stdout",
     "output_type": "stream",
     "text": [
      "COVID-19\n"
     ]
    }
   ],
   "source": [
    "pred = productionModel.predict([prepare('dataset/test/person1678_virus_2895.jpeg')])\n",
    "print(CATRGORIES[int(round(pred[0][0]))]) #COVID-19"
   ]
  },
  {
   "cell_type": "code",
   "execution_count": 49,
   "metadata": {},
   "outputs": [
    {
     "name": "stdout",
     "output_type": "stream",
     "text": [
      "COVID-19\n"
     ]
    }
   ],
   "source": [
    "pred = productionModel.predict([prepare('dataset/test/person1685_virus_2903.jpeg')])\n",
    "print(CATRGORIES[int(round(pred[0][0]))]) #COVID-19"
   ]
  },
  {
   "cell_type": "code",
   "execution_count": 52,
   "metadata": {},
   "outputs": [
    {
     "name": "stdout",
     "output_type": "stream",
     "text": [
      "COVID-19\n"
     ]
    }
   ],
   "source": [
    "pred = productionModel.predict([prepare('dataset/test/person1637_virus_2834.jpeg')])\n",
    "print(CATRGORIES[int(round(pred[0][0]))]) #COVID-19"
   ]
  },
  {
   "cell_type": "code",
   "execution_count": 53,
   "metadata": {},
   "outputs": [
    {
     "name": "stdout",
     "output_type": "stream",
     "text": [
      "COVID-19\n"
     ]
    }
   ],
   "source": [
    "pred = productionModel.predict([prepare('dataset/test/person1_virus_7.jpeg')])\n",
    "print(CATRGORIES[int(round(pred[0][0]))]) #COVID-19"
   ]
  },
  {
   "cell_type": "code",
   "execution_count": 57,
   "metadata": {},
   "outputs": [
    {
     "name": "stdout",
     "output_type": "stream",
     "text": [
      "COVID-19\n"
     ]
    }
   ],
   "source": [
    "pred = productionModel.predict([prepare('dataset/test/person33_virus_72.jpeg')])\n",
    "print(CATRGORIES[int(round(pred[0][0]))]) #COVID-19"
   ]
  },
  {
   "cell_type": "code",
   "execution_count": 59,
   "metadata": {},
   "outputs": [
    {
     "name": "stdout",
     "output_type": "stream",
     "text": [
      "COVID-19\n"
     ]
    }
   ],
   "source": [
    "pred = productionModel.predict([prepare('dataset/test/person1612_virus_2798.jpeg')])\n",
    "print(CATRGORIES[int(round(pred[0][0]))]) #COVID-19"
   ]
  },
  {
   "cell_type": "code",
   "execution_count": 60,
   "metadata": {},
   "outputs": [
    {
     "name": "stdout",
     "output_type": "stream",
     "text": [
      "COVID-19\n"
     ]
    }
   ],
   "source": [
    "pred = productionModel.predict([prepare('dataset/test/person50_virus_102.jpeg')])\n",
    "print(CATRGORIES[int(round(pred[0][0]))]) #COVID-19"
   ]
  },
  {
   "cell_type": "code",
   "execution_count": 67,
   "metadata": {},
   "outputs": [
    {
     "name": "stdout",
     "output_type": "stream",
     "text": [
      "COVID-19\n"
     ]
    }
   ],
   "source": [
    "pred = productionModel.predict([prepare('dataset/test/person26_virus_60.jpeg')])\n",
    "print(CATRGORIES[int(round(pred[0][0]))]) #COVID-19"
   ]
  },
  {
   "cell_type": "code",
   "execution_count": 70,
   "metadata": {},
   "outputs": [
    {
     "name": "stdout",
     "output_type": "stream",
     "text": [
      "COVID-19\n"
     ]
    }
   ],
   "source": [
    "pred = productionModel.predict([prepare('dataset/test/person53_virus_107.jpeg')])\n",
    "print(CATRGORIES[int(round(pred[0][0]))]) #COVID-19"
   ]
  },
  {
   "cell_type": "code",
   "execution_count": 72,
   "metadata": {},
   "outputs": [
    {
     "name": "stdout",
     "output_type": "stream",
     "text": [
      "COVID-19\n"
     ]
    }
   ],
   "source": [
    "pred = productionModel.predict([prepare('dataset/test/person1649_virus_2850.jpeg')])\n",
    "print(CATRGORIES[int(round(pred[0][0]))]) #COVID-19"
   ]
  },
  {
   "cell_type": "code",
   "execution_count": 73,
   "metadata": {},
   "outputs": [
    {
     "name": "stdout",
     "output_type": "stream",
     "text": [
      "COVID-19\n"
     ]
    }
   ],
   "source": [
    "pred = productionModel.predict([prepare('dataset/test/person51_virus_105.jpeg')])\n",
    "print(CATRGORIES[int(round(pred[0][0]))]) #COVID-19"
   ]
  },
  {
   "cell_type": "code",
   "execution_count": 74,
   "metadata": {},
   "outputs": [
    {
     "name": "stdout",
     "output_type": "stream",
     "text": [
      "COVID-19\n"
     ]
    }
   ],
   "source": [
    "pred = productionModel.predict([prepare('dataset/test/person46_virus_96.jpeg')])\n",
    "print(CATRGORIES[int(round(pred[0][0]))]) #COVID-19"
   ]
  },
  {
   "cell_type": "code",
   "execution_count": null,
   "metadata": {},
   "outputs": [],
   "source": []
  }
 ],
 "metadata": {
  "kernelspec": {
   "display_name": "Python 3",
   "language": "python",
   "name": "python3"
  },
  "language_info": {
   "codemirror_mode": {
    "name": "ipython",
    "version": 3
   },
   "file_extension": ".py",
   "mimetype": "text/x-python",
   "name": "python",
   "nbconvert_exporter": "python",
   "pygments_lexer": "ipython3",
   "version": "3.7.4"
  }
 },
 "nbformat": 4,
 "nbformat_minor": 4
}
