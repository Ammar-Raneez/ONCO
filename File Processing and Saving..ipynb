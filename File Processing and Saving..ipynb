{
 "cells": [
  {
   "cell_type": "code",
   "execution_count": null,
   "id": "portuguese-knitting",
   "metadata": {},
   "outputs": [],
   "source": [
    "%config Completer.use_jedi = False # for auto complete to work on my pc.\n",
    "\n",
    "#imports to move and file mangement\n",
    "import os\n",
    "import numpy as np\n",
    "import matplotlib.pyplot as plt\n",
    "import cv2"
   ]
  },
  {
   "cell_type": "markdown",
   "id": "convertible-mediterranean",
   "metadata": {},
   "source": [
    "### Moving Files"
   ]
  },
  {
   "cell_type": "code",
   "execution_count": null,
   "id": "italic-product",
   "metadata": {},
   "outputs": [],
   "source": [
    "# get images of the scans with cancer cells and cuts it to a folder, only need this to run ONCE.\n",
    "\n",
    "#src_dir = r'D:\\Breast Cancer Diagnosis\\Dataset\\copy\\Cancer' + '\\\\' # source folder with subfolders that contain the images\n",
    "#target_dir = r'D:\\bs_data\\Cancer'+ '\\\\' # destination which i am copying the files to\n",
    "\n",
    "#for path, dir, files in os.walk(src_dir): # loop through all files in the source folder\n",
    "    #if files: # subfolders\n",
    "        #for img in files: # loop through every image in every subfolder\n",
    "            #if not os.path.isfile(target_dir + img): #if not a duplicate\n",
    "                #os.rename(path + '\\\\' + img, target_dir + img) # cut to new folder"
   ]
  },
  {
   "cell_type": "code",
   "execution_count": null,
   "id": "fabulous-refrigerator",
   "metadata": {},
   "outputs": [],
   "source": [
    "#get images of the scans with normal cells and cuts it to a folder, only need this to run ONCE.\n",
    "\n",
    "#src_dir = r'D:\\Breast Cancer Diagnosis\\Dataset\\copy\\Normal' + '\\\\' # source folder with subfolders that contain the images\n",
    "#target_dir = r'D:\\bs_data\\Normal'+ '\\\\' # destination which i am copying the files to\n",
    "\n",
    "#for path, dir, files in os.walk(src_dir): # loop through all files in the source folder\n",
    "    #if files: # subfolders\n",
    "        #for img in files: # loop through every image in every subfolder\n",
    "            #if not os.path.isfile(target_dir + img): #if not a duplicate\n",
    "                #os.rename(path + '\\\\' + img, target_dir + img) # cut to new folder"
   ]
  },
  {
   "cell_type": "code",
   "execution_count": null,
   "id": "absolute-skating",
   "metadata": {},
   "outputs": [],
   "source": [
    " "
   ]
  },
  {
   "cell_type": "code",
   "execution_count": null,
   "id": "civic-anime",
   "metadata": {},
   "outputs": [],
   "source": []
  },
  {
   "cell_type": "code",
   "execution_count": null,
   "id": "departmental-advocacy",
   "metadata": {},
   "outputs": [],
   "source": []
  },
  {
   "cell_type": "code",
   "execution_count": null,
   "id": "olympic-exemption",
   "metadata": {},
   "outputs": [],
   "source": []
  },
  {
   "cell_type": "code",
   "execution_count": null,
   "id": "residential-hopkins",
   "metadata": {},
   "outputs": [],
   "source": []
  },
  {
   "cell_type": "code",
   "execution_count": null,
   "id": "rough-month",
   "metadata": {},
   "outputs": [],
   "source": []
  },
  {
   "cell_type": "code",
   "execution_count": null,
   "id": "rolled-stuart",
   "metadata": {},
   "outputs": [],
   "source": []
  },
  {
   "cell_type": "code",
   "execution_count": null,
   "id": "loaded-profile",
   "metadata": {},
   "outputs": [],
   "source": []
  },
  {
   "cell_type": "code",
   "execution_count": null,
   "id": "handy-quilt",
   "metadata": {},
   "outputs": [],
   "source": []
  },
  {
   "cell_type": "code",
   "execution_count": null,
   "id": "impossible-budapest",
   "metadata": {},
   "outputs": [],
   "source": []
  },
  {
   "cell_type": "code",
   "execution_count": null,
   "id": "stopped-hamburg",
   "metadata": {},
   "outputs": [],
   "source": []
  },
  {
   "cell_type": "code",
   "execution_count": null,
   "id": "weird-variance",
   "metadata": {},
   "outputs": [],
   "source": []
  },
  {
   "cell_type": "code",
   "execution_count": null,
   "id": "renewable-consent",
   "metadata": {},
   "outputs": [],
   "source": []
  },
  {
   "cell_type": "code",
   "execution_count": null,
   "id": "guilty-madagascar",
   "metadata": {},
   "outputs": [],
   "source": []
  }
 ],
 "metadata": {
  "kernelspec": {
   "display_name": "Python [conda env:DeepLearn] *",
   "language": "python",
   "name": "conda-env-DeepLearn-py"
  },
  "language_info": {
   "codemirror_mode": {
    "name": "ipython",
    "version": 3
   },
   "file_extension": ".py",
   "mimetype": "text/x-python",
   "name": "python",
   "nbconvert_exporter": "python",
   "pygments_lexer": "ipython3",
   "version": "3.8.8"
  }
 },
 "nbformat": 4,
 "nbformat_minor": 5
}
