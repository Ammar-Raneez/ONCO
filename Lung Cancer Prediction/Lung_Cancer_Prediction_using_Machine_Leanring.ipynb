{
 "cells": [
  {
   "cell_type": "markdown",
   "metadata": {
    "id": "92nYNB61FdsO"
   },
   "source": [
    "# **Lung Cancer Prediction using Machine Leanring**"
   ]
  },
  {
   "cell_type": "markdown",
   "metadata": {
    "id": "I6c1YwMAFpur"
   },
   "source": [
    "### **Importing the Libraries**"
   ]
  },
  {
   "cell_type": "code",
   "execution_count": 8,
   "metadata": {
    "id": "2LIPbYkJd7WW"
   },
   "outputs": [],
   "source": [
    "import numpy as np                # creating arrays for linear algebra\n",
    "import pandas as pd               # used to create dataframes for data processing using the csv file\n",
    "import seaborn as sns             # used for visualization\n",
    "import matplotlib.pyplot as plt   # used for plotting data"
   ]
  },
  {
   "cell_type": "markdown",
   "metadata": {
    "id": "SRPHZJ_kGCIg"
   },
   "source": [
    "### **Reading the CSV data file**"
   ]
  },
  {
   "cell_type": "code",
   "execution_count": 9,
   "metadata": {
    "id": "o6QVp_xCeHTa"
   },
   "outputs": [],
   "source": [
    "dataset = pd.read_csv(\"LungDataSet.csv\")"
   ]
  },
  {
   "cell_type": "markdown",
   "metadata": {
    "id": "h_u21kdHGtvz"
   },
   "source": [
    "### **Exploring the data**"
   ]
  },
  {
   "cell_type": "code",
   "execution_count": 10,
   "metadata": {
    "colab": {
     "base_uri": "https://localhost:8080/",
     "height": 393
    },
    "id": "4oOXfVdleI8O",
    "outputId": "837790ff-67c8-4c9e-f49d-9fc384fce8fe"
   },
   "outputs": [
    {
     "data": {
      "text/html": [
       "<div>\n",
       "<style scoped>\n",
       "    .dataframe tbody tr th:only-of-type {\n",
       "        vertical-align: middle;\n",
       "    }\n",
       "\n",
       "    .dataframe tbody tr th {\n",
       "        vertical-align: top;\n",
       "    }\n",
       "\n",
       "    .dataframe thead th {\n",
       "        text-align: right;\n",
       "    }\n",
       "</style>\n",
       "<table border=\"1\" class=\"dataframe\">\n",
       "  <thead>\n",
       "    <tr style=\"text-align: right;\">\n",
       "      <th></th>\n",
       "      <th>Patient Id</th>\n",
       "      <th>Age</th>\n",
       "      <th>Gender</th>\n",
       "      <th>AirPollution</th>\n",
       "      <th>Alcoholuse</th>\n",
       "      <th>DustAllergy</th>\n",
       "      <th>OccuPationalHazards</th>\n",
       "      <th>GeneticRisk</th>\n",
       "      <th>chronicLungDisease</th>\n",
       "      <th>BalancedDiet</th>\n",
       "      <th>...</th>\n",
       "      <th>Fatigue</th>\n",
       "      <th>WeightLoss</th>\n",
       "      <th>ShortnessofBreath</th>\n",
       "      <th>Wheezing</th>\n",
       "      <th>SwallowingDifficulty</th>\n",
       "      <th>ClubbingofFingerNails</th>\n",
       "      <th>FrequentCold</th>\n",
       "      <th>DryCough</th>\n",
       "      <th>Snoring</th>\n",
       "      <th>Level</th>\n",
       "    </tr>\n",
       "  </thead>\n",
       "  <tbody>\n",
       "    <tr>\n",
       "      <th>0</th>\n",
       "      <td>P1</td>\n",
       "      <td>33</td>\n",
       "      <td>1</td>\n",
       "      <td>2</td>\n",
       "      <td>4</td>\n",
       "      <td>5</td>\n",
       "      <td>4</td>\n",
       "      <td>3</td>\n",
       "      <td>2</td>\n",
       "      <td>2</td>\n",
       "      <td>...</td>\n",
       "      <td>3</td>\n",
       "      <td>4</td>\n",
       "      <td>2</td>\n",
       "      <td>2</td>\n",
       "      <td>3</td>\n",
       "      <td>1</td>\n",
       "      <td>2</td>\n",
       "      <td>3</td>\n",
       "      <td>4</td>\n",
       "      <td>Low</td>\n",
       "    </tr>\n",
       "    <tr>\n",
       "      <th>1</th>\n",
       "      <td>P10</td>\n",
       "      <td>17</td>\n",
       "      <td>1</td>\n",
       "      <td>3</td>\n",
       "      <td>1</td>\n",
       "      <td>5</td>\n",
       "      <td>3</td>\n",
       "      <td>4</td>\n",
       "      <td>2</td>\n",
       "      <td>2</td>\n",
       "      <td>...</td>\n",
       "      <td>1</td>\n",
       "      <td>3</td>\n",
       "      <td>7</td>\n",
       "      <td>8</td>\n",
       "      <td>6</td>\n",
       "      <td>2</td>\n",
       "      <td>1</td>\n",
       "      <td>7</td>\n",
       "      <td>2</td>\n",
       "      <td>Medium</td>\n",
       "    </tr>\n",
       "    <tr>\n",
       "      <th>2</th>\n",
       "      <td>P100</td>\n",
       "      <td>35</td>\n",
       "      <td>1</td>\n",
       "      <td>4</td>\n",
       "      <td>5</td>\n",
       "      <td>6</td>\n",
       "      <td>5</td>\n",
       "      <td>5</td>\n",
       "      <td>4</td>\n",
       "      <td>6</td>\n",
       "      <td>...</td>\n",
       "      <td>8</td>\n",
       "      <td>7</td>\n",
       "      <td>9</td>\n",
       "      <td>2</td>\n",
       "      <td>1</td>\n",
       "      <td>4</td>\n",
       "      <td>6</td>\n",
       "      <td>7</td>\n",
       "      <td>2</td>\n",
       "      <td>High</td>\n",
       "    </tr>\n",
       "    <tr>\n",
       "      <th>3</th>\n",
       "      <td>P1000</td>\n",
       "      <td>37</td>\n",
       "      <td>1</td>\n",
       "      <td>7</td>\n",
       "      <td>7</td>\n",
       "      <td>7</td>\n",
       "      <td>7</td>\n",
       "      <td>6</td>\n",
       "      <td>7</td>\n",
       "      <td>7</td>\n",
       "      <td>...</td>\n",
       "      <td>4</td>\n",
       "      <td>2</td>\n",
       "      <td>3</td>\n",
       "      <td>1</td>\n",
       "      <td>4</td>\n",
       "      <td>5</td>\n",
       "      <td>6</td>\n",
       "      <td>7</td>\n",
       "      <td>5</td>\n",
       "      <td>High</td>\n",
       "    </tr>\n",
       "    <tr>\n",
       "      <th>4</th>\n",
       "      <td>P101</td>\n",
       "      <td>46</td>\n",
       "      <td>1</td>\n",
       "      <td>6</td>\n",
       "      <td>8</td>\n",
       "      <td>7</td>\n",
       "      <td>7</td>\n",
       "      <td>7</td>\n",
       "      <td>6</td>\n",
       "      <td>7</td>\n",
       "      <td>...</td>\n",
       "      <td>3</td>\n",
       "      <td>2</td>\n",
       "      <td>4</td>\n",
       "      <td>1</td>\n",
       "      <td>4</td>\n",
       "      <td>2</td>\n",
       "      <td>4</td>\n",
       "      <td>2</td>\n",
       "      <td>3</td>\n",
       "      <td>High</td>\n",
       "    </tr>\n",
       "    <tr>\n",
       "      <th>5</th>\n",
       "      <td>P102</td>\n",
       "      <td>35</td>\n",
       "      <td>1</td>\n",
       "      <td>4</td>\n",
       "      <td>5</td>\n",
       "      <td>6</td>\n",
       "      <td>5</td>\n",
       "      <td>5</td>\n",
       "      <td>4</td>\n",
       "      <td>6</td>\n",
       "      <td>...</td>\n",
       "      <td>8</td>\n",
       "      <td>7</td>\n",
       "      <td>9</td>\n",
       "      <td>2</td>\n",
       "      <td>1</td>\n",
       "      <td>4</td>\n",
       "      <td>6</td>\n",
       "      <td>7</td>\n",
       "      <td>2</td>\n",
       "      <td>High</td>\n",
       "    </tr>\n",
       "    <tr>\n",
       "      <th>6</th>\n",
       "      <td>P103</td>\n",
       "      <td>52</td>\n",
       "      <td>2</td>\n",
       "      <td>2</td>\n",
       "      <td>4</td>\n",
       "      <td>5</td>\n",
       "      <td>4</td>\n",
       "      <td>3</td>\n",
       "      <td>2</td>\n",
       "      <td>2</td>\n",
       "      <td>...</td>\n",
       "      <td>3</td>\n",
       "      <td>4</td>\n",
       "      <td>2</td>\n",
       "      <td>2</td>\n",
       "      <td>3</td>\n",
       "      <td>1</td>\n",
       "      <td>2</td>\n",
       "      <td>3</td>\n",
       "      <td>4</td>\n",
       "      <td>Low</td>\n",
       "    </tr>\n",
       "    <tr>\n",
       "      <th>7</th>\n",
       "      <td>P104</td>\n",
       "      <td>28</td>\n",
       "      <td>2</td>\n",
       "      <td>3</td>\n",
       "      <td>1</td>\n",
       "      <td>4</td>\n",
       "      <td>3</td>\n",
       "      <td>2</td>\n",
       "      <td>3</td>\n",
       "      <td>4</td>\n",
       "      <td>...</td>\n",
       "      <td>3</td>\n",
       "      <td>2</td>\n",
       "      <td>2</td>\n",
       "      <td>4</td>\n",
       "      <td>2</td>\n",
       "      <td>2</td>\n",
       "      <td>3</td>\n",
       "      <td>4</td>\n",
       "      <td>3</td>\n",
       "      <td>Low</td>\n",
       "    </tr>\n",
       "    <tr>\n",
       "      <th>8</th>\n",
       "      <td>P105</td>\n",
       "      <td>35</td>\n",
       "      <td>2</td>\n",
       "      <td>4</td>\n",
       "      <td>5</td>\n",
       "      <td>6</td>\n",
       "      <td>5</td>\n",
       "      <td>6</td>\n",
       "      <td>5</td>\n",
       "      <td>5</td>\n",
       "      <td>...</td>\n",
       "      <td>1</td>\n",
       "      <td>4</td>\n",
       "      <td>3</td>\n",
       "      <td>2</td>\n",
       "      <td>4</td>\n",
       "      <td>6</td>\n",
       "      <td>2</td>\n",
       "      <td>4</td>\n",
       "      <td>1</td>\n",
       "      <td>Medium</td>\n",
       "    </tr>\n",
       "    <tr>\n",
       "      <th>9</th>\n",
       "      <td>P106</td>\n",
       "      <td>46</td>\n",
       "      <td>1</td>\n",
       "      <td>2</td>\n",
       "      <td>3</td>\n",
       "      <td>4</td>\n",
       "      <td>2</td>\n",
       "      <td>4</td>\n",
       "      <td>3</td>\n",
       "      <td>3</td>\n",
       "      <td>...</td>\n",
       "      <td>1</td>\n",
       "      <td>2</td>\n",
       "      <td>4</td>\n",
       "      <td>6</td>\n",
       "      <td>5</td>\n",
       "      <td>4</td>\n",
       "      <td>2</td>\n",
       "      <td>1</td>\n",
       "      <td>5</td>\n",
       "      <td>Medium</td>\n",
       "    </tr>\n",
       "  </tbody>\n",
       "</table>\n",
       "<p>10 rows × 25 columns</p>\n",
       "</div>"
      ],
      "text/plain": [
       "  Patient Id  Age  Gender  AirPollution  Alcoholuse  DustAllergy  \\\n",
       "0         P1   33       1             2           4            5   \n",
       "1        P10   17       1             3           1            5   \n",
       "2       P100   35       1             4           5            6   \n",
       "3      P1000   37       1             7           7            7   \n",
       "4       P101   46       1             6           8            7   \n",
       "5       P102   35       1             4           5            6   \n",
       "6       P103   52       2             2           4            5   \n",
       "7       P104   28       2             3           1            4   \n",
       "8       P105   35       2             4           5            6   \n",
       "9       P106   46       1             2           3            4   \n",
       "\n",
       "   OccuPationalHazards  GeneticRisk  chronicLungDisease  BalancedDiet  ...  \\\n",
       "0                    4            3                   2             2  ...   \n",
       "1                    3            4                   2             2  ...   \n",
       "2                    5            5                   4             6  ...   \n",
       "3                    7            6                   7             7  ...   \n",
       "4                    7            7                   6             7  ...   \n",
       "5                    5            5                   4             6  ...   \n",
       "6                    4            3                   2             2  ...   \n",
       "7                    3            2                   3             4  ...   \n",
       "8                    5            6                   5             5  ...   \n",
       "9                    2            4                   3             3  ...   \n",
       "\n",
       "   Fatigue  WeightLoss  ShortnessofBreath  Wheezing  SwallowingDifficulty  \\\n",
       "0        3           4                  2         2                     3   \n",
       "1        1           3                  7         8                     6   \n",
       "2        8           7                  9         2                     1   \n",
       "3        4           2                  3         1                     4   \n",
       "4        3           2                  4         1                     4   \n",
       "5        8           7                  9         2                     1   \n",
       "6        3           4                  2         2                     3   \n",
       "7        3           2                  2         4                     2   \n",
       "8        1           4                  3         2                     4   \n",
       "9        1           2                  4         6                     5   \n",
       "\n",
       "   ClubbingofFingerNails  FrequentCold  DryCough  Snoring   Level  \n",
       "0                      1             2         3        4     Low  \n",
       "1                      2             1         7        2  Medium  \n",
       "2                      4             6         7        2    High  \n",
       "3                      5             6         7        5    High  \n",
       "4                      2             4         2        3    High  \n",
       "5                      4             6         7        2    High  \n",
       "6                      1             2         3        4     Low  \n",
       "7                      2             3         4        3     Low  \n",
       "8                      6             2         4        1  Medium  \n",
       "9                      4             2         1        5  Medium  \n",
       "\n",
       "[10 rows x 25 columns]"
      ]
     },
     "execution_count": 10,
     "metadata": {},
     "output_type": "execute_result"
    }
   ],
   "source": [
    "dataset.head(10)"
   ]
  },
  {
   "cell_type": "code",
   "execution_count": 11,
   "metadata": {
    "colab": {
     "base_uri": "https://localhost:8080/",
     "height": 173
    },
    "id": "pMPw2xXmeOUt",
    "outputId": "f9f4cf86-c225-4b84-c4c1-ff59ed4d7073"
   },
   "outputs": [
    {
     "name": "stdout",
     "output_type": "stream",
     "text": [
      "Number of columns: 25\n"
     ]
    },
    {
     "data": {
      "text/plain": [
       "Index(['Patient Id', 'Age', 'Gender', 'AirPollution', 'Alcoholuse',\n",
       "       'DustAllergy', 'OccuPationalHazards', 'GeneticRisk',\n",
       "       'chronicLungDisease', 'BalancedDiet', 'Obesity', 'Smoking',\n",
       "       'PassiveSmoker', 'ChestPain', 'CoughingofBlood', 'Fatigue',\n",
       "       'WeightLoss', 'ShortnessofBreath', 'Wheezing', 'SwallowingDifficulty',\n",
       "       'ClubbingofFingerNails', 'FrequentCold', 'DryCough', 'Snoring',\n",
       "       'Level'],\n",
       "      dtype='object')"
      ]
     },
     "execution_count": 11,
     "metadata": {},
     "output_type": "execute_result"
    }
   ],
   "source": [
    "print(\"Number of columns: \"+str(len(dataset.columns)))\n",
    "dataset.columns"
   ]
  },
  {
   "cell_type": "code",
   "execution_count": 12,
   "metadata": {
    "colab": {
     "base_uri": "https://localhost:8080/",
     "height": 35
    },
    "id": "fQc6EBMZeP1-",
    "outputId": "1bd1e033-3dfa-421c-e3ae-d4c0fa1c9579"
   },
   "outputs": [
    {
     "data": {
      "text/plain": [
       "(1000, 25)"
      ]
     },
     "execution_count": 12,
     "metadata": {},
     "output_type": "execute_result"
    }
   ],
   "source": [
    "dataset.shape    # 1000 rows and 25 columns"
   ]
  },
  {
   "cell_type": "code",
   "execution_count": 13,
   "metadata": {
    "colab": {
     "base_uri": "https://localhost:8080/",
     "height": 260
    },
    "id": "ivFXwAyXeRqS",
    "outputId": "5ad9704f-9aa8-4c4c-cd3f-fdf6eb1f7b39"
   },
   "outputs": [
    {
     "data": {
      "text/plain": [
       "<bound method NDFrame.describe of     Patient Id  Age  Gender  AirPollution  Alcoholuse  DustAllergy  \\\n",
       "0           P1   33       1             2           4            5   \n",
       "1          P10   17       1             3           1            5   \n",
       "2         P100   35       1             4           5            6   \n",
       "3        P1000   37       1             7           7            7   \n",
       "4         P101   46       1             6           8            7   \n",
       "..         ...  ...     ...           ...         ...          ...   \n",
       "995       P995   44       1             6           7            7   \n",
       "996       P996   37       2             6           8            7   \n",
       "997       P997   25       2             4           5            6   \n",
       "998       P998   18       2             6           8            7   \n",
       "999       P999   47       1             6           5            6   \n",
       "\n",
       "     OccuPationalHazards  GeneticRisk  chronicLungDisease  BalancedDiet  ...  \\\n",
       "0                      4            3                   2             2  ...   \n",
       "1                      3            4                   2             2  ...   \n",
       "2                      5            5                   4             6  ...   \n",
       "3                      7            6                   7             7  ...   \n",
       "4                      7            7                   6             7  ...   \n",
       "..                   ...          ...                 ...           ...  ...   \n",
       "995                    7            7                   6             7  ...   \n",
       "996                    7            7                   6             7  ...   \n",
       "997                    5            5                   4             6  ...   \n",
       "998                    7            7                   6             7  ...   \n",
       "999                    5            5                   4             6  ...   \n",
       "\n",
       "     Fatigue  WeightLoss  ShortnessofBreath  Wheezing  SwallowingDifficulty  \\\n",
       "0          3           4                  2         2                     3   \n",
       "1          1           3                  7         8                     6   \n",
       "2          8           7                  9         2                     1   \n",
       "3          4           2                  3         1                     4   \n",
       "4          3           2                  4         1                     4   \n",
       "..       ...         ...                ...       ...                   ...   \n",
       "995        5           3                  2         7                     8   \n",
       "996        9           6                  5         7                     2   \n",
       "997        8           7                  9         2                     1   \n",
       "998        3           2                  4         1                     4   \n",
       "999        8           7                  9         2                     1   \n",
       "\n",
       "     ClubbingofFingerNails  FrequentCold  DryCough  Snoring   Level  \n",
       "0                        1             2         3        4     Low  \n",
       "1                        2             1         7        2  Medium  \n",
       "2                        4             6         7        2    High  \n",
       "3                        5             6         7        5    High  \n",
       "4                        2             4         2        3    High  \n",
       "..                     ...           ...       ...      ...     ...  \n",
       "995                      2             4         5        3    High  \n",
       "996                      4             3         1        4    High  \n",
       "997                      4             6         7        2    High  \n",
       "998                      2             4         2        3    High  \n",
       "999                      4             6         7        2    High  \n",
       "\n",
       "[1000 rows x 25 columns]>"
      ]
     },
     "execution_count": 13,
     "metadata": {},
     "output_type": "execute_result"
    }
   ],
   "source": [
    "dataset.describe "
   ]
  },
  {
   "cell_type": "code",
   "execution_count": 14,
   "metadata": {
    "colab": {
     "base_uri": "https://localhost:8080/",
     "height": 381
    },
    "id": "LOyyIFA3G_yf",
    "outputId": "4c544ba6-52e5-4b36-a17d-dd714aadc167"
   },
   "outputs": [
    {
     "name": "stdout",
     "output_type": "stream",
     "text": [
      "The max value for AirPollution is 8 and the min value is 1\n",
      "The max value for Alcoholuse is 8 and the min value is 1\n",
      "The max value for DustAllergy is 8 and the min value is 1\n",
      "The max value for OccuPationalHazards is 8 and the min value is 1\n",
      "The max value for GeneticRisk is 7 and the min value is 1\n",
      "The max value for chronicLungDisease is 7 and the min value is 1\n",
      "The max value for BalancedDiet is 7 and the min value is 1\n",
      "The max value for Obesity is 7 and the min value is 1\n",
      "The max value for Smoking is 8 and the min value is 1\n",
      "The max value for PassiveSmoker is 8 and the min value is 1\n",
      "The max value for ChestPain is 9 and the min value is 1\n",
      "The max value for CoughingofBlood is 9 and the min value is 1\n",
      "The max value for Fatigue is 9 and the min value is 1\n",
      "The max value for WeightLoss is 8 and the min value is 1\n",
      "The max value for ShortnessofBreath is 9 and the min value is 1\n",
      "The max value for Wheezing is 8 and the min value is 1\n",
      "The max value for SwallowingDifficulty is 8 and the min value is 1\n",
      "The max value for ClubbingofFingerNails is 9 and the min value is 1\n",
      "The max value for FrequentCold is 7 and the min value is 1\n",
      "The max value for DryCough is 7 and the min value is 1\n",
      "The max value for Snoring is 7 and the min value is 1\n"
     ]
    }
   ],
   "source": [
    "print(\"The max value for AirPollution is\",dataset['AirPollution'].max(),\"and the min value is\",dataset['AirPollution'].min())\n",
    "print(\"The max value for Alcoholuse is\",dataset['Alcoholuse'].max(),\"and the min value is\",dataset['Alcoholuse'].min())\n",
    "print(\"The max value for DustAllergy is\",dataset['DustAllergy'].max(),\"and the min value is\",dataset['DustAllergy'].min())\n",
    "print(\"The max value for OccuPationalHazards is\",dataset['OccuPationalHazards'].max(),\"and the min value is\",dataset['OccuPationalHazards'].min())\n",
    "print(\"The max value for GeneticRisk is\",dataset['GeneticRisk'].max(),\"and the min value is\",dataset['GeneticRisk'].min())\n",
    "print(\"The max value for chronicLungDisease is\",dataset['chronicLungDisease'].max(),\"and the min value is\",dataset['chronicLungDisease'].min())\n",
    "print(\"The max value for BalancedDiet is\",dataset['BalancedDiet'].max(),\"and the min value is\",dataset['BalancedDiet'].min())\n",
    "print(\"The max value for Obesity is\",dataset['Obesity'].max(),\"and the min value is\",dataset['Obesity'].min())\n",
    "print(\"The max value for Smoking is\",dataset['Smoking'].max(),\"and the min value is\",dataset['Smoking'].min())\n",
    "print(\"The max value for PassiveSmoker is\",dataset['PassiveSmoker'].max(),\"and the min value is\",dataset['PassiveSmoker'].min())\n",
    "print(\"The max value for ChestPain is\",dataset['ChestPain'].max(),\"and the min value is\",dataset['ChestPain'].min())\n",
    "print(\"The max value for CoughingofBlood is\",dataset['CoughingofBlood'].max(),\"and the min value is\",dataset['CoughingofBlood'].min())\n",
    "print(\"The max value for Fatigue is\",dataset['Fatigue'].max(),\"and the min value is\",dataset['Fatigue'].min())\n",
    "print(\"The max value for WeightLoss is\",dataset['WeightLoss'].max(),\"and the min value is\",dataset['WeightLoss'].min())\n",
    "print(\"The max value for ShortnessofBreath is\",dataset['ShortnessofBreath'].max(),\"and the min value is\",dataset['ShortnessofBreath'].min())\n",
    "print(\"The max value for Wheezing is\",dataset['Wheezing'].max(),\"and the min value is\",dataset['Wheezing'].min())\n",
    "print(\"The max value for SwallowingDifficulty is\",dataset['SwallowingDifficulty'].max(),\"and the min value is\",dataset['SwallowingDifficulty'].min())\n",
    "print(\"The max value for ClubbingofFingerNails is\",dataset['ClubbingofFingerNails'].max(),\"and the min value is\",dataset['ClubbingofFingerNails'].min())\n",
    "print(\"The max value for FrequentCold is\",dataset['FrequentCold'].max(),\"and the min value is\",dataset['FrequentCold'].min())\n",
    "print(\"The max value for DryCough is\",dataset['DryCough'].max(),\"and the min value is\",dataset['DryCough'].min())\n",
    "print(\"The max value for Snoring is\",dataset['Snoring'].max(),\"and the min value is\",dataset['Snoring'].min())"
   ]
  },
  {
   "cell_type": "markdown",
   "metadata": {
    "id": "aEiAUi0rI8VU"
   },
   "source": [
    "### **Number of people with High Prob of getting cancer**"
   ]
  },
  {
   "cell_type": "code",
   "execution_count": 15,
   "metadata": {
    "colab": {
     "base_uri": "https://localhost:8080/",
     "height": 468
    },
    "id": "9HnjddbCIihM",
    "outputId": "50d53838-7b5d-4f65-bcc0-c53efd08be04"
   },
   "outputs": [
    {
     "data": {
      "text/plain": [
       "Patient Id               365\n",
       "Age                      365\n",
       "Gender                   365\n",
       "AirPollution             365\n",
       "Alcoholuse               365\n",
       "DustAllergy              365\n",
       "OccuPationalHazards      365\n",
       "GeneticRisk              365\n",
       "chronicLungDisease       365\n",
       "BalancedDiet             365\n",
       "Obesity                  365\n",
       "Smoking                  365\n",
       "PassiveSmoker            365\n",
       "ChestPain                365\n",
       "CoughingofBlood          365\n",
       "Fatigue                  365\n",
       "WeightLoss               365\n",
       "ShortnessofBreath        365\n",
       "Wheezing                 365\n",
       "SwallowingDifficulty     365\n",
       "ClubbingofFingerNails    365\n",
       "FrequentCold             365\n",
       "DryCough                 365\n",
       "Snoring                  365\n",
       "Level                    365\n",
       "dtype: int64"
      ]
     },
     "execution_count": 15,
     "metadata": {},
     "output_type": "execute_result"
    }
   ],
   "source": [
    "numberOfHigh = dataset.loc[dataset.Level==\"High\"].count()\n",
    "numberOfHigh"
   ]
  },
  {
   "cell_type": "markdown",
   "metadata": {
    "id": "mE6ld4YSJEHF"
   },
   "source": [
    "### **Number of people with Medium Prob of getting cancer**"
   ]
  },
  {
   "cell_type": "code",
   "execution_count": 16,
   "metadata": {
    "colab": {
     "base_uri": "https://localhost:8080/",
     "height": 468
    },
    "id": "8RHOx1BQJB16",
    "outputId": "b2ddca7a-43a8-4598-ba1f-b5d14d7d5188"
   },
   "outputs": [
    {
     "data": {
      "text/plain": [
       "Patient Id               332\n",
       "Age                      332\n",
       "Gender                   332\n",
       "AirPollution             332\n",
       "Alcoholuse               332\n",
       "DustAllergy              332\n",
       "OccuPationalHazards      332\n",
       "GeneticRisk              332\n",
       "chronicLungDisease       332\n",
       "BalancedDiet             332\n",
       "Obesity                  332\n",
       "Smoking                  332\n",
       "PassiveSmoker            332\n",
       "ChestPain                332\n",
       "CoughingofBlood          332\n",
       "Fatigue                  332\n",
       "WeightLoss               332\n",
       "ShortnessofBreath        332\n",
       "Wheezing                 332\n",
       "SwallowingDifficulty     332\n",
       "ClubbingofFingerNails    332\n",
       "FrequentCold             332\n",
       "DryCough                 332\n",
       "Snoring                  332\n",
       "Level                    332\n",
       "dtype: int64"
      ]
     },
     "execution_count": 16,
     "metadata": {},
     "output_type": "execute_result"
    }
   ],
   "source": [
    "numberOfMedium = dataset.loc[dataset.Level==\"Medium\"].count()\n",
    "numberOfMedium"
   ]
  },
  {
   "cell_type": "markdown",
   "metadata": {
    "id": "s07n4tr3JIe1"
   },
   "source": [
    "### **Number of people with Low Prob of getting cancer**"
   ]
  },
  {
   "cell_type": "code",
   "execution_count": 17,
   "metadata": {
    "colab": {
     "base_uri": "https://localhost:8080/",
     "height": 468
    },
    "id": "osb8LG2SJMkS",
    "outputId": "d3d4516a-b7cb-40be-f72b-7c299418719c"
   },
   "outputs": [
    {
     "data": {
      "text/plain": [
       "Patient Id               303\n",
       "Age                      303\n",
       "Gender                   303\n",
       "AirPollution             303\n",
       "Alcoholuse               303\n",
       "DustAllergy              303\n",
       "OccuPationalHazards      303\n",
       "GeneticRisk              303\n",
       "chronicLungDisease       303\n",
       "BalancedDiet             303\n",
       "Obesity                  303\n",
       "Smoking                  303\n",
       "PassiveSmoker            303\n",
       "ChestPain                303\n",
       "CoughingofBlood          303\n",
       "Fatigue                  303\n",
       "WeightLoss               303\n",
       "ShortnessofBreath        303\n",
       "Wheezing                 303\n",
       "SwallowingDifficulty     303\n",
       "ClubbingofFingerNails    303\n",
       "FrequentCold             303\n",
       "DryCough                 303\n",
       "Snoring                  303\n",
       "Level                    303\n",
       "dtype: int64"
      ]
     },
     "execution_count": 17,
     "metadata": {},
     "output_type": "execute_result"
    }
   ],
   "source": [
    "numberOfLow = dataset.loc[dataset.Level==\"Low\"].count()\n",
    "numberOfLow"
   ]
  },
  {
   "cell_type": "markdown",
   "metadata": {
    "id": "bA8P5shVLNfJ"
   },
   "source": [
    "### **Plotting a bar graph against the number**\n"
   ]
  },
  {
   "cell_type": "code",
   "execution_count": 18,
   "metadata": {
    "colab": {
     "base_uri": "https://localhost:8080/",
     "height": 295
    },
    "id": "-U3AstAHLSY7",
    "outputId": "47df9d02-ae10-485b-df38-680e033fe40f"
   },
   "outputs": [
    {
     "data": {
      "image/png": "[encoded data removed]",
      "text/plain": [
       "<Figure size 432x288 with 1 Axes>"
      ]
     },
     "metadata": {
      "needs_background": "light"
     },
     "output_type": "display_data"
    }
   ],
   "source": [
    "x = [\"Low\",\"Medium\", \"High\"]\n",
    "y = [303, 332, 365]\n",
    "\n",
    "plt.title(\"Distribution\")\n",
    "plt.ylabel(\"Number of records\")\n",
    "plt.xlabel(\"Level of risk\")\n",
    "plt.bar(x,y)\n",
    "plt.show()"
   ]
  },
  {
   "cell_type": "markdown",
   "metadata": {
    "id": "jmYDjTmaG18j"
   },
   "source": [
    "### **Checking for any null values in the data**"
   ]
  },
  {
   "cell_type": "code",
   "execution_count": 19,
   "metadata": {
    "colab": {
     "base_uri": "https://localhost:8080/",
     "height": 35
    },
    "id": "-yIt6MQyeTGi",
    "outputId": "b6476de5-0bd3-42ae-88a3-47a09f8c6e9d"
   },
   "outputs": [
    {
     "data": {
      "text/plain": [
       "False"
      ]
     },
     "execution_count": 19,
     "metadata": {},
     "output_type": "execute_result"
    }
   ],
   "source": [
    "dataset.isnull().values.any()"
   ]
  },
  {
   "cell_type": "markdown",
   "metadata": {
    "id": "emWEz_AoG9aM"
   },
   "source": [
    "### **Cleaning data process**"
   ]
  },
  {
   "cell_type": "code",
   "execution_count": 20,
   "metadata": {
    "id": "bYMh8lKZeUb2"
   },
   "outputs": [],
   "source": [
    "dataset['Gender'] = dataset['Gender'].replace(2, 0)   # 0 means Female and 1 means Male"
   ]
  },
  {
   "cell_type": "markdown",
   "metadata": {
    "id": "tfP5CIXhLjlr"
   },
   "source": [
    "### **Data Visulization**"
   ]
  },
  {
   "cell_type": "code",
   "execution_count": 21,
   "metadata": {
    "id": "kY7FjoQWLpOq"
   },
   "outputs": [],
   "source": [
    "#sns.pairplot(dataset)"
   ]
  },
  {
   "cell_type": "markdown",
   "metadata": {
    "id": "AK7OQC2cHB8Q"
   },
   "source": [
    "### **Creating the dependent and independent variables with their labels**"
   ]
  },
  {
   "cell_type": "code",
   "execution_count": 22,
   "metadata": {
    "id": "l_2ciQqBeV4_"
   },
   "outputs": [],
   "source": [
    "from sklearn.model_selection import cross_val_score, KFold, train_test_split\n",
    "X = dataset.drop(['Level','Patient Id'], axis=1)\n",
    "y = dataset['Level']"
   ]
  },
  {
   "cell_type": "markdown",
   "metadata": {
    "id": "vKA7mnhnHXeJ"
   },
   "source": [
    "### **Performing Train Test Split**"
   ]
  },
  {
   "cell_type": "code",
   "execution_count": 29,
   "metadata": {
    "id": "Ndb4b44EegNe"
   },
   "outputs": [],
   "source": [
    "from sklearn.metrics import confusion_matrix, accuracy_score, recall_score, precision_score\n",
    "from sklearn.model_selection import train_test_split \n",
    "\n",
    "# dividing X, y into train and test data \n",
    "X_train, X_test, y_train, y_test = train_test_split(X, y, random_state = 101) "
   ]
  },
  {
   "cell_type": "markdown",
   "metadata": {
    "id": "3VdH3cL4zS4S"
   },
   "source": [
    "### **X_test data (User input data)**"
   ]
  },
  {
   "cell_type": "code",
   "execution_count": 24,
   "metadata": {
    "id": "2ToZ59GT0JKQ"
   },
   "outputs": [],
   "source": [
    "# X_test = [[44,1.2,1.5,1.5,1.5,1.5,1.3,1.3,1.3,1.3,1.6,1.6,1.6,1.8,1.8,1.7,1.7,1.7,1.1,1.2,1.9,1.0,1.4]]"
   ]
  },
  {
   "cell_type": "markdown",
   "metadata": {
    "id": "-CuW3zVJHfM3"
   },
   "source": [
    "### **Predicting using the Descision Tree Classifier**"
   ]
  },
  {
   "cell_type": "code",
   "execution_count": 25,
   "metadata": {
    "id": "h_nzkOoUet9a"
   },
   "outputs": [],
   "source": [
    "# # training a DescisionTreeClassifier ( Accuracy score:  87.2 )\n",
    "# from sklearn.tree import DecisionTreeClassifier \n",
    "\n",
    "# dtree_model = DecisionTreeClassifier(max_depth = 2).fit(X_train, y_train) \n",
    "# dtree_predictions = dtree_model.predict(X_test) \n",
    "\n",
    "# # creating a confusion matrix \n",
    "# cm = confusion_matrix(y_test, dtree_predictions) \n",
    "# ac = accuracy_score(y_test, dtree_predictions)\n",
    "# rs = recall_score(y_test, dtree_predictions, average=None)\n",
    "# ps = precision_score(y_test, dtree_predictions, average=None)\n",
    "\n",
    "# print(\"Confusion matrix: \" + str(cm))\n",
    "# print(\"Accuracy score: \" + str(ac*100))\n",
    "# print(\"Recall score: \" + str(rs))\n",
    "# print(\"Precision score: \" + str(ps))\n",
    "\n",
    "# TP = cm[1, 1]\n",
    "# TN = cm[0, 0]\n",
    "# FP = cm[0, 1]\n",
    "# FN = cm[1, 0]\n",
    "\n",
    "# sensitivity = TP/(TP+FN)\n",
    "# specificity = TN/(TN+FP)\n",
    "\n",
    "# \"Sensitivity: {} | Specifictity: {}\".format(sensitivity, specificity)"
   ]
  },
  {
   "cell_type": "markdown",
   "metadata": {
    "id": "Z02vqUAKHp_n"
   },
   "source": [
    "### **Predicting using Support Vector Machine Classification**"
   ]
  },
  {
   "cell_type": "code",
   "execution_count": 30,
   "metadata": {
    "colab": {
     "base_uri": "https://localhost:8080/",
     "height": 35
    },
    "id": "F_bwFUzAfbCU",
    "outputId": "20cb175f-f2db-4ffd-e752-d54acd3730be"
   },
   "outputs": [
    {
     "name": "stdout",
     "output_type": "stream",
     "text": [
      "['Medium' 'Medium' 'High' 'Low' 'Medium' 'Low' 'Low' 'Medium' 'Medium'\n",
      " 'Medium' 'Low' 'Low' 'Medium' 'Medium' 'Medium' 'High' 'High' 'Medium'\n",
      " 'Medium' 'Low' 'High' 'Medium' 'Low' 'High' 'Medium' 'High' 'Low' 'Low'\n",
      " 'Medium' 'High' 'Low' 'Medium' 'Medium' 'Low' 'Low' 'Low' 'High' 'Medium'\n",
      " 'High' 'High' 'High' 'Low' 'Medium' 'Medium' 'Low' 'High' 'High' 'Low'\n",
      " 'Medium' 'Medium' 'Medium' 'Low' 'High' 'Medium' 'Low' 'Low' 'High'\n",
      " 'High' 'Low' 'Low' 'Low' 'Medium' 'Low' 'High' 'Low' 'Medium' 'Low' 'Low'\n",
      " 'Medium' 'High' 'Medium' 'Low' 'Low' 'Medium' 'High' 'High' 'Low'\n",
      " 'Medium' 'Low' 'Low' 'Low' 'Medium' 'Low' 'Low' 'Low' 'Low' 'Low' 'High'\n",
      " 'Medium' 'Low' 'Low' 'Medium' 'Medium' 'High' 'Medium' 'Medium' 'High'\n",
      " 'Medium' 'Medium' 'Medium' 'High' 'High' 'Medium' 'Medium' 'Medium' 'Low'\n",
      " 'High' 'High' 'High' 'Medium' 'Medium' 'Medium' 'High' 'High' 'High'\n",
      " 'Medium' 'High' 'Medium' 'Low' 'High' 'Low' 'High' 'Medium' 'Low'\n",
      " 'Medium' 'Low' 'Low' 'High' 'Medium' 'Medium' 'High' 'Medium' 'Medium'\n",
      " 'Low' 'High' 'High' 'High' 'Low' 'Medium' 'Medium' 'High' 'Low' 'Medium'\n",
      " 'Medium' 'Medium' 'Medium' 'High' 'Medium' 'Low' 'Low' 'Medium' 'Low'\n",
      " 'Medium' 'Low' 'Medium' 'Medium' 'High' 'Medium' 'Low' 'High' 'Medium'\n",
      " 'High' 'High' 'High' 'Medium' 'High' 'Low' 'High' 'Low' 'High' 'Low'\n",
      " 'Low' 'High' 'Low' 'High' 'Medium' 'High' 'Low' 'Low' 'Medium' 'Low'\n",
      " 'Low' 'High' 'Medium' 'High' 'Low' 'High' 'Medium' 'Medium' 'High' 'Low'\n",
      " 'High' 'Low' 'Low' 'Medium' 'High' 'High' 'Low' 'Medium' 'High' 'Low'\n",
      " 'High' 'High' 'Low' 'Medium' 'High' 'Medium' 'Medium' 'Medium' 'Medium'\n",
      " 'Medium' 'High' 'High' 'High' 'Low' 'Medium' 'Medium' 'Medium' 'Medium'\n",
      " 'High' 'High' 'Low' 'High' 'Medium' 'Medium' 'High' 'Low' 'Low' 'Low'\n",
      " 'High' 'High' 'High' 'High' 'Low' 'High' 'Medium' 'High' 'Medium'\n",
      " 'Medium' 'High' 'High' 'High' 'Medium' 'Low' 'High' 'Medium' 'Low' 'High'\n",
      " 'Low' 'Low']\n",
      "Confusion matrix: [[81  0  0]\n",
      " [ 0 79  0]\n",
      " [ 0  0 90]]\n",
      "Accuracy score: 100.0\n",
      "Recall score: [1. 1. 1.]\n",
      "Precision score: [1. 1. 1.]\n"
     ]
    },
    {
     "data": {
      "text/plain": [
       "'Sensitivity: 1.0 | Specifictity: 1.0'"
      ]
     },
     "execution_count": 30,
     "metadata": {},
     "output_type": "execute_result"
    }
   ],
   "source": [
    "# training a linear SVM classifier ( Accuracy score: 100.0 % )\n",
    "from sklearn.svm import SVC \n",
    "\n",
    "## training a SVM classifier \n",
    "svm_model_linear = SVC(kernel = 'linear', C = 1).fit(X_train, y_train) \n",
    "\n",
    "## Prediction using SVM\n",
    "svm_predictions = svm_model_linear.predict(X_test) \n",
    "print(svm_predictions)\n",
    "  \n",
    "# model accuracy for X_test   \n",
    "accuracy = svm_model_linear.score(X_test, y_test) \n",
    "  \n",
    "# creating a confusion matrix, calculating accuracy, calculating score, calculating precision\n",
    "cm = confusion_matrix(y_test, svm_predictions) \n",
    "ac = accuracy_score(y_test, svm_predictions)\n",
    "rs = recall_score(y_test, svm_predictions, average=None)\n",
    "ps = precision_score(y_test, svm_predictions, average=None)\n",
    "\n",
    "print(\"Confusion matrix: \" + str(cm))\n",
    "print(\"Accuracy score: \" + str(ac*100))\n",
    "print(\"Recall score: \" + str(rs))\n",
    "print(\"Precision score: \" + str(ps))\n",
    "\n",
    "TP = cm[1, 1]\n",
    "TN = cm[0, 0]\n",
    "FP = cm[0, 1]\n",
    "FN = cm[1, 0]\n",
    "\n",
    "sensitivity = TP/(TP+FN)\n",
    "specificity = TN/(TN+FP)\n",
    "\n",
    "\"Sensitivity: {} | Specifictity: {}\".format(sensitivity, specificity)"
   ]
  },
  {
   "cell_type": "markdown",
   "metadata": {
    "id": "pQykOLYRH3Zn"
   },
   "source": [
    "### **Predicting using KNN Classifier**"
   ]
  },
  {
   "cell_type": "markdown",
   "metadata": {},
   "source": [
    "### Choosing the best K value for KNN "
   ]
  },
  {
   "cell_type": "code",
   "execution_count": 43,
   "metadata": {},
   "outputs": [],
   "source": [
    "from sklearn.neighbors import KNeighborsClassifier \n",
    "error_rate = []\n",
    "\n",
    "for i in range(1,40):  #checking from 1 to 40 for the K value\n",
    "    knn = KNeighborsClassifier(n_neighbors=i)\n",
    "    knn.fit(X_train, y_train)\n",
    "    pred_i = knn.predict(X_test)\n",
    "    error_rate.append(np.mean(pred_i != y_test)) # when the 'pred' value doesn't match with the 'y value' I get the mean of that\n",
    "    "
   ]
  },
  {
   "cell_type": "code",
   "execution_count": 44,
   "metadata": {},
   "outputs": [
    {
     "data": {
      "text/plain": [
       "Text(0, 0.5, 'Error Rate')"
      ]
     },
     "execution_count": 44,
     "metadata": {},
     "output_type": "execute_result"
    },
    {
     "data": {
      "image/png": "[encoded data removed]",
      "text/plain": [
       "<Figure size 720x432 with 1 Axes>"
      ]
     },
     "metadata": {
      "needs_background": "light"
     },
     "output_type": "display_data"
    }
   ],
   "source": [
    "plt.figure(figsize=(10, 6))\n",
    "plt.plot(range(1, 40), error_rate, color='blue', linestyle='dashed', marker='o', markerfacecolor='red' ,markersize=10)\n",
    "plt.title('Error Rate vs K value')\n",
    "plt.xlabel('K')\n",
    "plt.ylabel('Error Rate')"
   ]
  },
  {
   "cell_type": "code",
   "execution_count": 40,
   "metadata": {
    "id": "c-eRyGzBk3dq"
   },
   "outputs": [
    {
     "name": "stdout",
     "output_type": "stream",
     "text": [
      "['Medium' 'Medium' 'High' 'Low' 'Medium' 'Low' 'Low' 'Medium' 'Medium'\n",
      " 'Medium' 'Low' 'Medium' 'Medium' 'Medium' 'Medium' 'High' 'High' 'Medium'\n",
      " 'Medium' 'Low' 'High' 'Medium' 'Low' 'High' 'Medium' 'High' 'Low' 'Low'\n",
      " 'Medium' 'High' 'Low' 'Medium' 'Medium' 'Low' 'Low' 'Low' 'High' 'Medium'\n",
      " 'High' 'High' 'High' 'Low' 'Medium' 'Medium' 'Low' 'High' 'High' 'Low'\n",
      " 'Medium' 'Medium' 'Medium' 'Low' 'High' 'Medium' 'Low' 'Low' 'High'\n",
      " 'High' 'Low' 'Low' 'Low' 'Medium' 'Low' 'High' 'Low' 'Medium' 'Low' 'Low'\n",
      " 'Medium' 'High' 'Medium' 'Low' 'Low' 'Medium' 'High' 'High' 'Low'\n",
      " 'Medium' 'Low' 'Low' 'Low' 'Medium' 'Low' 'Low' 'Low' 'Low' 'Low' 'High'\n",
      " 'Medium' 'Low' 'Low' 'Medium' 'Medium' 'High' 'Medium' 'Medium' 'High'\n",
      " 'Medium' 'Medium' 'Medium' 'High' 'High' 'Medium' 'Medium' 'Medium'\n",
      " 'Medium' 'High' 'High' 'High' 'Medium' 'Medium' 'Medium' 'High' 'High'\n",
      " 'High' 'Medium' 'High' 'Medium' 'Low' 'High' 'Low' 'High' 'Medium' 'Low'\n",
      " 'Medium' 'Low' 'Low' 'High' 'Medium' 'Medium' 'High' 'Medium' 'Medium'\n",
      " 'Low' 'High' 'High' 'High' 'Low' 'Medium' 'Medium' 'High' 'Low' 'Medium'\n",
      " 'Medium' 'Medium' 'Medium' 'High' 'Medium' 'Low' 'Low' 'Medium' 'Low'\n",
      " 'Medium' 'Low' 'Medium' 'Medium' 'High' 'Medium' 'Low' 'High' 'Medium'\n",
      " 'High' 'High' 'High' 'Medium' 'High' 'Low' 'High' 'Low' 'High' 'Low'\n",
      " 'Low' 'High' 'Low' 'High' 'Medium' 'High' 'Low' 'Low' 'Medium' 'Low'\n",
      " 'Low' 'High' 'Medium' 'High' 'Low' 'High' 'Medium' 'Medium' 'High' 'Low'\n",
      " 'High' 'Low' 'Low' 'Medium' 'High' 'High' 'Low' 'Medium' 'High' 'Low'\n",
      " 'High' 'High' 'Low' 'Medium' 'High' 'Medium' 'Medium' 'Medium' 'Medium'\n",
      " 'Medium' 'High' 'High' 'High' 'Low' 'Medium' 'Medium' 'Medium' 'Medium'\n",
      " 'High' 'High' 'Low' 'High' 'Medium' 'Medium' 'High' 'Low' 'Low' 'Low'\n",
      " 'High' 'High' 'High' 'High' 'Low' 'High' 'Medium' 'High' 'Medium'\n",
      " 'Medium' 'High' 'High' 'High' 'Medium' 'Low' 'High' 'Medium' 'Low' 'High'\n",
      " 'Low' 'Low']\n",
      "Confusion matrix: [[81  0  0]\n",
      " [ 0 77  2]\n",
      " [ 0  0 90]]\n",
      "Accuracy score: 99.2\n",
      "Recall score: [1.         0.97468354 1.        ]\n",
      "Precision score: [1.         1.         0.97826087]\n"
     ]
    },
    {
     "data": {
      "text/plain": [
       "'Sensitivity: 1.0 | Specifictity: 1.0'"
      ]
     },
     "execution_count": 40,
     "metadata": {},
     "output_type": "execute_result"
    }
   ],
   "source": [
    "## Training a KNN classifier ( Accuracy score: 99.2 % )\n",
    "\n",
    "## training a KNN classifier  (from the graph it's found that K=7 is the best choice of all)\n",
    "knn = KNeighborsClassifier(n_neighbors = 7).fit(X_train, y_train) \n",
    "\n",
    "## Prediction using KNN\n",
    "knn_predictions = knn.predict(X_test)  \n",
    "print(knn.predict(X_test))\n",
    "\n",
    "## Accuracy on X_test \n",
    "accuracy = knn.score(X_test, y_test) \n",
    "\n",
    "## Creating a confusion matrix \n",
    "cm = confusion_matrix(y_test, knn_predictions) \n",
    "ac = accuracy_score(y_test, knn_predictions)\n",
    "rs = recall_score(y_test, knn_predictions, average=None)\n",
    "ps = precision_score(y_test, knn_predictions, average=None)\n",
    "\n",
    "## Displaying the content\n",
    "print(\"Confusion matrix: \" + str(cm))\n",
    "print(\"Accuracy score: \" + str(ac*100))\n",
    "print(\"Recall score: \" + str(rs))\n",
    "print(\"Precision score: \" + str(ps))\n",
    "\n",
    "TP = cm[1, 1]\n",
    "TN = cm[0, 0]\n",
    "FP = cm[0, 1]\n",
    "FN = cm[1, 0]\n",
    "\n",
    "sensitivity = TP/(TP+FN)\n",
    "specificity = TN/(TN+FP)\n",
    "\n",
    "\"Sensitivity: {} | Specifictity: {}\".format(sensitivity, specificity)"
   ]
  },
  {
   "cell_type": "markdown",
   "metadata": {
    "id": "3I7gAJf2H-h8"
   },
   "source": [
    "### **Predicting using Navie Bayes Classifier**"
   ]
  },
  {
   "cell_type": "code",
   "execution_count": null,
   "metadata": {
    "id": "dHwgGO8HlLKi"
   },
   "outputs": [],
   "source": [
    "# # training a Naive Bayes classifier ( Accuracy score: 88.4 )\n",
    "# from sklearn.naive_bayes import GaussianNB \n",
    "# gnb = GaussianNB().fit(X_train, y_train) \n",
    "# gnb_predictions = gnb.predict(X_test) \n",
    "  \n",
    "# # accuracy on X_test \n",
    "# accuracy = gnb.score(X_test, y_test) \n",
    "  \n",
    "# # creating a confusion matrix \n",
    "# cm = confusion_matrix(y_test, gnb_predictions) \n",
    "# ac = accuracy_score(y_test, gnb_predictions)\n",
    "# rs = recall_score(y_test, gnb_predictions, average=None)\n",
    "# ps = precision_score(y_test, gnb_predictions, average=None)\n",
    "\n",
    "# print(\"Confusion matrix: \" + str(cm))\n",
    "# print(\"Accuracy score: \" + str(ac*100))\n",
    "# print(\"Recall score: \" + str(rs))\n",
    "# print(\"Precision score: \" + str(ps))\n",
    "\n",
    "# TP = cm[1, 1]\n",
    "# TN = cm[0, 0]\n",
    "# FP = cm[0, 1]\n",
    "# FN = cm[1, 0]\n",
    "\n",
    "# sensitivity = TP/(TP+FN)\n",
    "# specificity = TN/(TN+FP)\n",
    "\n",
    "# \"Sensitivity: {} | Specifictity: {}\".format(sensitivity, specificity)"
   ]
  },
  {
   "cell_type": "markdown",
   "metadata": {
    "id": "cHDu1kQpliyJ"
   },
   "source": [
    "### Saving the Model using joblib"
   ]
  },
  {
   "cell_type": "code",
   "execution_count": null,
   "metadata": {},
   "outputs": [],
   "source": [
    "import joblib"
   ]
  },
  {
   "cell_type": "code",
   "execution_count": null,
   "metadata": {},
   "outputs": [],
   "source": [
    "joblib.dump(svm_model_linear, 'lung-cancer-pred-model')"
   ]
  },
  {
   "cell_type": "code",
   "execution_count": null,
   "metadata": {},
   "outputs": [],
   "source": [
    "loadedModel = joblib.load('lung-cancer-pred-model')"
   ]
  },
  {
   "cell_type": "code",
   "execution_count": null,
   "metadata": {},
   "outputs": [],
   "source": [
    "loadedModel.predict(X_test)[0]"
   ]
  }
 ],
 "metadata": {
  "colab": {
   "collapsed_sections": [],
   "name": "Lung Cancer Prediction using Machine Leanring Final Final Final.ipynb",
   "provenance": []
  },
  "kernelspec": {
   "display_name": "Python 3",
   "language": "python",
   "name": "python3"
  },
  "language_info": {
   "codemirror_mode": {
    "name": "ipython",
    "version": 3
   },
   "file_extension": ".py",
   "mimetype": "text/x-python",
   "name": "python",
   "nbconvert_exporter": "python",
   "pygments_lexer": "ipython3",
   "version": "3.7.4"
  }
 },
 "nbformat": 4,
 "nbformat_minor": 1
}
