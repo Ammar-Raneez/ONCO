{
 "cells": [
  {
   "cell_type": "markdown",
   "metadata": {},
   "source": [
    "# Backend for Lung Prediction Model"
   ]
  },
  {
   "cell_type": "markdown",
   "metadata": {},
   "source": [
    "### Importing Libraries"
   ]
  },
  {
   "cell_type": "code",
   "execution_count": 1,
   "metadata": {},
   "outputs": [],
   "source": [
    "# Make sure that all the following modules are already installed for use.\n",
    "from flask import Flask\n",
    "from flask_cors import CORS\n",
    "from flask_restful import Api, Resource, reqparse\n",
    "import joblib\n",
    "import numpy as np\n"
   ]
  },
  {
   "cell_type": "markdown",
   "metadata": {},
   "source": [
    "### Creating an instance of the flask app and an API"
   ]
  },
  {
   "cell_type": "code",
   "execution_count": 2,
   "metadata": {},
   "outputs": [],
   "source": [
    "APP = Flask(__name__)\n",
    "APP.config['CORS_HEADERS'] = 'Content-Type'\n",
    "CORS(APP)\n",
    "API = Api(APP)"
   ]
  },
  {
   "cell_type": "markdown",
   "metadata": {},
   "source": [
    "### Loading the trained model"
   ]
  },
  {
   "cell_type": "code",
   "execution_count": 10,
   "metadata": {},
   "outputs": [],
   "source": [
    "LUNG_PREDICTION_MODEL = joblib.load('lung-cancer-pred-model.pkl')\n"
   ]
  },
  {
   "cell_type": "markdown",
   "metadata": {},
   "source": [
    "### Creating a class which is responsible for the prediction"
   ]
  },
  {
   "cell_type": "code",
   "execution_count": 11,
   "metadata": {},
   "outputs": [],
   "source": [
    "class Predict(Resource):\n",
    "\n",
    "    @staticmethod\n",
    "    def post():\n",
    "        parser = reqparse.RequestParser()\n",
    "        parser.add_argument('Age')\n",
    "        parser.add_argument('Gender')\n",
    "        parser.add_argument('AirPollution')\n",
    "        parser.add_argument('Alcoholuse')\n",
    "        parser.add_argument('DustAllergy')\n",
    "        parser.add_argument('OccuPationalHazards')\n",
    "        parser.add_argument('GeneticRisk')\n",
    "        parser.add_argument('chronicLungDisease')\n",
    "        parser.add_argument('BalancedDiet')\n",
    "        parser.add_argument('Obesity')\n",
    "        parser.add_argument('Smoking')\n",
    "        parser.add_argument('PassiveSmoker')\n",
    "        parser.add_argument('ChestPain')\n",
    "        parser.add_argument('CoughingofBlood')\n",
    "        parser.add_argument('Fatigue')\n",
    "        parser.add_argument('WeightLoss')\n",
    "        parser.add_argument('ShortnessofBreath')\n",
    "        parser.add_argument('Wheezing')\n",
    "        parser.add_argument('SwallowingDifficulty')\n",
    "        parser.add_argument('ClubbingofFingerNails')\n",
    "        parser.add_argument('FrequentCold')\n",
    "        parser.add_argument('DryCough')\n",
    "        parser.add_argument('Snoring')\n",
    "        \n",
    "        args = parser.parse_args()  # creates dictionary\n",
    "\n",
    "        X_new = np.fromiter(args.values(), dtype=float)  # convert input to array\n",
    "\n",
    "        out = {'Prediction': LUNG_PREDICTION_MODEL.predict([X_new])[0]}\n",
    "\n",
    "        return out, 200"
   ]
  },
  {
   "cell_type": "markdown",
   "metadata": {},
   "source": [
    "### Adding the predict class as a resource to the API"
   ]
  },
  {
   "cell_type": "code",
   "execution_count": null,
   "metadata": {},
   "outputs": [],
   "source": [
    "API.add_resource(Predict, '/predict')\n",
    "\n",
    "if __name__ == '__main__':\n",
    "    APP.run(debug=True, port=1080)"
   ]
  },
  {
   "cell_type": "markdown",
   "metadata": {},
   "source": [
    "### Using the request module by first defining the URL to access and the body to send along with our HTTP request"
   ]
  },
  {
   "cell_type": "code",
   "execution_count": 14,
   "metadata": {},
   "outputs": [
    {
     "data": {
      "text/plain": [
       "{'Prediction': 'Medium'}"
      ]
     },
     "execution_count": 14,
     "metadata": {},
     "output_type": "execute_result"
    }
   ],
   "source": [
    "import requests\n",
    "\n",
    "URL = 'http://127.0.0.1:1080/predict'  # localhost and the defined port + endpoint\n",
    "\n",
    "body = {\n",
    "    \"Age\": 44,\n",
    "    \"Gender\": 1,\n",
    "    \"AirPollution\": 5.5,\n",
    "    \"Alcoholuse\": 5.5,\n",
    "    \"DustAllergy\": 5.5,\n",
    "    \"OccuPationalHazards\": 5.5,\n",
    "    \"GeneticRisk\": 5.3,\n",
    "    \"chronicLungDisease\": 1.3,\n",
    "    \"BalancedDiet\": 1.3,\n",
    "    \"Obesity\": 1.3,\n",
    "    \"Smoking\": 5.6,\n",
    "    \"PassiveSmoker\": 1.6,\n",
    "    \"ChestPain\": 1.6,\n",
    "    \"CoughingofBlood\": 1.8,\n",
    "    \"Fatigue\": 5.8,\n",
    "    \"WeightLoss\": 1.7,\n",
    "    \"ShortnessofBreath\": 1.7,\n",
    "    \"Wheezing\": 5.7,\n",
    "    \"SwallowingDifficulty\": 1.1,\n",
    "    \"ClubbingofFingerNails\": 1.2,\n",
    "    \"FrequentCold\": 5.9,\n",
    "    \"DryCough\": 1.0,\n",
    "    \"Snoring\": 5.4,\n",
    "}\n",
    "\n",
    "response = requests.post(URL, data=body)\n",
    "response.json()"
   ]
  },
  {
   "cell_type": "code",
   "execution_count": null,
   "metadata": {},
   "outputs": [],
   "source": []
  }
 ],
 "metadata": {
  "kernelspec": {
   "display_name": "Python 3",
   "language": "python",
   "name": "python3"
  },
  "language_info": {
   "codemirror_mode": {
    "name": "ipython",
    "version": 3
   },
   "file_extension": ".py",
   "mimetype": "text/x-python",
   "name": "python",
   "nbconvert_exporter": "python",
   "pygments_lexer": "ipython3",
   "version": "3.7.4"
  }
 },
 "nbformat": 4,
 "nbformat_minor": 4
}
