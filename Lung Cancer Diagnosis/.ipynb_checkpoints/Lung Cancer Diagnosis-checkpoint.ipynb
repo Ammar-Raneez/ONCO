{
 "cells": [
  {
   "cell_type": "markdown",
   "metadata": {},
   "source": [
    "##### CODE TO FILTER THE NUMBER OF NO FINDINGS IMAGES AND CANCER (MASS) LUNG IMAGES TO ROUGHLY (5700) IMAGES"
   ]
  },
  {
   "cell_type": "code",
   "execution_count": 1,
   "metadata": {},
   "outputs": [],
   "source": [
    "# Importing Libs\n",
    "\n",
    "import glob\n",
    "import shutil\n",
    "import os"
   ]
  },
  {
   "cell_type": "code",
   "execution_count": 37,
   "metadata": {},
   "outputs": [],
   "source": [
    "# # This piece of code is to extract 5700 images from the MASS IMAGES\n",
    "\n",
    "# src_dir = \"D:/IIT/2nd Year/SDGP/Lung Cancer/Lung Cancer Detection/Nih All d/Mass\"\n",
    "# dst_dir = \"D:/IIT/2nd Year/SDGP/Lung Cancer/Lung Cancer Detection/mass_images\"   # create an empty folder and add the location\n",
    "\n",
    "# counter = 0\n",
    "\n",
    "# for jpgfile in glob.iglob(os.path.join(src_dir, \"*.png\")):\n",
    "#     shutil.copy(jpgfile, dst_dir)\n",
    "#     counter += 1\n",
    "#     if(counter == 5700):\n",
    "#         break"
   ]
  },
  {
   "cell_type": "code",
   "execution_count": 38,
   "metadata": {},
   "outputs": [],
   "source": [
    "# # This piece of code is to extract 5700 images from the NO FINDINGS IMAGES\n",
    "\n",
    "# src_dir = \"D:/IIT/2nd Year/SDGP/Lung Cancer/Lung Cancer Detection/Nih All d/No Finding\"\n",
    "# dst_dir = \"D:/IIT/2nd Year/SDGP/Lung Cancer/Lung Cancer Detection/noFindigs_images\"   # create an empty folder and add the location\n",
    "\n",
    "# counter = 0\n",
    "\n",
    "# for jpgfile in glob.iglob(os.path.join(src_dir, \"*.png\")):\n",
    "#     shutil.copy(jpgfile, dst_dir)\n",
    "#     counter += 1\n",
    "#     if(counter == 5700):\n",
    "#         break\n"
   ]
  },
  {
   "cell_type": "code",
   "execution_count": 2,
   "metadata": {},
   "outputs": [],
   "source": [
    "# # This piece of code is to split the Mass Lungs dataset into Testing and Training folders\n",
    "\n",
    "# # Train Folder (80%) = 1260 images\n",
    "# src_dir = \"D:/IIT/2nd Year/SDGP/Lung Cancer/Lung Cancer Detection/Model/chest_xray/Train/Masses\"\n",
    "# dst_dir = \"C:/Users/hamma/Desktop/New Lung Cancer Detection Model/chest_xray/Train/Masses\"\n",
    "\n",
    "# counter = 0\n",
    "\n",
    "# for jpgfile in glob.iglob(os.path.join(src_dir, \"*.png\")):\n",
    "#     shutil.move(jpgfile, dst_dir)\n",
    "#     counter += 1\n",
    "#     if(counter == 1260):\n",
    "#         break\n",
    "\n",
    "\n",
    "# # Test Folder (20%) = 315 images\n",
    "# src_dir = \"D:/IIT/2nd Year/SDGP/Lung Cancer/Lung Cancer Detection/Model/chest_xray/Test/Masses\"\n",
    "# dst_dir = \"C:/Users/hamma/Desktop/New Lung Cancer Detection Model/chest_xray/Test/Masses\"\n",
    "\n",
    "# counter = 0\n",
    "\n",
    "# for jpgfile in glob.iglob(os.path.join(src_dir, \"*.png\")):\n",
    "#     shutil.move(jpgfile, dst_dir)\n",
    "#     counter += 1\n",
    "#     if(counter == 315):\n",
    "#         break\n"
   ]
  },
  {
   "cell_type": "code",
   "execution_count": 5,
   "metadata": {},
   "outputs": [],
   "source": [
    "# # This piece of code is to split the Healthy Lungs dataset into Testing and Training folders\n",
    "\n",
    "# # Train Folder (80%) = 1260 images\n",
    "# src_dir = \"C:/Users/Nazhim/Desktop/Healthy Lungs\"\n",
    "# dst_dir = \"C:/Users/Nazhim/Desktop/New Lung Cancer Detection Modal/chest_xray/Train/Healthy\"\n",
    "\n",
    "# counter = 0\n",
    "\n",
    "# for jpgfile in glob.iglob(os.path.join(src_dir, \"*.jpeg\")):\n",
    "#     shutil.move(jpgfile, dst_dir)\n",
    "#     counter += 1\n",
    "#     if(counter == 1260):\n",
    "#         break\n",
    "\n",
    "\n",
    "# # Test Folder (20%) = 315 images\n",
    "# src_dir = \"C:/Users/Nazhim/Desktop/Healthy Lungs\"\n",
    "# dst_dir = \"C:/Users/Nazhim/Desktop/New Lung Cancer Detection Modal/chest_xray/Test/Healthy\"\n",
    "\n",
    "# counter = 0\n",
    "\n",
    "# for jpgfile in glob.iglob(os.path.join(src_dir, \"*.jpeg\")):\n",
    "#     shutil.move(jpgfile, dst_dir)\n",
    "#     counter += 1\n",
    "#     if(counter == 315):\n",
    "#         break\n"
   ]
  },
  {
   "cell_type": "code",
   "execution_count": null,
   "metadata": {},
   "outputs": [],
   "source": []
  }
 ],
 "metadata": {
  "kernelspec": {
   "display_name": "Python 3",
   "language": "python",
   "name": "python3"
  },
  "language_info": {
   "codemirror_mode": {
    "name": "ipython",
    "version": 3
   },
   "file_extension": ".py",
   "mimetype": "text/x-python",
   "name": "python",
   "nbconvert_exporter": "python",
   "pygments_lexer": "ipython3",
   "version": "3.8.3"
  }
 },
 "nbformat": 4,
 "nbformat_minor": 4
}
