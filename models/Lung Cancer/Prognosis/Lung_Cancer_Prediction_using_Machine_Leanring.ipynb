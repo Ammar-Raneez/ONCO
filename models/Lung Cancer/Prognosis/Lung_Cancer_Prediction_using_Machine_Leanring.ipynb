{
 "cells": [
  {
   "cell_type": "markdown",
   "metadata": {
    "id": "92nYNB61FdsO"
   },
   "source": [
    "# **Lung Cancer Prediction using Machine Leanring**"
   ]
  },
  {
   "cell_type": "markdown",
   "metadata": {
    "id": "I6c1YwMAFpur"
   },
   "source": [
    "### **Importing the Libraries**"
   ]
  },
  {
   "cell_type": "code",
   "execution_count": 2,
   "metadata": {
    "id": "2LIPbYkJd7WW"
   },
   "outputs": [],
   "source": [
    "import numpy as np                # creating arrays for linear algebra\n",
    "import pandas as pd               # used to create dataframes for data processing using the csv file\n",
    "import seaborn as sns             # used for visualization\n",
    "import matplotlib.pyplot as plt   # used for plotting data"
   ]
  },
  {
   "cell_type": "markdown",
   "metadata": {
    "id": "SRPHZJ_kGCIg"
   },
   "source": [
    "### **Reading the CSV data file**"
   ]
  },
  {
   "cell_type": "code",
   "execution_count": 3,
   "metadata": {
    "id": "o6QVp_xCeHTa"
   },
   "outputs": [],
   "source": [
    "dataset = pd.read_csv(\"LungDataSet.csv\")"
   ]
  },
  {
   "cell_type": "code",
   "execution_count": 9,
   "metadata": {},
   "outputs": [
    {
     "data": {
      "text/plain": [
       "Index(['Patient Id', 'Age', 'Gender', 'AirPollution', 'Alcoholuse',\n",
       "       'DustAllergy', 'OccuPationalHazards', 'GeneticRisk',\n",
       "       'chronicLungDisease', 'BalancedDiet', 'Obesity', 'Smoking',\n",
       "       'PassiveSmoker', 'ChestPain', 'CoughingofBlood', 'Fatigue',\n",
       "       'WeightLoss', 'ShortnessofBreath', 'Wheezing', 'SwallowingDifficulty',\n",
       "       'ClubbingofFingerNails', 'FrequentCold', 'DryCough', 'Snoring',\n",
       "       'Level'],\n",
       "      dtype='object')"
      ]
     },
     "execution_count": 9,
     "metadata": {},
     "output_type": "execute_result"
    }
   ],
   "source": [
    "dataset.columns"
   ]
  },
  {
   "cell_type": "markdown",
   "metadata": {
    "id": "h_u21kdHGtvz"
   },
   "source": [
    "### **Exploring the data**"
   ]
  },
  {
   "cell_type": "code",
   "execution_count": 116,
   "metadata": {
    "colab": {
     "base_uri": "https://localhost:8080/",
     "height": 393
    },
    "id": "4oOXfVdleI8O",
    "outputId": "837790ff-67c8-4c9e-f49d-9fc384fce8fe"
   },
   "outputs": [
    {
     "data": {
      "text/html": [
       "<div>\n",
       "<style scoped>\n",
       "    .dataframe tbody tr th:only-of-type {\n",
       "        vertical-align: middle;\n",
       "    }\n",
       "\n",
       "    .dataframe tbody tr th {\n",
       "        vertical-align: top;\n",
       "    }\n",
       "\n",
       "    .dataframe thead th {\n",
       "        text-align: right;\n",
       "    }\n",
       "</style>\n",
       "<table border=\"1\" class=\"dataframe\">\n",
       "  <thead>\n",
       "    <tr style=\"text-align: right;\">\n",
       "      <th></th>\n",
       "      <th>Patient Id</th>\n",
       "      <th>Age</th>\n",
       "      <th>Gender</th>\n",
       "      <th>AirPollution</th>\n",
       "      <th>Alcoholuse</th>\n",
       "      <th>DustAllergy</th>\n",
       "      <th>OccuPationalHazards</th>\n",
       "      <th>GeneticRisk</th>\n",
       "      <th>chronicLungDisease</th>\n",
       "      <th>BalancedDiet</th>\n",
       "      <th>...</th>\n",
       "      <th>Fatigue</th>\n",
       "      <th>WeightLoss</th>\n",
       "      <th>ShortnessofBreath</th>\n",
       "      <th>Wheezing</th>\n",
       "      <th>SwallowingDifficulty</th>\n",
       "      <th>ClubbingofFingerNails</th>\n",
       "      <th>FrequentCold</th>\n",
       "      <th>DryCough</th>\n",
       "      <th>Snoring</th>\n",
       "      <th>Level</th>\n",
       "    </tr>\n",
       "  </thead>\n",
       "  <tbody>\n",
       "    <tr>\n",
       "      <th>0</th>\n",
       "      <td>P1</td>\n",
       "      <td>33</td>\n",
       "      <td>1</td>\n",
       "      <td>2</td>\n",
       "      <td>4</td>\n",
       "      <td>5</td>\n",
       "      <td>4</td>\n",
       "      <td>3</td>\n",
       "      <td>2</td>\n",
       "      <td>2</td>\n",
       "      <td>...</td>\n",
       "      <td>3</td>\n",
       "      <td>4</td>\n",
       "      <td>2</td>\n",
       "      <td>2</td>\n",
       "      <td>3</td>\n",
       "      <td>1</td>\n",
       "      <td>2</td>\n",
       "      <td>3</td>\n",
       "      <td>4</td>\n",
       "      <td>Low</td>\n",
       "    </tr>\n",
       "    <tr>\n",
       "      <th>1</th>\n",
       "      <td>P10</td>\n",
       "      <td>17</td>\n",
       "      <td>1</td>\n",
       "      <td>3</td>\n",
       "      <td>1</td>\n",
       "      <td>5</td>\n",
       "      <td>3</td>\n",
       "      <td>4</td>\n",
       "      <td>2</td>\n",
       "      <td>2</td>\n",
       "      <td>...</td>\n",
       "      <td>1</td>\n",
       "      <td>3</td>\n",
       "      <td>7</td>\n",
       "      <td>8</td>\n",
       "      <td>6</td>\n",
       "      <td>2</td>\n",
       "      <td>1</td>\n",
       "      <td>7</td>\n",
       "      <td>2</td>\n",
       "      <td>Medium</td>\n",
       "    </tr>\n",
       "    <tr>\n",
       "      <th>2</th>\n",
       "      <td>P100</td>\n",
       "      <td>35</td>\n",
       "      <td>1</td>\n",
       "      <td>4</td>\n",
       "      <td>5</td>\n",
       "      <td>6</td>\n",
       "      <td>5</td>\n",
       "      <td>5</td>\n",
       "      <td>4</td>\n",
       "      <td>6</td>\n",
       "      <td>...</td>\n",
       "      <td>8</td>\n",
       "      <td>7</td>\n",
       "      <td>9</td>\n",
       "      <td>2</td>\n",
       "      <td>1</td>\n",
       "      <td>4</td>\n",
       "      <td>6</td>\n",
       "      <td>7</td>\n",
       "      <td>2</td>\n",
       "      <td>High</td>\n",
       "    </tr>\n",
       "    <tr>\n",
       "      <th>3</th>\n",
       "      <td>P1000</td>\n",
       "      <td>37</td>\n",
       "      <td>1</td>\n",
       "      <td>7</td>\n",
       "      <td>7</td>\n",
       "      <td>7</td>\n",
       "      <td>7</td>\n",
       "      <td>6</td>\n",
       "      <td>7</td>\n",
       "      <td>7</td>\n",
       "      <td>...</td>\n",
       "      <td>4</td>\n",
       "      <td>2</td>\n",
       "      <td>3</td>\n",
       "      <td>1</td>\n",
       "      <td>4</td>\n",
       "      <td>5</td>\n",
       "      <td>6</td>\n",
       "      <td>7</td>\n",
       "      <td>5</td>\n",
       "      <td>High</td>\n",
       "    </tr>\n",
       "    <tr>\n",
       "      <th>4</th>\n",
       "      <td>P101</td>\n",
       "      <td>46</td>\n",
       "      <td>1</td>\n",
       "      <td>6</td>\n",
       "      <td>8</td>\n",
       "      <td>7</td>\n",
       "      <td>7</td>\n",
       "      <td>7</td>\n",
       "      <td>6</td>\n",
       "      <td>7</td>\n",
       "      <td>...</td>\n",
       "      <td>3</td>\n",
       "      <td>2</td>\n",
       "      <td>4</td>\n",
       "      <td>1</td>\n",
       "      <td>4</td>\n",
       "      <td>2</td>\n",
       "      <td>4</td>\n",
       "      <td>2</td>\n",
       "      <td>3</td>\n",
       "      <td>High</td>\n",
       "    </tr>\n",
       "    <tr>\n",
       "      <th>5</th>\n",
       "      <td>P102</td>\n",
       "      <td>35</td>\n",
       "      <td>1</td>\n",
       "      <td>4</td>\n",
       "      <td>5</td>\n",
       "      <td>6</td>\n",
       "      <td>5</td>\n",
       "      <td>5</td>\n",
       "      <td>4</td>\n",
       "      <td>6</td>\n",
       "      <td>...</td>\n",
       "      <td>8</td>\n",
       "      <td>7</td>\n",
       "      <td>9</td>\n",
       "      <td>2</td>\n",
       "      <td>1</td>\n",
       "      <td>4</td>\n",
       "      <td>6</td>\n",
       "      <td>7</td>\n",
       "      <td>2</td>\n",
       "      <td>High</td>\n",
       "    </tr>\n",
       "    <tr>\n",
       "      <th>6</th>\n",
       "      <td>P103</td>\n",
       "      <td>52</td>\n",
       "      <td>2</td>\n",
       "      <td>2</td>\n",
       "      <td>4</td>\n",
       "      <td>5</td>\n",
       "      <td>4</td>\n",
       "      <td>3</td>\n",
       "      <td>2</td>\n",
       "      <td>2</td>\n",
       "      <td>...</td>\n",
       "      <td>3</td>\n",
       "      <td>4</td>\n",
       "      <td>2</td>\n",
       "      <td>2</td>\n",
       "      <td>3</td>\n",
       "      <td>1</td>\n",
       "      <td>2</td>\n",
       "      <td>3</td>\n",
       "      <td>4</td>\n",
       "      <td>Low</td>\n",
       "    </tr>\n",
       "    <tr>\n",
       "      <th>7</th>\n",
       "      <td>P104</td>\n",
       "      <td>28</td>\n",
       "      <td>2</td>\n",
       "      <td>3</td>\n",
       "      <td>1</td>\n",
       "      <td>4</td>\n",
       "      <td>3</td>\n",
       "      <td>2</td>\n",
       "      <td>3</td>\n",
       "      <td>4</td>\n",
       "      <td>...</td>\n",
       "      <td>3</td>\n",
       "      <td>2</td>\n",
       "      <td>2</td>\n",
       "      <td>4</td>\n",
       "      <td>2</td>\n",
       "      <td>2</td>\n",
       "      <td>3</td>\n",
       "      <td>4</td>\n",
       "      <td>3</td>\n",
       "      <td>Low</td>\n",
       "    </tr>\n",
       "    <tr>\n",
       "      <th>8</th>\n",
       "      <td>P105</td>\n",
       "      <td>35</td>\n",
       "      <td>2</td>\n",
       "      <td>4</td>\n",
       "      <td>5</td>\n",
       "      <td>6</td>\n",
       "      <td>5</td>\n",
       "      <td>6</td>\n",
       "      <td>5</td>\n",
       "      <td>5</td>\n",
       "      <td>...</td>\n",
       "      <td>1</td>\n",
       "      <td>4</td>\n",
       "      <td>3</td>\n",
       "      <td>2</td>\n",
       "      <td>4</td>\n",
       "      <td>6</td>\n",
       "      <td>2</td>\n",
       "      <td>4</td>\n",
       "      <td>1</td>\n",
       "      <td>Medium</td>\n",
       "    </tr>\n",
       "    <tr>\n",
       "      <th>9</th>\n",
       "      <td>P106</td>\n",
       "      <td>46</td>\n",
       "      <td>1</td>\n",
       "      <td>2</td>\n",
       "      <td>3</td>\n",
       "      <td>4</td>\n",
       "      <td>2</td>\n",
       "      <td>4</td>\n",
       "      <td>3</td>\n",
       "      <td>3</td>\n",
       "      <td>...</td>\n",
       "      <td>1</td>\n",
       "      <td>2</td>\n",
       "      <td>4</td>\n",
       "      <td>6</td>\n",
       "      <td>5</td>\n",
       "      <td>4</td>\n",
       "      <td>2</td>\n",
       "      <td>1</td>\n",
       "      <td>5</td>\n",
       "      <td>Medium</td>\n",
       "    </tr>\n",
       "  </tbody>\n",
       "</table>\n",
       "<p>10 rows × 25 columns</p>\n",
       "</div>"
      ],
      "text/plain": [
       "  Patient Id  Age  Gender  AirPollution  Alcoholuse  DustAllergy  \\\n",
       "0         P1   33       1             2           4            5   \n",
       "1        P10   17       1             3           1            5   \n",
       "2       P100   35       1             4           5            6   \n",
       "3      P1000   37       1             7           7            7   \n",
       "4       P101   46       1             6           8            7   \n",
       "5       P102   35       1             4           5            6   \n",
       "6       P103   52       2             2           4            5   \n",
       "7       P104   28       2             3           1            4   \n",
       "8       P105   35       2             4           5            6   \n",
       "9       P106   46       1             2           3            4   \n",
       "\n",
       "   OccuPationalHazards  GeneticRisk  chronicLungDisease  BalancedDiet  ...  \\\n",
       "0                    4            3                   2             2  ...   \n",
       "1                    3            4                   2             2  ...   \n",
       "2                    5            5                   4             6  ...   \n",
       "3                    7            6                   7             7  ...   \n",
       "4                    7            7                   6             7  ...   \n",
       "5                    5            5                   4             6  ...   \n",
       "6                    4            3                   2             2  ...   \n",
       "7                    3            2                   3             4  ...   \n",
       "8                    5            6                   5             5  ...   \n",
       "9                    2            4                   3             3  ...   \n",
       "\n",
       "   Fatigue  WeightLoss  ShortnessofBreath  Wheezing  SwallowingDifficulty  \\\n",
       "0        3           4                  2         2                     3   \n",
       "1        1           3                  7         8                     6   \n",
       "2        8           7                  9         2                     1   \n",
       "3        4           2                  3         1                     4   \n",
       "4        3           2                  4         1                     4   \n",
       "5        8           7                  9         2                     1   \n",
       "6        3           4                  2         2                     3   \n",
       "7        3           2                  2         4                     2   \n",
       "8        1           4                  3         2                     4   \n",
       "9        1           2                  4         6                     5   \n",
       "\n",
       "   ClubbingofFingerNails  FrequentCold  DryCough  Snoring   Level  \n",
       "0                      1             2         3        4     Low  \n",
       "1                      2             1         7        2  Medium  \n",
       "2                      4             6         7        2    High  \n",
       "3                      5             6         7        5    High  \n",
       "4                      2             4         2        3    High  \n",
       "5                      4             6         7        2    High  \n",
       "6                      1             2         3        4     Low  \n",
       "7                      2             3         4        3     Low  \n",
       "8                      6             2         4        1  Medium  \n",
       "9                      4             2         1        5  Medium  \n",
       "\n",
       "[10 rows x 25 columns]"
      ]
     },
     "execution_count": 116,
     "metadata": {},
     "output_type": "execute_result"
    }
   ],
   "source": [
    "dataset.head(10)"
   ]
  },
  {
   "cell_type": "code",
   "execution_count": 117,
   "metadata": {
    "colab": {
     "base_uri": "https://localhost:8080/",
     "height": 173
    },
    "id": "pMPw2xXmeOUt",
    "outputId": "f9f4cf86-c225-4b84-c4c1-ff59ed4d7073"
   },
   "outputs": [
    {
     "name": "stdout",
     "output_type": "stream",
     "text": [
      "Number of columns: 25\n",
      "\n",
      "The list of available column names:\n",
      " - Patient Id\n",
      " - Age\n",
      " - Gender\n",
      " - AirPollution\n",
      " - Alcoholuse\n",
      " - DustAllergy\n",
      " - OccuPationalHazards\n",
      " - GeneticRisk\n",
      " - chronicLungDisease\n",
      " - BalancedDiet\n",
      " - Obesity\n",
      " - Smoking\n",
      " - PassiveSmoker\n",
      " - ChestPain\n",
      " - CoughingofBlood\n",
      " - Fatigue\n",
      " - WeightLoss\n",
      " - ShortnessofBreath\n",
      " - Wheezing\n",
      " - SwallowingDifficulty\n",
      " - ClubbingofFingerNails\n",
      " - FrequentCold\n",
      " - DryCough\n",
      " - Snoring\n",
      " - Level\n"
     ]
    }
   ],
   "source": [
    "print(\"Number of columns: \"+str(len(dataset.columns)))\n",
    "print(\"\\nThe list of available column names:\")\n",
    "for index in range(len(dataset.columns)):\n",
    "    print(\" - \" + dataset.columns[index])"
   ]
  },
  {
   "cell_type": "code",
   "execution_count": 118,
   "metadata": {
    "colab": {
     "base_uri": "https://localhost:8080/",
     "height": 35
    },
    "id": "fQc6EBMZeP1-",
    "outputId": "1bd1e033-3dfa-421c-e3ae-d4c0fa1c9579"
   },
   "outputs": [
    {
     "data": {
      "text/plain": [
       "(1000, 25)"
      ]
     },
     "execution_count": 118,
     "metadata": {},
     "output_type": "execute_result"
    }
   ],
   "source": [
    "dataset.shape    # 1000 rows and 25 columns (rows, columns)"
   ]
  },
  {
   "cell_type": "code",
   "execution_count": 119,
   "metadata": {},
   "outputs": [
    {
     "data": {
      "text/plain": [
       "Patient Id               0\n",
       "Age                      0\n",
       "Gender                   0\n",
       "AirPollution             0\n",
       "Alcoholuse               0\n",
       "DustAllergy              0\n",
       "OccuPationalHazards      0\n",
       "GeneticRisk              0\n",
       "chronicLungDisease       0\n",
       "BalancedDiet             0\n",
       "Obesity                  0\n",
       "Smoking                  0\n",
       "PassiveSmoker            0\n",
       "ChestPain                0\n",
       "CoughingofBlood          0\n",
       "Fatigue                  0\n",
       "WeightLoss               0\n",
       "ShortnessofBreath        0\n",
       "Wheezing                 0\n",
       "SwallowingDifficulty     0\n",
       "ClubbingofFingerNails    0\n",
       "FrequentCold             0\n",
       "DryCough                 0\n",
       "Snoring                  0\n",
       "Level                    0\n",
       "dtype: int64"
      ]
     },
     "execution_count": 119,
     "metadata": {},
     "output_type": "execute_result"
    }
   ],
   "source": [
    "dataset.isnull().sum()    # checking for Null values\n",
    "# There are no null values present"
   ]
  },
  {
   "cell_type": "code",
   "execution_count": 120,
   "metadata": {
    "colab": {
     "base_uri": "https://localhost:8080/",
     "height": 381
    },
    "id": "LOyyIFA3G_yf",
    "outputId": "4c544ba6-52e5-4b36-a17d-dd714aadc167"
   },
   "outputs": [
    {
     "name": "stdout",
     "output_type": "stream",
     "text": [
      "The max value for AirPollution is ' 8 ' and the min value is ' 1 '\n",
      "The max value for Alcoholuse is ' 8 ' and the min value is ' 1 '\n",
      "The max value for DustAllergy is ' 8 ' and the min value is ' 1 '\n",
      "The max value for OccuPationalHazards is ' 8 ' and the min value is ' 1 '\n",
      "The max value for GeneticRisk is ' 7 ' and the min value is ' 1 '\n",
      "The max value for chronicLungDisease is ' 7 ' and the min value is ' 1 '\n",
      "The max value for BalancedDiet is ' 7 ' and the min value is ' 1 '\n",
      "The max value for Obesity is ' 7 ' and the min value is ' 1 '\n",
      "The max value for Smoking is ' 8 ' and the min value is ' 1 '\n",
      "The max value for PassiveSmoker is ' 8 ' and the min value is ' 1 '\n",
      "The max value for ChestPain is ' 9 ' and the min value is ' 1 '\n",
      "The max value for CoughingofBlood is ' 9 ' and the min value is ' 1 '\n",
      "The max value for Fatigue is ' 9 ' and the min value is ' 1 '\n",
      "The max value for WeightLoss is ' 8 ' and the min value is ' 1 '\n",
      "The max value for ShortnessofBreath is ' 9 ' and the min value is ' 1 '\n",
      "The max value for Wheezing is ' 8 ' and the min value is ' 1 '\n",
      "The max value for SwallowingDifficulty is ' 8 ' and the min value is ' 1 '\n",
      "The max value for ClubbingofFingerNails is ' 9 ' and the min value is ' 1 '\n",
      "The max value for FrequentCold is ' 7 ' and the min value is ' 1 '\n",
      "The max value for DryCough is ' 7 ' and the min value is ' 1 '\n",
      "The max value for Snoring is ' 7 ' and the min value is ' 1 '\n"
     ]
    }
   ],
   "source": [
    "# I am print all these values because I will be using this in the front end to get the values from the user therefore it has to be within this range for the user input\n",
    "print(\"The max value for AirPollution is '\",dataset['AirPollution'].max(),\"' and the min value is '\",dataset['AirPollution'].min(), \"'\")\n",
    "print(\"The max value for Alcoholuse is '\",dataset['Alcoholuse'].max(),\"' and the min value is '\",dataset['Alcoholuse'].min() , \"'\")\n",
    "print(\"The max value for DustAllergy is '\",dataset['DustAllergy'].max(),\"' and the min value is '\",dataset['DustAllergy'].min() , \"'\")\n",
    "print(\"The max value for OccuPationalHazards is '\",dataset['OccuPationalHazards'].max(),\"' and the min value is '\",dataset['OccuPationalHazards'].min() , \"'\")\n",
    "print(\"The max value for GeneticRisk is '\",dataset['GeneticRisk'].max(),\"' and the min value is '\",dataset['GeneticRisk'].min() , \"'\")\n",
    "print(\"The max value for chronicLungDisease is '\",dataset['chronicLungDisease'].max(),\"' and the min value is '\",dataset['chronicLungDisease'].min() , \"'\")\n",
    "print(\"The max value for BalancedDiet is '\",dataset['BalancedDiet'].max(),\"' and the min value is '\",dataset['BalancedDiet'].min() , \"'\")\n",
    "print(\"The max value for Obesity is '\",dataset['Obesity'].max(),\"' and the min value is '\",dataset['Obesity'].min() , \"'\")\n",
    "print(\"The max value for Smoking is '\",dataset['Smoking'].max(),\"' and the min value is '\",dataset['Smoking'].min() , \"'\")\n",
    "print(\"The max value for PassiveSmoker is '\",dataset['PassiveSmoker'].max(),\"' and the min value is '\",dataset['PassiveSmoker'].min() , \"'\")\n",
    "print(\"The max value for ChestPain is '\",dataset['ChestPain'].max(),\"' and the min value is '\",dataset['ChestPain'].min() , \"'\")\n",
    "print(\"The max value for CoughingofBlood is '\",dataset['CoughingofBlood'].max(),\"' and the min value is '\",dataset['CoughingofBlood'].min() , \"'\")\n",
    "print(\"The max value for Fatigue is '\",dataset['Fatigue'].max(),\"' and the min value is '\",dataset['Fatigue'].min() , \"'\")\n",
    "print(\"The max value for WeightLoss is '\",dataset['WeightLoss'].max(),\"' and the min value is '\",dataset['WeightLoss'].min() , \"'\")\n",
    "print(\"The max value for ShortnessofBreath is '\",dataset['ShortnessofBreath'].max(),\"' and the min value is '\",dataset['ShortnessofBreath'].min() , \"'\")\n",
    "print(\"The max value for Wheezing is '\",dataset['Wheezing'].max(),\"' and the min value is '\",dataset['Wheezing'].min() , \"'\")\n",
    "print(\"The max value for SwallowingDifficulty is '\",dataset['SwallowingDifficulty'].max(),\"' and the min value is '\",dataset['SwallowingDifficulty'].min() , \"'\")\n",
    "print(\"The max value for ClubbingofFingerNails is '\",dataset['ClubbingofFingerNails'].max(),\"' and the min value is '\",dataset['ClubbingofFingerNails'].min() , \"'\")\n",
    "print(\"The max value for FrequentCold is '\",dataset['FrequentCold'].max(),\"' and the min value is '\",dataset['FrequentCold'].min() , \"'\")\n",
    "print(\"The max value for DryCough is '\",dataset['DryCough'].max(),\"' and the min value is '\",dataset['DryCough'].min() , \"'\")\n",
    "print(\"The max value for Snoring is '\",dataset['Snoring'].max(),\"' and the min value is '\",dataset['Snoring'].min() , \"'\")"
   ]
  },
  {
   "cell_type": "markdown",
   "metadata": {},
   "source": [
    "### **Creating the dependent and independent variables with their labels**"
   ]
  },
  {
   "cell_type": "code",
   "execution_count": 121,
   "metadata": {},
   "outputs": [],
   "source": [
    "from sklearn.model_selection import cross_val_score, KFold, train_test_split\n",
    "X = dataset.drop(['Level','Patient Id'], axis=1)\n",
    "y = dataset['Level']"
   ]
  },
  {
   "cell_type": "code",
   "execution_count": 174,
   "metadata": {},
   "outputs": [
    {
     "name": "stdout",
     "output_type": "stream",
     "text": [
      " - Age\n",
      " - Gender\n",
      " - AirPollution\n",
      " - Alcoholuse\n",
      " - DustAllergy\n",
      " - OccuPationalHazards\n",
      " - GeneticRisk\n",
      " - chronicLungDisease\n",
      " - BalancedDiet\n",
      " - Obesity\n",
      " - Smoking\n",
      " - PassiveSmoker\n",
      " - ChestPain\n",
      " - CoughingofBlood\n",
      " - Fatigue\n",
      " - WeightLoss\n",
      " - ShortnessofBreath\n",
      " - Wheezing\n",
      " - SwallowingDifficulty\n",
      " - ClubbingofFingerNails\n",
      " - FrequentCold\n",
      " - DryCough\n",
      " - Snoring\n"
     ]
    },
    {
     "data": {
      "text/plain": [
       "23"
      ]
     },
     "execution_count": 174,
     "metadata": {},
     "output_type": "execute_result"
    }
   ],
   "source": [
    "# Getting the independent columns name list\n",
    "for index in range(len(X.columns)):\n",
    "    print(\" - \" + X.columns[index])\n",
    "len(X.columns)"
   ]
  },
  {
   "cell_type": "markdown",
   "metadata": {
    "id": "aEiAUi0rI8VU"
   },
   "source": [
    "### **Number of people with High, Medium and Low Prob of getting cancer**"
   ]
  },
  {
   "cell_type": "code",
   "execution_count": 123,
   "metadata": {
    "colab": {
     "base_uri": "https://localhost:8080/",
     "height": 468
    },
    "id": "9HnjddbCIihM",
    "outputId": "50d53838-7b5d-4f65-bcc0-c53efd08be04"
   },
   "outputs": [
    {
     "name": "stdout",
     "output_type": "stream",
     "text": [
      "Counter({'High': 365, 'Medium': 332, 'Low': 303})\n",
      "These are the values:  [303, 332, 365]\n"
     ]
    }
   ],
   "source": [
    "from collections import Counter\n",
    "counts = Counter(y)\n",
    "label_count_list = list(counts.values())\n",
    "print(counts)\n",
    "print(\"These are the values: \", list(counts.values()))"
   ]
  },
  {
   "cell_type": "markdown",
   "metadata": {},
   "source": [
    "#### With the above result we can see clearly that there is a little bit of imbalance which is not and issue but lets still do some oversampling later"
   ]
  },
  {
   "cell_type": "markdown",
   "metadata": {
    "id": "bA8P5shVLNfJ"
   },
   "source": [
    "### **Plotting a bar graph against the target feature \"Label\" (before oversampling)**\n"
   ]
  },
  {
   "cell_type": "code",
   "execution_count": 124,
   "metadata": {
    "colab": {
     "base_uri": "https://localhost:8080/",
     "height": 295
    },
    "id": "-U3AstAHLSY7",
    "outputId": "47df9d02-ae10-485b-df38-680e033fe40f"
   },
   "outputs": [
    {
     "data": {
      "image/png": "[encoded data removed]",
      "text/plain": [
       "<Figure size 432x288 with 1 Axes>"
      ]
     },
     "metadata": {
      "needs_background": "light"
     },
     "output_type": "display_data"
    }
   ],
   "source": [
    "prediction_classes = [\"Low\",\"Medium\", \"High\"]\n",
    "count_of_prediction_classes = [303, 332, 365]\n",
    "totalRecords = sum(count_of_prediction_classes)\n",
    "\n",
    "plt.title(\"Distribution\")\n",
    "plt.ylabel(\"Number of records\")\n",
    "plt.xlabel(\"Level of risk\")\n",
    "plt.bar(prediction_classes,count_of_prediction_classes)\n",
    "plt.show()"
   ]
  },
  {
   "cell_type": "code",
   "execution_count": 125,
   "metadata": {},
   "outputs": [
    {
     "name": "stdout",
     "output_type": "stream",
     "text": [
      "Percentage of low class counts: 30 \n",
      "Percentage of medium class counts: 33 \n",
      "Percentage of high class counts:  36\n"
     ]
    }
   ],
   "source": [
    "# Getting the percentage of the predicted classes \n",
    "percentage_of_low_counts = (count_of_prediction_classes[0]/totalRecords) * 100\n",
    "percentage_of_medium_counts = (count_of_prediction_classes[1]/totalRecords) * 100\n",
    "percentage_of_high_counts = (count_of_prediction_classes[2]/totalRecords) * 100\n",
    "print(\"Percentage of low class counts: %1d \\nPercentage of medium class counts: %2d \\nPercentage of high class counts: %3d\" %(percentage_of_low_counts, percentage_of_medium_counts, percentage_of_high_counts))"
   ]
  },
  {
   "cell_type": "markdown",
   "metadata": {},
   "source": [
    "### Oversampling the data to be exactly equally balanced"
   ]
  },
  {
   "cell_type": "code",
   "execution_count": 126,
   "metadata": {},
   "outputs": [
    {
     "name": "stdout",
     "output_type": "stream",
     "text": [
      "Shape of high (365, 25) \n",
      "Shape of Medium (332, 25) \n",
      "Shape of Low (303, 25)\n",
      "\n",
      "This was the shape before Oversampling:  (1000, 23)\n",
      "This was the shape after Oversampling:  (1095, 23)\n"
     ]
    }
   ],
   "source": [
    "# Current shape of the High, Medium, Low data\n",
    "high = dataset[dataset['Level'] == \"High\"]\n",
    "low = dataset[dataset['Level'] == \"Low\"]\n",
    "medium = dataset[dataset['Level'] == \"Medium\"]\n",
    "\n",
    "print(\"Shape of high\", high.shape, \"\\nShape of Medium\", medium.shape, \"\\nShape of Low\", low.shape)\n",
    "\n",
    "# importing the necessary library for Oversampling the data\n",
    "from imblearn.combine import SMOTETomek\n",
    "\n",
    "# Implementing Oversampling for Handling Imbalanced data\n",
    "smk = SMOTETomek(random_state = 42)\n",
    "X_res, y_res = smk.fit_sample(X, y)\n",
    "\n",
    "print()\n",
    "print(\"This was the shape before Oversampling: \", X.shape)\n",
    "print(\"This was the shape after Oversampling: \", X_res.shape) # 95 new records have been added to make all the data balanced\n"
   ]
  },
  {
   "cell_type": "markdown",
   "metadata": {},
   "source": [
    "### **Number of people with High, Medium and Low Prob of getting cancer (after oversampling)**"
   ]
  },
  {
   "cell_type": "code",
   "execution_count": 127,
   "metadata": {},
   "outputs": [
    {
     "name": "stdout",
     "output_type": "stream",
     "text": [
      "Counter({'Low': 365, 'Medium': 365, 'High': 365})\n",
      "These are the values:  [365, 365, 365]\n"
     ]
    }
   ],
   "source": [
    "from collections import Counter\n",
    "counts = Counter(y_res)\n",
    "label_count_list = list(counts.values())\n",
    "print(counts)\n",
    "print(\"These are the values: \", list(counts.values()))"
   ]
  },
  {
   "cell_type": "markdown",
   "metadata": {},
   "source": [
    "### **Plotting a bar graph against the new target label dataset (after oversampling)**\n"
   ]
  },
  {
   "cell_type": "code",
   "execution_count": 128,
   "metadata": {},
   "outputs": [
    {
     "data": {
      "image/png": "[encoded data removed]",
      "text/plain": [
       "<Figure size 432x288 with 1 Axes>"
      ]
     },
     "metadata": {
      "needs_background": "light"
     },
     "output_type": "display_data"
    }
   ],
   "source": [
    "prediction_classes = [\"Low\",\"Medium\", \"High\"]\n",
    "count_of_prediction_classes = [365, 365, 365]\n",
    "totalRecords = sum(count_of_prediction_classes)\n",
    "\n",
    "plt.title(\"Distribution\")\n",
    "plt.ylabel(\"Number of records\")\n",
    "plt.xlabel(\"Level of risk\")\n",
    "plt.bar(prediction_classes,count_of_prediction_classes)\n",
    "plt.show()"
   ]
  },
  {
   "cell_type": "code",
   "execution_count": 129,
   "metadata": {},
   "outputs": [
    {
     "name": "stdout",
     "output_type": "stream",
     "text": [
      "Percentage of low class counts:  33.3 %\n",
      "Percentage of medium class counts:  33.3 %\n",
      "Percentage of high class counts:  33.3 %\n"
     ]
    }
   ],
   "source": [
    "# Getting the percentage of the predicted classes \n",
    "percentage_of_low_counts = (count_of_prediction_classes[0]/totalRecords) * 100\n",
    "percentage_of_medium_counts = (count_of_prediction_classes[1]/totalRecords) * 100\n",
    "percentage_of_high_counts = (count_of_prediction_classes[2]/totalRecords) * 100\n",
    "\n",
    "print(\"Percentage of low class counts: \", round(percentage_of_low_counts, 1),\"%\")\n",
    "print(\"Percentage of medium class counts: \", round(percentage_of_medium_counts, 1),\"%\")\n",
    "print(\"Percentage of high class counts: \", round(percentage_of_high_counts, 1),\"%\")"
   ]
  },
  {
   "cell_type": "markdown",
   "metadata": {
    "id": "emWEz_AoG9aM"
   },
   "source": [
    "### **Cleaning data process**"
   ]
  },
  {
   "cell_type": "code",
   "execution_count": 130,
   "metadata": {
    "id": "bYMh8lKZeUb2"
   },
   "outputs": [],
   "source": [
    "dataset['Gender'] = dataset['Gender'].replace(2, 0)   # 0 means Female and 1 means Male"
   ]
  },
  {
   "cell_type": "markdown",
   "metadata": {
    "id": "tfP5CIXhLjlr"
   },
   "source": [
    "### **Data Visulization**"
   ]
  },
  {
   "cell_type": "code",
   "execution_count": 131,
   "metadata": {
    "id": "kY7FjoQWLpOq"
   },
   "outputs": [],
   "source": [
    "#sns.pairplot(dataset)"
   ]
  },
  {
   "cell_type": "markdown",
   "metadata": {
    "id": "vKA7mnhnHXeJ"
   },
   "source": [
    "### **Performing Train Test Split**"
   ]
  },
  {
   "cell_type": "code",
   "execution_count": 146,
   "metadata": {
    "id": "Ndb4b44EegNe"
   },
   "outputs": [],
   "source": [
    "from sklearn.metrics import confusion_matrix, accuracy_score, recall_score, precision_score\n",
    "from sklearn.model_selection import train_test_split \n",
    "\n",
    "# dividing X_res, y_res into train and test data (Performing Train Test Split)\n",
    "X_train, X_test, y_train, y_test = train_test_split(X_res, y_res, random_state = 101) "
   ]
  },
  {
   "cell_type": "markdown",
   "metadata": {
    "id": "-CuW3zVJHfM3"
   },
   "source": [
    "### **Predicting using the Descision Tree Classifier**"
   ]
  },
  {
   "cell_type": "code",
   "execution_count": 147,
   "metadata": {
    "id": "h_nzkOoUet9a"
   },
   "outputs": [
    {
     "name": "stdout",
     "output_type": "stream",
     "text": [
      "Confusion matrix: [[62 20  0]\n",
      " [ 0 86  0]\n",
      " [ 0 38 68]]\n",
      "Accuracy score: 78.83211678832117\n",
      "Recall score: [0.75609756 1.         0.64150943]\n",
      "Precision score: [1.         0.59722222 1.        ]\n"
     ]
    },
    {
     "data": {
      "text/plain": [
       "'Sensitivity: 1.0 | Specifictity: 0.7560975609756098'"
      ]
     },
     "execution_count": 147,
     "metadata": {},
     "output_type": "execute_result"
    }
   ],
   "source": [
    "# training a DescisionTreeClassifier ( Accuracy score: 78.8%, Sensitivity: 100%, Specifictity: 75.6%)\n",
    "from sklearn.tree import DecisionTreeClassifier \n",
    "\n",
    "dtree_model = DecisionTreeClassifier(max_depth = 2).fit(X_train, y_train) \n",
    "dtree_predictions = dtree_model.predict(X_test) \n",
    "\n",
    "# creating a confusion matrix \n",
    "cm = confusion_matrix(y_test, dtree_predictions) \n",
    "ac = accuracy_score(y_test, dtree_predictions)\n",
    "rs = recall_score(y_test, dtree_predictions, average=None)\n",
    "ps = precision_score(y_test, dtree_predictions, average=None)\n",
    "\n",
    "print(\"Confusion matrix: \" + str(cm))\n",
    "print(\"Accuracy score: \" + str(ac*100)) \n",
    "print(\"Recall score: \" + str(rs))       \n",
    "print(\"Precision score: \" + str(ps)) \n",
    "\n",
    "TP = cm[1, 1]\n",
    "TN = cm[0, 0]\n",
    "FP = cm[0, 1]\n",
    "FN = cm[1, 0]\n",
    "\n",
    "sensitivity = TP/(TP+FN)  \n",
    "specificity = TN/(TN+FP)\n",
    "\n",
    "\"Sensitivity: {} | Specifictity: {}\".format(sensitivity, specificity)"
   ]
  },
  {
   "cell_type": "markdown",
   "metadata": {
    "id": "Z02vqUAKHp_n"
   },
   "source": [
    "### **Predicting using Support Vector Machine Classification**"
   ]
  },
  {
   "cell_type": "code",
   "execution_count": 148,
   "metadata": {
    "colab": {
     "base_uri": "https://localhost:8080/",
     "height": 35
    },
    "id": "F_bwFUzAfbCU",
    "outputId": "20cb175f-f2db-4ffd-e752-d54acd3730be"
   },
   "outputs": [
    {
     "name": "stdout",
     "output_type": "stream",
     "text": [
      "['Low' 'Low' 'Low' 'High' 'Low' 'Low' 'Medium' 'High' 'Medium' 'Low'\n",
      " 'Medium' 'Medium' 'Medium' 'Medium' 'High' 'Medium' 'Medium' 'Medium'\n",
      " 'Medium' 'Low' 'Low' 'Medium' 'Low' 'Medium' 'Medium' 'Low' 'Medium'\n",
      " 'Medium' 'High' 'Medium' 'High' 'High' 'Medium' 'Low' 'High' 'Medium'\n",
      " 'Medium' 'Low' 'Low' 'Medium' 'Low' 'High' 'Low' 'Low' 'High' 'High'\n",
      " 'High' 'Low' 'High' 'Low' 'Low' 'Medium' 'High' 'High' 'High' 'Medium'\n",
      " 'Low' 'Medium' 'Medium' 'Medium' 'Medium' 'High' 'Medium' 'Low' 'Low'\n",
      " 'Low' 'Medium' 'High' 'High' 'Medium' 'Medium' 'Medium' 'Low' 'High'\n",
      " 'Medium' 'Low' 'Medium' 'Medium' 'Medium' 'Medium' 'Medium' 'Medium'\n",
      " 'Low' 'Low' 'High' 'Medium' 'Low' 'High' 'Low' 'Low' 'Medium' 'High'\n",
      " 'High' 'High' 'Low' 'Low' 'Medium' 'Medium' 'Low' 'Medium' 'Low' 'High'\n",
      " 'Low' 'Medium' 'Low' 'High' 'High' 'Low' 'High' 'Medium' 'High' 'High'\n",
      " 'Medium' 'Low' 'Low' 'High' 'Low' 'Medium' 'Medium' 'Low' 'High' 'Low'\n",
      " 'Low' 'Low' 'High' 'Medium' 'Medium' 'High' 'High' 'High' 'High' 'High'\n",
      " 'Low' 'High' 'High' 'Low' 'High' 'Medium' 'High' 'Medium' 'Low' 'Medium'\n",
      " 'Medium' 'Medium' 'Low' 'Low' 'High' 'Medium' 'Low' 'High' 'Medium'\n",
      " 'High' 'High' 'Low' 'High' 'Medium' 'Medium' 'Medium' 'High' 'Medium'\n",
      " 'Low' 'Medium' 'Medium' 'High' 'Medium' 'Low' 'Low' 'Medium' 'Medium'\n",
      " 'Medium' 'High' 'High' 'Low' 'Low' 'Low' 'Medium' 'High' 'Medium' 'High'\n",
      " 'High' 'Medium' 'High' 'High' 'Medium' 'Low' 'High' 'Medium' 'High'\n",
      " 'High' 'Medium' 'High' 'Low' 'Low' 'Low' 'Low' 'Medium' 'High' 'Low'\n",
      " 'High' 'Medium' 'Medium' 'Low' 'Medium' 'Low' 'Medium' 'High' 'High'\n",
      " 'Low' 'High' 'High' 'Low' 'Medium' 'Medium' 'Low' 'High' 'Medium' 'Low'\n",
      " 'Medium' 'High' 'Medium' 'Medium' 'Low' 'Low' 'Low' 'Low' 'Medium' 'High'\n",
      " 'High' 'Low' 'Medium' 'Medium' 'High' 'High' 'Medium' 'Medium' 'Low'\n",
      " 'Medium' 'Medium' 'Low' 'Medium' 'Medium' 'Low' 'Low' 'Medium' 'Medium'\n",
      " 'High' 'Medium' 'High' 'Medium' 'Medium' 'Medium' 'Low' 'Low' 'High'\n",
      " 'High' 'High' 'High' 'Medium' 'Low' 'Medium' 'Low' 'High' 'High' 'Medium'\n",
      " 'Medium' 'Low' 'Medium' 'Low' 'Low' 'High' 'High' 'Low' 'Medium' 'Medium']\n",
      "Confusion matrix: [[ 82   0   0]\n",
      " [  0  86   0]\n",
      " [  0   0 106]]\n",
      "Accuracy score: 100.0\n",
      "Recall score: [1. 1. 1.]\n",
      "Precision score: [1. 1. 1.]\n"
     ]
    },
    {
     "data": {
      "text/plain": [
       "'Sensitivity: 1.0 | Specifictity: 1.0'"
      ]
     },
     "execution_count": 148,
     "metadata": {},
     "output_type": "execute_result"
    }
   ],
   "source": [
    "# training a linear SVM classifier ( Accuracy score: 100.0 %, Sensitivity: 100%, Specifictity: 100%)\n",
    "from sklearn.svm import SVC \n",
    "\n",
    "## training a SVM classifier \n",
    "svm_model_linear = SVC(kernel = 'linear', C = 1).fit(X_train, y_train) \n",
    "\n",
    "## Prediction using SVM\n",
    "svm_predictions = svm_model_linear.predict(X_test) \n",
    "print(svm_predictions)\n",
    "  \n",
    "# model accuracy for X_test   \n",
    "accuracy = svm_model_linear.score(X_test, y_test) \n",
    "  \n",
    "# creating a confusion matrix, calculating accuracy, calculating score, calculating precision\n",
    "cm = confusion_matrix(y_test, svm_predictions) \n",
    "ac = accuracy_score(y_test, svm_predictions)\n",
    "rs = recall_score(y_test, svm_predictions, average=None)\n",
    "ps = precision_score(y_test, svm_predictions, average=None)\n",
    "\n",
    "print(\"Confusion matrix: \" + str(cm))\n",
    "print(\"Accuracy score: \" + str(ac*100))\n",
    "print(\"Recall score: \" + str(rs))\n",
    "print(\"Precision score: \" + str(ps))\n",
    "\n",
    "TP = cm[1, 1]\n",
    "TN = cm[0, 0]\n",
    "FP = cm[0, 1]\n",
    "FN = cm[1, 0]\n",
    "\n",
    "sensitivity = TP/(TP+FN)\n",
    "specificity = TN/(TN+FP)\n",
    "\n",
    "\"Sensitivity: {} | Specifictity: {}\".format(sensitivity, specificity)"
   ]
  },
  {
   "cell_type": "markdown",
   "metadata": {
    "id": "pQykOLYRH3Zn"
   },
   "source": [
    "### **Predicting using KNN Classifier**"
   ]
  },
  {
   "cell_type": "markdown",
   "metadata": {},
   "source": [
    "### Choosing the best K value for KNN "
   ]
  },
  {
   "cell_type": "code",
   "execution_count": 149,
   "metadata": {},
   "outputs": [],
   "source": [
    "from sklearn.neighbors import KNeighborsClassifier \n",
    "error_rate = []\n",
    "\n",
    "for i in range(1,40):  #checking from 1 to 40 for the K value\n",
    "    knn = KNeighborsClassifier(n_neighbors=i)\n",
    "    knn.fit(X_train, y_train)\n",
    "    pred_i = knn.predict(X_test)\n",
    "    error_rate.append(np.mean(pred_i != y_test)) # when the 'pred' value doesn't match with the 'y value' I get the mean of that\n",
    "    "
   ]
  },
  {
   "cell_type": "code",
   "execution_count": 150,
   "metadata": {},
   "outputs": [
    {
     "data": {
      "text/plain": [
       "Text(0, 0.5, 'Error Rate')"
      ]
     },
     "execution_count": 150,
     "metadata": {},
     "output_type": "execute_result"
    },
    {
     "data": {
      "image/png": "[encoded data removed]",
      "text/plain": [
       "<Figure size 720x432 with 1 Axes>"
      ]
     },
     "metadata": {
      "needs_background": "light"
     },
     "output_type": "display_data"
    }
   ],
   "source": [
    "plt.figure(figsize=(10, 6))\n",
    "plt.plot(range(1, 40), error_rate, color='blue', linestyle='dashed', marker='o', markerfacecolor='red' ,markersize=10)\n",
    "plt.title('Error Rate vs K value')\n",
    "plt.xlabel('K')\n",
    "plt.ylabel('Error Rate')"
   ]
  },
  {
   "cell_type": "code",
   "execution_count": 151,
   "metadata": {
    "id": "c-eRyGzBk3dq"
   },
   "outputs": [
    {
     "name": "stdout",
     "output_type": "stream",
     "text": [
      "['Low' 'Low' 'Low' 'High' 'Low' 'Low' 'Medium' 'High' 'Medium' 'Low'\n",
      " 'Medium' 'Medium' 'Medium' 'Medium' 'High' 'Medium' 'Medium' 'Medium'\n",
      " 'Medium' 'Low' 'Low' 'Medium' 'Low' 'Medium' 'Medium' 'Low' 'Medium'\n",
      " 'Medium' 'High' 'Medium' 'High' 'High' 'Medium' 'Low' 'High' 'Medium'\n",
      " 'Medium' 'Low' 'Low' 'Medium' 'Low' 'High' 'Low' 'Low' 'High' 'High'\n",
      " 'High' 'Low' 'High' 'Low' 'Low' 'Medium' 'High' 'High' 'High' 'Medium'\n",
      " 'Low' 'Medium' 'Medium' 'Medium' 'Medium' 'High' 'Medium' 'Low' 'Low'\n",
      " 'Low' 'Medium' 'High' 'High' 'Medium' 'Medium' 'Medium' 'Low' 'High'\n",
      " 'Medium' 'Low' 'Medium' 'Medium' 'Medium' 'Medium' 'Medium' 'Medium'\n",
      " 'Low' 'Low' 'High' 'Medium' 'Low' 'High' 'Low' 'Low' 'Medium' 'High'\n",
      " 'High' 'High' 'Low' 'Low' 'Medium' 'Medium' 'Low' 'Medium' 'Low' 'High'\n",
      " 'Low' 'Medium' 'Low' 'High' 'High' 'Low' 'High' 'Medium' 'High' 'High'\n",
      " 'Medium' 'Low' 'Low' 'High' 'Low' 'Medium' 'Medium' 'Low' 'High' 'Low'\n",
      " 'Low' 'Low' 'High' 'Medium' 'Medium' 'High' 'High' 'High' 'High' 'High'\n",
      " 'Low' 'High' 'High' 'Low' 'High' 'Medium' 'High' 'Medium' 'Low' 'Medium'\n",
      " 'Medium' 'Medium' 'Low' 'Low' 'High' 'Medium' 'Low' 'High' 'Medium'\n",
      " 'High' 'High' 'Low' 'High' 'Medium' 'Medium' 'Medium' 'High' 'Medium'\n",
      " 'Medium' 'Medium' 'Medium' 'High' 'Medium' 'Low' 'Low' 'Medium' 'Medium'\n",
      " 'Medium' 'High' 'High' 'Low' 'Low' 'Low' 'Medium' 'High' 'Medium' 'High'\n",
      " 'High' 'Medium' 'High' 'High' 'Medium' 'Low' 'High' 'Medium' 'High'\n",
      " 'High' 'Medium' 'High' 'Low' 'Low' 'Low' 'Low' 'Medium' 'High' 'Low'\n",
      " 'High' 'Medium' 'Medium' 'Low' 'Medium' 'Low' 'Medium' 'High' 'High'\n",
      " 'Medium' 'High' 'High' 'Low' 'Medium' 'Medium' 'Low' 'High' 'Medium'\n",
      " 'Low' 'Medium' 'High' 'Medium' 'Medium' 'Low' 'Low' 'Low' 'Low' 'Medium'\n",
      " 'High' 'High' 'Low' 'Medium' 'Medium' 'High' 'High' 'Medium' 'Medium'\n",
      " 'Low' 'Medium' 'Medium' 'Low' 'Medium' 'Medium' 'Low' 'Low' 'Medium'\n",
      " 'Medium' 'High' 'Medium' 'High' 'Medium' 'Medium' 'Medium' 'Low' 'Low'\n",
      " 'High' 'High' 'High' 'High' 'Medium' 'Low' 'Medium' 'Low' 'High' 'High'\n",
      " 'Medium' 'Medium' 'Low' 'Medium' 'Low' 'Low' 'High' 'High' 'Low' 'Medium'\n",
      " 'Medium']\n",
      "Confusion matrix: [[ 82   0   0]\n",
      " [  0  84   2]\n",
      " [  0   0 106]]\n",
      "Accuracy score: 99.27007299270073\n",
      "Recall score: [1.         0.97674419 1.        ]\n",
      "Precision score: [1.         1.         0.98148148]\n"
     ]
    },
    {
     "data": {
      "text/plain": [
       "'Sensitivity: 1.0 | Specifictity: 1.0'"
      ]
     },
     "execution_count": 151,
     "metadata": {},
     "output_type": "execute_result"
    }
   ],
   "source": [
    "## Training a KNN classifier ( Accuracy score: 99.3 % , Sensitivity: 100%, Specifictity: 100%)\n",
    "\n",
    "## training a KNN classifier  (from the graph it's found that K=7 is the best choice of all)\n",
    "knn = KNeighborsClassifier(n_neighbors = 7).fit(X_train, y_train) \n",
    "\n",
    "## Prediction using KNN\n",
    "knn_predictions = knn.predict(X_test)  \n",
    "print(knn.predict(X_test))\n",
    "\n",
    "## Accuracy on X_test \n",
    "accuracy = knn.score(X_test, y_test) \n",
    "\n",
    "## Creating a confusion matrix \n",
    "cm = confusion_matrix(y_test, knn_predictions) \n",
    "ac = accuracy_score(y_test, knn_predictions)\n",
    "rs = recall_score(y_test, knn_predictions, average=None)\n",
    "ps = precision_score(y_test, knn_predictions, average=None)\n",
    "\n",
    "## Displaying the content\n",
    "print(\"Confusion matrix: \" + str(cm))\n",
    "print(\"Accuracy score: \" + str(ac*100))\n",
    "print(\"Recall score: \" + str(rs))\n",
    "print(\"Precision score: \" + str(ps))\n",
    "\n",
    "TP = cm[1, 1]\n",
    "TN = cm[0, 0]\n",
    "FP = cm[0, 1]\n",
    "FN = cm[1, 0]\n",
    "\n",
    "sensitivity = TP/(TP+FN)\n",
    "specificity = TN/(TN+FP)\n",
    "\n",
    "\"Sensitivity: {} | Specifictity: {}\".format(sensitivity, specificity)"
   ]
  },
  {
   "cell_type": "markdown",
   "metadata": {
    "id": "3I7gAJf2H-h8"
   },
   "source": [
    "### **Predicting using Navie Bayes Classifier**"
   ]
  },
  {
   "cell_type": "code",
   "execution_count": 152,
   "metadata": {
    "id": "dHwgGO8HlLKi"
   },
   "outputs": [
    {
     "name": "stdout",
     "output_type": "stream",
     "text": [
      "Confusion matrix: [[75  0  7]\n",
      " [ 3 81  2]\n",
      " [24  0 82]]\n",
      "Accuracy score: 86.86131386861314\n",
      "Recall score: [0.91463415 0.94186047 0.77358491]\n",
      "Precision score: [0.73529412 1.         0.9010989 ]\n"
     ]
    },
    {
     "data": {
      "text/plain": [
       "'Sensitivity: 0.9642857142857143 | Specifictity: 1.0'"
      ]
     },
     "execution_count": 152,
     "metadata": {},
     "output_type": "execute_result"
    }
   ],
   "source": [
    "# training a Naive Bayes classifier ( Accuracy score: 86.9, Sensitivity: 96.4%, Specifictity: 100%)\n",
    "from sklearn.naive_bayes import GaussianNB \n",
    "gnb = GaussianNB().fit(X_train, y_train) \n",
    "gnb_predictions = gnb.predict(X_test) \n",
    "  \n",
    "# accuracy on X_test \n",
    "accuracy = gnb.score(X_test, y_test) \n",
    "  \n",
    "# creating a confusion matrix \n",
    "cm = confusion_matrix(y_test, gnb_predictions) \n",
    "ac = accuracy_score(y_test, gnb_predictions)\n",
    "rs = recall_score(y_test, gnb_predictions, average=None)\n",
    "ps = precision_score(y_test, gnb_predictions, average=None)\n",
    "\n",
    "print(\"Confusion matrix: \" + str(cm))\n",
    "print(\"Accuracy score: \" + str(ac*100))\n",
    "print(\"Recall score: \" + str(rs))\n",
    "print(\"Precision score: \" + str(ps))\n",
    "\n",
    "TP = cm[1, 1]\n",
    "TN = cm[0, 0]\n",
    "FP = cm[0, 1]\n",
    "FN = cm[1, 0]\n",
    "\n",
    "sensitivity = TP/(TP+FN)\n",
    "specificity = TN/(TN+FP)\n",
    "\n",
    "\"Sensitivity: {} | Specifictity: {}\".format(sensitivity, specificity)"
   ]
  },
  {
   "cell_type": "markdown",
   "metadata": {},
   "source": [
    "### Random Forest Classifier"
   ]
  },
  {
   "cell_type": "code",
   "execution_count": 10,
   "metadata": {},
   "outputs": [
    {
     "name": "stderr",
     "output_type": "stream",
     "text": [
      "c:\\users\\nazhim\\appdata\\local\\programs\\python\\python37\\lib\\site-packages\\sklearn\\utils\\deprecation.py:143: FutureWarning: The sklearn.ensemble.forest module is  deprecated in version 0.22 and will be removed in version 0.24. The corresponding classes / functions should instead be imported from sklearn.ensemble. Anything that cannot be imported from sklearn.ensemble is now part of the private API.\n",
      "  warnings.warn(message, FutureWarning)\n"
     ]
    },
    {
     "ename": "NameError",
     "evalue": "name 'X_train' is not defined",
     "output_type": "error",
     "traceback": [
      "\u001b[1;31m---------------------------------------------------------------------------\u001b[0m",
      "\u001b[1;31mNameError\u001b[0m                                 Traceback (most recent call last)",
      "\u001b[1;32m<ipython-input-10-468eacbebfe5>\u001b[0m in \u001b[0;36m<module>\u001b[1;34m\u001b[0m\n\u001b[0;32m      1\u001b[0m \u001b[1;31m# Training with a Random Forest Classifier ( Accuracy score: 100%, Sensitivity: 100%, Specifictity: 100%)\u001b[0m\u001b[1;33m\u001b[0m\u001b[1;33m\u001b[0m\u001b[1;33m\u001b[0m\u001b[0m\n\u001b[0;32m      2\u001b[0m \u001b[1;32mfrom\u001b[0m \u001b[0msklearn\u001b[0m\u001b[1;33m.\u001b[0m\u001b[0mensemble\u001b[0m\u001b[1;33m.\u001b[0m\u001b[0mforest\u001b[0m \u001b[1;32mimport\u001b[0m \u001b[0mRandomForestClassifier\u001b[0m\u001b[1;33m\u001b[0m\u001b[1;33m\u001b[0m\u001b[0m\n\u001b[1;32m----> 3\u001b[1;33m \u001b[0mrandomForestModel\u001b[0m \u001b[1;33m=\u001b[0m \u001b[0mRandomForestClassifier\u001b[0m\u001b[1;33m(\u001b[0m\u001b[1;33m)\u001b[0m\u001b[1;33m.\u001b[0m\u001b[0mfit\u001b[0m\u001b[1;33m(\u001b[0m\u001b[0mX_train\u001b[0m\u001b[1;33m,\u001b[0m \u001b[0my_train\u001b[0m\u001b[1;33m)\u001b[0m\u001b[1;33m\u001b[0m\u001b[1;33m\u001b[0m\u001b[0m\n\u001b[0m\u001b[0;32m      4\u001b[0m \u001b[0mrandomForestModel_predictions\u001b[0m \u001b[1;33m=\u001b[0m \u001b[0mrandomForestModel\u001b[0m\u001b[1;33m.\u001b[0m\u001b[0mpredict\u001b[0m\u001b[1;33m(\u001b[0m\u001b[0mX_test\u001b[0m\u001b[1;33m)\u001b[0m\u001b[1;33m\u001b[0m\u001b[1;33m\u001b[0m\u001b[0m\n\u001b[0;32m      5\u001b[0m \u001b[1;33m\u001b[0m\u001b[0m\n",
      "\u001b[1;31mNameError\u001b[0m: name 'X_train' is not defined"
     ]
    }
   ],
   "source": [
    "# Training with a Random Forest Classifier ( Accuracy score: 100%, Sensitivity: 100, Specifictity: 100%)\n",
    "from sklearn.ensemble.forest import RandomForestClassifier \n",
    "randomForestModel = RandomForestClassifier().fit(X_train, y_train) \n",
    "randomForestModel_predictions = randomForestModel.predict(X_test) \n",
    "  \n",
    "# accuracy on X_test \n",
    "accuracy = randomForestModel.score(X_test, y_test) \n",
    "  \n",
    "# creating a confusion matrix \n",
    "cm = confusion_matrix(y_test, randomForestModel_predictions) \n",
    "ac = accuracy_score(y_test, randomForestModel_predictions)\n",
    "rs = recall_score(y_test, randomForestModel_predictions, average=None)\n",
    "ps = precision_score(y_test, randomForestModel_predictions, average=None)\n",
    "\n",
    "print(\"Confusion matrix: \" + str(cm))\n",
    "print(\"Accuracy score: \" + str(ac*100))\n",
    "print(\"Recall score: \" + str(rs))\n",
    "print(\"Precision score: \" + str(ps))\n",
    "\n",
    "TP = cm[1, 1]\n",
    "TN = cm[0, 0]\n",
    "FP = cm[0, 1]\n",
    "FN = cm[1, 0]\n",
    "\n",
    "sensitivity = TP/(TP+FN)\n",
    "specificity = TN/(TN+FP)\n",
    "\n",
    "\"Sensitivity: {} | Specifictity: {}\".format(sensitivity, specificity)"
   ]
  },
  {
   "cell_type": "markdown",
   "metadata": {
    "id": "cHDu1kQpliyJ"
   },
   "source": [
    "### Saving the Model using joblib"
   ]
  },
  {
   "cell_type": "code",
   "execution_count": 141,
   "metadata": {},
   "outputs": [],
   "source": [
    "import joblib"
   ]
  },
  {
   "cell_type": "code",
   "execution_count": 154,
   "metadata": {},
   "outputs": [
    {
     "data": {
      "text/plain": [
       "['lung-cancer-pred-model.pkl']"
      ]
     },
     "execution_count": 154,
     "metadata": {},
     "output_type": "execute_result"
    }
   ],
   "source": [
    "joblib.dump(svm_model_linear, 'lung-cancer-pred-model.pkl')"
   ]
  },
  {
   "cell_type": "code",
   "execution_count": 156,
   "metadata": {},
   "outputs": [],
   "source": [
    "loadedModel = joblib.load('lung-cancer-pred-model.pkl')"
   ]
  },
  {
   "cell_type": "code",
   "execution_count": 163,
   "metadata": {},
   "outputs": [],
   "source": [
    "new_test = [[44,1,5.5,5.5,5.5,5.5,5.3,1.3,1.3,1.3,5.6,1.6,1.6,1.8,5.8,1.7,1.7,5.7,1.1,1.2,5.9,1.0,5.4]]"
   ]
  },
  {
   "cell_type": "code",
   "execution_count": 167,
   "metadata": {},
   "outputs": [
    {
     "data": {
      "text/plain": [
       "'Medium'"
      ]
     },
     "execution_count": 167,
     "metadata": {},
     "output_type": "execute_result"
    }
   ],
   "source": [
    "loadedModel.predict(new_test)[0]"
   ]
  },
  {
   "cell_type": "code",
   "execution_count": null,
   "metadata": {},
   "outputs": [],
   "source": []
  }
 ],
 "metadata": {
  "colab": {
   "collapsed_sections": [],
   "name": "Lung Cancer Prediction using Machine Leanring Final Final Final.ipynb",
   "provenance": []
  },
  "kernelspec": {
   "display_name": "Python 3",
   "language": "python",
   "name": "python3"
  },
  "language_info": {
   "codemirror_mode": {
    "name": "ipython",
    "version": 3
   },
   "file_extension": ".py",
   "mimetype": "text/x-python",
   "name": "python",
   "nbconvert_exporter": "python",
   "pygments_lexer": "ipython3",
   "version": "3.9.3"
  }
 },
 "nbformat": 4,
 "nbformat_minor": 1
}
