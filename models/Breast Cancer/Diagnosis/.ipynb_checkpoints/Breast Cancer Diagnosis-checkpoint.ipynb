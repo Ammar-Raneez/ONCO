{
 "cells": [
  {
   "cell_type": "code",
   "execution_count": 8,
   "id": "better-alliance",
   "metadata": {},
   "outputs": [],
   "source": [
    "#import os # only lib needed to cut the files\n",
    "import glob # these two for splitting\n",
    "import shutil\n",
    "%config Completer.use_jedi = False # for auto complete to work this option needs to be disabled I dont know why my pc is stupid."
   ]
  },
  {
   "cell_type": "markdown",
   "id": "turned-content",
   "metadata": {},
   "source": [
    "### Move all images out of subfolders into 1 folder"
   ]
  },
  {
   "cell_type": "code",
   "execution_count": 2,
   "id": "useful-yugoslavia",
   "metadata": {},
   "outputs": [],
   "source": [
    "# get images of the scans with cancer cells and cuts it to a folder, only need this to run ONCE.\n",
    "\n",
    "#src_dir = r'D:\\Breast Cancer Diagnosis\\Dataset\\Cancer' + '\\\\' # source folder with subfolders that contain the images\n",
    "#target_dir = r'D:\\trimmed_dataset\\Cancer'+ '\\\\' # destination which i am copying the files to\n",
    "\n",
    "#for path, dir, files in os.walk(src_dir): # loop through all files in the source folder\n",
    "    #if files: # subfolders\n",
    "        #for img in files: # loop through every image in every subfolder\n",
    "            #if not os.path.isfile(target_dir + img): #if not a duplicate\n",
    "                #os.rename(path + '\\\\' + img, target_dir + img) # cut to new folder\n",
    "        "
   ]
  },
  {
   "cell_type": "code",
   "execution_count": 4,
   "id": "asian-stopping",
   "metadata": {},
   "outputs": [],
   "source": [
    "# get images of the scans with normal cells and cuts it to a folder, only need this to run ONCE.\n",
    "\n",
    "#src_dir = r'D:\\Breast Cancer Diagnosis\\Dataset\\Normal' + '\\\\' # source folder with subfolders that contain the images\n",
    "#target_dir = r'D:\\trimmed_dataset\\Normal'+ '\\\\' # destination which i am copying the files to\n",
    "\n",
    "#for path, dir, files in os.walk(src_dir): # loop through all files in the source folder\n",
    "    #if files: # subfolders\n",
    "        #for img in files: # loop through every image in every subfolder\n",
    "            #if not os.path.isfile(target_dir + img): #if not a duplicate\n",
    "                #os.rename(path + '\\\\' + img, target_dir + img) # cut to new folder"
   ]
  },
  {
   "cell_type": "markdown",
   "id": "composite-chester",
   "metadata": {},
   "source": [
    "### Split into Test and Train Folders"
   ]
  },
  {
   "cell_type": "code",
   "execution_count": 13,
   "id": "strategic-script",
   "metadata": {},
   "outputs": [],
   "source": [
    "# split the cancer folder into train and test\n",
    "\n",
    "# Train Folder is 80% of total imgs i.e. 2,172 images.\n",
    "\n",
    "#src_dir = r'D:\\trimmed_dataset\\Cancer' + '//'\n",
    "#target_dir = r'D:\\trimmed_dataset\\Train\\Cancer' + '//'\n",
    "\n",
    "#count = 0\n",
    "\n",
    "#for img in glob.iglob(os.path.join(src_dir, \"*.png\")):\n",
    "    #shutil.move(img, target_dir)\n",
    "    #count += 1\n",
    "    #if (count == 2172):\n",
    "        #break\n",
    "\n",
    "# Test Folder is 20% of total images i.e 544 images.\n",
    "\n",
    "#src_dir = r'D:\\trimmed_dataset\\Cancer' + '//'\n",
    "#target_dir = r'D:\\trimmed_dataset\\Test\\Cancer' + '//'\n",
    "\n",
    "#count = 0\n",
    "\n",
    "#for img in glob.iglob(os.path.join(src_dir, \"*.png\")):\n",
    "    #shutil.move(img, target_dir)\n",
    "    #count += 1\n",
    "    #if (count == 544):\n",
    "        #break\n"
   ]
  },
  {
   "cell_type": "code",
   "execution_count": 11,
   "id": "posted-angola",
   "metadata": {},
   "outputs": [
    {
     "name": "stdout",
     "output_type": "stream",
     "text": [
      "2172\n"
     ]
    }
   ],
   "source": []
  },
  {
   "cell_type": "code",
   "execution_count": null,
   "id": "aquatic-radius",
   "metadata": {},
   "outputs": [],
   "source": []
  }
 ],
 "metadata": {
  "kernelspec": {
   "display_name": "Python [conda env:DeepLearn] *",
   "language": "python",
   "name": "conda-env-DeepLearn-py"
  },
  "language_info": {
   "codemirror_mode": {
    "name": "ipython",
    "version": 3
   },
   "file_extension": ".py",
   "mimetype": "text/x-python",
   "name": "python",
   "nbconvert_exporter": "python",
   "pygments_lexer": "ipython3",
   "version": "3.8.8"
  }
 },
 "nbformat": 4,
 "nbformat_minor": 5
}
