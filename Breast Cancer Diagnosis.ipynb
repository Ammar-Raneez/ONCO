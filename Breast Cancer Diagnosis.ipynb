{
 "cells": [
  {
   "cell_type": "code",
   "execution_count": null,
   "id": "friendly-updating",
   "metadata": {},
   "outputs": [],
   "source": [
    "#import os # only lib needed to cut the files\n",
    "#import glob # these two for splitting\n",
    "#import shutil\n",
    "#%config Completer.use_jedi = False # for auto complete to work this option needs to be disabled."
   ]
  },
  {
   "cell_type": "markdown",
   "id": "fatal-miniature",
   "metadata": {},
   "source": [
    "## `Pre-Processing images`"
   ]
  },
  {
   "cell_type": "markdown",
   "id": "regulation-actress",
   "metadata": {},
   "source": [
    "***"
   ]
  },
  {
   "cell_type": "markdown",
   "id": "pending-packaging",
   "metadata": {},
   "source": [
    "### Move all images out of subfolders into 1 folder"
   ]
  },
  {
   "cell_type": "code",
   "execution_count": null,
   "id": "continent-payday",
   "metadata": {},
   "outputs": [],
   "source": [
    "# get images of the scans with cancer cells and cuts it to a folder, only need this to run ONCE.\n",
    "\n",
    "#src_dir = r'D:\\Breast Cancer Diagnosis\\Dataset\\Cancer' + '\\\\' # source folder with subfolders that contain the images\n",
    "#target_dir = r'D:\\trimmed_dataset\\Cancer'+ '\\\\' # destination which i am copying the files to\n",
    "\n",
    "#for path, dir, files in os.walk(src_dir): # loop through all files in the source folder\n",
    "    #if files: # subfolders\n",
    "        #for img in files: # loop through every image in every subfolder\n",
    "            #if not os.path.isfile(target_dir + img): #if not a duplicate\n",
    "                #os.rename(path + '\\\\' + img, target_dir + img) # cut to new folder\n",
    "        "
   ]
  },
  {
   "cell_type": "code",
   "execution_count": null,
   "id": "ordered-phenomenon",
   "metadata": {},
   "outputs": [],
   "source": [
    "# get images of the scans with normal cells and cuts it to a folder, only need this to run ONCE.\n",
    "\n",
    "#src_dir = r'D:\\Breast Cancer Diagnosis\\Dataset\\Normal' + '\\\\' # source folder with subfolders that contain the images\n",
    "#target_dir = r'D:\\trimmed_dataset\\Normal'+ '\\\\' # destination which i am copying the files to\n",
    "\n",
    "#for path, dir, files in os.walk(src_dir): # loop through all files in the source folder\n",
    "    #if files: # subfolders\n",
    "        #for img in files: # loop through every image in every subfolder\n",
    "            #if not os.path.isfile(target_dir + img): #if not a duplicate\n",
    "                #os.rename(path + '\\\\' + img, target_dir + img) # cut to new folder"
   ]
  },
  {
   "cell_type": "markdown",
   "id": "racial-diploma",
   "metadata": {},
   "source": [
    "### Split into Test and Train Folders"
   ]
  },
  {
   "cell_type": "code",
   "execution_count": null,
   "id": "immediate-arkansas",
   "metadata": {},
   "outputs": [],
   "source": [
    "# split the Cancer folder into train folder and test folders.\n",
    "\n",
    "# Train Folder is 80% of total imgs i.e. 2,172 images.\n",
    "\n",
    "#src_dir = r'D:\\trimmed_dataset\\Cancer' + '//'\n",
    "#target_dir = r'D:\\trimmed_dataset\\Train\\Cancer' + '//'\n",
    "\n",
    "#count = 0\n",
    "\n",
    "#for img in glob.iglob(os.path.join(src_dir, \"*.png\")):\n",
    "    #shutil.move(img, target_dir)\n",
    "    #count += 1\n",
    "    #if (count == 2172):\n",
    "        #break\n",
    "\n",
    "# Test Folder is 20% of total images i.e 544 images.\n",
    "\n",
    "#src_dir = r'D:\\trimmed_dataset\\Cancer' + '//'\n",
    "#target_dir = r'D:\\trimmed_dataset\\Test\\Cancer' + '//'\n",
    "\n",
    "#count = 0\n",
    "\n",
    "#for img in glob.iglob(os.path.join(src_dir, \"*.png\")):\n",
    "    #shutil.move(img, target_dir)\n",
    "    #count += 1\n",
    "    #if (count == 544):\n",
    "        #break\n"
   ]
  },
  {
   "cell_type": "code",
   "execution_count": null,
   "id": "victorian-heavy",
   "metadata": {},
   "outputs": [],
   "source": [
    "# split the Cancer folder into train folder and test folders.\n",
    "\n",
    "# Train Folder is 80% of total imgs i.e. 1,926 images.\n",
    "\n",
    "#src_dir = r'D:\\trimmed_dataset\\Normal' + '//'\n",
    "#target_dir = r'D:\\trimmed_dataset\\Train\\Normal' + '//'\n",
    "\n",
    "#count = 0\n",
    "\n",
    "#for img in glob.iglob(os.path.join(src_dir, \"*.png\")):\n",
    "    #shutil.move(img, target_dir)\n",
    "    #count += 1\n",
    "    #if count == 1926:\n",
    "        #break\n",
    "        \n",
    "        \n",
    "# Test Folder is 20% of total images i.e 482 images.\n",
    "\n",
    "#src_dir = r'D:\\trimmed_dataset\\Normal' + '//'\n",
    "#target_dir = r'D:\\trimmed_dataset\\Test\\Normal' + '//'\n",
    "\n",
    "#count = 0\n",
    "\n",
    "#for img in glob.iglob(os.path.join(src_dir, \"*.png\")):\n",
    "    #shutil.move(img, target_dir)\n",
    "    #count += 1\n",
    "    #if (count == 482):\n",
    "        #break\n"
   ]
  },
  {
   "cell_type": "markdown",
   "id": "actual-throw",
   "metadata": {},
   "source": [
    "## `Breast Cancer Detection`"
   ]
  },
  {
   "cell_type": "markdown",
   "id": "sealed-contrary",
   "metadata": {},
   "source": [
    "***"
   ]
  },
  {
   "cell_type": "code",
   "execution_count": null,
   "id": "postal-paraguay",
   "metadata": {},
   "outputs": [],
   "source": [
    "%config Completer.use_jedi = False \n",
    "import os\n",
    "os.listdir('D:/trimmed_dataset/')"
   ]
  },
  {
   "cell_type": "markdown",
   "id": "cordless-steam",
   "metadata": {},
   "source": [
    "### Import libs."
   ]
  },
  {
   "cell_type": "code",
   "execution_count": 2,
   "id": "molecular-government",
   "metadata": {},
   "outputs": [],
   "source": [
    "from keras.layers import Input, Lambda, Dense, Flatten \n",
    "from keras.models import Model\n",
    "from keras.applications.vgg16 import VGG16\n",
    "from keras.applications.vgg16 import preprocess_input\n",
    "from keras.preprocessing import image\n",
    "from keras.preprocessing.image import ImageDataGenerator\n",
    "from keras.models import Sequential\n",
    "import numpy as np\n",
    "from glob import glob\n",
    "import matplotlib.pyplot as plt\n",
    "import os"
   ]
  },
  {
   "cell_type": "markdown",
   "id": "neither-polls",
   "metadata": {},
   "source": [
    "### Resize images."
   ]
  },
  {
   "cell_type": "code",
   "execution_count": 4,
   "id": "shaped-label",
   "metadata": {},
   "outputs": [],
   "source": [
    "IMG_SIZE = [224, 224]\n",
    "\n",
    "train_path = 'D:/trimmed_dataset/Train'\n",
    "test_path = 'D:/trimmed_dataset/Test'"
   ]
  },
  {
   "cell_type": "markdown",
   "id": "chicken-society",
   "metadata": {},
   "source": [
    "### Model creation with VGG16"
   ]
  },
  {
   "cell_type": "code",
   "execution_count": 5,
   "id": "legal-zambia",
   "metadata": {},
   "outputs": [
    {
     "name": "stdout",
     "output_type": "stream",
     "text": [
      "A local file was found, but it seems to be incomplete or outdated because the auto file hash does not match the original value of 6d6bbae143d832006294945121d1f1fc so we will re-download the data.\n",
      "Downloading data from https://storage.googleapis.com/tensorflow/keras-applications/vgg16/vgg16_weights_tf_dim_ordering_tf_kernels_notop.h5\n",
      "58892288/58889256 [==============================] - 485s 8us/step\n"
     ]
    }
   ],
   "source": [
    "model = VGG16(input_shape = IMG_SIZE + [3], weights = 'imagenet', include_top = False)"
   ]
  },
  {
   "cell_type": "markdown",
   "id": "removed-kennedy",
   "metadata": {},
   "source": [
    "### Skip the trained weights"
   ]
  },
  {
   "cell_type": "code",
   "execution_count": 6,
   "id": "alike-youth",
   "metadata": {},
   "outputs": [],
   "source": [
    "for layer in model.layers:\n",
    "    layer.trainable = False"
   ]
  },
  {
   "cell_type": "markdown",
   "id": "hearing-astronomy",
   "metadata": {},
   "source": [
    "### Get output classes"
   ]
  },
  {
   "cell_type": "code",
   "execution_count": 8,
   "id": "lesbian-warrant",
   "metadata": {},
   "outputs": [
    {
     "data": {
      "text/plain": [
       "['D:/trimmed_dataset/Train\\\\Cancer', 'D:/trimmed_dataset/Train\\\\Normal']"
      ]
     },
     "execution_count": 8,
     "metadata": {},
     "output_type": "execute_result"
    }
   ],
   "source": [
    "folders = glob(train_path + '/*')\n",
    "folders"
   ]
  },
  {
   "cell_type": "markdown",
   "id": "respiratory-monitoring",
   "metadata": {},
   "source": [
    "### Make flatten layer to flatten current VGG output."
   ]
  },
  {
   "cell_type": "code",
   "execution_count": 9,
   "id": "divided-sucking",
   "metadata": {},
   "outputs": [],
   "source": [
    "x = Flatten()(model.output)"
   ]
  },
  {
   "cell_type": "markdown",
   "id": "boring-surgeon",
   "metadata": {},
   "source": [
    "### Adding last layer"
   ]
  },
  {
   "cell_type": "code",
   "execution_count": 10,
   "id": "recognized-excerpt",
   "metadata": {},
   "outputs": [],
   "source": [
    "prediction = Dense(len(folders), activation='softmax')(x)"
   ]
  },
  {
   "cell_type": "markdown",
   "id": "structural-lesbian",
   "metadata": {},
   "source": [
    "### Create a model object"
   ]
  },
  {
   "cell_type": "code",
   "execution_count": 11,
   "id": "wrapped-mouse",
   "metadata": {},
   "outputs": [],
   "source": [
    "model_obj = Model(inputs=model.input, outputs=prediction)"
   ]
  },
  {
   "cell_type": "markdown",
   "id": "acting-sphere",
   "metadata": {},
   "source": [
    "### The summary of the model."
   ]
  },
  {
   "cell_type": "code",
   "execution_count": 12,
   "id": "cardiovascular-pavilion",
   "metadata": {},
   "outputs": [
    {
     "name": "stdout",
     "output_type": "stream",
     "text": [
      "Model: \"functional_1\"\n",
      "_________________________________________________________________\n",
      "Layer (type)                 Output Shape              Param #   \n",
      "=================================================================\n",
      "input_1 (InputLayer)         [(None, 224, 224, 3)]     0         \n",
      "_________________________________________________________________\n",
      "block1_conv1 (Conv2D)        (None, 224, 224, 64)      1792      \n",
      "_________________________________________________________________\n",
      "block1_conv2 (Conv2D)        (None, 224, 224, 64)      36928     \n",
      "_________________________________________________________________\n",
      "block1_pool (MaxPooling2D)   (None, 112, 112, 64)      0         \n",
      "_________________________________________________________________\n",
      "block2_conv1 (Conv2D)        (None, 112, 112, 128)     73856     \n",
      "_________________________________________________________________\n",
      "block2_conv2 (Conv2D)        (None, 112, 112, 128)     147584    \n",
      "_________________________________________________________________\n",
      "block2_pool (MaxPooling2D)   (None, 56, 56, 128)       0         \n",
      "_________________________________________________________________\n",
      "block3_conv1 (Conv2D)        (None, 56, 56, 256)       295168    \n",
      "_________________________________________________________________\n",
      "block3_conv2 (Conv2D)        (None, 56, 56, 256)       590080    \n",
      "_________________________________________________________________\n",
      "block3_conv3 (Conv2D)        (None, 56, 56, 256)       590080    \n",
      "_________________________________________________________________\n",
      "block3_pool (MaxPooling2D)   (None, 28, 28, 256)       0         \n",
      "_________________________________________________________________\n",
      "block4_conv1 (Conv2D)        (None, 28, 28, 512)       1180160   \n",
      "_________________________________________________________________\n",
      "block4_conv2 (Conv2D)        (None, 28, 28, 512)       2359808   \n",
      "_________________________________________________________________\n",
      "block4_conv3 (Conv2D)        (None, 28, 28, 512)       2359808   \n",
      "_________________________________________________________________\n",
      "block4_pool (MaxPooling2D)   (None, 14, 14, 512)       0         \n",
      "_________________________________________________________________\n",
      "block5_conv1 (Conv2D)        (None, 14, 14, 512)       2359808   \n",
      "_________________________________________________________________\n",
      "block5_conv2 (Conv2D)        (None, 14, 14, 512)       2359808   \n",
      "_________________________________________________________________\n",
      "block5_conv3 (Conv2D)        (None, 14, 14, 512)       2359808   \n",
      "_________________________________________________________________\n",
      "block5_pool (MaxPooling2D)   (None, 7, 7, 512)         0         \n",
      "_________________________________________________________________\n",
      "flatten (Flatten)            (None, 25088)             0         \n",
      "_________________________________________________________________\n",
      "dense (Dense)                (None, 2)                 50178     \n",
      "=================================================================\n",
      "Total params: 14,764,866\n",
      "Trainable params: 50,178\n",
      "Non-trainable params: 14,714,688\n",
      "_________________________________________________________________\n"
     ]
    }
   ],
   "source": [
    "model_obj.summary()"
   ]
  },
  {
   "cell_type": "markdown",
   "id": "respected-allen",
   "metadata": {},
   "source": [
    "### Specifying cost and optimization methods."
   ]
  },
  {
   "cell_type": "code",
   "execution_count": 13,
   "id": "double-robert",
   "metadata": {},
   "outputs": [],
   "source": [
    "model_obj.compile(\n",
    "    loss='categorical_crossentropy',\n",
    "    optimizer = 'adam',\n",
    "    metrics = ['accuracy']\n",
    ")"
   ]
  },
  {
   "cell_type": "markdown",
   "id": "disabled-termination",
   "metadata": {},
   "source": [
    "### Use Image Data Generator to import the images."
   ]
  },
  {
   "cell_type": "code",
   "execution_count": 14,
   "id": "signal-orange",
   "metadata": {},
   "outputs": [],
   "source": [
    "train_datagen = ImageDataGenerator(rescale=1./255, shear_range=0.2, zoom_range=0.2, horizontal_flip=True)\n",
    "test_datagen = ImageDataGenerator(rescale=1./255)"
   ]
  },
  {
   "cell_type": "code",
   "execution_count": 15,
   "id": "theoretical-composition",
   "metadata": {},
   "outputs": [
    {
     "name": "stdout",
     "output_type": "stream",
     "text": [
      "Found 4098 images belonging to 2 classes.\n"
     ]
    }
   ],
   "source": [
    "training_set = train_datagen.flow_from_directory(train_path, target_size=(224,224), batch_size=32, class_mode='categorical')"
   ]
  },
  {
   "cell_type": "code",
   "execution_count": 16,
   "id": "broadband-shell",
   "metadata": {},
   "outputs": [
    {
     "data": {
      "text/plain": [
       "{'Cancer': 0, 'Normal': 1}"
      ]
     },
     "execution_count": 16,
     "metadata": {},
     "output_type": "execute_result"
    }
   ],
   "source": [
    "training_set.class_indices"
   ]
  },
  {
   "cell_type": "code",
   "execution_count": 17,
   "id": "nervous-principle",
   "metadata": {},
   "outputs": [
    {
     "name": "stdout",
     "output_type": "stream",
     "text": [
      "Found 1026 images belonging to 2 classes.\n"
     ]
    }
   ],
   "source": [
    "testing_set = test_datagen.flow_from_directory(test_path, target_size=(224,224), batch_size=32, class_mode='categorical')"
   ]
  },
  {
   "cell_type": "code",
   "execution_count": 18,
   "id": "contained-addiction",
   "metadata": {},
   "outputs": [
    {
     "data": {
      "text/plain": [
       "{'Cancer': 0, 'Normal': 1}"
      ]
     },
     "execution_count": 18,
     "metadata": {},
     "output_type": "execute_result"
    }
   ],
   "source": [
    "testing_set.class_indices"
   ]
  },
  {
   "cell_type": "code",
   "execution_count": null,
   "id": "least-wagner",
   "metadata": {},
   "outputs": [],
   "source": []
  }
 ],
 "metadata": {
  "kernelspec": {
   "display_name": "Python [conda env:DeepLearn] *",
   "language": "python",
   "name": "conda-env-DeepLearn-py"
  },
  "language_info": {
   "codemirror_mode": {
    "name": "ipython",
    "version": 3
   },
   "file_extension": ".py",
   "mimetype": "text/x-python",
   "name": "python",
   "nbconvert_exporter": "python",
   "pygments_lexer": "ipython3",
   "version": "3.8.8"
  }
 },
 "nbformat": 4,
 "nbformat_minor": 5
}
