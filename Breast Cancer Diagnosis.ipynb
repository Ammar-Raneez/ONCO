{
 "cells": [
  {
   "cell_type": "code",
   "execution_count": 4,
   "id": "friendly-updating",
   "metadata": {},
   "outputs": [],
   "source": [
    "#import os # only lib needed to cut the files\n",
    "#import glob # these two for splitting\n",
    "#import shutil\n",
    "#%config Completer.use_jedi = False # for auto complete to work this option needs to be disabled."
   ]
  },
  {
   "cell_type": "markdown",
   "id": "governmental-refund",
   "metadata": {},
   "source": [
    "## `Pre-Processing images`"
   ]
  },
  {
   "cell_type": "markdown",
   "id": "ahead-institute",
   "metadata": {},
   "source": [
    "***"
   ]
  },
  {
   "cell_type": "markdown",
   "id": "pending-packaging",
   "metadata": {},
   "source": [
    "### Move all images out of subfolders into 1 folder"
   ]
  },
  {
   "cell_type": "code",
   "execution_count": null,
   "id": "continent-payday",
   "metadata": {},
   "outputs": [],
   "source": [
    "# get images of the scans with cancer cells and cuts it to a folder, only need this to run ONCE.\n",
    "\n",
    "#src_dir = r'D:\\Breast Cancer Diagnosis\\Dataset\\Cancer' + '\\\\' # source folder with subfolders that contain the images\n",
    "#target_dir = r'D:\\trimmed_dataset\\Cancer'+ '\\\\' # destination which i am copying the files to\n",
    "\n",
    "#for path, dir, files in os.walk(src_dir): # loop through all files in the source folder\n",
    "    #if files: # subfolders\n",
    "        #for img in files: # loop through every image in every subfolder\n",
    "            #if not os.path.isfile(target_dir + img): #if not a duplicate\n",
    "                #os.rename(path + '\\\\' + img, target_dir + img) # cut to new folder\n",
    "        "
   ]
  },
  {
   "cell_type": "code",
   "execution_count": null,
   "id": "ordered-phenomenon",
   "metadata": {},
   "outputs": [],
   "source": [
    "# get images of the scans with normal cells and cuts it to a folder, only need this to run ONCE.\n",
    "\n",
    "#src_dir = r'D:\\Breast Cancer Diagnosis\\Dataset\\Normal' + '\\\\' # source folder with subfolders that contain the images\n",
    "#target_dir = r'D:\\trimmed_dataset\\Normal'+ '\\\\' # destination which i am copying the files to\n",
    "\n",
    "#for path, dir, files in os.walk(src_dir): # loop through all files in the source folder\n",
    "    #if files: # subfolders\n",
    "        #for img in files: # loop through every image in every subfolder\n",
    "            #if not os.path.isfile(target_dir + img): #if not a duplicate\n",
    "                #os.rename(path + '\\\\' + img, target_dir + img) # cut to new folder"
   ]
  },
  {
   "cell_type": "markdown",
   "id": "racial-diploma",
   "metadata": {},
   "source": [
    "### Split into Test and Train Folders"
   ]
  },
  {
   "cell_type": "code",
   "execution_count": null,
   "id": "immediate-arkansas",
   "metadata": {},
   "outputs": [],
   "source": [
    "# split the Cancer folder into train folder and test folders.\n",
    "\n",
    "# Train Folder is 80% of total imgs i.e. 2,172 images.\n",
    "\n",
    "#src_dir = r'D:\\trimmed_dataset\\Cancer' + '//'\n",
    "#target_dir = r'D:\\trimmed_dataset\\Train\\Cancer' + '//'\n",
    "\n",
    "#count = 0\n",
    "\n",
    "#for img in glob.iglob(os.path.join(src_dir, \"*.png\")):\n",
    "    #shutil.move(img, target_dir)\n",
    "    #count += 1\n",
    "    #if (count == 2172):\n",
    "        #break\n",
    "\n",
    "# Test Folder is 20% of total images i.e 544 images.\n",
    "\n",
    "#src_dir = r'D:\\trimmed_dataset\\Cancer' + '//'\n",
    "#target_dir = r'D:\\trimmed_dataset\\Test\\Cancer' + '//'\n",
    "\n",
    "#count = 0\n",
    "\n",
    "#for img in glob.iglob(os.path.join(src_dir, \"*.png\")):\n",
    "    #shutil.move(img, target_dir)\n",
    "    #count += 1\n",
    "    #if (count == 544):\n",
    "        #break\n"
   ]
  },
  {
   "cell_type": "code",
   "execution_count": 7,
   "id": "victorian-heavy",
   "metadata": {},
   "outputs": [],
   "source": [
    "# split the Cancer folder into train folder and test folders.\n",
    "\n",
    "# Train Folder is 80% of total imgs i.e. 1,926 images.\n",
    "\n",
    "#src_dir = r'D:\\trimmed_dataset\\Normal' + '//'\n",
    "#target_dir = r'D:\\trimmed_dataset\\Train\\Normal' + '//'\n",
    "\n",
    "#count = 0\n",
    "\n",
    "#for img in glob.iglob(os.path.join(src_dir, \"*.png\")):\n",
    "    #shutil.move(img, target_dir)\n",
    "    #count += 1\n",
    "    #if count == 1926:\n",
    "        #break\n",
    "        \n",
    "        \n",
    "# Test Folder is 20% of total images i.e 482 images.\n",
    "\n",
    "#src_dir = r'D:\\trimmed_dataset\\Normal' + '//'\n",
    "#target_dir = r'D:\\trimmed_dataset\\Test\\Normal' + '//'\n",
    "\n",
    "#count = 0\n",
    "\n",
    "#for img in glob.iglob(os.path.join(src_dir, \"*.png\")):\n",
    "    #shutil.move(img, target_dir)\n",
    "    #count += 1\n",
    "    #if (count == 482):\n",
    "        #break\n"
   ]
  },
  {
   "cell_type": "markdown",
   "id": "normal-heating",
   "metadata": {},
   "source": [
    "## `Breast Cancer Detection`"
   ]
  },
  {
   "cell_type": "markdown",
   "id": "completed-anthropology",
   "metadata": {},
   "source": [
    "***"
   ]
  },
  {
   "cell_type": "code",
   "execution_count": 9,
   "id": "meaning-extreme",
   "metadata": {},
   "outputs": [
    {
     "data": {
      "text/plain": [
       "['Test', 'Train']"
      ]
     },
     "execution_count": 9,
     "metadata": {},
     "output_type": "execute_result"
    }
   ],
   "source": [
    "%config Completer.use_jedi = False \n",
    "import os\n",
    "os.listdir('D:/trimmed_dataset/')"
   ]
  },
  {
   "cell_type": "markdown",
   "id": "essential-posting",
   "metadata": {},
   "source": [
    "### Import libs."
   ]
  },
  {
   "cell_type": "code",
   "execution_count": 10,
   "id": "foster-highland",
   "metadata": {},
   "outputs": [],
   "source": [
    "from keras.layers import Input, Lambda, Dense, Flatten \n",
    "from keras.models import Model\n",
    "from keras.applications.vgg16 import VGG16\n",
    "from keras.applications.vgg16 import preprocess_input\n",
    "from keras.preprocessing import image\n",
    "from keras.preprocessing.image import ImageDataGenerator\n",
    "from keras.models import Sequential\n",
    "import numpy as np\n",
    "from glob import glob\n",
    "import matplotlib.pyplot as plt\n",
    "import os"
   ]
  },
  {
   "cell_type": "markdown",
   "id": "improving-ontario",
   "metadata": {},
   "source": [
    "### Resize images."
   ]
  },
  {
   "cell_type": "code",
   "execution_count": 11,
   "id": "featured-scale",
   "metadata": {},
   "outputs": [],
   "source": [
    "IMG_SIZE = [224, 224]\n",
    "\n",
    "train_path = 'D:/trimmed_dataset/Train'\n",
    "test_path = 'D:/trimmed_dataset/Test'"
   ]
  },
  {
   "cell_type": "markdown",
   "id": "wicked-subsection",
   "metadata": {},
   "source": [
    "### Model creation with VGG16"
   ]
  },
  {
   "cell_type": "code",
   "execution_count": null,
   "id": "criminal-intelligence",
   "metadata": {},
   "outputs": [],
   "source": []
  }
 ],
 "metadata": {
  "kernelspec": {
   "display_name": "Python [conda env:DeepLearn] *",
   "language": "python",
   "name": "conda-env-DeepLearn-py"
  },
  "language_info": {
   "codemirror_mode": {
    "name": "ipython",
    "version": 3
   },
   "file_extension": ".py",
   "mimetype": "text/x-python",
   "name": "python",
   "nbconvert_exporter": "python",
   "pygments_lexer": "ipython3",
   "version": "3.8.8"
  }
 },
 "nbformat": 4,
 "nbformat_minor": 5
}
