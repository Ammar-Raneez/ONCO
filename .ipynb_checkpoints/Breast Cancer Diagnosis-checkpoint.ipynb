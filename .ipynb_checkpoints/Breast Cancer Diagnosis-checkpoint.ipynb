{
 "cells": [
  {
   "cell_type": "code",
   "execution_count": null,
   "id": "formed-howard",
   "metadata": {},
   "outputs": [],
   "source": [
    "#import os # only lib needed to cut the files\n",
    "import glob # these two for splitting\n",
    "import shutil\n",
    "%config Completer.use_jedi = False # for auto complete to work this option needs to be disabled I dont know why my pc is stupid."
   ]
  },
  {
   "cell_type": "markdown",
   "id": "thorough-unknown",
   "metadata": {},
   "source": [
    "### Move all images out of subfolders into 1 folder"
   ]
  },
  {
   "cell_type": "code",
   "execution_count": null,
   "id": "ambient-excuse",
   "metadata": {},
   "outputs": [],
   "source": [
    "# get images of the scans with cancer cells and cuts it to a folder, only need this to run ONCE.\n",
    "\n",
    "#src_dir = r'D:\\Breast Cancer Diagnosis\\Dataset\\Cancer' + '\\\\' # source folder with subfolders that contain the images\n",
    "#target_dir = r'D:\\trimmed_dataset\\Cancer'+ '\\\\' # destination which i am copying the files to\n",
    "\n",
    "#for path, dir, files in os.walk(src_dir): # loop through all files in the source folder\n",
    "    #if files: # subfolders\n",
    "        #for img in files: # loop through every image in every subfolder\n",
    "            #if not os.path.isfile(target_dir + img): #if not a duplicate\n",
    "                #os.rename(path + '\\\\' + img, target_dir + img) # cut to new folder\n",
    "        "
   ]
  },
  {
   "cell_type": "code",
   "execution_count": null,
   "id": "liable-contrast",
   "metadata": {},
   "outputs": [],
   "source": [
    "# get images of the scans with normal cells and cuts it to a folder, only need this to run ONCE.\n",
    "\n",
    "#src_dir = r'D:\\Breast Cancer Diagnosis\\Dataset\\Normal' + '\\\\' # source folder with subfolders that contain the images\n",
    "#target_dir = r'D:\\trimmed_dataset\\Normal'+ '\\\\' # destination which i am copying the files to\n",
    "\n",
    "#for path, dir, files in os.walk(src_dir): # loop through all files in the source folder\n",
    "    #if files: # subfolders\n",
    "        #for img in files: # loop through every image in every subfolder\n",
    "            #if not os.path.isfile(target_dir + img): #if not a duplicate\n",
    "                #os.rename(path + '\\\\' + img, target_dir + img) # cut to new folder"
   ]
  },
  {
   "cell_type": "code",
   "execution_count": null,
   "id": "global-olympus",
   "metadata": {},
   "outputs": [],
   "source": []
  },
  {
   "cell_type": "code",
   "execution_count": null,
   "id": "strange-israel",
   "metadata": {},
   "outputs": [],
   "source": []
  },
  {
   "cell_type": "code",
   "execution_count": null,
   "id": "close-prevention",
   "metadata": {},
   "outputs": [],
   "source": []
  },
  {
   "cell_type": "code",
   "execution_count": null,
   "id": "looking-universal",
   "metadata": {},
   "outputs": [],
   "source": []
  }
 ],
 "metadata": {
  "kernelspec": {
   "display_name": "Python [conda env:DeepLearn] *",
   "language": "python",
   "name": "conda-env-DeepLearn-py"
  },
  "language_info": {
   "codemirror_mode": {
    "name": "ipython",
    "version": 3
   },
   "file_extension": ".py",
   "mimetype": "text/x-python",
   "name": "python",
   "nbconvert_exporter": "python",
   "pygments_lexer": "ipython3",
   "version": "3.8.8"
  }
 },
 "nbformat": 4,
 "nbformat_minor": 5
}
