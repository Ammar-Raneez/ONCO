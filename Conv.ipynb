{
 "cells": [
  {
   "cell_type": "code",
   "execution_count": 1,
   "id": "small-youth",
   "metadata": {},
   "outputs": [],
   "source": [
    "import tensorflow as tf\n",
    "from tensorflow.keras.models import Sequential\n",
    "from tensorflow.keras.layers import Dense, Dropout, Activation, Flatten, Conv2D, MaxPooling2D, BatchNormalization\n",
    "import numpy as np\n",
    "import matplotlib.pyplot as plt\n",
    "from tensorflow.keras.callbacks import TensorBoard\n",
    "import time\n",
    "\n",
    "%config Completer.use_jedi = False "
   ]
  },
  {
   "cell_type": "code",
   "execution_count": 2,
   "id": "rapid-malaysia",
   "metadata": {},
   "outputs": [],
   "source": [
    "gpu_options = tf.compat.v1.GPUOptions(per_process_gpu_memory_fraction=0.333)\n",
    "sess = tf.compat.v1.Session(config = tf.compat.v1.ConfigProto(gpu_options=gpu_options))"
   ]
  },
  {
   "cell_type": "markdown",
   "id": "personal-analysis",
   "metadata": {},
   "source": [
    "### Load Data"
   ]
  },
  {
   "cell_type": "code",
   "execution_count": 3,
   "id": "familiar-pollution",
   "metadata": {},
   "outputs": [],
   "source": [
    "X = np.load(\"X.npy\")\n",
    "y = np.load(\"y.npy\")"
   ]
  },
  {
   "cell_type": "markdown",
   "id": "settled-hebrew",
   "metadata": {},
   "source": [
    "### Normalize features."
   ]
  },
  {
   "cell_type": "code",
   "execution_count": 4,
   "id": "respective-olive",
   "metadata": {},
   "outputs": [],
   "source": [
    "X = tf.keras.utils.normalize(X)"
   ]
  },
  {
   "cell_type": "markdown",
   "id": "short-yield",
   "metadata": {},
   "source": [
    "## `Model`"
   ]
  },
  {
   "cell_type": "code",
   "execution_count": 5,
   "id": "quiet-arizona",
   "metadata": {},
   "outputs": [
    {
     "name": "stdout",
     "output_type": "stream",
     "text": [
      "3-conv-128-nodes-1-dense-1618828380\n",
      "Epoch 1/8\n",
      "  1/100 [..............................] - ETA: 0s - loss: 0.6993 - accuracy: 0.3750WARNING:tensorflow:From D:\\Anaconda\\envs\\DeepLearn\\lib\\site-packages\\tensorflow\\python\\ops\\summary_ops_v2.py:1277: stop (from tensorflow.python.eager.profiler) is deprecated and will be removed after 2020-07-01.\n",
      "Instructions for updating:\n",
      "use `tf.profiler.experimental.stop` instead.\n",
      "  2/100 [..............................] - ETA: 1:04 - loss: 0.6337 - accuracy: 0.6042WARNING:tensorflow:Callbacks method `on_train_batch_end` is slow compared to the batch time (batch time: 0.4934s vs `on_train_batch_end` time: 0.7822s). Check your callbacks.\n",
      "100/100 [==============================] - 54s 536ms/step - loss: 0.6221 - accuracy: 0.6892 - val_loss: 0.6002 - val_accuracy: 0.7258\n",
      "Epoch 2/8\n",
      "100/100 [==============================] - 54s 535ms/step - loss: 0.6046 - accuracy: 0.7077 - val_loss: 0.5785 - val_accuracy: 0.7395\n",
      "Epoch 3/8\n",
      "100/100 [==============================] - 55s 553ms/step - loss: 0.5946 - accuracy: 0.7190 - val_loss: 0.5701 - val_accuracy: 0.7385\n",
      "Epoch 4/8\n",
      "100/100 [==============================] - 55s 552ms/step - loss: 0.5882 - accuracy: 0.7169 - val_loss: 0.5528 - val_accuracy: 0.7453\n",
      "Epoch 5/8\n",
      "100/100 [==============================] - 56s 558ms/step - loss: 0.5772 - accuracy: 0.7136 - val_loss: 0.5395 - val_accuracy: 0.7483\n",
      "Epoch 6/8\n",
      "100/100 [==============================] - 56s 560ms/step - loss: 0.5601 - accuracy: 0.7207 - val_loss: 0.5443 - val_accuracy: 0.7414\n",
      "Epoch 7/8\n",
      "100/100 [==============================] - 56s 564ms/step - loss: 0.5406 - accuracy: 0.7278 - val_loss: 0.5498 - val_accuracy: 0.7365\n",
      "Epoch 8/8\n",
      "100/100 [==============================] - 57s 575ms/step - loss: 0.5201 - accuracy: 0.7421 - val_loss: 0.5820 - val_accuracy: 0.7326\n"
     ]
    },
    {
     "data": {
      "text/plain": [
       "<tensorflow.python.keras.callbacks.History at 0x1f591567c70>"
      ]
     },
     "execution_count": 5,
     "metadata": {},
     "output_type": "execute_result"
    }
   ],
   "source": [
    "NAME = \"{}-conv-{}-nodes-{}-dense-{}\".format(3, 128, 1, int(time.time()))\n",
    "tensorboard = TensorBoard(log_dir='bcd_3logs')\n",
    "print(NAME)\n",
    "\n",
    "model = Sequential()\n",
    "\n",
    "model.add(Conv2D(128, (3,3), input_shape = X.shape[1:]))\n",
    "model.add(Activation('relu'))\n",
    "model.add(MaxPooling2D(2,2))\n",
    "\n",
    "model.add(Conv2D(128, (3,3)))\n",
    "model.add(Activation('relu'))\n",
    "model.add(MaxPooling2D(pool_size=(2,2)))\n",
    "\n",
    "model.add(Conv2D(128, (3,3)))\n",
    "model.add(Activation('relu'))\n",
    "model.add(MaxPooling2D(pool_size=(2,2)))\n",
    "\n",
    "model.add(Flatten())\n",
    "\n",
    "model.add(Dense(512))\n",
    "model.add(Activation('relu'))\n",
    "model.add(Dropout(0.2))\n",
    "\n",
    "\n",
    "model.add(Dense(1))\n",
    "model.add(Activation('sigmoid'))\n",
    "\n",
    "model.compile(loss='binary_crossentropy',\n",
    "              optimizer='adam',\n",
    "              metrics=['accuracy'])\n",
    "\n",
    "model.fit(X, y, batch_size=24, epochs=8, validation_split=0.3, callbacks=[tensorboard])\n",
    "\n"
   ]
  },
  {
   "cell_type": "markdown",
   "id": "falling-dealer",
   "metadata": {},
   "source": [
    "### Saving"
   ]
  },
  {
   "cell_type": "code",
   "execution_count": 6,
   "id": "interior-sport",
   "metadata": {},
   "outputs": [],
   "source": [
    "model.save('bcd_model.h5')"
   ]
  }
 ],
 "metadata": {
  "kernelspec": {
   "display_name": "Python [conda env:DeepLearn] *",
   "language": "python",
   "name": "conda-env-DeepLearn-py"
  },
  "language_info": {
   "codemirror_mode": {
    "name": "ipython",
    "version": 3
   },
   "file_extension": ".py",
   "mimetype": "text/x-python",
   "name": "python",
   "nbconvert_exporter": "python",
   "pygments_lexer": "ipython3",
   "version": "3.8.8"
  }
 },
 "nbformat": 4,
 "nbformat_minor": 5
}
