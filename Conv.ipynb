{
 "cells": [
  {
   "cell_type": "code",
   "execution_count": 2,
   "id": "small-youth",
   "metadata": {},
   "outputs": [],
   "source": [
    "import tensorflow as tf\n",
    "from tensorflow.keras.models import Sequential\n",
    "from tensorflow.keras.layers import Dense, Dropout, Activation, Flatten, Conv2D, MaxPooling2D, BatchNormalization\n",
    "import numpy as np\n",
    "import matplotlib.pyplot as plt\n",
    "from tensorflow.keras.callbacks import TensorBoard\n",
    "import time\n",
    "\n",
    "%config Completer.use_jedi = False "
   ]
  },
  {
   "cell_type": "code",
   "execution_count": 3,
   "id": "rapid-malaysia",
   "metadata": {},
   "outputs": [],
   "source": [
    "gpu_options = tf.compat.v1.GPUOptions(per_process_gpu_memory_fraction=0.333)\n",
    "sess = tf.compat.v1.Session(config = tf.compat.v1.ConfigProto(gpu_options=gpu_options))"
   ]
  },
  {
   "cell_type": "markdown",
   "id": "personal-analysis",
   "metadata": {},
   "source": [
    "### Load Data"
   ]
  },
  {
   "cell_type": "code",
   "execution_count": 4,
   "id": "familiar-pollution",
   "metadata": {},
   "outputs": [],
   "source": [
    "X = np.load(\"X.npy\")\n",
    "y = np.load(\"y.npy\")"
   ]
  },
  {
   "cell_type": "markdown",
   "id": "settled-hebrew",
   "metadata": {},
   "source": [
    "### Normalize features."
   ]
  },
  {
   "cell_type": "code",
   "execution_count": 5,
   "id": "respective-olive",
   "metadata": {},
   "outputs": [],
   "source": [
    "X = tf.keras.utils.normalize(X)"
   ]
  },
  {
   "cell_type": "markdown",
   "id": "short-yield",
   "metadata": {},
   "source": [
    "## `Model`"
   ]
  },
  {
   "cell_type": "code",
   "execution_count": 10,
   "id": "quiet-arizona",
   "metadata": {},
   "outputs": [
    {
     "name": "stdout",
     "output_type": "stream",
     "text": [
      "3-conv-128-nodes-1-dense-1618844665\n",
      "Epoch 1/12\n",
      "  2/100 [..............................] - ETA: 1:15 - loss: 1.3978 - accuracy: 0.6250WARNING:tensorflow:Callbacks method `on_train_batch_end` is slow compared to the batch time (batch time: 0.5276s vs `on_train_batch_end` time: 1.0206s). Check your callbacks.\n",
      "100/100 [==============================] - 58s 584ms/step - loss: 0.6404 - accuracy: 0.6884 - val_loss: 0.5866 - val_accuracy: 0.7316\n",
      "Epoch 2/12\n",
      "100/100 [==============================] - 58s 575ms/step - loss: 0.5984 - accuracy: 0.7127 - val_loss: 0.5694 - val_accuracy: 0.7375\n",
      "Epoch 3/12\n",
      "100/100 [==============================] - 58s 580ms/step - loss: 0.5934 - accuracy: 0.7119 - val_loss: 0.5610 - val_accuracy: 0.7424\n",
      "Epoch 4/12\n",
      "100/100 [==============================] - 59s 589ms/step - loss: 0.5885 - accuracy: 0.7161 - val_loss: 0.5776 - val_accuracy: 0.7218\n",
      "Epoch 5/12\n",
      "100/100 [==============================] - 58s 580ms/step - loss: 0.5708 - accuracy: 0.7148 - val_loss: 0.5448 - val_accuracy: 0.7316\n",
      "Epoch 6/12\n",
      "100/100 [==============================] - 59s 590ms/step - loss: 0.5616 - accuracy: 0.7228 - val_loss: 0.5498 - val_accuracy: 0.7307\n",
      "Epoch 7/12\n",
      "100/100 [==============================] - 59s 587ms/step - loss: 0.5476 - accuracy: 0.7253 - val_loss: 0.5548 - val_accuracy: 0.7326\n",
      "Epoch 8/12\n",
      "100/100 [==============================] - 59s 587ms/step - loss: 0.5414 - accuracy: 0.7287 - val_loss: 0.5505 - val_accuracy: 0.7297\n",
      "Epoch 9/12\n",
      "100/100 [==============================] - 59s 587ms/step - loss: 0.5265 - accuracy: 0.7383 - val_loss: 0.5672 - val_accuracy: 0.7248\n",
      "Epoch 10/12\n",
      "100/100 [==============================] - 60s 603ms/step - loss: 0.5075 - accuracy: 0.7476 - val_loss: 0.5944 - val_accuracy: 0.7277\n",
      "Epoch 11/12\n",
      "100/100 [==============================] - 62s 616ms/step - loss: 0.4885 - accuracy: 0.7564 - val_loss: 0.6727 - val_accuracy: 0.7277\n",
      "Epoch 12/12\n",
      "100/100 [==============================] - 60s 600ms/step - loss: 0.4793 - accuracy: 0.7635 - val_loss: 0.6978 - val_accuracy: 0.7169\n"
     ]
    },
    {
     "data": {
      "text/plain": [
       "<tensorflow.python.keras.callbacks.History at 0x15b9a666610>"
      ]
     },
     "execution_count": 10,
     "metadata": {},
     "output_type": "execute_result"
    }
   ],
   "source": [
    "NAME = \"{}-conv-{}-nodes-{}-dense-{}\".format(3, 128, 1, int(time.time()))\n",
    "tensorboard = TensorBoard(log_dir='bcd_3logs')\n",
    "print(NAME)\n",
    "\n",
    "model = Sequential()\n",
    "\n",
    "model.add(Conv2D(128, (3,3), input_shape = X.shape[1:]))\n",
    "model.add(Activation('relu'))\n",
    "model.add(MaxPooling2D(2,2))\n",
    "\n",
    "model.add(Conv2D(128, (3,3)))\n",
    "model.add(Activation('relu'))\n",
    "model.add(MaxPooling2D(pool_size=(2,2)))\n",
    "\n",
    "model.add(Conv2D(128, (3,3)))\n",
    "model.add(Activation('relu'))\n",
    "model.add(MaxPooling2D(pool_size=(2,2)))\n",
    "\n",
    "model.add(Flatten())\n",
    "\n",
    "model.add(Dense(512))\n",
    "model.add(Activation('relu'))\n",
    "model.add(Dropout(0.2))\n",
    "\n",
    "\n",
    "model.add(Dense(1))\n",
    "model.add(Activation('sigmoid'))\n",
    "\n",
    "opt = tf.keras.optimizers.Adam(learning_rate=0.001)\n",
    "\n",
    "model.compile(loss='binary_crossentropy',\n",
    "              optimizer=opt,\n",
    "              metrics=['accuracy'])\n",
    "\n",
    "model.fit(X, y, batch_size=24, epochs=12, validation_split=0.3, callbacks=[tensorboard])\n",
    "\n"
   ]
  },
  {
   "cell_type": "markdown",
   "id": "falling-dealer",
   "metadata": {},
   "source": [
    "### Saving"
   ]
  },
  {
   "cell_type": "code",
   "execution_count": 11,
   "id": "interior-sport",
   "metadata": {},
   "outputs": [],
   "source": [
    "model.save('bcd_model.h5')"
   ]
  },
  {
   "cell_type": "markdown",
   "id": "median-clark",
   "metadata": {},
   "source": [
    "### Testing\n"
   ]
  },
  {
   "cell_type": "code",
   "execution_count": 17,
   "id": "funky-watch",
   "metadata": {},
   "outputs": [],
   "source": [
    "import cv2\n",
    "import tensorflow as tf\n",
    "\n",
    "CATEGORIES = [\"Cancer\", \"Normal\"]\n",
    "\n",
    "def prepare(filepath):\n",
    "    IMG_SIZE = 100\n",
    "    img_arr = cv2.imread(filepath, cv2.IMREAD_GRAYSCALE)\n",
    "    new_arr = cv2.resize(img_arr, (IMG_SIZE, IMG_SIZE))\n",
    "    return new_arr.reshape(-1, IMG_SIZE, IMG_SIZE, 1)\n",
    "\n",
    "model = tf.keras.models.load_model('bcd_model.h5')"
   ]
  },
  {
   "cell_type": "code",
   "execution_count": 18,
   "id": "ambient-yeast",
   "metadata": {},
   "outputs": [
    {
     "name": "stdout",
     "output_type": "stream",
     "text": [
      "Cancer\n",
      "0\n"
     ]
    }
   ],
   "source": [
    "prediction = model.predict([prepare('test_samples/Cancer/c_2.png')])\n",
    "print(CATEGORIES[int(prediction[0][0])])\n",
    "print(int(prediction[0][0]))"
   ]
  },
  {
   "cell_type": "code",
   "execution_count": 19,
   "id": "acquired-certification",
   "metadata": {},
   "outputs": [
    {
     "name": "stdout",
     "output_type": "stream",
     "text": [
      "Normal\n",
      "1\n"
     ]
    }
   ],
   "source": [
    "prediction = model.predict([prepare('test_samples/Normal/n_1.png')])\n",
    "print(CATEGORIES[int(prediction[0][0])])\n",
    "print(int(prediction[0][0]))"
   ]
  },
  {
   "cell_type": "code",
   "execution_count": null,
   "id": "particular-stopping",
   "metadata": {},
   "outputs": [],
   "source": []
  },
  {
   "cell_type": "code",
   "execution_count": null,
   "id": "satisfactory-toolbox",
   "metadata": {},
   "outputs": [],
   "source": []
  }
 ],
 "metadata": {
  "kernelspec": {
   "display_name": "Python [conda env:DeepLearn] *",
   "language": "python",
   "name": "conda-env-DeepLearn-py"
  },
  "language_info": {
   "codemirror_mode": {
    "name": "ipython",
    "version": 3
   },
   "file_extension": ".py",
   "mimetype": "text/x-python",
   "name": "python",
   "nbconvert_exporter": "python",
   "pygments_lexer": "ipython3",
   "version": "3.8.8"
  }
 },
 "nbformat": 4,
 "nbformat_minor": 5
}
