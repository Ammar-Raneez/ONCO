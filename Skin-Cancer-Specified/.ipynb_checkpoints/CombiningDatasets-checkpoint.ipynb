{
 "cells": [
  {
   "cell_type": "code",
   "execution_count": 1,
   "metadata": {},
   "outputs": [],
   "source": [
    "import pandas as pd\n",
    "import numpy as np\n",
    "from tqdm import tqdm"
   ]
  },
  {
   "cell_type": "code",
   "execution_count": 24,
   "metadata": {
    "scrolled": true
   },
   "outputs": [
    {
     "data": {
      "text/html": [
       "<div>\n",
       "<style scoped>\n",
       "    .dataframe tbody tr th:only-of-type {\n",
       "        vertical-align: middle;\n",
       "    }\n",
       "\n",
       "    .dataframe tbody tr th {\n",
       "        vertical-align: top;\n",
       "    }\n",
       "\n",
       "    .dataframe thead th {\n",
       "        text-align: right;\n",
       "    }\n",
       "</style>\n",
       "<table border=\"1\" class=\"dataframe\">\n",
       "  <thead>\n",
       "    <tr style=\"text-align: right;\">\n",
       "      <th></th>\n",
       "      <th>MEL</th>\n",
       "      <th>NV</th>\n",
       "      <th>BCC</th>\n",
       "      <th>AK</th>\n",
       "      <th>BKL</th>\n",
       "      <th>DF</th>\n",
       "      <th>VASC</th>\n",
       "      <th>SCC</th>\n",
       "      <th>UNK</th>\n",
       "    </tr>\n",
       "    <tr>\n",
       "      <th>image</th>\n",
       "      <th></th>\n",
       "      <th></th>\n",
       "      <th></th>\n",
       "      <th></th>\n",
       "      <th></th>\n",
       "      <th></th>\n",
       "      <th></th>\n",
       "      <th></th>\n",
       "      <th></th>\n",
       "    </tr>\n",
       "  </thead>\n",
       "  <tbody>\n",
       "    <tr>\n",
       "      <th>ISIC_0000000</th>\n",
       "      <td>0.0</td>\n",
       "      <td>1.0</td>\n",
       "      <td>0.0</td>\n",
       "      <td>0.0</td>\n",
       "      <td>0.0</td>\n",
       "      <td>0.0</td>\n",
       "      <td>0.0</td>\n",
       "      <td>0.0</td>\n",
       "      <td>0.0</td>\n",
       "    </tr>\n",
       "    <tr>\n",
       "      <th>ISIC_0000001</th>\n",
       "      <td>0.0</td>\n",
       "      <td>1.0</td>\n",
       "      <td>0.0</td>\n",
       "      <td>0.0</td>\n",
       "      <td>0.0</td>\n",
       "      <td>0.0</td>\n",
       "      <td>0.0</td>\n",
       "      <td>0.0</td>\n",
       "      <td>0.0</td>\n",
       "    </tr>\n",
       "    <tr>\n",
       "      <th>ISIC_0000002</th>\n",
       "      <td>1.0</td>\n",
       "      <td>0.0</td>\n",
       "      <td>0.0</td>\n",
       "      <td>0.0</td>\n",
       "      <td>0.0</td>\n",
       "      <td>0.0</td>\n",
       "      <td>0.0</td>\n",
       "      <td>0.0</td>\n",
       "      <td>0.0</td>\n",
       "    </tr>\n",
       "    <tr>\n",
       "      <th>ISIC_0000003</th>\n",
       "      <td>0.0</td>\n",
       "      <td>1.0</td>\n",
       "      <td>0.0</td>\n",
       "      <td>0.0</td>\n",
       "      <td>0.0</td>\n",
       "      <td>0.0</td>\n",
       "      <td>0.0</td>\n",
       "      <td>0.0</td>\n",
       "      <td>0.0</td>\n",
       "    </tr>\n",
       "    <tr>\n",
       "      <th>ISIC_0000004</th>\n",
       "      <td>1.0</td>\n",
       "      <td>0.0</td>\n",
       "      <td>0.0</td>\n",
       "      <td>0.0</td>\n",
       "      <td>0.0</td>\n",
       "      <td>0.0</td>\n",
       "      <td>0.0</td>\n",
       "      <td>0.0</td>\n",
       "      <td>0.0</td>\n",
       "    </tr>\n",
       "  </tbody>\n",
       "</table>\n",
       "</div>"
      ],
      "text/plain": [
       "              MEL   NV  BCC   AK  BKL   DF  VASC  SCC  UNK\n",
       "image                                                     \n",
       "ISIC_0000000  0.0  1.0  0.0  0.0  0.0  0.0   0.0  0.0  0.0\n",
       "ISIC_0000001  0.0  1.0  0.0  0.0  0.0  0.0   0.0  0.0  0.0\n",
       "ISIC_0000002  1.0  0.0  0.0  0.0  0.0  0.0   0.0  0.0  0.0\n",
       "ISIC_0000003  0.0  1.0  0.0  0.0  0.0  0.0   0.0  0.0  0.0\n",
       "ISIC_0000004  1.0  0.0  0.0  0.0  0.0  0.0   0.0  0.0  0.0"
      ]
     },
     "execution_count": 24,
     "metadata": {},
     "output_type": "execute_result"
    }
   ],
   "source": [
    "#Read in ISIC 19 dataset\n",
    "df_isic = pd.read_csv(\"../../Skin cancer stuff/datasets/ISIC 2019/ISIC_2019_Training_GroundTruth.csv\", index_col='image')\n",
    "df_isic.head()"
   ]
  },
  {
   "cell_type": "code",
   "execution_count": 25,
   "metadata": {},
   "outputs": [
    {
     "data": {
      "text/html": [
       "<div>\n",
       "<style scoped>\n",
       "    .dataframe tbody tr th:only-of-type {\n",
       "        vertical-align: middle;\n",
       "    }\n",
       "\n",
       "    .dataframe tbody tr th {\n",
       "        vertical-align: top;\n",
       "    }\n",
       "\n",
       "    .dataframe thead th {\n",
       "        text-align: right;\n",
       "    }\n",
       "</style>\n",
       "<table border=\"1\" class=\"dataframe\">\n",
       "  <thead>\n",
       "    <tr style=\"text-align: right;\">\n",
       "      <th></th>\n",
       "      <th>lesion_id</th>\n",
       "      <th>image_id</th>\n",
       "      <th>dx</th>\n",
       "      <th>dx_type</th>\n",
       "      <th>age</th>\n",
       "      <th>sex</th>\n",
       "      <th>localization</th>\n",
       "    </tr>\n",
       "  </thead>\n",
       "  <tbody>\n",
       "    <tr>\n",
       "      <th>0</th>\n",
       "      <td>HAM_0000118</td>\n",
       "      <td>ISIC_0027419</td>\n",
       "      <td>bkl</td>\n",
       "      <td>histo</td>\n",
       "      <td>80.0</td>\n",
       "      <td>male</td>\n",
       "      <td>scalp</td>\n",
       "    </tr>\n",
       "    <tr>\n",
       "      <th>1</th>\n",
       "      <td>HAM_0000118</td>\n",
       "      <td>ISIC_0025030</td>\n",
       "      <td>bkl</td>\n",
       "      <td>histo</td>\n",
       "      <td>80.0</td>\n",
       "      <td>male</td>\n",
       "      <td>scalp</td>\n",
       "    </tr>\n",
       "    <tr>\n",
       "      <th>2</th>\n",
       "      <td>HAM_0002730</td>\n",
       "      <td>ISIC_0026769</td>\n",
       "      <td>bkl</td>\n",
       "      <td>histo</td>\n",
       "      <td>80.0</td>\n",
       "      <td>male</td>\n",
       "      <td>scalp</td>\n",
       "    </tr>\n",
       "    <tr>\n",
       "      <th>3</th>\n",
       "      <td>HAM_0002730</td>\n",
       "      <td>ISIC_0025661</td>\n",
       "      <td>bkl</td>\n",
       "      <td>histo</td>\n",
       "      <td>80.0</td>\n",
       "      <td>male</td>\n",
       "      <td>scalp</td>\n",
       "    </tr>\n",
       "    <tr>\n",
       "      <th>4</th>\n",
       "      <td>HAM_0001466</td>\n",
       "      <td>ISIC_0031633</td>\n",
       "      <td>bkl</td>\n",
       "      <td>histo</td>\n",
       "      <td>75.0</td>\n",
       "      <td>male</td>\n",
       "      <td>ear</td>\n",
       "    </tr>\n",
       "  </tbody>\n",
       "</table>\n",
       "</div>"
      ],
      "text/plain": [
       "     lesion_id      image_id   dx dx_type   age   sex localization\n",
       "0  HAM_0000118  ISIC_0027419  bkl   histo  80.0  male        scalp\n",
       "1  HAM_0000118  ISIC_0025030  bkl   histo  80.0  male        scalp\n",
       "2  HAM_0002730  ISIC_0026769  bkl   histo  80.0  male        scalp\n",
       "3  HAM_0002730  ISIC_0025661  bkl   histo  80.0  male        scalp\n",
       "4  HAM_0001466  ISIC_0031633  bkl   histo  75.0  male          ear"
      ]
     },
     "execution_count": 25,
     "metadata": {},
     "output_type": "execute_result"
    }
   ],
   "source": [
    "#Read in HAM10000 dataset\n",
    "df_ham = pd.read_csv(\"../../Skin cancer stuff/datasets/HAM10000/HAM10000_metadata.csv\")\n",
    "df_ham.head()"
   ]
  },
  {
   "cell_type": "markdown",
   "metadata": {},
   "source": [
    "# Start combination"
   ]
  },
  {
   "cell_type": "code",
   "execution_count": 26,
   "metadata": {},
   "outputs": [],
   "source": [
    "isic_dataset_columns = {\n",
    "    'image_id': [],\n",
    "    'target': [],\n",
    "    'source': []\n",
    "}"
   ]
  },
  {
   "cell_type": "code",
   "execution_count": 27,
   "metadata": {},
   "outputs": [
    {
     "name": "stderr",
     "output_type": "stream",
     "text": [
      "100%|██████████| 25331/25331 [00:55<00:00, 454.33it/s]\n"
     ]
    }
   ],
   "source": [
    "df_isic_meta = pd.read_csv('../../Skin cancer stuff/datasets/ISIC 2019/ISIC_2019_Training_Metadata.csv', index_col='image')\n",
    "\n",
    "for image_id, row in tqdm(df_isic_meta.iterrows(), total = df_isic_meta.shape[0]):\n",
    "    if image_id in isic_dataset_columns['image_id']:\n",
    "        continue\n",
    "        \n",
    "    #ignoring squamous cell carcinoma\n",
    "    scc = int(df_isic.loc[image_id]['SCC'])\n",
    "    if scc:\n",
    "        continue\n",
    "\n",
    "    isic_dataset_columns['image_id'].append(image_id)\n",
    "    \n",
    "    mel = int(df_isic.loc[image_id]['MEL'])\n",
    "    nev = int(df_isic.loc[image_id]['NV'])\n",
    "    bcc = int(df_isic.loc[image_id]['BCC'])\n",
    "    ak = int(df_isic.loc[image_id]['AK'])\n",
    "    bkl = int(df_isic.loc[image_id]['BKL'])\n",
    "    df = int(df_isic.loc[image_id]['DF'])\n",
    "    vasc = int(df_isic.loc[image_id]['VASC'])\n",
    "    if mel:\n",
    "        isic_dataset_columns['target'].append('mel')\n",
    "    elif nev:\n",
    "        isic_dataset_columns['target'].append('nev')\n",
    "    elif bcc:\n",
    "        isic_dataset_columns['target'].append('bcc')\n",
    "    elif ak:\n",
    "        isic_dataset_columns['target'].append('ak')\n",
    "    elif bkl:\n",
    "        isic_dataset_columns['target'].append('bkl')\n",
    "    elif df:\n",
    "        isic_dataset_columns['target'].append('df')\n",
    "    elif vasc:\n",
    "        isic_dataset_columns['target'].append('vasc')\n",
    "    \n",
    "    isic_dataset_columns['source'].append('ISIC19')"
   ]
  },
  {
   "cell_type": "code",
   "execution_count": 30,
   "metadata": {
    "scrolled": false
   },
   "outputs": [],
   "source": [
    "isic_dataset = pd.DataFrame(isic_dataset_columns).set_index('image_id')"
   ]
  },
  {
   "cell_type": "code",
   "execution_count": 31,
   "metadata": {
    "scrolled": true
   },
   "outputs": [
    {
     "data": {
      "text/html": [
       "<div>\n",
       "<style scoped>\n",
       "    .dataframe tbody tr th:only-of-type {\n",
       "        vertical-align: middle;\n",
       "    }\n",
       "\n",
       "    .dataframe tbody tr th {\n",
       "        vertical-align: top;\n",
       "    }\n",
       "\n",
       "    .dataframe thead th {\n",
       "        text-align: right;\n",
       "    }\n",
       "</style>\n",
       "<table border=\"1\" class=\"dataframe\">\n",
       "  <thead>\n",
       "    <tr style=\"text-align: right;\">\n",
       "      <th></th>\n",
       "      <th>target</th>\n",
       "      <th>source</th>\n",
       "    </tr>\n",
       "    <tr>\n",
       "      <th>image_id</th>\n",
       "      <th></th>\n",
       "      <th></th>\n",
       "    </tr>\n",
       "  </thead>\n",
       "  <tbody>\n",
       "    <tr>\n",
       "      <th>ISIC_0000000</th>\n",
       "      <td>nev</td>\n",
       "      <td>ISIC19</td>\n",
       "    </tr>\n",
       "    <tr>\n",
       "      <th>ISIC_0000001</th>\n",
       "      <td>nev</td>\n",
       "      <td>ISIC19</td>\n",
       "    </tr>\n",
       "    <tr>\n",
       "      <th>ISIC_0000002</th>\n",
       "      <td>mel</td>\n",
       "      <td>ISIC19</td>\n",
       "    </tr>\n",
       "    <tr>\n",
       "      <th>ISIC_0000003</th>\n",
       "      <td>nev</td>\n",
       "      <td>ISIC19</td>\n",
       "    </tr>\n",
       "    <tr>\n",
       "      <th>ISIC_0000004</th>\n",
       "      <td>mel</td>\n",
       "      <td>ISIC19</td>\n",
       "    </tr>\n",
       "  </tbody>\n",
       "</table>\n",
       "</div>"
      ],
      "text/plain": [
       "             target  source\n",
       "image_id                   \n",
       "ISIC_0000000    nev  ISIC19\n",
       "ISIC_0000001    nev  ISIC19\n",
       "ISIC_0000002    mel  ISIC19\n",
       "ISIC_0000003    nev  ISIC19\n",
       "ISIC_0000004    mel  ISIC19"
      ]
     },
     "execution_count": 31,
     "metadata": {},
     "output_type": "execute_result"
    }
   ],
   "source": [
    "isic_dataset.head()"
   ]
  },
  {
   "cell_type": "code",
   "execution_count": 32,
   "metadata": {},
   "outputs": [],
   "source": [
    "isic_dataset['image'] = isic_dataset.index"
   ]
  },
  {
   "cell_type": "code",
   "execution_count": 35,
   "metadata": {},
   "outputs": [],
   "source": [
    "isic_dataset.to_csv('../../Skin cancer stuff/datasets/ISIC 2019/prepped_isic2019.csv')"
   ]
  },
  {
   "cell_type": "code",
   "execution_count": 36,
   "metadata": {},
   "outputs": [],
   "source": [
    "del df_ham['dx_type']\n",
    "del df_ham['sex']\n",
    "del df_ham['age']\n",
    "del df_ham['localization']\n",
    "del df_ham['lesion_id']"
   ]
  },
  {
   "cell_type": "code",
   "execution_count": 37,
   "metadata": {},
   "outputs": [
    {
     "data": {
      "text/html": [
       "<div>\n",
       "<style scoped>\n",
       "    .dataframe tbody tr th:only-of-type {\n",
       "        vertical-align: middle;\n",
       "    }\n",
       "\n",
       "    .dataframe tbody tr th {\n",
       "        vertical-align: top;\n",
       "    }\n",
       "\n",
       "    .dataframe thead th {\n",
       "        text-align: right;\n",
       "    }\n",
       "</style>\n",
       "<table border=\"1\" class=\"dataframe\">\n",
       "  <thead>\n",
       "    <tr style=\"text-align: right;\">\n",
       "      <th></th>\n",
       "      <th>image_id</th>\n",
       "      <th>dx</th>\n",
       "    </tr>\n",
       "  </thead>\n",
       "  <tbody>\n",
       "    <tr>\n",
       "      <th>0</th>\n",
       "      <td>ISIC_0027419</td>\n",
       "      <td>bkl</td>\n",
       "    </tr>\n",
       "    <tr>\n",
       "      <th>1</th>\n",
       "      <td>ISIC_0025030</td>\n",
       "      <td>bkl</td>\n",
       "    </tr>\n",
       "    <tr>\n",
       "      <th>2</th>\n",
       "      <td>ISIC_0026769</td>\n",
       "      <td>bkl</td>\n",
       "    </tr>\n",
       "    <tr>\n",
       "      <th>3</th>\n",
       "      <td>ISIC_0025661</td>\n",
       "      <td>bkl</td>\n",
       "    </tr>\n",
       "    <tr>\n",
       "      <th>4</th>\n",
       "      <td>ISIC_0031633</td>\n",
       "      <td>bkl</td>\n",
       "    </tr>\n",
       "  </tbody>\n",
       "</table>\n",
       "</div>"
      ],
      "text/plain": [
       "       image_id   dx\n",
       "0  ISIC_0027419  bkl\n",
       "1  ISIC_0025030  bkl\n",
       "2  ISIC_0026769  bkl\n",
       "3  ISIC_0025661  bkl\n",
       "4  ISIC_0031633  bkl"
      ]
     },
     "execution_count": 37,
     "metadata": {},
     "output_type": "execute_result"
    }
   ],
   "source": [
    "df_ham.head()"
   ]
  },
  {
   "cell_type": "code",
   "execution_count": 38,
   "metadata": {},
   "outputs": [],
   "source": [
    "df_ham['source'] = 'HAM10000'\n",
    "df_ham['image'] = df_ham['image_id']"
   ]
  },
  {
   "cell_type": "code",
   "execution_count": 39,
   "metadata": {
    "scrolled": true
   },
   "outputs": [
    {
     "data": {
      "text/html": [
       "<div>\n",
       "<style scoped>\n",
       "    .dataframe tbody tr th:only-of-type {\n",
       "        vertical-align: middle;\n",
       "    }\n",
       "\n",
       "    .dataframe tbody tr th {\n",
       "        vertical-align: top;\n",
       "    }\n",
       "\n",
       "    .dataframe thead th {\n",
       "        text-align: right;\n",
       "    }\n",
       "</style>\n",
       "<table border=\"1\" class=\"dataframe\">\n",
       "  <thead>\n",
       "    <tr style=\"text-align: right;\">\n",
       "      <th></th>\n",
       "      <th>image_id</th>\n",
       "      <th>dx</th>\n",
       "      <th>source</th>\n",
       "      <th>image</th>\n",
       "    </tr>\n",
       "  </thead>\n",
       "  <tbody>\n",
       "    <tr>\n",
       "      <th>0</th>\n",
       "      <td>ISIC_0027419</td>\n",
       "      <td>bkl</td>\n",
       "      <td>HAM10000</td>\n",
       "      <td>ISIC_0027419</td>\n",
       "    </tr>\n",
       "    <tr>\n",
       "      <th>1</th>\n",
       "      <td>ISIC_0025030</td>\n",
       "      <td>bkl</td>\n",
       "      <td>HAM10000</td>\n",
       "      <td>ISIC_0025030</td>\n",
       "    </tr>\n",
       "    <tr>\n",
       "      <th>2</th>\n",
       "      <td>ISIC_0026769</td>\n",
       "      <td>bkl</td>\n",
       "      <td>HAM10000</td>\n",
       "      <td>ISIC_0026769</td>\n",
       "    </tr>\n",
       "    <tr>\n",
       "      <th>3</th>\n",
       "      <td>ISIC_0025661</td>\n",
       "      <td>bkl</td>\n",
       "      <td>HAM10000</td>\n",
       "      <td>ISIC_0025661</td>\n",
       "    </tr>\n",
       "    <tr>\n",
       "      <th>4</th>\n",
       "      <td>ISIC_0031633</td>\n",
       "      <td>bkl</td>\n",
       "      <td>HAM10000</td>\n",
       "      <td>ISIC_0031633</td>\n",
       "    </tr>\n",
       "  </tbody>\n",
       "</table>\n",
       "</div>"
      ],
      "text/plain": [
       "       image_id   dx    source         image\n",
       "0  ISIC_0027419  bkl  HAM10000  ISIC_0027419\n",
       "1  ISIC_0025030  bkl  HAM10000  ISIC_0025030\n",
       "2  ISIC_0026769  bkl  HAM10000  ISIC_0026769\n",
       "3  ISIC_0025661  bkl  HAM10000  ISIC_0025661\n",
       "4  ISIC_0031633  bkl  HAM10000  ISIC_0031633"
      ]
     },
     "execution_count": 39,
     "metadata": {},
     "output_type": "execute_result"
    }
   ],
   "source": [
    "df_ham.head()"
   ]
  },
  {
   "cell_type": "code",
   "execution_count": 41,
   "metadata": {},
   "outputs": [],
   "source": [
    "df_ham.columns = ['image_id', 'target', 'source', 'image']"
   ]
  },
  {
   "cell_type": "code",
   "execution_count": 42,
   "metadata": {},
   "outputs": [
    {
     "data": {
      "text/html": [
       "<div>\n",
       "<style scoped>\n",
       "    .dataframe tbody tr th:only-of-type {\n",
       "        vertical-align: middle;\n",
       "    }\n",
       "\n",
       "    .dataframe tbody tr th {\n",
       "        vertical-align: top;\n",
       "    }\n",
       "\n",
       "    .dataframe thead th {\n",
       "        text-align: right;\n",
       "    }\n",
       "</style>\n",
       "<table border=\"1\" class=\"dataframe\">\n",
       "  <thead>\n",
       "    <tr style=\"text-align: right;\">\n",
       "      <th></th>\n",
       "      <th>image_id</th>\n",
       "      <th>target</th>\n",
       "      <th>source</th>\n",
       "      <th>image</th>\n",
       "    </tr>\n",
       "  </thead>\n",
       "  <tbody>\n",
       "    <tr>\n",
       "      <th>0</th>\n",
       "      <td>ISIC_0027419</td>\n",
       "      <td>bkl</td>\n",
       "      <td>HAM10000</td>\n",
       "      <td>ISIC_0027419</td>\n",
       "    </tr>\n",
       "    <tr>\n",
       "      <th>1</th>\n",
       "      <td>ISIC_0025030</td>\n",
       "      <td>bkl</td>\n",
       "      <td>HAM10000</td>\n",
       "      <td>ISIC_0025030</td>\n",
       "    </tr>\n",
       "    <tr>\n",
       "      <th>2</th>\n",
       "      <td>ISIC_0026769</td>\n",
       "      <td>bkl</td>\n",
       "      <td>HAM10000</td>\n",
       "      <td>ISIC_0026769</td>\n",
       "    </tr>\n",
       "    <tr>\n",
       "      <th>3</th>\n",
       "      <td>ISIC_0025661</td>\n",
       "      <td>bkl</td>\n",
       "      <td>HAM10000</td>\n",
       "      <td>ISIC_0025661</td>\n",
       "    </tr>\n",
       "    <tr>\n",
       "      <th>4</th>\n",
       "      <td>ISIC_0031633</td>\n",
       "      <td>bkl</td>\n",
       "      <td>HAM10000</td>\n",
       "      <td>ISIC_0031633</td>\n",
       "    </tr>\n",
       "  </tbody>\n",
       "</table>\n",
       "</div>"
      ],
      "text/plain": [
       "       image_id target    source         image\n",
       "0  ISIC_0027419    bkl  HAM10000  ISIC_0027419\n",
       "1  ISIC_0025030    bkl  HAM10000  ISIC_0025030\n",
       "2  ISIC_0026769    bkl  HAM10000  ISIC_0026769\n",
       "3  ISIC_0025661    bkl  HAM10000  ISIC_0025661\n",
       "4  ISIC_0031633    bkl  HAM10000  ISIC_0031633"
      ]
     },
     "execution_count": 42,
     "metadata": {},
     "output_type": "execute_result"
    }
   ],
   "source": [
    "df_ham.head()"
   ]
  },
  {
   "cell_type": "code",
   "execution_count": 43,
   "metadata": {},
   "outputs": [
    {
     "data": {
      "text/html": [
       "<div>\n",
       "<style scoped>\n",
       "    .dataframe tbody tr th:only-of-type {\n",
       "        vertical-align: middle;\n",
       "    }\n",
       "\n",
       "    .dataframe tbody tr th {\n",
       "        vertical-align: top;\n",
       "    }\n",
       "\n",
       "    .dataframe thead th {\n",
       "        text-align: right;\n",
       "    }\n",
       "</style>\n",
       "<table border=\"1\" class=\"dataframe\">\n",
       "  <thead>\n",
       "    <tr style=\"text-align: right;\">\n",
       "      <th></th>\n",
       "      <th>target</th>\n",
       "      <th>source</th>\n",
       "      <th>image</th>\n",
       "    </tr>\n",
       "    <tr>\n",
       "      <th>image_id</th>\n",
       "      <th></th>\n",
       "      <th></th>\n",
       "      <th></th>\n",
       "    </tr>\n",
       "  </thead>\n",
       "  <tbody>\n",
       "    <tr>\n",
       "      <th>ISIC_0027419</th>\n",
       "      <td>bkl</td>\n",
       "      <td>HAM10000</td>\n",
       "      <td>ISIC_0027419</td>\n",
       "    </tr>\n",
       "    <tr>\n",
       "      <th>ISIC_0025030</th>\n",
       "      <td>bkl</td>\n",
       "      <td>HAM10000</td>\n",
       "      <td>ISIC_0025030</td>\n",
       "    </tr>\n",
       "    <tr>\n",
       "      <th>ISIC_0026769</th>\n",
       "      <td>bkl</td>\n",
       "      <td>HAM10000</td>\n",
       "      <td>ISIC_0026769</td>\n",
       "    </tr>\n",
       "    <tr>\n",
       "      <th>ISIC_0025661</th>\n",
       "      <td>bkl</td>\n",
       "      <td>HAM10000</td>\n",
       "      <td>ISIC_0025661</td>\n",
       "    </tr>\n",
       "    <tr>\n",
       "      <th>ISIC_0031633</th>\n",
       "      <td>bkl</td>\n",
       "      <td>HAM10000</td>\n",
       "      <td>ISIC_0031633</td>\n",
       "    </tr>\n",
       "    <tr>\n",
       "      <th>...</th>\n",
       "      <td>...</td>\n",
       "      <td>...</td>\n",
       "      <td>...</td>\n",
       "    </tr>\n",
       "    <tr>\n",
       "      <th>ISIC_0033084</th>\n",
       "      <td>akiec</td>\n",
       "      <td>HAM10000</td>\n",
       "      <td>ISIC_0033084</td>\n",
       "    </tr>\n",
       "    <tr>\n",
       "      <th>ISIC_0033550</th>\n",
       "      <td>akiec</td>\n",
       "      <td>HAM10000</td>\n",
       "      <td>ISIC_0033550</td>\n",
       "    </tr>\n",
       "    <tr>\n",
       "      <th>ISIC_0033536</th>\n",
       "      <td>akiec</td>\n",
       "      <td>HAM10000</td>\n",
       "      <td>ISIC_0033536</td>\n",
       "    </tr>\n",
       "    <tr>\n",
       "      <th>ISIC_0032854</th>\n",
       "      <td>akiec</td>\n",
       "      <td>HAM10000</td>\n",
       "      <td>ISIC_0032854</td>\n",
       "    </tr>\n",
       "    <tr>\n",
       "      <th>ISIC_0032258</th>\n",
       "      <td>mel</td>\n",
       "      <td>HAM10000</td>\n",
       "      <td>ISIC_0032258</td>\n",
       "    </tr>\n",
       "  </tbody>\n",
       "</table>\n",
       "<p>10015 rows × 3 columns</p>\n",
       "</div>"
      ],
      "text/plain": [
       "             target    source         image\n",
       "image_id                                   \n",
       "ISIC_0027419    bkl  HAM10000  ISIC_0027419\n",
       "ISIC_0025030    bkl  HAM10000  ISIC_0025030\n",
       "ISIC_0026769    bkl  HAM10000  ISIC_0026769\n",
       "ISIC_0025661    bkl  HAM10000  ISIC_0025661\n",
       "ISIC_0031633    bkl  HAM10000  ISIC_0031633\n",
       "...             ...       ...           ...\n",
       "ISIC_0033084  akiec  HAM10000  ISIC_0033084\n",
       "ISIC_0033550  akiec  HAM10000  ISIC_0033550\n",
       "ISIC_0033536  akiec  HAM10000  ISIC_0033536\n",
       "ISIC_0032854  akiec  HAM10000  ISIC_0032854\n",
       "ISIC_0032258    mel  HAM10000  ISIC_0032258\n",
       "\n",
       "[10015 rows x 3 columns]"
      ]
     },
     "execution_count": 43,
     "metadata": {},
     "output_type": "execute_result"
    }
   ],
   "source": [
    "df_ham.set_index('image_id')"
   ]
  },
  {
   "cell_type": "code",
   "execution_count": 44,
   "metadata": {
    "scrolled": true
   },
   "outputs": [
    {
     "data": {
      "text/html": [
       "<div>\n",
       "<style scoped>\n",
       "    .dataframe tbody tr th:only-of-type {\n",
       "        vertical-align: middle;\n",
       "    }\n",
       "\n",
       "    .dataframe tbody tr th {\n",
       "        vertical-align: top;\n",
       "    }\n",
       "\n",
       "    .dataframe thead th {\n",
       "        text-align: right;\n",
       "    }\n",
       "</style>\n",
       "<table border=\"1\" class=\"dataframe\">\n",
       "  <thead>\n",
       "    <tr style=\"text-align: right;\">\n",
       "      <th></th>\n",
       "      <th>target</th>\n",
       "      <th>source</th>\n",
       "      <th>image</th>\n",
       "    </tr>\n",
       "    <tr>\n",
       "      <th>image_id</th>\n",
       "      <th></th>\n",
       "      <th></th>\n",
       "      <th></th>\n",
       "    </tr>\n",
       "  </thead>\n",
       "  <tbody>\n",
       "    <tr>\n",
       "      <th>ISIC_0000000</th>\n",
       "      <td>nev</td>\n",
       "      <td>ISIC19</td>\n",
       "      <td>ISIC_0000000</td>\n",
       "    </tr>\n",
       "    <tr>\n",
       "      <th>ISIC_0000001</th>\n",
       "      <td>nev</td>\n",
       "      <td>ISIC19</td>\n",
       "      <td>ISIC_0000001</td>\n",
       "    </tr>\n",
       "    <tr>\n",
       "      <th>ISIC_0000002</th>\n",
       "      <td>mel</td>\n",
       "      <td>ISIC19</td>\n",
       "      <td>ISIC_0000002</td>\n",
       "    </tr>\n",
       "    <tr>\n",
       "      <th>ISIC_0000003</th>\n",
       "      <td>nev</td>\n",
       "      <td>ISIC19</td>\n",
       "      <td>ISIC_0000003</td>\n",
       "    </tr>\n",
       "    <tr>\n",
       "      <th>ISIC_0000004</th>\n",
       "      <td>mel</td>\n",
       "      <td>ISIC19</td>\n",
       "      <td>ISIC_0000004</td>\n",
       "    </tr>\n",
       "  </tbody>\n",
       "</table>\n",
       "</div>"
      ],
      "text/plain": [
       "             target  source         image\n",
       "image_id                                 \n",
       "ISIC_0000000    nev  ISIC19  ISIC_0000000\n",
       "ISIC_0000001    nev  ISIC19  ISIC_0000001\n",
       "ISIC_0000002    mel  ISIC19  ISIC_0000002\n",
       "ISIC_0000003    nev  ISIC19  ISIC_0000003\n",
       "ISIC_0000004    mel  ISIC19  ISIC_0000004"
      ]
     },
     "execution_count": 44,
     "metadata": {},
     "output_type": "execute_result"
    }
   ],
   "source": [
    "isic_dataset.head()"
   ]
  },
  {
   "cell_type": "code",
   "execution_count": 45,
   "metadata": {},
   "outputs": [],
   "source": [
    "df_ham.to_csv('../../Skin cancer stuff/datasets/HAM10000/prepped_ham.csv')"
   ]
  },
  {
   "cell_type": "code",
   "execution_count": 47,
   "metadata": {},
   "outputs": [],
   "source": [
    "concatenated = pd.concat([isic_dataset, df_ham], ignore_index=True)"
   ]
  },
  {
   "cell_type": "code",
   "execution_count": 48,
   "metadata": {},
   "outputs": [
    {
     "data": {
      "text/plain": [
       "(34718, 4)"
      ]
     },
     "execution_count": 48,
     "metadata": {},
     "output_type": "execute_result"
    }
   ],
   "source": [
    "concatenated.shape"
   ]
  },
  {
   "cell_type": "code",
   "execution_count": 50,
   "metadata": {},
   "outputs": [],
   "source": [
    "del concatenated['image_id']"
   ]
  },
  {
   "cell_type": "code",
   "execution_count": 51,
   "metadata": {},
   "outputs": [],
   "source": [
    "concatenated.to_csv('../../Skin cancer stuff/datasets/combined-ham-and-isic2019/combined_csv.csv')"
   ]
  }
 ],
 "metadata": {
  "kernelspec": {
   "display_name": "Python 3",
   "language": "python",
   "name": "python3"
  },
  "language_info": {
   "codemirror_mode": {
    "name": "ipython",
    "version": 3
   },
   "file_extension": ".py",
   "mimetype": "text/x-python",
   "name": "python",
   "nbconvert_exporter": "python",
   "pygments_lexer": "ipython3",
   "version": "3.7.4"
  }
 },
 "nbformat": 4,
 "nbformat_minor": 4
}
