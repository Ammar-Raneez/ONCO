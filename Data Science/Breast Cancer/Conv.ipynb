{
 "cells": [
  {
   "cell_type": "code",
   "execution_count": 2,
   "id": "small-youth",
   "metadata": {},
   "outputs": [],
   "source": [
    "import tensorflow as tf\n",
    "from tensorflow.keras.models import Sequential\n",
    "from tensorflow.keras.layers import Dense, Dropout, Activation, Flatten, Conv2D, MaxPooling2D, BatchNormalization\n",
    "import numpy as np\n",
    "import matplotlib.pyplot as plt\n",
    "from tensorflow.keras.callbacks import TensorBoard\n",
    "import time\n",
    "\n",
    "%config Completer.use_jedi = False "
   ]
  },
  {
   "cell_type": "code",
   "execution_count": 3,
   "id": "rapid-malaysia",
   "metadata": {},
   "outputs": [],
   "source": [
    "gpu_options = tf.compat.v1.GPUOptions(per_process_gpu_memory_fraction=0.333)\n",
    "sess = tf.compat.v1.Session(config = tf.compat.v1.ConfigProto(gpu_options=gpu_options))"
   ]
  },
  {
   "cell_type": "markdown",
   "id": "personal-analysis",
   "metadata": {},
   "source": [
    "### Load Data"
   ]
  },
  {
   "cell_type": "code",
   "execution_count": 4,
   "id": "familiar-pollution",
   "metadata": {},
   "outputs": [],
   "source": [
    "X = np.load(\"X.npy\")\n",
    "y = np.load(\"y.npy\")"
   ]
  },
  {
   "cell_type": "markdown",
   "id": "settled-hebrew",
   "metadata": {},
   "source": [
    "### Normalize features."
   ]
  },
  {
   "cell_type": "code",
   "execution_count": 5,
   "id": "respective-olive",
   "metadata": {},
   "outputs": [],
   "source": [
    "X = tf.keras.utils.normalize(X)"
   ]
  },
  {
   "cell_type": "markdown",
   "id": "short-yield",
   "metadata": {},
   "source": [
    "## `Model`"
   ]
  },
  {
   "cell_type": "code",
   "execution_count": 20,
   "id": "quiet-arizona",
   "metadata": {},
   "outputs": [
    {
     "name": "stdout",
     "output_type": "stream",
     "text": [
      "3-conv-128-nodes-1-dense-1618846287\n",
      "Epoch 1/10\n",
      "50/50 [==============================] - 52s 1s/step - loss: 0.6341 - accuracy: 0.6942 - val_loss: 0.5642 - val_accuracy: 0.7463\n",
      "Epoch 2/10\n",
      "50/50 [==============================] - 52s 1s/step - loss: 0.5968 - accuracy: 0.7123 - val_loss: 0.5651 - val_accuracy: 0.7414\n",
      "Epoch 3/10\n",
      "50/50 [==============================] - 52s 1s/step - loss: 0.5996 - accuracy: 0.7085 - val_loss: 0.5647 - val_accuracy: 0.7444\n",
      "Epoch 4/10\n",
      "50/50 [==============================] - 53s 1s/step - loss: 0.5873 - accuracy: 0.7190 - val_loss: 0.5757 - val_accuracy: 0.7326\n",
      "Epoch 5/10\n",
      "50/50 [==============================] - 53s 1s/step - loss: 0.5806 - accuracy: 0.7144 - val_loss: 0.5465 - val_accuracy: 0.7453\n",
      "Epoch 6/10\n",
      "50/50 [==============================] - 53s 1s/step - loss: 0.5658 - accuracy: 0.7228 - val_loss: 0.5565 - val_accuracy: 0.7316\n",
      "Epoch 7/10\n",
      "50/50 [==============================] - 54s 1s/step - loss: 0.5647 - accuracy: 0.7144 - val_loss: 0.5486 - val_accuracy: 0.7365\n",
      "Epoch 8/10\n",
      "50/50 [==============================] - 55s 1s/step - loss: 0.5544 - accuracy: 0.7283 - val_loss: 0.5452 - val_accuracy: 0.7405\n",
      "Epoch 9/10\n",
      "50/50 [==============================] - 56s 1s/step - loss: 0.5368 - accuracy: 0.7354 - val_loss: 0.5570 - val_accuracy: 0.7385\n",
      "Epoch 10/10\n",
      "50/50 [==============================] - 56s 1s/step - loss: 0.5118 - accuracy: 0.7476 - val_loss: 0.6009 - val_accuracy: 0.7326\n"
     ]
    },
    {
     "data": {
      "text/plain": [
       "<tensorflow.python.keras.callbacks.History at 0x15b91b66400>"
      ]
     },
     "execution_count": 20,
     "metadata": {},
     "output_type": "execute_result"
    }
   ],
   "source": [
    "NAME = \"{}-conv-{}-nodes-{}-dense-{}\".format(3, 128, 1, int(time.time()))\n",
    "tensorboard = TensorBoard(log_dir='bcd_3logs')\n",
    "print(NAME)\n",
    "\n",
    "model = Sequential()\n",
    "\n",
    "model.add(Conv2D(128, (3,3), input_shape = X.shape[1:]))\n",
    "model.add(Activation('relu'))\n",
    "model.add(MaxPooling2D(2,2))\n",
    "\n",
    "model.add(Conv2D(128, (3,3)))\n",
    "model.add(Activation('relu'))\n",
    "model.add(MaxPooling2D(pool_size=(2,2)))\n",
    "\n",
    "model.add(Conv2D(128, (3,3)))\n",
    "model.add(Activation('relu'))\n",
    "model.add(MaxPooling2D(pool_size=(2,2)))\n",
    "\n",
    "model.add(Flatten())\n",
    "\n",
    "model.add(Dense(512))\n",
    "model.add(Activation('relu'))\n",
    "model.add(Dropout(0.2))\n",
    "\n",
    "\n",
    "model.add(Dense(1))\n",
    "model.add(Activation('sigmoid'))\n",
    "\n",
    "opt = tf.keras.optimizers.Adam(learning_rate=0.001)\n",
    "\n",
    "model.compile(loss='binary_crossentropy',\n",
    "              optimizer=opt,\n",
    "              metrics=['accuracy'])\n",
    "\n",
    "model.fit(X, y, batch_size=48, epochs=10, validation_split=0.3, callbacks=[tensorboard])"
   ]
  },
  {
   "cell_type": "markdown",
   "id": "falling-dealer",
   "metadata": {},
   "source": [
    "### Saving"
   ]
  },
  {
   "cell_type": "code",
   "execution_count": 11,
   "id": "interior-sport",
   "metadata": {},
   "outputs": [],
   "source": [
    "model.save('bcd_model.h5')"
   ]
  },
  {
   "cell_type": "markdown",
   "id": "disciplinary-payment",
   "metadata": {},
   "source": [
    "### Testing\n"
   ]
  },
  {
   "cell_type": "code",
   "execution_count": 21,
   "id": "renewable-shore",
   "metadata": {},
   "outputs": [],
   "source": [
    "import cv2\n",
    "import tensorflow as tf\n",
    "\n",
    "CATEGORIES = [\"Cancer\", \"Normal\"]\n",
    "\n",
    "def prepare(filepath):\n",
    "    IMG_SIZE = 100\n",
    "    img_arr = cv2.imread(filepath, cv2.IMREAD_GRAYSCALE)\n",
    "    new_arr = cv2.resize(img_arr, (IMG_SIZE, IMG_SIZE))\n",
    "    return new_arr.reshape(-1, IMG_SIZE, IMG_SIZE, 1)\n",
    "\n",
    "model = tf.keras.models.load_model('bcd_model.h5')"
   ]
  },
  {
   "cell_type": "code",
   "execution_count": 22,
   "id": "atmospheric-slide",
   "metadata": {},
   "outputs": [
    {
     "name": "stdout",
     "output_type": "stream",
     "text": [
      "Cancer\n",
      "0\n"
     ]
    }
   ],
   "source": [
    "prediction = model.predict([prepare('test_samples/Cancer/c_2.png')])\n",
    "print(CATEGORIES[int(prediction[0][0])])\n",
    "print(int(prediction[0][0]))"
   ]
  },
  {
   "cell_type": "code",
   "execution_count": 23,
   "id": "generous-source",
   "metadata": {},
   "outputs": [
    {
     "name": "stdout",
     "output_type": "stream",
     "text": [
      "Normal\n",
      "1\n"
     ]
    }
   ],
   "source": [
    "prediction = model.predict([prepare('test_samples/Normal/n_1.png')])\n",
    "print(CATEGORIES[int(prediction[0][0])])\n",
    "print(int(prediction[0][0]))"
   ]
  },
  {
   "cell_type": "code",
   "execution_count": null,
   "id": "breeding-trauma",
   "metadata": {},
   "outputs": [],
   "source": []
  },
  {
   "cell_type": "code",
   "execution_count": null,
   "id": "three-feeling",
   "metadata": {},
   "outputs": [],
   "source": []
  }
 ],
 "metadata": {
  "kernelspec": {
   "display_name": "Python [conda env:DeepLearn] *",
   "language": "python",
   "name": "conda-env-DeepLearn-py"
  },
  "language_info": {
   "codemirror_mode": {
    "name": "ipython",
    "version": 3
   },
   "file_extension": ".py",
   "mimetype": "text/x-python",
   "name": "python",
   "nbconvert_exporter": "python",
   "pygments_lexer": "ipython3",
   "version": "3.8.8"
  }
 },
 "nbformat": 4,
 "nbformat_minor": 5
}
