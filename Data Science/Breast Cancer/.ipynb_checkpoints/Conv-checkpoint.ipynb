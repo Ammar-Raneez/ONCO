{
 "cells": [
  {
   "cell_type": "code",
   "execution_count": 2,
   "id": "small-youth",
   "metadata": {},
   "outputs": [],
   "source": [
    "import tensorflow as tf\n",
    "from tensorflow.keras.models import Sequential\n",
    "from tensorflow.keras.layers import Dense, Dropout, Activation, Flatten, Conv2D, MaxPooling2D, BatchNormalization\n",
    "import numpy as np\n",
    "import matplotlib.pyplot as plt\n",
    "from tensorflow.keras.callbacks import TensorBoard\n",
    "import time\n",
    "\n",
    "%config Completer.use_jedi = False "
   ]
  },
  {
   "cell_type": "code",
   "execution_count": 3,
   "id": "rapid-malaysia",
   "metadata": {},
   "outputs": [],
   "source": [
    "gpu_options = tf.compat.v1.GPUOptions(per_process_gpu_memory_fraction=0.333)\n",
    "sess = tf.compat.v1.Session(config = tf.compat.v1.ConfigProto(gpu_options=gpu_options))"
   ]
  },
  {
   "cell_type": "markdown",
   "id": "personal-analysis",
   "metadata": {},
   "source": [
    "### Load Data"
   ]
  },
  {
   "cell_type": "code",
   "execution_count": 4,
   "id": "familiar-pollution",
   "metadata": {},
   "outputs": [],
   "source": [
    "X = np.load(\"X.npy\")\n",
    "y = np.load(\"y.npy\")"
   ]
  },
  {
   "cell_type": "markdown",
   "id": "settled-hebrew",
   "metadata": {},
   "source": [
    "### Normalize features."
   ]
  },
  {
   "cell_type": "code",
   "execution_count": 5,
   "id": "respective-olive",
   "metadata": {},
   "outputs": [],
   "source": [
    "X = tf.keras.utils.normalize(X)"
   ]
  },
  {
   "cell_type": "markdown",
   "id": "short-yield",
   "metadata": {},
   "source": [
    "## `Model`"
   ]
  },
  {
   "cell_type": "code",
   "execution_count": 7,
   "id": "quiet-arizona",
   "metadata": {},
   "outputs": [
    {
     "name": "stdout",
     "output_type": "stream",
     "text": [
      "3-conv-128-nodes-1-dense-1618813172\n",
      "Epoch 1/8\n",
      "  2/100 [..............................] - ETA: 55s - loss: 1.2109 - accuracy: 0.4583WARNING:tensorflow:Callbacks method `on_train_batch_end` is slow compared to the batch time (batch time: 0.4535s vs `on_train_batch_end` time: 0.6851s). Check your callbacks.\n",
      "100/100 [==============================] - 52s 522ms/step - loss: 0.6413 - accuracy: 0.6850 - val_loss: 0.6320 - val_accuracy: 0.7316\n",
      "Epoch 2/8\n",
      "100/100 [==============================] - 57s 574ms/step - loss: 0.5978 - accuracy: 0.7094 - val_loss: 0.5786 - val_accuracy: 0.7405\n",
      "Epoch 3/8\n",
      "100/100 [==============================] - 59s 593ms/step - loss: 0.6011 - accuracy: 0.7165 - val_loss: 0.5710 - val_accuracy: 0.7248\n",
      "Epoch 4/8\n",
      "100/100 [==============================] - 57s 569ms/step - loss: 0.5948 - accuracy: 0.7157 - val_loss: 0.5642 - val_accuracy: 0.7493\n",
      "Epoch 5/8\n",
      "100/100 [==============================] - 53s 532ms/step - loss: 0.5843 - accuracy: 0.7169 - val_loss: 0.5470 - val_accuracy: 0.7356\n",
      "Epoch 6/8\n",
      "100/100 [==============================] - 53s 534ms/step - loss: 0.5676 - accuracy: 0.7110 - val_loss: 0.5587 - val_accuracy: 0.7150\n",
      "Epoch 7/8\n",
      "100/100 [==============================] - 56s 556ms/step - loss: 0.5608 - accuracy: 0.7173 - val_loss: 0.5454 - val_accuracy: 0.7405\n",
      "Epoch 8/8\n",
      "100/100 [==============================] - 56s 558ms/step - loss: 0.5544 - accuracy: 0.7232 - val_loss: 0.5395 - val_accuracy: 0.7414\n",
      "INFO:tensorflow:Assets written to: bcd_model\\assets\n"
     ]
    }
   ],
   "source": [
    "NAME = \"{}-conv-{}-nodes-{}-dense-{}\".format(3, 128, 1, int(time.time()))\n",
    "tensorboard = TensorBoard(log_dir='bcd_3logs')\n",
    "print(NAME)\n",
    "\n",
    "model = Sequential()\n",
    "\n",
    "model.add(Conv2D(128, (3,3), input_shape = X.shape[1:]))\n",
    "model.add(Activation('relu'))\n",
    "model.add(MaxPooling2D(2,2))\n",
    "\n",
    "model.add(Conv2D(128, (3,3)))\n",
    "model.add(Activation('relu'))\n",
    "model.add(MaxPooling2D(pool_size=(2,2)))\n",
    "\n",
    "model.add(Conv2D(128, (3,3)))\n",
    "model.add(Activation('relu'))\n",
    "model.add(MaxPooling2D(pool_size=(2,2)))\n",
    "\n",
    "model.add(Flatten())\n",
    "\n",
    "model.add(Dense(512))\n",
    "model.add(Activation('relu'))\n",
    "model.add(Dropout(0.2))\n",
    "\n",
    "\n",
    "model.add(Dense(1))\n",
    "model.add(Activation('sigmoid'))\n",
    "\n",
    "model.compile(loss='binary_crossentropy',\n",
    "              optimizer='adam',\n",
    "              metrics=['accuracy'])\n",
    "\n",
    "model.fit(X, y, batch_size=24, epochs=8, validation_split=0.3, callbacks=[tensorboard])\n",
    "\n",
    "model.save('bcd_model')"
   ]
  },
  {
   "cell_type": "code",
   "execution_count": null,
   "id": "interior-sport",
   "metadata": {},
   "outputs": [],
   "source": []
  }
 ],
 "metadata": {
  "kernelspec": {
   "display_name": "Python [conda env:DeepLearn]",
   "language": "python",
   "name": "conda-env-DeepLearn-py"
  },
  "language_info": {
   "codemirror_mode": {
    "name": "ipython",
    "version": 3
   },
   "file_extension": ".py",
   "mimetype": "text/x-python",
   "name": "python",
   "nbconvert_exporter": "python",
   "pygments_lexer": "ipython3",
   "version": "3.8.8"
  }
 },
 "nbformat": 4,
 "nbformat_minor": 5
}
