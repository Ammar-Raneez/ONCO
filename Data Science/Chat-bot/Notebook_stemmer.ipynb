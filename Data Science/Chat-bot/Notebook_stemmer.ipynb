{
 "cells": [
  {
   "cell_type": "code",
   "execution_count": 1,
   "metadata": {
    "scrolled": true
   },
   "outputs": [],
   "source": [
    "import nltk\n",
    "from nltk.stem.lancaster import LancasterStemmer\n",
    "import numpy\n",
    "# import tflearn\n",
    "# import tensorflow as tf\n",
    "from tensorflow import keras\n",
    "import random\n",
    "import json\n",
    "from nltk.stem.wordnet import WordNetLemmatizer\n",
    "from nltk.stem.snowball import SnowballStemmer"
   ]
  },
  {
   "cell_type": "code",
   "execution_count": 2,
   "metadata": {
    "scrolled": true
   },
   "outputs": [],
   "source": [
    "#open the json and store it\n",
    "with open(\"intents.json\") as intents:\n",
    "    intent_data = json.load(intents)\n",
    "# intent_data"
   ]
  },
  {
   "cell_type": "code",
   "execution_count": 3,
   "metadata": {},
   "outputs": [],
   "source": [
    "#will hold all words\n",
    "all_words = []\n",
    "\n",
    "#will hold all possible intent tags\n",
    "all_labels = []\n",
    "\n",
    "#will hold all pattern data, each pattern in a list of itself\n",
    "all_patterns = []\n",
    "\n",
    "#will hold the type of intent of the corresponding word in all_patterns\n",
    "all_responses = []"
   ]
  },
  {
   "cell_type": "code",
   "execution_count": 4,
   "metadata": {},
   "outputs": [],
   "source": [
    "stemmer = SnowballStemmer(\"english\")\n",
    "lemmatizer = WordNetLemmatizer() "
   ]
  },
  {
   "cell_type": "code",
   "execution_count": 5,
   "metadata": {},
   "outputs": [],
   "source": [
    "#loop through the intent dictionary\n",
    "for intent in intent_data['intents']:\n",
    "    #loop through each pattern in each patterns list\n",
    "    for pattern in intent['patterns']:\n",
    "        #tokenize basically separates each sentence into individual words\n",
    "        words = nltk.word_tokenize(pattern)\n",
    "        #add all the words into all words\n",
    "        all_words.extend(words)\n",
    "        all_patterns.append(words)\n",
    "        all_responses.append(intent['tag'])\n",
    "        \n",
    "    if intent['tag'] not in all_labels:\n",
    "        all_labels.append(intent['tag'])"
   ]
  },
  {
   "cell_type": "code",
   "execution_count": 6,
   "metadata": {},
   "outputs": [
    {
     "name": "stdout",
     "output_type": "stream",
     "text": [
      "['Hi', 'How', 'are', 'you', 'hey']\n",
      "['greeting', 'goodbye', 'name', 'name_yes', 'name_no', 'thanks', 'first', 'lc_initial', 'lc_main', 'bc_initial', 'bc_main', 'sc_main']\n",
      "[['Hi'], ['How', 'are', 'you'], ['hey'], ['yo'], ['Is', 'anyone', 'there']]\n",
      "['greeting', 'greeting', 'greeting', 'greeting', 'greeting']\n"
     ]
    }
   ],
   "source": [
    "print(all_words[:5])\n",
    "print(all_labels)\n",
    "print(all_patterns[:5])\n",
    "print(all_responses[:5])"
   ]
  },
  {
   "cell_type": "code",
   "execution_count": 7,
   "metadata": {
    "scrolled": true
   },
   "outputs": [
    {
     "name": "stdout",
     "output_type": "stream",
     "text": [
      "['hi', 'how', 'are', 'you', 'hey', 'yo', 'is', 'anyon', 'there', 'hello', 'good', 'day', 'what', 'up', 'sup', 'what', 'are', 'you', 'who', 'are', 'you', 'cya', 'see', 'you', 'later', 'goodby', 'im', 'leav', 'have', 'a', 'good', 'day', 'bye', 'what', 'is', 'your', 'name', 'what', 'should', 'i', 'call', 'you', 'what', 'your', 'name', 'name', 'your', 'name', 'yes', 'haha', 'yes', 'yep', 'nice', 'inde', 'yup', 'yea', 'nah', 'no', 'nope', 'not', 'realli', 'ew', 'cring', 'thank', 'thank', 'you', 'that', 'is', 'help', 'awesom', 'thank', 'thank', 'for', 'help', 'me', 'sick', 'i', 'do', 'not', 'feel', 'good', 'not', 'well', 'i', 'am', 'not', 'feel', 'well', 'i', 'feel', 'sick', 'someth', 'is', 'wrong', 'with', 'me', 'i', 'do', 'not', 'think', 'i', 'am', 'of', 'perfect', 'health', 'cough', 'i', 'have', 'a', 'cough', 'i', 'have', 'a', 'chest', 'pain', 'chest', 'pain', 'i', 'have', 'a', 'chest', 'ach', 'chest', 'ach', 'i', 'feel', 'unusu', 'tire', 'i', 'feel', 'too', 'tire', 'i', 'feel', 'exhaust', 'i', 'get', 'tire', 'too', 'easili', 'no', 'energi', 'lack', 'in', 'energi', 'i', 'dont', 'want', 'to', 'eat', 'i', 'dont', 'have', 'an', 'appetit', 'i', 'dont', 'want', 'to', 'eat', 'cough', 'blood', 'i', 'cough', 'blood', 'out', 'of', 'breath', 'breath', 'difficulti', 'hard', 'to', 'breath', 'non', 'stop', 'cough', 'long', 'cough', 'breast', 'size', 'chang', 'my', 'breast', 'look', 'larger', 'than', 'usual', 'my', 'breast', 'ha', 'swell', 'my', 'breast', 'is', 'swollen', 'breast', 'swell', 'breast', 'darken', 'breast', 'warmth', 'breast', 'ach', 'my', 'breast', 'pain', 'shoulder', 'lump', 'breast', 'lump', 'i', 'have', 'a', 'lump', 'on', 'my', 'breast', 'i', 'have', 'a', 'lump', 'on', 'my', 'shoulder', 'nippl', 'skin', 'flake', 'skin', 'around', 'nippl', 'unusu', 'peel', 'of', 'skin', 'around', 'nippl', 'unheal', 'sore', 'sore', 'not', 'heal', 'waxi', 'bump', 'pear', 'bump', 'brown', 'scar', 'crusti', 'skin', 'return', 'scab', 'mole', 'brown', 'spot', 'pain', 'lesion', 'dark', 'lesion', 'bleed', 'sore']\n",
      "260\n"
     ]
    }
   ],
   "source": [
    "#removes the ends of the words. Basically reducing the words to their root type\n",
    "#for example if there was a word that is \"Whats\" it removes the \"s\" returning only \"what\"\n",
    "#the reason for doing this is to get the plain meaning of the word whilst ignoring any unnecessary\n",
    "#additions that might confuse the model, making it to be able to generalize more\n",
    "all_words = [lemmatizer.lemmatize(word.lower()) for word in all_words]\n",
    "all_words = [stemmer.stem(word.lower()) for word in all_words if word]\n",
    "print(all_words)\n",
    "print(len(all_words))"
   ]
  },
  {
   "cell_type": "code",
   "execution_count": 8,
   "metadata": {},
   "outputs": [
    {
     "data": {
      "text/plain": [
       "126"
      ]
     },
     "execution_count": 8,
     "metadata": {},
     "output_type": "execute_result"
    }
   ],
   "source": [
    "#remove any duplicate words, and sort for easiness\n",
    "all_words = sorted(list(set(all_words)))\n",
    "len(all_words)"
   ]
  },
  {
   "cell_type": "code",
   "execution_count": 9,
   "metadata": {},
   "outputs": [
    {
     "name": "stdout",
     "output_type": "stream",
     "text": [
      "12\n"
     ]
    }
   ],
   "source": [
    "all_labels = sorted(all_labels)\n",
    "print(len(all_labels))"
   ]
  },
  {
   "cell_type": "code",
   "execution_count": 10,
   "metadata": {},
   "outputs": [],
   "source": [
    "# #A neural network cannot interpret these Strings\n",
    "# #However, they can be one-hot encoded to numbers\n",
    "# #One hot encoding - Bag of Words (if word is there - \"hot\", represented with a 1)\n",
    "# #the mapping is [the, she, he, him, they, was, a, guy, person]\n",
    "# #one-hot representation -> [0, 0, 1, 0, 0, 1, 1, 0, 1], for the sentence \"he was a person\"\n",
    "# #We'll use this representation for each sentence, using {all_words} as its list to mapped against\n",
    "\n",
    "# #training and output list\n",
    "# training = []\n",
    "# output = []\n",
    "\n",
    "# #creating a list of all 0's  to use as a starting point\n",
    "# out_empty = [0 for _ in range(len(all_labels))]\n",
    "# # out_empty -> [0,0,0,0,0,0]\n",
    "\n",
    "# for index, pattern in enumerate(all_patterns):\n",
    "#     #the bag of words\n",
    "#     bag = []\n",
    "#     words = [lemmatizer.lemmatize(word.lower()) for word in pattern]\n",
    "#     words = [stemmer.stem(word.lower()) for word in words]\n",
    "    \n",
    "#     for word in all_words:\n",
    "#         #loop and check whether each word consists\n",
    "#         if word in words:\n",
    "#             #if it does append 1\n",
    "#             bag.append(1)\n",
    "#         else:\n",
    "#             bag.append(0)\n",
    "    \n",
    "#     #create a copy of out_empty\n",
    "#     output_row = out_empty[:]\n",
    "    \n",
    "#     #set the position of the tag equal to 1\n",
    "#     output_row[all_labels.index(all_responses[index])] = 1\n",
    "#     training.append(bag)\n",
    "#     output.append(output_row)\n",
    "    \n",
    "# #convert to arrays, for tflearn to accept\n",
    "# training = numpy.array(training)\n",
    "# output = numpy.array(output)\n",
    "# #the data is now ready to be used to train"
   ]
  },
  {
   "cell_type": "code",
   "execution_count": 11,
   "metadata": {},
   "outputs": [],
   "source": [
    "# #input data size - bag of words length\n",
    "# net = tflearn.input_data(shape=[None, len(training[0])])\n",
    "# #hidden layers\n",
    "# net = tflearn.fully_connected(net, 8)\n",
    "# net = tflearn.fully_connected(net, 8)\n",
    "# #output layer, size equal to number of possibilities\n",
    "# net = tflearn.fully_connected(net, len(output[0]), activation='softmax')\n",
    "# net = tflearn.regression(net)\n",
    "# #Regular deep neural network\n",
    "# model = tflearn.DNN(net)\n",
    "\n",
    "# print(training.shape)\n",
    "# print(output.shape)"
   ]
  },
  {
   "cell_type": "code",
   "execution_count": 12,
   "metadata": {},
   "outputs": [],
   "source": [
    "# model = keras.models.Sequential()\n",
    "# model.add(keras.layers.Input(shape=[len(training[0])]))\n",
    "# model.add(keras.layers.Dense(32))\n",
    "# model.add(keras.layers.Dense(32))\n",
    "# model.add(keras.layers.Dense(32))\n",
    "# model.add(keras.layers.Dense(len(output[0]), activation='softmax'))"
   ]
  },
  {
   "cell_type": "code",
   "execution_count": 13,
   "metadata": {},
   "outputs": [],
   "source": [
    "# try:\n",
    "model = keras.models.load_model('chatbot.h5')\n",
    "# except:\n",
    "#     model.compile(optimizer=keras.optimizers.Adam(lr=1e-5), metrics=['accuracy'], loss='categorical_crossentropy')\n",
    "#     model.fit(training, output, epochs=1000, batch_size=32)\n",
    "#     model.save(\"chatbot.h5\")"
   ]
  },
  {
   "cell_type": "code",
   "execution_count": 14,
   "metadata": {},
   "outputs": [],
   "source": [
    "# model.save(\"chatbot.h5\")"
   ]
  },
  {
   "cell_type": "code",
   "execution_count": 15,
   "metadata": {},
   "outputs": [],
   "source": [
    "#convert the input text into bag of words\n",
    "def bag_of_words(text, all_words):\n",
    "    bag = [0 for _ in range(len(all_words))]\n",
    "                            \n",
    "    text_words = nltk.word_tokenize(text)\n",
    "    text_words = [lemmatizer.lemmatize(word.lower()) for word in text_words]\n",
    "    text_words = [stemmer.stem(word.lower()) for word in text_words]\n",
    "    \n",
    "    for wrd in text_words:\n",
    "        for index, word in enumerate(all_words):\n",
    "            if word == wrd:\n",
    "                bag[index] = 1\n",
    "    \n",
    "    return numpy.array(bag)"
   ]
  },
  {
   "cell_type": "code",
   "execution_count": 16,
   "metadata": {},
   "outputs": [],
   "source": [
    "def chat(username):\n",
    "    print(f'Hi {username}, how can I help you today?')\n",
    "    \n",
    "    #Reset context on start, due to there being no context\n",
    "    context = None\n",
    "    #default responses if no proper valid match\n",
    "    default_responses = [\n",
    "    \"Sorry, can't understand you, I am not perfect :'(\", \"Please give me more info :(\", \"Not sure I understand :(\",\n",
    "    \"Please be more specific\", \"Please provide me more information\"\n",
    "    ]\n",
    "    \n",
    "    while True:\n",
    "        user_input = str(input(\"You: \")).lower()\n",
    "        if user_input == 'quit':\n",
    "            break\n",
    "    \n",
    "        #will hold a list of probabilities (softmax)\n",
    "        print(user_input)\n",
    "        bag = bag_of_words(user_input, all_words)\n",
    "        print(bag.shape)\n",
    "        bag = bag.reshape(1, -1)\n",
    "        print(bag.shape)\n",
    "        results = model.predict([bag])[0]\n",
    "        print(results)\n",
    "        #will return index of highest probability\n",
    "        result_index = numpy.argmax(results)\n",
    "        print(result_index)\n",
    "        #Corresponding tag of prediction\n",
    "        result_tag = all_labels[result_index]\n",
    "           \n",
    "#         print(\"Prediction Probability\", results[result_index])\n",
    "            \n",
    "        #only if the model is quite confident do this\n",
    "        if results[result_index] > 0.8:\n",
    "            #break loop if end\n",
    "            if result_tag == 'goodbye' or result_tag == 'thanks':\n",
    "                responses = intent_data['intents'][1]['responses'] if result_tag == 'goodbye' else intent_data['intents'][5]['responses']\n",
    "                print(\"CHANCO: \" + random.choice(responses))\n",
    "                break\n",
    "            \n",
    "            for intent in intent_data['intents']:\n",
    "                #predicted intent\n",
    "                if intent['tag'] == result_tag:\n",
    "                    print(result_tag)\n",
    "#                     print('context_filter' in intent and intent['context_filter'] == context)\n",
    "\n",
    "                    #this if condition checks to see whether the context_filter intent has the same value as the context of the\n",
    "                    #intent it is referring to, if so it means that the context_filter intent will be given authority to provide a response\n",
    "                    if 'context_filter' not in intent or 'context_filter' in intent and intent['context_filter'] == context:\n",
    "                        #responses of corresponding intent\n",
    "                        responses = intent['responses']\n",
    "                        \n",
    "                        #does the current intent have context\n",
    "                        if 'context' in intent:\n",
    "                            context = intent['context']\n",
    "                        else:\n",
    "                            context = None\n",
    "\n",
    "                        #choose some random response\n",
    "                        print(\"CHANCO: \" + random.choice(responses))\n",
    "\n",
    "                    #if user enters smth directly about the main cancer symptoms\n",
    "                    elif intent.get('direct_access'):\n",
    "                        responses = intent['responses']\n",
    "                        print(\"CHANCO: \" + random.choice(responses))\n",
    "                        \n",
    "                    else:\n",
    "                        print(\"CHANCO: \" + random.choice(default_responses))\n",
    "        \n",
    "        #if not so confident - print a default text\n",
    "        else :\n",
    "            print(\"CHANCO: \" + random.choice(default_responses))\n",
    "        print()"
   ]
  },
  {
   "cell_type": "code",
   "execution_count": 17,
   "metadata": {
    "scrolled": true
   },
   "outputs": [
    {
     "name": "stdout",
     "output_type": "stream",
     "text": [
      "Hi bro, how can I help you today?\n",
      "You: hi\n",
      "hi\n",
      "(126,)\n",
      "(1, 126)\n",
      "[0.01325454 0.00677617 0.05350413 0.02315326 0.7322471  0.0076578\n",
      " 0.02001894 0.03273576 0.03589428 0.05453176 0.01746304 0.00276315]\n",
      "4\n",
      "CHANCO: Please give me more info :(\n",
      "\n",
      "You: hello\n",
      "hello\n",
      "(126,)\n",
      "(1, 126)\n",
      "[0.0116023  0.00215118 0.06231675 0.01895966 0.8084692  0.00157818\n",
      " 0.01345231 0.03157056 0.0119796  0.02951449 0.0055725  0.00283332]\n",
      "4\n",
      "greeting\n",
      "CHANCO: Hello!\n",
      "\n",
      "You: how are you\n",
      "how are you\n",
      "(126,)\n",
      "(1, 126)\n",
      "[2.2026658e-04 3.2977030e-06 1.0108323e-02 2.4912045e-03 9.8224235e-01\n",
      " 1.5932079e-05 4.2609201e-04 3.9351732e-03 2.6549108e-04 1.9936981e-04\n",
      " 6.9626432e-05 2.2833035e-05]\n",
      "4\n",
      "greeting\n",
      "CHANCO: Hi there, how can I help?\n",
      "\n",
      "You: how are you\n",
      "how are you\n",
      "(126,)\n",
      "(1, 126)\n",
      "[2.2026658e-04 3.2977030e-06 1.0108323e-02 2.4912045e-03 9.8224235e-01\n",
      " 1.5932079e-05 4.2609201e-04 3.9351732e-03 2.6549108e-04 1.9936981e-04\n",
      " 6.9626432e-05 2.2833035e-05]\n",
      "4\n",
      "greeting\n",
      "CHANCO: Good to see you again!\n",
      "\n",
      "You: what is your name\n",
      "what is your name\n",
      "(126,)\n",
      "(1, 126)\n",
      "[1.13555961e-06 1.92646947e-08 4.70413035e-03 7.70263159e-06\n",
      " 2.47785659e-03 1.18372325e-08 3.22530020e-08 9.88068879e-01\n",
      " 8.73757671e-08 2.29516509e-03 2.29439356e-05 2.42192694e-03]\n",
      "7\n",
      "name\n",
      "CHANCO: I am CHANCO aka chatbot + ONCO! Do you like it?\n",
      "\n",
      "You: no\n",
      "no\n",
      "(126,)\n",
      "(1, 126)\n",
      "[0.01372377 0.03492913 0.0160132  0.06962433 0.02848859 0.33007315\n",
      " 0.1130096  0.00571314 0.29544878 0.04470402 0.04499759 0.00327463]\n",
      "5\n",
      "CHANCO: Please give me more info :(\n",
      "\n",
      "You: what is your name\n",
      "what is your name\n",
      "(126,)\n",
      "(1, 126)\n",
      "[1.13555961e-06 1.92646947e-08 4.70413035e-03 7.70263159e-06\n",
      " 2.47785659e-03 1.18372325e-08 3.22530020e-08 9.88068879e-01\n",
      " 8.73757671e-08 2.29516509e-03 2.29439356e-05 2.42192694e-03]\n",
      "7\n",
      "name\n",
      "CHANCO: I am CHANCO! does it fit?\n",
      "\n",
      "You: nope\n",
      "nope\n",
      "(126,)\n",
      "(1, 126)\n",
      "[0.0782593  0.04512081 0.03745799 0.10621908 0.11039612 0.09547903\n",
      " 0.12577987 0.01944049 0.24344423 0.05306647 0.07578826 0.00954837]\n",
      "8\n",
      "CHANCO: Not sure I understand :(\n",
      "\n",
      "You: yes\n",
      "yes\n",
      "(126,)\n",
      "(1, 126)\n",
      "[0.00317127 0.02036372 0.01107757 0.00374055 0.01066967 0.00598334\n",
      " 0.00108405 0.02511321 0.01382637 0.840512   0.05922011 0.00523809]\n",
      "9\n",
      "name_yes\n",
      "CHANCO: See! I am smart ;)\n",
      "\n",
      "You: yes\n",
      "yes\n",
      "(126,)\n",
      "(1, 126)\n",
      "[0.00317127 0.02036372 0.01107757 0.00374055 0.01066967 0.00598334\n",
      " 0.00108405 0.02511321 0.01382637 0.840512   0.05922011 0.00523809]\n",
      "9\n",
      "name_yes\n",
      "CHANCO: Please give me more info :(\n",
      "\n",
      "You: yes\n",
      "yes\n",
      "(126,)\n",
      "(1, 126)\n",
      "[0.00317127 0.02036372 0.01107757 0.00374055 0.01066967 0.00598334\n",
      " 0.00108405 0.02511321 0.01382637 0.840512   0.05922011 0.00523809]\n",
      "9\n",
      "name_yes\n",
      "CHANCO: Not sure I understand :(\n",
      "\n",
      "You: i do not feel good\n",
      "i do not feel good\n",
      "(126,)\n",
      "(1, 126)\n",
      "[1.4564373e-06 4.1856003e-09 9.8564512e-01 2.0980432e-03 7.0207552e-03\n",
      " 1.6844743e-03 3.2640406e-04 3.0828740e-03 2.6212660e-05 9.8800621e-05\n",
      " 7.0147408e-08 1.5735121e-05]\n",
      "2\n",
      "first\n",
      "CHANCO: I am sorry to hear that, but do not panic! I can be of help :) What symptoms do you have?\n",
      "\n",
      "You: a cough\n",
      "a cough\n",
      "(126,)\n",
      "(1, 126)\n",
      "[3.7499689e-04 2.9641963e-03 7.6046126e-04 3.3410698e-02 4.9628492e-04\n",
      " 8.4448618e-01 5.2796442e-02 1.6597983e-04 5.6561939e-02 1.4233311e-04\n",
      " 7.0552826e-03 7.8513124e-04]\n",
      "5\n",
      "lc_initial\n",
      "CHANCO: I am sorry to hear that... These symptoms however can be less serious than you think! :) So please let me know further symptoms that you might have (Coughing up blood, a cough that does not stop, breathlessness)\n",
      "\n",
      "You: coughing blood\n",
      "coughing blood\n",
      "(126,)\n",
      "(1, 126)\n",
      "[2.0480491e-03 5.9142458e-04 3.7431605e-03 2.1490927e-03 9.6573848e-03\n",
      " 2.7684463e-02 9.1658831e-01 6.8844136e-05 3.7253931e-02 1.4340908e-04\n",
      " 2.2409133e-05 4.9508981e-05]\n",
      "6\n",
      "lc_main\n",
      "CHANCO: I suspect a chance of you having lung cancer... But there's always a chance of positivity! I suggest that you please get an x-ray uploaded on our detection section so that we can confirm\n",
      "\n",
      "You: thanks\n",
      "thanks\n",
      "(126,)\n",
      "(1, 126)\n",
      "[0.01357084 0.01185331 0.00817175 0.0085511  0.00162662 0.00264204\n",
      " 0.00210525 0.07089667 0.00182929 0.01402984 0.0429874  0.8217359 ]\n",
      "11\n",
      "CHANCO: Happy to help!\n"
     ]
    }
   ],
   "source": [
    "chat(\"bro\")"
   ]
  }
 ],
 "metadata": {
  "kernelspec": {
   "display_name": "Python 3",
   "language": "python",
   "name": "python3"
  },
  "language_info": {
   "codemirror_mode": {
    "name": "ipython",
    "version": 3
   },
   "file_extension": ".py",
   "mimetype": "text/x-python",
   "name": "python",
   "nbconvert_exporter": "python",
   "pygments_lexer": "ipython3",
   "version": "3.7.4"
  }
 },
 "nbformat": 4,
 "nbformat_minor": 4
}
