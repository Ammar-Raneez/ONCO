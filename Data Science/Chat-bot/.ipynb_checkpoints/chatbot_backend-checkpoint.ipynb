{
 "cells": [
  {
   "cell_type": "code",
   "execution_count": 1,
   "metadata": {
    "scrolled": false
   },
   "outputs": [
    {
     "name": "stdout",
     "output_type": "stream",
     "text": [
      "WARNING:tensorflow:From c:\\users\\ammuuu\\appdata\\local\\programs\\python\\python37\\lib\\site-packages\\tensorflow\\python\\compat\\v2_compat.py:96: disable_resource_variables (from tensorflow.python.ops.variable_scope) is deprecated and will be removed in a future version.\n",
      "Instructions for updating:\n",
      "non-resource variables are not supported in the long term\n",
      "curses is not supported on this machine (please install/reinstall curses for an optimal experience)\n"
     ]
    }
   ],
   "source": [
    "from flask import Flask\n",
    "import numpy as np\n",
    "from flask_cors import CORS\n",
    "from flask_restful import Api, Resource, reqparse\n",
    "from ChatbotFunctions import ChatbotFunctions"
   ]
  },
  {
   "cell_type": "code",
   "execution_count": 2,
   "metadata": {},
   "outputs": [],
   "source": [
    "app = Flask(__name__)\n",
    "chatbot_functions = ChatbotFunctions()\n",
    "app.config['CORS_HEADERS'] = 'Content-Type'\n",
    "CORS(app)\n",
    "api = Api(app)"
   ]
  },
  {
   "cell_type": "code",
   "execution_count": 3,
   "metadata": {},
   "outputs": [
    {
     "name": "stdout",
     "output_type": "stream",
     "text": [
      "WARNING:tensorflow:From c:\\users\\ammuuu\\appdata\\local\\programs\\python\\python37\\lib\\site-packages\\tflearn\\initializations.py:165: calling TruncatedNormal.__init__ (from tensorflow.python.ops.init_ops) with dtype is deprecated and will be removed in a future version.\n",
      "Instructions for updating:\n",
      "Call initializer instance with the dtype argument instead of passing it to the constructor\n",
      "INFO:tensorflow:Restoring parameters from C:\\Users\\Ammuuu\\Downloads\\learning\\UNI\\Semester II\\SDGP\\SDGP-ONCO\\Data Science\\Chat-bot\\chatbot.tflearn\n"
     ]
    }
   ],
   "source": [
    "model = chatbot_functions.create_model()"
   ]
  },
  {
   "cell_type": "code",
   "execution_count": 11,
   "metadata": {
    "scrolled": true
   },
   "outputs": [
    {
     "name": "stdout",
     "output_type": "stream",
     "text": [
      "Hello, bro, how can I help you today?\n",
      "CHANCO: Hello there!, how are you feeling today?\n",
      "\n"
     ]
    }
   ],
   "source": [
    "print(chatbot_functions.chat(\"how are you\", \"bro\", model))"
   ]
  },
  {
   "cell_type": "code",
   "execution_count": null,
   "metadata": {},
   "outputs": [],
   "source": [
    "class ChatbotChat(Resource):\n",
    "    username = \"bro\"\n",
    "\n",
    "    @staticmethod\n",
    "    def post(self):\n",
    "        parser = reqparse.RequestParser()\n",
    "        parser.add_argument('UserIn')\n",
    "        args = parser.parse_args()\n",
    "        \n",
    "        user_input_array = np.fromiter(args.values(), dtype=float)\n",
    "        chatbot_response = {'Chatbot Response' : chatbot_functions.chat(self.username, user_input_array)}\n",
    "        \n",
    "        return chatbot_response, 200"
   ]
  },
  {
   "cell_type": "code",
   "execution_count": null,
   "metadata": {},
   "outputs": [],
   "source": [
    "api.add_resource(ChatbotChat, '/chatbot-predict')"
   ]
  },
  {
   "cell_type": "code",
   "execution_count": null,
   "metadata": {
    "scrolled": false
   },
   "outputs": [],
   "source": [
    "if __name__ == '__main__':\n",
    "    app.run(host=\"0.0.0.0\", port=80)"
   ]
  }
 ],
 "metadata": {
  "kernelspec": {
   "display_name": "Python 3",
   "language": "python",
   "name": "python3"
  },
  "language_info": {
   "codemirror_mode": {
    "name": "ipython",
    "version": 3
   },
   "file_extension": ".py",
   "mimetype": "text/x-python",
   "name": "python",
   "nbconvert_exporter": "python",
   "pygments_lexer": "ipython3",
   "version": "3.7.4"
  }
 },
 "nbformat": 4,
 "nbformat_minor": 4
}
