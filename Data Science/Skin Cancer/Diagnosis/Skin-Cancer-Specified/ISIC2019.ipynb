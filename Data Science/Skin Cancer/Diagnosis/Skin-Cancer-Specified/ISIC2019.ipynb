{
 "cells": [
  {
   "cell_type": "code",
   "execution_count": 1,
   "metadata": {},
   "outputs": [],
   "source": [
    "import pandas as pd\n",
    "import numpy as np\n",
    "import matplotlib.pyplot as plt\n",
    "import seaborn as sns\n",
    "import tensorflow as tf\n",
    "import keras\n",
    "import os\n",
    "from glob import glob\n",
    "from tqdm import tqdm\n",
    "\n",
    "from PIL import Image\n",
    "from sklearn.metrics import confusion_matrix\n",
    "from keras.utils.np_utils import to_categorical\n",
    "from keras.models import Sequential, Model\n",
    "from keras.applications import InceptionResNetV2\n",
    "from keras import backend as K, layers\n",
    "from keras.layers.normalization import BatchNormalization\n",
    "from keras.utils.np_utils import to_categorical\n",
    "\n",
    "from keras.optimizers import Adam\n",
    "from keras.preprocessing.image import ImageDataGenerator\n",
    "from keras.callbacks import ReduceLROnPlateau, ModelCheckpoint, EarlyStopping\n",
    "from sklearn.model_selection import train_test_split"
   ]
  },
  {
   "cell_type": "code",
   "execution_count": 2,
   "metadata": {},
   "outputs": [],
   "source": [
    "#More readable mapping\n",
    "LESION_MAP = {\n",
    "    'NV': 'Melanocytic nevi',\n",
    "    'MEL': 'Melanoma',\n",
    "    'BKL': 'Benign keratosis-like lesions ',\n",
    "    'BCC': 'Basal cell carcinoma',\n",
    "    'AK': 'Actinic keratoses',\n",
    "    'VASC': 'Vascular lesions',\n",
    "    'DF': 'Dermatofibroma',\n",
    "    'SCC': 'Squamous Cell Carcinoma'\n",
    "}"
   ]
  },
  {
   "cell_type": "code",
   "execution_count": 3,
   "metadata": {},
   "outputs": [
    {
     "data": {
      "text/html": [
       "<div>\n",
       "<style scoped>\n",
       "    .dataframe tbody tr th:only-of-type {\n",
       "        vertical-align: middle;\n",
       "    }\n",
       "\n",
       "    .dataframe tbody tr th {\n",
       "        vertical-align: top;\n",
       "    }\n",
       "\n",
       "    .dataframe thead th {\n",
       "        text-align: right;\n",
       "    }\n",
       "</style>\n",
       "<table border=\"1\" class=\"dataframe\">\n",
       "  <thead>\n",
       "    <tr style=\"text-align: right;\">\n",
       "      <th></th>\n",
       "      <th>MEL</th>\n",
       "      <th>NV</th>\n",
       "      <th>BCC</th>\n",
       "      <th>AK</th>\n",
       "      <th>BKL</th>\n",
       "      <th>DF</th>\n",
       "      <th>VASC</th>\n",
       "      <th>SCC</th>\n",
       "      <th>UNK</th>\n",
       "    </tr>\n",
       "    <tr>\n",
       "      <th>image</th>\n",
       "      <th></th>\n",
       "      <th></th>\n",
       "      <th></th>\n",
       "      <th></th>\n",
       "      <th></th>\n",
       "      <th></th>\n",
       "      <th></th>\n",
       "      <th></th>\n",
       "      <th></th>\n",
       "    </tr>\n",
       "  </thead>\n",
       "  <tbody>\n",
       "    <tr>\n",
       "      <th>ISIC_0000000</th>\n",
       "      <td>0.0</td>\n",
       "      <td>1.0</td>\n",
       "      <td>0.0</td>\n",
       "      <td>0.0</td>\n",
       "      <td>0.0</td>\n",
       "      <td>0.0</td>\n",
       "      <td>0.0</td>\n",
       "      <td>0.0</td>\n",
       "      <td>0.0</td>\n",
       "    </tr>\n",
       "    <tr>\n",
       "      <th>ISIC_0000001</th>\n",
       "      <td>0.0</td>\n",
       "      <td>1.0</td>\n",
       "      <td>0.0</td>\n",
       "      <td>0.0</td>\n",
       "      <td>0.0</td>\n",
       "      <td>0.0</td>\n",
       "      <td>0.0</td>\n",
       "      <td>0.0</td>\n",
       "      <td>0.0</td>\n",
       "    </tr>\n",
       "    <tr>\n",
       "      <th>ISIC_0000002</th>\n",
       "      <td>1.0</td>\n",
       "      <td>0.0</td>\n",
       "      <td>0.0</td>\n",
       "      <td>0.0</td>\n",
       "      <td>0.0</td>\n",
       "      <td>0.0</td>\n",
       "      <td>0.0</td>\n",
       "      <td>0.0</td>\n",
       "      <td>0.0</td>\n",
       "    </tr>\n",
       "    <tr>\n",
       "      <th>ISIC_0000003</th>\n",
       "      <td>0.0</td>\n",
       "      <td>1.0</td>\n",
       "      <td>0.0</td>\n",
       "      <td>0.0</td>\n",
       "      <td>0.0</td>\n",
       "      <td>0.0</td>\n",
       "      <td>0.0</td>\n",
       "      <td>0.0</td>\n",
       "      <td>0.0</td>\n",
       "    </tr>\n",
       "    <tr>\n",
       "      <th>ISIC_0000004</th>\n",
       "      <td>1.0</td>\n",
       "      <td>0.0</td>\n",
       "      <td>0.0</td>\n",
       "      <td>0.0</td>\n",
       "      <td>0.0</td>\n",
       "      <td>0.0</td>\n",
       "      <td>0.0</td>\n",
       "      <td>0.0</td>\n",
       "      <td>0.0</td>\n",
       "    </tr>\n",
       "  </tbody>\n",
       "</table>\n",
       "</div>"
      ],
      "text/plain": [
       "              MEL   NV  BCC   AK  BKL   DF  VASC  SCC  UNK\n",
       "image                                                     \n",
       "ISIC_0000000  0.0  1.0  0.0  0.0  0.0  0.0   0.0  0.0  0.0\n",
       "ISIC_0000001  0.0  1.0  0.0  0.0  0.0  0.0   0.0  0.0  0.0\n",
       "ISIC_0000002  1.0  0.0  0.0  0.0  0.0  0.0   0.0  0.0  0.0\n",
       "ISIC_0000003  0.0  1.0  0.0  0.0  0.0  0.0   0.0  0.0  0.0\n",
       "ISIC_0000004  1.0  0.0  0.0  0.0  0.0  0.0   0.0  0.0  0.0"
      ]
     },
     "execution_count": 3,
     "metadata": {},
     "output_type": "execute_result"
    }
   ],
   "source": [
    "isic_df = pd.read_csv('../../../../../Skin Cancer Stuff/datasets/ISIC 2019/ISIC_2019_Training_GroundTruth.csv', index_col='image')\n",
    "isic_df.head()"
   ]
  },
  {
   "cell_type": "code",
   "execution_count": 4,
   "metadata": {
    "scrolled": true
   },
   "outputs": [
    {
     "data": {
      "text/plain": [
       "MEL     0\n",
       "NV      0\n",
       "BCC     0\n",
       "AK      0\n",
       "BKL     0\n",
       "DF      0\n",
       "VASC    0\n",
       "SCC     0\n",
       "UNK     0\n",
       "dtype: int64"
      ]
     },
     "execution_count": 4,
     "metadata": {},
     "output_type": "execute_result"
    }
   ],
   "source": [
    "#Searching for any empty data\n",
    "isic_df.isna().sum()"
   ]
  },
  {
   "cell_type": "code",
   "execution_count": 5,
   "metadata": {},
   "outputs": [
    {
     "name": "stderr",
     "output_type": "stream",
     "text": [
      "100%|██████████| 25331/25331 [00:50<00:00, 499.57it/s]\n"
     ]
    }
   ],
   "source": [
    "#Creating a new dataframe with label targets for easy access\n",
    "new_isic_dataset_columns = {\n",
    "    'image_id': [],\n",
    "    'target': []\n",
    "}\n",
    "\n",
    "for image_id, row in tqdm(isic_df.iterrows(), total = isic_df.shape[0]):\n",
    "    #Ignoring possibilities of any repeats\n",
    "    if image_id in new_isic_dataset_columns['image_id']:\n",
    "        continue\n",
    "        \n",
    "    #ignoring squamous cell carcinoma\n",
    "    scc = int(isic_df.loc[image_id]['SCC'])\n",
    "    if scc:\n",
    "        continue\n",
    "    \n",
    "    \n",
    "    new_isic_dataset_columns['image_id'].append(image_id)\n",
    "    mel = int(isic_df.loc[image_id]['MEL'])\n",
    "    nev = int(isic_df.loc[image_id]['NV'])\n",
    "    bcc = int(isic_df.loc[image_id]['BCC'])\n",
    "    ak = int(isic_df.loc[image_id]['AK'])\n",
    "    bkl = int(isic_df.loc[image_id]['BKL'])\n",
    "    df = int(isic_df.loc[image_id]['DF'])\n",
    "    vasc = int(isic_df.loc[image_id]['VASC'])\n",
    "    \n",
    "    #labels for each target\n",
    "    if mel:\n",
    "        new_isic_dataset_columns['target'].append('MEL')\n",
    "    elif nev:\n",
    "        new_isic_dataset_columns['target'].append('NEV')\n",
    "    elif bcc:\n",
    "        new_isic_dataset_columns['target'].append('BCC')\n",
    "    elif ak:\n",
    "        new_isic_dataset_columns['target'].append('AK')\n",
    "    elif bkl:\n",
    "        new_isic_dataset_columns['target'].append('BKL')\n",
    "    elif df:\n",
    "        new_isic_dataset_columns['target'].append('DF')\n",
    "    elif vasc:\n",
    "        new_isic_dataset_columns['target'].append('VASC')\n"
   ]
  },
  {
   "cell_type": "code",
   "execution_count": 6,
   "metadata": {
    "scrolled": true
   },
   "outputs": [],
   "source": [
    "new_isic_df = pd.DataFrame(new_isic_dataset_columns).set_index('image_id')"
   ]
  },
  {
   "cell_type": "code",
   "execution_count": 7,
   "metadata": {},
   "outputs": [],
   "source": [
    "#Path to images\n",
    "BASE_SKIN_DATASET = os.path.join(\"../../../../../Skin Cancer Stuff/datasets/ISIC 2019\")\n",
    "ALL_IMAGE_PATH_MAP = {os.path.splitext(os.path.basename(x))[0]: x\n",
    "                         for x in glob(os.path.join(BASE_SKIN_DATASET, '*', '*.jpg'))\n",
    "                     }\n",
    "\n",
    "#Fix the path\n",
    "for k, v in ALL_IMAGE_PATH_MAP.items():\n",
    "    a = ALL_IMAGE_PATH_MAP[k].replace(\"\\\\\\\\\", \"/\")\n",
    "    a = a.replace(\"\\\\\", \"/\")\n",
    "    ALL_IMAGE_PATH_MAP[k] = a"
   ]
  },
  {
   "cell_type": "code",
   "execution_count": 8,
   "metadata": {
    "scrolled": true
   },
   "outputs": [],
   "source": [
    "#Add path of each image to dataframe\n",
    "new_isic_df['image_path'] = new_isic_df.index.map(ALL_IMAGE_PATH_MAP.get)"
   ]
  },
  {
   "cell_type": "code",
   "execution_count": 9,
   "metadata": {},
   "outputs": [
    {
     "data": {
      "text/html": [
       "<div>\n",
       "<style scoped>\n",
       "    .dataframe tbody tr th:only-of-type {\n",
       "        vertical-align: middle;\n",
       "    }\n",
       "\n",
       "    .dataframe tbody tr th {\n",
       "        vertical-align: top;\n",
       "    }\n",
       "\n",
       "    .dataframe thead th {\n",
       "        text-align: right;\n",
       "    }\n",
       "</style>\n",
       "<table border=\"1\" class=\"dataframe\">\n",
       "  <thead>\n",
       "    <tr style=\"text-align: right;\">\n",
       "      <th></th>\n",
       "      <th>target</th>\n",
       "      <th>image_path</th>\n",
       "    </tr>\n",
       "    <tr>\n",
       "      <th>image_id</th>\n",
       "      <th></th>\n",
       "      <th></th>\n",
       "    </tr>\n",
       "  </thead>\n",
       "  <tbody>\n",
       "    <tr>\n",
       "      <th>ISIC_0000000</th>\n",
       "      <td>NEV</td>\n",
       "      <td>../../../../../Skin Cancer Stuff/datasets/ISIC...</td>\n",
       "    </tr>\n",
       "    <tr>\n",
       "      <th>ISIC_0000001</th>\n",
       "      <td>NEV</td>\n",
       "      <td>../../../../../Skin Cancer Stuff/datasets/ISIC...</td>\n",
       "    </tr>\n",
       "    <tr>\n",
       "      <th>ISIC_0000002</th>\n",
       "      <td>MEL</td>\n",
       "      <td>../../../../../Skin Cancer Stuff/datasets/ISIC...</td>\n",
       "    </tr>\n",
       "    <tr>\n",
       "      <th>ISIC_0000003</th>\n",
       "      <td>NEV</td>\n",
       "      <td>../../../../../Skin Cancer Stuff/datasets/ISIC...</td>\n",
       "    </tr>\n",
       "    <tr>\n",
       "      <th>ISIC_0000004</th>\n",
       "      <td>MEL</td>\n",
       "      <td>../../../../../Skin Cancer Stuff/datasets/ISIC...</td>\n",
       "    </tr>\n",
       "  </tbody>\n",
       "</table>\n",
       "</div>"
      ],
      "text/plain": [
       "             target                                         image_path\n",
       "image_id                                                              \n",
       "ISIC_0000000    NEV  ../../../../../Skin Cancer Stuff/datasets/ISIC...\n",
       "ISIC_0000001    NEV  ../../../../../Skin Cancer Stuff/datasets/ISIC...\n",
       "ISIC_0000002    MEL  ../../../../../Skin Cancer Stuff/datasets/ISIC...\n",
       "ISIC_0000003    NEV  ../../../../../Skin Cancer Stuff/datasets/ISIC...\n",
       "ISIC_0000004    MEL  ../../../../../Skin Cancer Stuff/datasets/ISIC..."
      ]
     },
     "execution_count": 9,
     "metadata": {},
     "output_type": "execute_result"
    }
   ],
   "source": [
    "new_isic_df.head()"
   ]
  },
  {
   "cell_type": "code",
   "execution_count": 10,
   "metadata": {},
   "outputs": [
    {
     "data": {
      "text/plain": [
       "NEV     12875\n",
       "MEL      4522\n",
       "BCC      3323\n",
       "BKL      2624\n",
       "AK        867\n",
       "VASC      253\n",
       "DF        239\n",
       "Name: target, dtype: int64"
      ]
     },
     "execution_count": 10,
     "metadata": {},
     "output_type": "execute_result"
    }
   ],
   "source": [
    "new_isic_df['target'].value_counts()"
   ]
  },
  {
   "cell_type": "code",
   "execution_count": 11,
   "metadata": {},
   "outputs": [
    {
     "data": {
      "text/plain": [
       "<AxesSubplot:>"
      ]
     },
     "execution_count": 11,
     "metadata": {},
     "output_type": "execute_result"
    },
    {
     "data": {
      "image/png": "[encoded data removed]",
      "text/plain": [
       "<Figure size 720x360 with 1 Axes>"
      ]
     },
     "metadata": {
      "needs_background": "light"
     },
     "output_type": "display_data"
    }
   ],
   "source": [
    "figure, axis_1 = plt.subplots(1, 1, figsize= (10, 5))\n",
    "new_isic_df['target'].value_counts().plot(kind='bar', ax=axis_1)"
   ]
  },
  {
   "cell_type": "markdown",
   "metadata": {},
   "source": [
    "# Reduce CSV, to take fewer images instead of all. And Further drop Vascular Lesions and Dermatofibroma, due to image lack"
   ]
  },
  {
   "cell_type": "code",
   "execution_count": 12,
   "metadata": {},
   "outputs": [],
   "source": [
    "count = 0\n",
    "for index, row in new_isic_df.iterrows():\n",
    "    if count == 9552:\n",
    "        break\n",
    "    if row[\"target\"] == 'NEV':\n",
    "        count+=1\n",
    "#         print(row)\n",
    "        new_isic_df.drop(index, inplace=True)\n",
    "    \n",
    "count = 0\n",
    "for index, row in new_isic_df.iterrows():\n",
    "    if count == 1199:\n",
    "        break\n",
    "    if row[\"target\"] == 'MEL':\n",
    "        count+=1\n",
    "        new_isic_df.drop(index, inplace=True)"
   ]
  },
  {
   "cell_type": "code",
   "execution_count": 13,
   "metadata": {
    "scrolled": false
   },
   "outputs": [
    {
     "data": {
      "text/plain": [
       "BCC     3323\n",
       "MEL     3323\n",
       "NEV     3323\n",
       "BKL     2624\n",
       "AK       867\n",
       "VASC     253\n",
       "DF       239\n",
       "Name: target, dtype: int64"
      ]
     },
     "execution_count": 13,
     "metadata": {},
     "output_type": "execute_result"
    }
   ],
   "source": [
    "new_isic_df['target'].value_counts()"
   ]
  },
  {
   "cell_type": "code",
   "execution_count": 14,
   "metadata": {},
   "outputs": [],
   "source": [
    "for index, row in new_isic_df.iterrows():\n",
    "    if row['target'] == 'VASC' or row['target'] == 'DF':\n",
    "        new_isic_df.drop(index, inplace=True)"
   ]
  },
  {
   "cell_type": "code",
   "execution_count": 15,
   "metadata": {},
   "outputs": [
    {
     "data": {
      "text/plain": [
       "BCC    3323\n",
       "MEL    3323\n",
       "NEV    3323\n",
       "BKL    2624\n",
       "AK      867\n",
       "Name: target, dtype: int64"
      ]
     },
     "execution_count": 15,
     "metadata": {},
     "output_type": "execute_result"
    }
   ],
   "source": [
    "new_isic_df['target'].value_counts()"
   ]
  },
  {
   "cell_type": "code",
   "execution_count": 16,
   "metadata": {},
   "outputs": [
    {
     "data": {
      "text/plain": [
       "<AxesSubplot:>"
      ]
     },
     "execution_count": 16,
     "metadata": {},
     "output_type": "execute_result"
    },
    {
     "data": {
      "image/png": "[encoded data removed]",
      "text/plain": [
       "<Figure size 720x360 with 1 Axes>"
      ]
     },
     "metadata": {
      "needs_background": "light"
     },
     "output_type": "display_data"
    }
   ],
   "source": [
    "figure, axis_1 = plt.subplots(1, 1, figsize= (10, 5))\n",
    "new_isic_df['target'].value_counts().plot(kind='bar', ax=axis_1)"
   ]
  },
  {
   "cell_type": "code",
   "execution_count": 17,
   "metadata": {},
   "outputs": [],
   "source": [
    "#Adding corresponding image rows for easy access\n",
    "new_isic_df['image'] = new_isic_df['image_path'].map(lambda x: np.asarray(Image.open(x).resize((224,224))))"
   ]
  },
  {
   "cell_type": "code",
   "execution_count": 18,
   "metadata": {},
   "outputs": [],
   "source": [
    "new_isic_df['lesion_type_index'] = pd.Categorical(new_isic_df['target']).codes"
   ]
  },
  {
   "cell_type": "code",
   "execution_count": 19,
   "metadata": {
    "scrolled": true
   },
   "outputs": [
    {
     "data": {
      "text/html": [
       "<div>\n",
       "<style scoped>\n",
       "    .dataframe tbody tr th:only-of-type {\n",
       "        vertical-align: middle;\n",
       "    }\n",
       "\n",
       "    .dataframe tbody tr th {\n",
       "        vertical-align: top;\n",
       "    }\n",
       "\n",
       "    .dataframe thead th {\n",
       "        text-align: right;\n",
       "    }\n",
       "</style>\n",
       "<table border=\"1\" class=\"dataframe\">\n",
       "  <thead>\n",
       "    <tr style=\"text-align: right;\">\n",
       "      <th></th>\n",
       "      <th>target</th>\n",
       "      <th>image_path</th>\n",
       "      <th>image</th>\n",
       "      <th>lesion_type_index</th>\n",
       "    </tr>\n",
       "    <tr>\n",
       "      <th>image_id</th>\n",
       "      <th></th>\n",
       "      <th></th>\n",
       "      <th></th>\n",
       "      <th></th>\n",
       "    </tr>\n",
       "  </thead>\n",
       "  <tbody>\n",
       "    <tr>\n",
       "      <th>ISIC_0010491</th>\n",
       "      <td>BKL</td>\n",
       "      <td>../../../../../Skin Cancer Stuff/datasets/ISIC...</td>\n",
       "      <td>[[[126, 115, 113], [121, 105, 102], [90, 67, 6...</td>\n",
       "      <td>2</td>\n",
       "    </tr>\n",
       "    <tr>\n",
       "      <th>ISIC_0012086_downsampled</th>\n",
       "      <td>BKL</td>\n",
       "      <td>../../../../../Skin Cancer Stuff/datasets/ISIC...</td>\n",
       "      <td>[[[16, 17, 20], [16, 15, 20], [15, 15, 18], [1...</td>\n",
       "      <td>2</td>\n",
       "    </tr>\n",
       "    <tr>\n",
       "      <th>ISIC_0012090_downsampled</th>\n",
       "      <td>BKL</td>\n",
       "      <td>../../../../../Skin Cancer Stuff/datasets/ISIC...</td>\n",
       "      <td>[[[8, 7, 9], [18, 16, 18], [74, 65, 66], [88, ...</td>\n",
       "      <td>2</td>\n",
       "    </tr>\n",
       "    <tr>\n",
       "      <th>ISIC_0012103_downsampled</th>\n",
       "      <td>BKL</td>\n",
       "      <td>../../../../../Skin Cancer Stuff/datasets/ISIC...</td>\n",
       "      <td>[[[16, 19, 23], [16, 18, 23], [14, 14, 17], [1...</td>\n",
       "      <td>2</td>\n",
       "    </tr>\n",
       "    <tr>\n",
       "      <th>ISIC_0012117_downsampled</th>\n",
       "      <td>BKL</td>\n",
       "      <td>../../../../../Skin Cancer Stuff/datasets/ISIC...</td>\n",
       "      <td>[[[15, 15, 15], [14, 14, 14], [12, 12, 12], [1...</td>\n",
       "      <td>2</td>\n",
       "    </tr>\n",
       "  </tbody>\n",
       "</table>\n",
       "</div>"
      ],
      "text/plain": [
       "                         target  \\\n",
       "image_id                          \n",
       "ISIC_0010491                BKL   \n",
       "ISIC_0012086_downsampled    BKL   \n",
       "ISIC_0012090_downsampled    BKL   \n",
       "ISIC_0012103_downsampled    BKL   \n",
       "ISIC_0012117_downsampled    BKL   \n",
       "\n",
       "                                                                 image_path  \\\n",
       "image_id                                                                      \n",
       "ISIC_0010491              ../../../../../Skin Cancer Stuff/datasets/ISIC...   \n",
       "ISIC_0012086_downsampled  ../../../../../Skin Cancer Stuff/datasets/ISIC...   \n",
       "ISIC_0012090_downsampled  ../../../../../Skin Cancer Stuff/datasets/ISIC...   \n",
       "ISIC_0012103_downsampled  ../../../../../Skin Cancer Stuff/datasets/ISIC...   \n",
       "ISIC_0012117_downsampled  ../../../../../Skin Cancer Stuff/datasets/ISIC...   \n",
       "\n",
       "                                                                      image  \\\n",
       "image_id                                                                      \n",
       "ISIC_0010491              [[[126, 115, 113], [121, 105, 102], [90, 67, 6...   \n",
       "ISIC_0012086_downsampled  [[[16, 17, 20], [16, 15, 20], [15, 15, 18], [1...   \n",
       "ISIC_0012090_downsampled  [[[8, 7, 9], [18, 16, 18], [74, 65, 66], [88, ...   \n",
       "ISIC_0012103_downsampled  [[[16, 19, 23], [16, 18, 23], [14, 14, 17], [1...   \n",
       "ISIC_0012117_downsampled  [[[15, 15, 15], [14, 14, 14], [12, 12, 12], [1...   \n",
       "\n",
       "                          lesion_type_index  \n",
       "image_id                                     \n",
       "ISIC_0010491                              2  \n",
       "ISIC_0012086_downsampled                  2  \n",
       "ISIC_0012090_downsampled                  2  \n",
       "ISIC_0012103_downsampled                  2  \n",
       "ISIC_0012117_downsampled                  2  "
      ]
     },
     "execution_count": 19,
     "metadata": {},
     "output_type": "execute_result"
    }
   ],
   "source": [
    "new_isic_df.head()"
   ]
  },
  {
   "cell_type": "code",
   "execution_count": 20,
   "metadata": {},
   "outputs": [],
   "source": [
    "#Image path can be removed, since the images are now already loaded in\n",
    "del new_isic_df['image_path']"
   ]
  },
  {
   "cell_type": "code",
   "execution_count": 21,
   "metadata": {},
   "outputs": [],
   "source": [
    "#x values and y values\n",
    "input_features = new_isic_df.drop(columns=['lesion_type_index'],axis = 1)\n",
    "labels = new_isic_df['lesion_type_index']"
   ]
  },
  {
   "cell_type": "code",
   "execution_count": 22,
   "metadata": {},
   "outputs": [],
   "source": [
    "#split data into train and test\n",
    "X_train, X_test, Y_train, Y_test = train_test_split(input_features, labels, test_size=0.20, random_state=42)"
   ]
  },
  {
   "cell_type": "markdown",
   "metadata": {},
   "source": [
    "## Train Data Normalization. Done in steps due to memory constraints"
   ]
  },
  {
   "cell_type": "code",
   "execution_count": 23,
   "metadata": {},
   "outputs": [],
   "source": [
    "#convert image array into list\n",
    "x_train = np.asarray(X_train['image'].tolist())"
   ]
  },
  {
   "cell_type": "code",
   "execution_count": 24,
   "metadata": {
    "scrolled": true
   },
   "outputs": [
    {
     "data": {
      "text/plain": [
       "10768"
      ]
     },
     "execution_count": 24,
     "metadata": {},
     "output_type": "execute_result"
    }
   ],
   "source": [
    "len(x_train)"
   ]
  },
  {
   "cell_type": "code",
   "execution_count": 25,
   "metadata": {},
   "outputs": [],
   "source": [
    "x_train_mean = np.mean(x_train[:500])"
   ]
  },
  {
   "cell_type": "code",
   "execution_count": 26,
   "metadata": {},
   "outputs": [],
   "source": [
    "x_train_std = np.std(x_train[:500])"
   ]
  },
  {
   "cell_type": "code",
   "execution_count": 27,
   "metadata": {},
   "outputs": [],
   "source": [
    "x_train[:500] = (x_train[:500] - x_train_mean) / x_train_std"
   ]
  },
  {
   "cell_type": "code",
   "execution_count": 28,
   "metadata": {},
   "outputs": [],
   "source": [
    "x_train_mean = np.mean(x_train[500:1000])"
   ]
  },
  {
   "cell_type": "code",
   "execution_count": 29,
   "metadata": {},
   "outputs": [],
   "source": [
    "x_train_std = np.std(x_train[500:1000])"
   ]
  },
  {
   "cell_type": "code",
   "execution_count": 30,
   "metadata": {},
   "outputs": [],
   "source": [
    "x_train[500:1000] = (x_train[500:1000] - x_train_mean) / x_train_std"
   ]
  },
  {
   "cell_type": "code",
   "execution_count": 31,
   "metadata": {},
   "outputs": [],
   "source": [
    "x_train_mean = np.mean(x_train[1000:1500])"
   ]
  },
  {
   "cell_type": "code",
   "execution_count": 32,
   "metadata": {},
   "outputs": [],
   "source": [
    "x_train_std = np.std(x_train[1000:1500])"
   ]
  },
  {
   "cell_type": "code",
   "execution_count": 33,
   "metadata": {},
   "outputs": [],
   "source": [
    "x_train[1000:1500] = (x_train[1000:1500] - x_train_mean) / x_train_std"
   ]
  },
  {
   "cell_type": "code",
   "execution_count": 34,
   "metadata": {},
   "outputs": [],
   "source": [
    "x_train_mean = np.mean(x_train[1500:2000])"
   ]
  },
  {
   "cell_type": "code",
   "execution_count": 35,
   "metadata": {},
   "outputs": [],
   "source": [
    "x_train_std = np.std(x_train[1500:2000])"
   ]
  },
  {
   "cell_type": "code",
   "execution_count": 36,
   "metadata": {},
   "outputs": [],
   "source": [
    "x_train[1500:2000] = (x_train[1500:2000] - x_train_mean) / x_train_std"
   ]
  },
  {
   "cell_type": "code",
   "execution_count": 37,
   "metadata": {},
   "outputs": [],
   "source": [
    "x_train_mean = np.mean(x_train[2000:2500])"
   ]
  },
  {
   "cell_type": "code",
   "execution_count": 38,
   "metadata": {},
   "outputs": [],
   "source": [
    "x_train_std = np.std(x_train[2000:2500])"
   ]
  },
  {
   "cell_type": "code",
   "execution_count": 39,
   "metadata": {},
   "outputs": [],
   "source": [
    "x_train[2000:2500] = (x_train[2000:2500] - x_train_mean) / x_train_std"
   ]
  },
  {
   "cell_type": "code",
   "execution_count": 40,
   "metadata": {},
   "outputs": [],
   "source": [
    "x_train_mean = np.mean(x_train[2500:3000])"
   ]
  },
  {
   "cell_type": "code",
   "execution_count": 41,
   "metadata": {},
   "outputs": [],
   "source": [
    "x_train_std = np.std(x_train[2500:3000])"
   ]
  },
  {
   "cell_type": "code",
   "execution_count": 42,
   "metadata": {},
   "outputs": [],
   "source": [
    "x_train[2500:3000] = (x_train[2500:3000] - x_train_mean) / x_train_std"
   ]
  },
  {
   "cell_type": "code",
   "execution_count": 43,
   "metadata": {},
   "outputs": [],
   "source": [
    "x_train_mean = np.mean(x_train[3000:3500])"
   ]
  },
  {
   "cell_type": "code",
   "execution_count": 44,
   "metadata": {},
   "outputs": [],
   "source": [
    "x_train_std = np.std(x_train[3000:3500])"
   ]
  },
  {
   "cell_type": "code",
   "execution_count": 45,
   "metadata": {},
   "outputs": [],
   "source": [
    "x_train[3000:3500] = (x_train[3000:3500] - x_train_mean) / x_train_std"
   ]
  },
  {
   "cell_type": "code",
   "execution_count": 46,
   "metadata": {},
   "outputs": [],
   "source": [
    "x_train_mean = np.mean(x_train[3500:4000])"
   ]
  },
  {
   "cell_type": "code",
   "execution_count": 47,
   "metadata": {},
   "outputs": [],
   "source": [
    "x_train_std = np.std(x_train[3500:4000])"
   ]
  },
  {
   "cell_type": "code",
   "execution_count": 48,
   "metadata": {},
   "outputs": [],
   "source": [
    "x_train[3500:4000] = (x_train[3500:4000] - x_train_mean) / x_train_std"
   ]
  },
  {
   "cell_type": "code",
   "execution_count": 49,
   "metadata": {},
   "outputs": [],
   "source": [
    "x_train_mean = np.mean(x_train[4000:4500])"
   ]
  },
  {
   "cell_type": "code",
   "execution_count": 50,
   "metadata": {},
   "outputs": [],
   "source": [
    "x_train_std = np.std(x_train[4000:4500])"
   ]
  },
  {
   "cell_type": "code",
   "execution_count": 51,
   "metadata": {},
   "outputs": [],
   "source": [
    "x_train[4000:4500] = (x_train[4000:4500] - x_train_mean) / x_train_std"
   ]
  },
  {
   "cell_type": "code",
   "execution_count": 52,
   "metadata": {},
   "outputs": [],
   "source": [
    "x_train_mean = np.mean(x_train[4500:5000])"
   ]
  },
  {
   "cell_type": "code",
   "execution_count": 53,
   "metadata": {},
   "outputs": [],
   "source": [
    "x_train_std = np.std(x_train[4500:5000])"
   ]
  },
  {
   "cell_type": "code",
   "execution_count": 54,
   "metadata": {},
   "outputs": [],
   "source": [
    "x_train[4500:5000] = (x_train[4500:5000] - x_train_mean) / x_train_std"
   ]
  },
  {
   "cell_type": "code",
   "execution_count": 55,
   "metadata": {},
   "outputs": [],
   "source": [
    "x_train_mean = np.mean(x_train[5000:5500])"
   ]
  },
  {
   "cell_type": "code",
   "execution_count": 56,
   "metadata": {},
   "outputs": [],
   "source": [
    "x_train_std = np.std(x_train[5000:5500])"
   ]
  },
  {
   "cell_type": "code",
   "execution_count": 57,
   "metadata": {},
   "outputs": [],
   "source": [
    "x_train[5000:5500] = (x_train[5000:5500] - x_train_mean) / x_train_std"
   ]
  },
  {
   "cell_type": "code",
   "execution_count": 58,
   "metadata": {},
   "outputs": [],
   "source": [
    "x_train_mean = np.mean(x_train[5500:6000])"
   ]
  },
  {
   "cell_type": "code",
   "execution_count": 59,
   "metadata": {},
   "outputs": [],
   "source": [
    "x_train_std = np.std(x_train[5500:6000])"
   ]
  },
  {
   "cell_type": "code",
   "execution_count": 60,
   "metadata": {},
   "outputs": [],
   "source": [
    "x_train[5500:6000] = (x_train[5500:6000] - x_train_mean) / x_train_std"
   ]
  },
  {
   "cell_type": "code",
   "execution_count": 61,
   "metadata": {},
   "outputs": [],
   "source": [
    "x_train_mean = np.mean(x_train[6000:6500])"
   ]
  },
  {
   "cell_type": "code",
   "execution_count": 62,
   "metadata": {},
   "outputs": [],
   "source": [
    "x_train_std = np.std(x_train[6000:6500])"
   ]
  },
  {
   "cell_type": "code",
   "execution_count": 63,
   "metadata": {},
   "outputs": [],
   "source": [
    "x_train[6000:6500] = (x_train[6000:6500] - x_train_mean) / x_train_std"
   ]
  },
  {
   "cell_type": "code",
   "execution_count": 64,
   "metadata": {},
   "outputs": [],
   "source": [
    "x_train_mean = np.mean(x_train[6500:7000])"
   ]
  },
  {
   "cell_type": "code",
   "execution_count": 65,
   "metadata": {},
   "outputs": [],
   "source": [
    "x_train_std = np.std(x_train[6500:7000])"
   ]
  },
  {
   "cell_type": "code",
   "execution_count": 66,
   "metadata": {},
   "outputs": [],
   "source": [
    "x_train[6500:7000] = (x_train[6500:7000] - x_train_mean) / x_train_std"
   ]
  },
  {
   "cell_type": "code",
   "execution_count": 67,
   "metadata": {},
   "outputs": [],
   "source": [
    "x_train_mean = np.mean(x_train[7000:7500])"
   ]
  },
  {
   "cell_type": "code",
   "execution_count": 68,
   "metadata": {},
   "outputs": [],
   "source": [
    "x_train_std = np.std(x_train[7000:7500])"
   ]
  },
  {
   "cell_type": "code",
   "execution_count": 69,
   "metadata": {},
   "outputs": [],
   "source": [
    "x_train[7000:7500] = (x_train[7000:7500] - x_train_mean) / x_train_std"
   ]
  },
  {
   "cell_type": "code",
   "execution_count": 70,
   "metadata": {},
   "outputs": [],
   "source": [
    "x_train_mean = np.mean(x_train[7500:8000])"
   ]
  },
  {
   "cell_type": "code",
   "execution_count": 71,
   "metadata": {},
   "outputs": [],
   "source": [
    "x_train_std = np.std(x_train[7500:8000])"
   ]
  },
  {
   "cell_type": "code",
   "execution_count": 72,
   "metadata": {},
   "outputs": [],
   "source": [
    "x_train[7500:8000] = (x_train[7500:8000] - x_train_mean) / x_train_std"
   ]
  },
  {
   "cell_type": "code",
   "execution_count": 73,
   "metadata": {},
   "outputs": [],
   "source": [
    "x_train_mean = np.mean(x_train[8000:8500])"
   ]
  },
  {
   "cell_type": "code",
   "execution_count": 74,
   "metadata": {},
   "outputs": [],
   "source": [
    "x_train_std = np.std(x_train[8000:8500])"
   ]
  },
  {
   "cell_type": "code",
   "execution_count": 75,
   "metadata": {},
   "outputs": [],
   "source": [
    "x_train[8000:8500] = (x_train[8000:8500] - x_train_mean) / x_train_std"
   ]
  },
  {
   "cell_type": "code",
   "execution_count": 76,
   "metadata": {},
   "outputs": [],
   "source": [
    "x_train_mean = np.mean(x_train[8500:9000])"
   ]
  },
  {
   "cell_type": "code",
   "execution_count": 77,
   "metadata": {},
   "outputs": [],
   "source": [
    "x_train_std = np.std(x_train[8500:9000])"
   ]
  },
  {
   "cell_type": "code",
   "execution_count": 78,
   "metadata": {},
   "outputs": [],
   "source": [
    "x_train[8500:9000] = (x_train[8500:9000] - x_train_mean) / x_train_std"
   ]
  },
  {
   "cell_type": "code",
   "execution_count": 79,
   "metadata": {},
   "outputs": [],
   "source": [
    "x_train_mean = np.mean(x_train[9000:9500])"
   ]
  },
  {
   "cell_type": "code",
   "execution_count": 80,
   "metadata": {},
   "outputs": [],
   "source": [
    "x_train_std = np.std(x_train[9000:9500])"
   ]
  },
  {
   "cell_type": "code",
   "execution_count": 81,
   "metadata": {},
   "outputs": [],
   "source": [
    "x_train[9000:9500] = (x_train[9000:9500] - x_train_mean) / x_train_std"
   ]
  },
  {
   "cell_type": "code",
   "execution_count": 82,
   "metadata": {},
   "outputs": [],
   "source": [
    "x_train_mean = np.mean(x_train[9500:10000])"
   ]
  },
  {
   "cell_type": "code",
   "execution_count": 83,
   "metadata": {},
   "outputs": [],
   "source": [
    "x_train_std = np.std(x_train[9500:10000])"
   ]
  },
  {
   "cell_type": "code",
   "execution_count": 84,
   "metadata": {},
   "outputs": [],
   "source": [
    "x_train[9500:10000] = (x_train[9500:10000] - x_train_mean) / x_train_std"
   ]
  },
  {
   "cell_type": "code",
   "execution_count": 85,
   "metadata": {},
   "outputs": [],
   "source": [
    "x_train_mean = np.mean(x_train[10000:10500])"
   ]
  },
  {
   "cell_type": "code",
   "execution_count": 86,
   "metadata": {},
   "outputs": [],
   "source": [
    "x_train_std = np.std(x_train[10000:10500])"
   ]
  },
  {
   "cell_type": "code",
   "execution_count": 87,
   "metadata": {},
   "outputs": [],
   "source": [
    "x_train[10000:10500] = (x_train[10000:10500] - x_train_mean) / x_train_std"
   ]
  },
  {
   "cell_type": "code",
   "execution_count": 88,
   "metadata": {},
   "outputs": [],
   "source": [
    "x_train_mean = np.mean(x_train[10500:11000])"
   ]
  },
  {
   "cell_type": "code",
   "execution_count": 89,
   "metadata": {},
   "outputs": [],
   "source": [
    "x_train_std = np.std(x_train[10500:11000])"
   ]
  },
  {
   "cell_type": "code",
   "execution_count": 90,
   "metadata": {},
   "outputs": [],
   "source": [
    "x_train[10500:11000] = (x_train[10500:11000] - x_train_mean) / x_train_std"
   ]
  },
  {
   "cell_type": "markdown",
   "metadata": {},
   "source": [
    "## Test Data Normalization"
   ]
  },
  {
   "cell_type": "code",
   "execution_count": 91,
   "metadata": {},
   "outputs": [],
   "source": [
    "x_test = np.asarray(X_test['image'].tolist())"
   ]
  },
  {
   "cell_type": "code",
   "execution_count": 92,
   "metadata": {},
   "outputs": [
    {
     "data": {
      "text/plain": [
       "2692"
      ]
     },
     "execution_count": 92,
     "metadata": {},
     "output_type": "execute_result"
    }
   ],
   "source": [
    "len(x_test)"
   ]
  },
  {
   "cell_type": "code",
   "execution_count": 93,
   "metadata": {},
   "outputs": [],
   "source": [
    "x_test_mean = np.mean(x_test[:500])"
   ]
  },
  {
   "cell_type": "code",
   "execution_count": 94,
   "metadata": {},
   "outputs": [],
   "source": [
    "x_test_std = np.std(x_test[:500])"
   ]
  },
  {
   "cell_type": "code",
   "execution_count": 95,
   "metadata": {},
   "outputs": [],
   "source": [
    "x_test[:500] = (x_test[:500] - x_test_mean) / x_test_std"
   ]
  },
  {
   "cell_type": "code",
   "execution_count": 96,
   "metadata": {},
   "outputs": [],
   "source": [
    "x_test_mean = np.mean(x_test[500:1000])"
   ]
  },
  {
   "cell_type": "code",
   "execution_count": 97,
   "metadata": {},
   "outputs": [],
   "source": [
    "x_test_std = np.std(x_test[500:1000])"
   ]
  },
  {
   "cell_type": "code",
   "execution_count": 98,
   "metadata": {},
   "outputs": [],
   "source": [
    "x_test[500:1000] = (x_test[500:1000] - x_test_mean) / x_test_std"
   ]
  },
  {
   "cell_type": "code",
   "execution_count": 99,
   "metadata": {},
   "outputs": [],
   "source": [
    "x_test_mean = np.mean(x_test[1000:1500])"
   ]
  },
  {
   "cell_type": "code",
   "execution_count": 100,
   "metadata": {},
   "outputs": [],
   "source": [
    "x_test_std = np.std(x_test[1000:1500])"
   ]
  },
  {
   "cell_type": "code",
   "execution_count": 101,
   "metadata": {},
   "outputs": [],
   "source": [
    "x_test[1000:1500] = (x_test[1000:1500] - x_test_mean) / x_test_std"
   ]
  },
  {
   "cell_type": "code",
   "execution_count": 102,
   "metadata": {},
   "outputs": [],
   "source": [
    "x_test_mean = np.mean(x_test[1500:2000])"
   ]
  },
  {
   "cell_type": "code",
   "execution_count": 103,
   "metadata": {},
   "outputs": [],
   "source": [
    "x_test_std = np.std(x_test[1500:2000])"
   ]
  },
  {
   "cell_type": "code",
   "execution_count": 104,
   "metadata": {},
   "outputs": [],
   "source": [
    "x_test[1500:2000] = (x_test[1500:2000] - x_test_mean) / x_test_std"
   ]
  },
  {
   "cell_type": "code",
   "execution_count": 105,
   "metadata": {},
   "outputs": [],
   "source": [
    "x_test_mean = np.mean(x_test[2000:2500])"
   ]
  },
  {
   "cell_type": "code",
   "execution_count": 106,
   "metadata": {},
   "outputs": [],
   "source": [
    "x_test_std = np.std(x_test[2000:2500])"
   ]
  },
  {
   "cell_type": "code",
   "execution_count": 107,
   "metadata": {},
   "outputs": [],
   "source": [
    "x_test[2000:2500] = (x_test[2000:2500] - x_test_mean) / x_test_std"
   ]
  },
  {
   "cell_type": "code",
   "execution_count": 108,
   "metadata": {},
   "outputs": [],
   "source": [
    "x_test_mean = np.mean(x_test[2500:3000])"
   ]
  },
  {
   "cell_type": "code",
   "execution_count": 109,
   "metadata": {},
   "outputs": [],
   "source": [
    "x_test_std = np.std(x_test[2500:3000])"
   ]
  },
  {
   "cell_type": "code",
   "execution_count": 110,
   "metadata": {},
   "outputs": [],
   "source": [
    "x_test[2500:3000] = (x_test[2500:3000] - x_test_mean) / x_test_std"
   ]
  },
  {
   "cell_type": "markdown",
   "metadata": {},
   "source": [
    "## Back to Regular Code"
   ]
  },
  {
   "cell_type": "code",
   "execution_count": 111,
   "metadata": {},
   "outputs": [],
   "source": [
    "#One-hot encode the labels\n",
    "y_train = to_categorical(Y_train, num_classes = 5)\n",
    "y_test = to_categorical(Y_test, num_classes = 5)"
   ]
  },
  {
   "cell_type": "code",
   "execution_count": 112,
   "metadata": {},
   "outputs": [],
   "source": [
    "#split training data into train and validation sets\n",
    "x_train, x_validate, y_train, y_validate = train_test_split(x_train, y_train, test_size = 0.2, random_state = 2)"
   ]
  },
  {
   "cell_type": "code",
   "execution_count": 113,
   "metadata": {},
   "outputs": [
    {
     "name": "stdout",
     "output_type": "stream",
     "text": [
      "(8614, 224, 224, 3)\n",
      "(8614, 5)\n",
      "(2154, 224, 224, 3)\n",
      "(2154, 5)\n"
     ]
    }
   ],
   "source": [
    "print(x_train.shape)\n",
    "print(y_train.shape)\n",
    "print(x_validate.shape)\n",
    "print(y_validate.shape)"
   ]
  },
  {
   "cell_type": "code",
   "execution_count": 114,
   "metadata": {},
   "outputs": [],
   "source": [
    "#reshape images to (224, 224, 3)\n",
    "# x_train = x_train.reshape(x_train.shape[0], *(224, 224, 3))\n",
    "# x_test = x_test.reshape(x_test.shape[0], *(224, 224, 3))\n",
    "# x_validate = x_validate.reshape(x_validate.shape[0], *(224, 224, 3))"
   ]
  },
  {
   "cell_type": "code",
   "execution_count": 115,
   "metadata": {},
   "outputs": [],
   "source": [
    "#Image data Augmentation\n",
    "datagen = ImageDataGenerator(\n",
    "        rotation_range=10,  \n",
    "        zoom_range = 0.1, \n",
    "        width_shift_range=0.1,\n",
    "        height_shift_range=0.1, \n",
    "        horizontal_flip=False\n",
    ")"
   ]
  },
  {
   "cell_type": "code",
   "execution_count": 116,
   "metadata": {
    "scrolled": false
   },
   "outputs": [
    {
     "data": {
      "text/plain": [
       "8614"
      ]
     },
     "execution_count": 116,
     "metadata": {},
     "output_type": "execute_result"
    }
   ],
   "source": [
    "len(x_train)"
   ]
  },
  {
   "cell_type": "code",
   "execution_count": 117,
   "metadata": {},
   "outputs": [],
   "source": [
    "datagen.fit(x_train[:2000])"
   ]
  },
  {
   "cell_type": "code",
   "execution_count": 118,
   "metadata": {},
   "outputs": [],
   "source": [
    "datagen.fit(x_train[2000:3500])"
   ]
  },
  {
   "cell_type": "code",
   "execution_count": 119,
   "metadata": {},
   "outputs": [],
   "source": [
    "datagen.fit(x_train[3500:5000])"
   ]
  },
  {
   "cell_type": "code",
   "execution_count": 120,
   "metadata": {},
   "outputs": [],
   "source": [
    "datagen.fit(x_train[5000:6500])"
   ]
  },
  {
   "cell_type": "code",
   "execution_count": 121,
   "metadata": {},
   "outputs": [],
   "source": [
    "datagen.fit(x_train[6500:8000])"
   ]
  },
  {
   "cell_type": "code",
   "execution_count": 122,
   "metadata": {},
   "outputs": [],
   "source": [
    "datagen.fit(x_train[8000:9500])"
   ]
  },
  {
   "cell_type": "code",
   "execution_count": 123,
   "metadata": {},
   "outputs": [],
   "source": [
    "IMAGE_SIZE = (224, 224, 3)\n",
    "BATCH_SIZE = 10\n",
    "EPOCHS = 5"
   ]
  },
  {
   "cell_type": "code",
   "execution_count": 129,
   "metadata": {},
   "outputs": [],
   "source": [
    "base_model = InceptionResNetV2(include_top=False, input_shape=IMAGE_SIZE, weights=\"imagenet\")\n",
    "\n",
    "x = base_model.output\n",
    "x = layers.GlobalAveragePooling2D()(x)\n",
    "x = layers.Dense(1024)(x)\n",
    "#Model seems to be overfitting\n",
    "x = layers.Dropout(0.4)(x)\n",
    "x = layers.Dropout(0.4)(x)\n",
    "predictions = layers.Dense(5, activation=\"softmax\")(x)\n",
    "\n",
    "model = Model(inputs=base_model.input, outputs=predictions)\n",
    "model.compile(optimizer=Adam(lr=0.0001), loss='categorical_crossentropy', metrics=['accuracy'])"
   ]
  },
  {
   "cell_type": "code",
   "execution_count": 125,
   "metadata": {},
   "outputs": [],
   "source": [
    "#Callback functions, to prevent overfitting, and model checkpointing\n",
    "early_stopper = EarlyStopping(monitor='val_loss', min_delta=0.0001, patience=3, verbose=1, mode='auto')\n",
    "learning_rate_reduction = ReduceLROnPlateau(monitor='val_loss', min_delta=0.0004, patience=2, factor=0.1, min_lr=1e-6, mode='auto', verbose=1)\n",
    "model_checkpoint = ModelCheckpoint('models/checkpoint models/dense_model_{epoch:02d}-{val_accuracy:.2f}ML.h5', monitor='val_accuracy', verbose=1, save_best_only=True, mode='max', save_weights_only = True)\n",
    "lst_callbacks = [early_stopper, learning_rate_reduction, model_checkpoint]"
   ]
  },
  {
   "cell_type": "code",
   "execution_count": 130,
   "metadata": {},
   "outputs": [],
   "source": [
    "model.load_weights(\"models/model_11_epochs.h5\")"
   ]
  },
  {
   "cell_type": "code",
   "execution_count": 131,
   "metadata": {
    "scrolled": true
   },
   "outputs": [
    {
     "name": "stdout",
     "output_type": "stream",
     "text": [
      "Epoch 1/3\n",
      "861/861 [==============================] - ETA: 0s - loss: 0.5681 - accuracy: 0.7880\n",
      "Epoch 00001: val_accuracy improved from 0.54132 to 0.54968, saving model to models\\dense_model_01-0.55ML.h5\n",
      "861/861 [==============================] - 6330s 7s/step - loss: 0.5681 - accuracy: 0.7880 - val_loss: 1.6134 - val_accuracy: 0.5497\n",
      "Epoch 2/3\n",
      "861/861 [==============================] - ETA: 0s - loss: 0.5113 - accuracy: 0.8076\n",
      "Epoch 00002: val_accuracy improved from 0.54968 to 0.58449, saving model to models\\dense_model_02-0.58ML.h5\n",
      "861/861 [==============================] - 5429s 6s/step - loss: 0.5113 - accuracy: 0.8076 - val_loss: 1.4432 - val_accuracy: 0.5845\n",
      "Epoch 3/3\n",
      "861/861 [==============================] - ETA: 0s - loss: 0.4607 - accuracy: 0.8259\n",
      "Epoch 00003: val_accuracy did not improve from 0.58449\n",
      "861/861 [==============================] - 6815s 8s/step - loss: 0.4607 - accuracy: 0.8259 - val_loss: 1.4499 - val_accuracy: 0.5794\n"
     ]
    }
   ],
   "source": [
    "history = model.fit(\n",
    "    datagen.flow(x_train, y_train, batch_size=BATCH_SIZE),\n",
    "    epochs=3,\n",
    "    validation_data=(x_validate, y_validate),\n",
    "    verbose=1,\n",
    "    steps_per_epoch=x_train.shape[0] // BATCH_SIZE,\n",
    "    callbacks=lst_callbacks\n",
    ")"
   ]
  },
  {
   "cell_type": "code",
   "execution_count": 132,
   "metadata": {},
   "outputs": [],
   "source": [
    "model.save(\"models/model_14_epochs.h5\")"
   ]
  }
 ],
 "metadata": {
  "kernelspec": {
   "display_name": "Python 3",
   "language": "python",
   "name": "python3"
  },
  "language_info": {
   "codemirror_mode": {
    "name": "ipython",
    "version": 3
   },
   "file_extension": ".py",
   "mimetype": "text/x-python",
   "name": "python",
   "nbconvert_exporter": "python",
   "pygments_lexer": "ipython3",
   "version": "3.7.4"
  }
 },
 "nbformat": 4,
 "nbformat_minor": 4
}
