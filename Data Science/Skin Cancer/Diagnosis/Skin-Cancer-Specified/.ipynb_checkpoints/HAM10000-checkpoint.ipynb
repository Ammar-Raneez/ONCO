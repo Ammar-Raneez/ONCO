{
 "cells": [
  {
   "cell_type": "code",
   "execution_count": 1,
   "metadata": {},
   "outputs": [],
   "source": [
    "#Import necessary modules\n",
    "%matplotlib inline\n",
    "#graphical figure representations\n",
    "import matplotlib.pyplot as plt\n",
    "\n",
    "#data preprocessing\n",
    "import numpy as np\n",
    "import pandas as pd\n",
    "#join ham part 1 and 2 together\n",
    "import os\n",
    "from tqdm import tqdm\n",
    "from glob import glob\n",
    "import itertools\n",
    "#read images\n",
    "import cv2\n",
    "\n",
    "#data splits and evaluation\n",
    "from sklearn.model_selection import train_test_split\n",
    "from sklearn.metrics import confusion_matrix, classification_report\n",
    "from sklearn.utils import resample\n",
    "\n",
    "#model creation and training\n",
    "import tensorflow as tf\n",
    "from tensorflow import keras\n",
    "from tensorflow.keras import layers"
   ]
  },
  {
   "cell_type": "code",
   "execution_count": 2,
   "metadata": {},
   "outputs": [],
   "source": [
    "#join both folders into a single dictionary\n",
    "BASE_SKIN_DATASET = os.path.join(\"../../../../../Skin Cancer Stuff/datasets/HAM10000\")\n",
    "\n",
    "ALL_IMAGE_PATH_MAP = {os.path.splitext(os.path.basename(x))[0]: x\n",
    "                         for x in glob(os.path.join(BASE_SKIN_DATASET, '*', '*.jpg'))\n",
    "                     }\n",
    "\n",
    "#Fix the path (#WindowsProblems)\n",
    "for k, v in ALL_IMAGE_PATH_MAP.items():\n",
    "    a = ALL_IMAGE_PATH_MAP[k].replace(\"\\\\\\\\\", \"/\")\n",
    "    a = a.replace(\"\\\\\", \"/\")\n",
    "    ALL_IMAGE_PATH_MAP[k] = a\n",
    "\n",
    "#Easy mapping\n",
    "LESION_MAP = {\n",
    "    'nv': 'Melanocytic nevi',\n",
    "    'mel': 'Melanoma',\n",
    "    'bkl': 'Benign keratosis-like lesions ',\n",
    "    'bcc': 'Basal cell carcinoma',\n",
    "    'akiec': 'Actinic keratoses',\n",
    "    'vasc': 'Vascular lesions',\n",
    "    'df': 'Dermatofibroma'\n",
    "}"
   ]
  },
  {
   "cell_type": "code",
   "execution_count": 3,
   "metadata": {},
   "outputs": [
    {
     "data": {
      "text/plain": [
       "10015"
      ]
     },
     "execution_count": 3,
     "metadata": {},
     "output_type": "execute_result"
    }
   ],
   "source": [
    "len(ALL_IMAGE_PATH_MAP)"
   ]
  },
  {
   "cell_type": "code",
   "execution_count": 4,
   "metadata": {},
   "outputs": [],
   "source": [
    "#read-in csv\n",
    "data = pd.read_csv(BASE_SKIN_DATASET + \"/HAM10000_metadata.csv\")"
   ]
  },
  {
   "cell_type": "code",
   "execution_count": 5,
   "metadata": {},
   "outputs": [
    {
     "data": {
      "text/html": [
       "<div>\n",
       "<style scoped>\n",
       "    .dataframe tbody tr th:only-of-type {\n",
       "        vertical-align: middle;\n",
       "    }\n",
       "\n",
       "    .dataframe tbody tr th {\n",
       "        vertical-align: top;\n",
       "    }\n",
       "\n",
       "    .dataframe thead th {\n",
       "        text-align: right;\n",
       "    }\n",
       "</style>\n",
       "<table border=\"1\" class=\"dataframe\">\n",
       "  <thead>\n",
       "    <tr style=\"text-align: right;\">\n",
       "      <th></th>\n",
       "      <th>lesion_id</th>\n",
       "      <th>image_id</th>\n",
       "      <th>dx</th>\n",
       "      <th>dx_type</th>\n",
       "      <th>age</th>\n",
       "      <th>sex</th>\n",
       "      <th>localization</th>\n",
       "    </tr>\n",
       "  </thead>\n",
       "  <tbody>\n",
       "    <tr>\n",
       "      <th>0</th>\n",
       "      <td>HAM_0000118</td>\n",
       "      <td>ISIC_0027419</td>\n",
       "      <td>bkl</td>\n",
       "      <td>histo</td>\n",
       "      <td>80.0</td>\n",
       "      <td>male</td>\n",
       "      <td>scalp</td>\n",
       "    </tr>\n",
       "    <tr>\n",
       "      <th>1</th>\n",
       "      <td>HAM_0000118</td>\n",
       "      <td>ISIC_0025030</td>\n",
       "      <td>bkl</td>\n",
       "      <td>histo</td>\n",
       "      <td>80.0</td>\n",
       "      <td>male</td>\n",
       "      <td>scalp</td>\n",
       "    </tr>\n",
       "    <tr>\n",
       "      <th>2</th>\n",
       "      <td>HAM_0002730</td>\n",
       "      <td>ISIC_0026769</td>\n",
       "      <td>bkl</td>\n",
       "      <td>histo</td>\n",
       "      <td>80.0</td>\n",
       "      <td>male</td>\n",
       "      <td>scalp</td>\n",
       "    </tr>\n",
       "    <tr>\n",
       "      <th>3</th>\n",
       "      <td>HAM_0002730</td>\n",
       "      <td>ISIC_0025661</td>\n",
       "      <td>bkl</td>\n",
       "      <td>histo</td>\n",
       "      <td>80.0</td>\n",
       "      <td>male</td>\n",
       "      <td>scalp</td>\n",
       "    </tr>\n",
       "    <tr>\n",
       "      <th>4</th>\n",
       "      <td>HAM_0001466</td>\n",
       "      <td>ISIC_0031633</td>\n",
       "      <td>bkl</td>\n",
       "      <td>histo</td>\n",
       "      <td>75.0</td>\n",
       "      <td>male</td>\n",
       "      <td>ear</td>\n",
       "    </tr>\n",
       "  </tbody>\n",
       "</table>\n",
       "</div>"
      ],
      "text/plain": [
       "     lesion_id      image_id   dx dx_type   age   sex localization\n",
       "0  HAM_0000118  ISIC_0027419  bkl   histo  80.0  male        scalp\n",
       "1  HAM_0000118  ISIC_0025030  bkl   histo  80.0  male        scalp\n",
       "2  HAM_0002730  ISIC_0026769  bkl   histo  80.0  male        scalp\n",
       "3  HAM_0002730  ISIC_0025661  bkl   histo  80.0  male        scalp\n",
       "4  HAM_0001466  ISIC_0031633  bkl   histo  75.0  male          ear"
      ]
     },
     "execution_count": 5,
     "metadata": {},
     "output_type": "execute_result"
    }
   ],
   "source": [
    "data.head()"
   ]
  },
  {
   "cell_type": "code",
   "execution_count": 6,
   "metadata": {},
   "outputs": [],
   "source": [
    "#create more reader friendly columns\n",
    "data['path'] = data['image_id'].map(ALL_IMAGE_PATH_MAP.get)\n",
    "data['lesion_type'] = data['dx'].map(LESION_MAP.get) \n",
    "data['lesion_type_index'] = pd.Categorical(data['lesion_type']).codes"
   ]
  },
  {
   "cell_type": "code",
   "execution_count": 7,
   "metadata": {},
   "outputs": [
    {
     "data": {
      "text/html": [
       "<div>\n",
       "<style scoped>\n",
       "    .dataframe tbody tr th:only-of-type {\n",
       "        vertical-align: middle;\n",
       "    }\n",
       "\n",
       "    .dataframe tbody tr th {\n",
       "        vertical-align: top;\n",
       "    }\n",
       "\n",
       "    .dataframe thead th {\n",
       "        text-align: right;\n",
       "    }\n",
       "</style>\n",
       "<table border=\"1\" class=\"dataframe\">\n",
       "  <thead>\n",
       "    <tr style=\"text-align: right;\">\n",
       "      <th></th>\n",
       "      <th>lesion_id</th>\n",
       "      <th>image_id</th>\n",
       "      <th>dx</th>\n",
       "      <th>dx_type</th>\n",
       "      <th>age</th>\n",
       "      <th>sex</th>\n",
       "      <th>localization</th>\n",
       "      <th>path</th>\n",
       "      <th>lesion_type</th>\n",
       "      <th>lesion_type_index</th>\n",
       "    </tr>\n",
       "  </thead>\n",
       "  <tbody>\n",
       "    <tr>\n",
       "      <th>0</th>\n",
       "      <td>HAM_0000118</td>\n",
       "      <td>ISIC_0027419</td>\n",
       "      <td>bkl</td>\n",
       "      <td>histo</td>\n",
       "      <td>80.0</td>\n",
       "      <td>male</td>\n",
       "      <td>scalp</td>\n",
       "      <td>../../../../../Skin Cancer Stuff/datasets/HAM1...</td>\n",
       "      <td>Benign keratosis-like lesions</td>\n",
       "      <td>2</td>\n",
       "    </tr>\n",
       "    <tr>\n",
       "      <th>1</th>\n",
       "      <td>HAM_0000118</td>\n",
       "      <td>ISIC_0025030</td>\n",
       "      <td>bkl</td>\n",
       "      <td>histo</td>\n",
       "      <td>80.0</td>\n",
       "      <td>male</td>\n",
       "      <td>scalp</td>\n",
       "      <td>../../../../../Skin Cancer Stuff/datasets/HAM1...</td>\n",
       "      <td>Benign keratosis-like lesions</td>\n",
       "      <td>2</td>\n",
       "    </tr>\n",
       "    <tr>\n",
       "      <th>2</th>\n",
       "      <td>HAM_0002730</td>\n",
       "      <td>ISIC_0026769</td>\n",
       "      <td>bkl</td>\n",
       "      <td>histo</td>\n",
       "      <td>80.0</td>\n",
       "      <td>male</td>\n",
       "      <td>scalp</td>\n",
       "      <td>../../../../../Skin Cancer Stuff/datasets/HAM1...</td>\n",
       "      <td>Benign keratosis-like lesions</td>\n",
       "      <td>2</td>\n",
       "    </tr>\n",
       "    <tr>\n",
       "      <th>3</th>\n",
       "      <td>HAM_0002730</td>\n",
       "      <td>ISIC_0025661</td>\n",
       "      <td>bkl</td>\n",
       "      <td>histo</td>\n",
       "      <td>80.0</td>\n",
       "      <td>male</td>\n",
       "      <td>scalp</td>\n",
       "      <td>../../../../../Skin Cancer Stuff/datasets/HAM1...</td>\n",
       "      <td>Benign keratosis-like lesions</td>\n",
       "      <td>2</td>\n",
       "    </tr>\n",
       "    <tr>\n",
       "      <th>4</th>\n",
       "      <td>HAM_0001466</td>\n",
       "      <td>ISIC_0031633</td>\n",
       "      <td>bkl</td>\n",
       "      <td>histo</td>\n",
       "      <td>75.0</td>\n",
       "      <td>male</td>\n",
       "      <td>ear</td>\n",
       "      <td>../../../../../Skin Cancer Stuff/datasets/HAM1...</td>\n",
       "      <td>Benign keratosis-like lesions</td>\n",
       "      <td>2</td>\n",
       "    </tr>\n",
       "  </tbody>\n",
       "</table>\n",
       "</div>"
      ],
      "text/plain": [
       "     lesion_id      image_id   dx dx_type   age   sex localization  \\\n",
       "0  HAM_0000118  ISIC_0027419  bkl   histo  80.0  male        scalp   \n",
       "1  HAM_0000118  ISIC_0025030  bkl   histo  80.0  male        scalp   \n",
       "2  HAM_0002730  ISIC_0026769  bkl   histo  80.0  male        scalp   \n",
       "3  HAM_0002730  ISIC_0025661  bkl   histo  80.0  male        scalp   \n",
       "4  HAM_0001466  ISIC_0031633  bkl   histo  75.0  male          ear   \n",
       "\n",
       "                                                path  \\\n",
       "0  ../../../../../Skin Cancer Stuff/datasets/HAM1...   \n",
       "1  ../../../../../Skin Cancer Stuff/datasets/HAM1...   \n",
       "2  ../../../../../Skin Cancer Stuff/datasets/HAM1...   \n",
       "3  ../../../../../Skin Cancer Stuff/datasets/HAM1...   \n",
       "4  ../../../../../Skin Cancer Stuff/datasets/HAM1...   \n",
       "\n",
       "                      lesion_type  lesion_type_index  \n",
       "0  Benign keratosis-like lesions                   2  \n",
       "1  Benign keratosis-like lesions                   2  \n",
       "2  Benign keratosis-like lesions                   2  \n",
       "3  Benign keratosis-like lesions                   2  \n",
       "4  Benign keratosis-like lesions                   2  "
      ]
     },
     "execution_count": 7,
     "metadata": {},
     "output_type": "execute_result"
    }
   ],
   "source": [
    "data.head()"
   ]
  },
  {
   "cell_type": "code",
   "execution_count": 8,
   "metadata": {},
   "outputs": [
    {
     "data": {
      "text/plain": [
       "Melanocytic nevi                  6705\n",
       "Melanoma                          1113\n",
       "Benign keratosis-like lesions     1099\n",
       "Basal cell carcinoma               514\n",
       "Actinic keratoses                  327\n",
       "Vascular lesions                   142\n",
       "Dermatofibroma                     115\n",
       "Name: lesion_type, dtype: int64"
      ]
     },
     "execution_count": 8,
     "metadata": {},
     "output_type": "execute_result"
    }
   ],
   "source": [
    "data['lesion_type'].value_counts()"
   ]
  },
  {
   "cell_type": "code",
   "execution_count": 9,
   "metadata": {
    "scrolled": false
   },
   "outputs": [
    {
     "data": {
      "text/plain": [
       "<AxesSubplot:>"
      ]
     },
     "execution_count": 9,
     "metadata": {},
     "output_type": "execute_result"
    },
    {
     "data": {
      "image/png": "[encoded data removed]",
      "text/plain": [
       "<Figure size 720x360 with 1 Axes>"
      ]
     },
     "metadata": {
      "needs_background": "light"
     },
     "output_type": "display_data"
    }
   ],
   "source": [
    "#Visualize data distribution\n",
    "figure, axis_1 = plt.subplots(1, 1, figsize= (10, 5))\n",
    "data['lesion_type'].value_counts().plot(kind='bar', ax=axis_1)"
   ]
  },
  {
   "cell_type": "code",
   "execution_count": 10,
   "metadata": {},
   "outputs": [],
   "source": [
    "def balanced_dataset(df):\n",
    "    '''\n",
    "        will sample the dataset, such that the classes\n",
    "        with less samples are given similar importance\n",
    "        to the more sampled ones\n",
    "    '''\n",
    "    df_balanced = pd.DataFrame()\n",
    "    \n",
    "    for cat in df['lesion_type_index'].unique():\n",
    "        #sample dataset, due to unbalanceness\n",
    "        #sample it to match majority class\n",
    "        temp = resample(df[df['lesion_type_index'] == cat], \n",
    "                        replace=True,     \n",
    "                        n_samples=7000,   \n",
    "                        random_state=123) \n",
    "\n",
    "        # Combine majority class with upsampled minority class\n",
    "        df_balanced = pd.concat([df_balanced, temp])\n",
    " \n",
    "    df_balanced['lesion_type'].value_counts()\n",
    "\n",
    "    return df_balanced"
   ]
  },
  {
   "cell_type": "code",
   "execution_count": 11,
   "metadata": {},
   "outputs": [],
   "source": [
    "#load all images, and normalize\n",
    "def load_img_data(size, df, balanced=False):   \n",
    "    '''\n",
    "    load, scale/normalize, all images\n",
    "    '''\n",
    "    img_height, img_width = size, size\n",
    "    images = []\n",
    "    \n",
    "    if balanced:\n",
    "        df = balanced_dataset(df)\n",
    "    \n",
    "    image_paths = list(df['path'])\n",
    "\n",
    "    #a progress indicator\n",
    "    for i in tqdm(range(len(image_paths))):\n",
    "        img = cv2.imread(image_paths[i])\n",
    "        img = cv2.resize(img, (img_height, img_width))\n",
    "        img = img.astype(np.float32) / 255.\n",
    "        images.append(img)\n",
    "\n",
    "    images = np.stack(images, axis=0)\n",
    "    print(images.shape)    \n",
    "    return images, df['lesion_type_index'].values"
   ]
  },
  {
   "cell_type": "code",
   "execution_count": 12,
   "metadata": {},
   "outputs": [
    {
     "name": "stderr",
     "output_type": "stream",
     "text": [
      "100%|██████████| 10015/10015 [14:38<00:00, 11.40it/s]\n"
     ]
    },
    {
     "name": "stdout",
     "output_type": "stream",
     "text": [
      "(10015, 128, 128, 3)\n"
     ]
    }
   ],
   "source": [
    "input_images, ground_truths = load_img_data(128, data, balanced=False)"
   ]
  },
  {
   "cell_type": "code",
   "execution_count": 13,
   "metadata": {},
   "outputs": [
    {
     "data": {
      "text/plain": [
       "[(7511, 128, 128, 3), (501, 128, 128, 3), (2003, 128, 128, 3)]"
      ]
     },
     "execution_count": 13,
     "metadata": {},
     "output_type": "execute_result"
    }
   ],
   "source": [
    "#split data into train, validation and test (for training and evaluation)\n",
    "\n",
    "x_train, x_test, y_train, y_test = train_test_split(input_images, ground_truths, test_size=0.25, random_state = 10)\n",
    "x_test, x_val, y_test, y_val = train_test_split(x_test, y_test, test_size=0.2, random_state = 11)\n",
    "train_val_test = (x_train, y_train, x_val, y_val, x_test, y_test)\n",
    "\n",
    "[x_train.shape, x_val.shape, x_test.shape]"
   ]
  },
  {
   "cell_type": "code",
   "execution_count": 41,
   "metadata": {},
   "outputs": [],
   "source": [
    "#Program Brain\n",
    "class ModelBrain():\n",
    "    def __init__(self, data, hidden_layers, classes, epochs, batch_size):\n",
    "        '''\n",
    "        constructor, initializes values on ModelBrain object creation\n",
    "        '''\n",
    "        self.input_shape = data[0][0].shape\n",
    "        self.hidden_layers = hidden_layers\n",
    "        self.classes = classes\n",
    "        self.EPOCHS = epochs\n",
    "        self.BATCH_SIZE = batch_size\n",
    "        \n",
    "        self.dcnn = self.get_network()\n",
    "        self.dcnn.trainable = False\n",
    "\n",
    "        #grab the values from the tuple\n",
    "        self.trainX = data[0]\n",
    "        self.trainY = data[1]\n",
    "        self.valX = data[2]\n",
    "        self.valY = data[3]\n",
    "        self.testX = data[4]\n",
    "        self.testY = data[5]\n",
    "\n",
    "        self.model = self.build_model()\n",
    "        self.train_generator = self.data_augmentation()\n",
    "        \n",
    "        self.predictions = None\n",
    "        self.score = None\n",
    "        self.best_weights = None\n",
    "\n",
    "    def data_augmentation(self):\n",
    "        data_gen_args = dict(\n",
    "                rotation_range=10,\n",
    "                zoom_range=0.1,\n",
    "                shear_range=0.1,\n",
    "                width_shift_range=0.1, \n",
    "                height_shift_range=0.1,\n",
    "                horizontal_flip=True,\n",
    "                vertical_flip=True,\n",
    "            )\n",
    "\n",
    "        train_gen = tf.keras.preprocessing.image.ImageDataGenerator(**data_gen_args)\n",
    "        train_generator = train_gen.flow(self.trainX, self.trainY, batch_size=self.BATCH_SIZE)\n",
    "        return train_generator\n",
    "        \n",
    "    def get_network(self):\n",
    "        return tf.keras.applications.DenseNet201(weights='imagenet', include_top=False, input_shape=self.input_shape)\n",
    "\n",
    "    def build_model(self):\n",
    "        model = tf.keras.models.Sequential()\n",
    "        model.add(self.dcnn)\n",
    "        model.add(tf.keras.layers.Flatten())\n",
    "        model.add(tf.keras.layers.Dropout(0.25))\n",
    "        \n",
    "        for layer in self.hidden_layers:\n",
    "            model.add(tf.keras.layers.Dense(layer, activation='relu'))\n",
    "            model.add(tf.keras.layers.BatchNormalization())\n",
    "            model.add(tf.keras.layers.Dropout(0.46))  \n",
    "\n",
    "        model.add(tf.keras.layers.Dense(self.classes, activation='softmax'))\n",
    "        return model\n",
    "    \n",
    "    def load_weights(self, name):\n",
    "        print('\\nLoading best accuracy weights.')\n",
    "        self.model.load_weights(name)\n",
    "        \n",
    "    def predict(self):\n",
    "        print('\\nPredicting test set classes.')\n",
    "        self.score = self.model.evaluate(self.testX, self.testY, verbose=0)\n",
    "        print('Test set score:', self.score)\n",
    "        self.predictions = self.model.predict(self.testX, batch_size=self.BATCH_SIZE)\n",
    "        print('Done')\n",
    "\n",
    "    def train(self):\n",
    "        numTrainingSamples = self.trainX.shape[0]\n",
    "        numValidationSamples = self.valX.shape[0]\n",
    "\n",
    "        #Phase 01#\n",
    "        print (\"\\nPhase A - Training Fully Connected Layers\\n\")\n",
    "        self.model.compile(loss='sparse_categorical_crossentropy', optimizer=tf.keras.optimizers.Adam(lr=0.001), metrics=['accuracy'])\n",
    "\n",
    "        best_weights_ph1 = \"ph1_weights.hdf5\"\n",
    "        checkpoint = tf.keras.callbacks.ModelCheckpoint(best_weights_ph1, monitor=\"val_loss\", mode=\"min\", save_best_only=True, verbose=1)\n",
    "        \n",
    "        history = self.model.fit(\n",
    "            x_train, y_train,\n",
    "            steps_per_epoch=numTrainingSamples // self.BATCH_SIZE,\n",
    "            epochs=self.EPOCHS,\n",
    "            validation_data=(self.valX, self.valY),\n",
    "            validation_steps=numValidationSamples // self.BATCH_SIZE,\n",
    "            callbacks=[checkpoint])\n",
    "        \n",
    "        best_acc_ph1 = max(history.history[\"val_accuracy\"])\n",
    "        print('\\n\\nMax validation accuracy:', best_acc_ph1)\n",
    "        print('\\nRestoring best weights and predicting validation set.')\n",
    "        self.load_weights(best_weights_ph1)    \n",
    "        self.predict()       \n",
    "\n",
    "\n",
    "        #Phase 2#\n",
    "        print (\"\\nPhase B  - Fine Tuned Layers \\n\")\n",
    "        #freeze all but last 4 layers\n",
    "        for layer in self.model.layers[:-4]:\n",
    "            layer.trainable = False\n",
    "\n",
    "        self.model.compile(loss='sparse_categorical_crossentropy', optimizer=tf.keras.optimizers.Adam(lr=1e-5), metrics=['accuracy'])\n",
    "        best_weights_ph2 = \"ph2_weights.hdf5\"\n",
    "        checkpoint = tf.keras.callbacks.ModelCheckpoint(best_weights_ph2, monitor=\"val_loss\", mode=\"min\", save_best_only=True, verbose=1)\n",
    "\n",
    "        history = self.model.fit(\n",
    "            x_train, y_train,\n",
    "            steps_per_epoch=numTrainingSamples // self.BATCH_SIZE,\n",
    "            epochs=self.EPOCHS,\n",
    "            validation_data=(self.valX, self.valY),\n",
    "            validation_steps=numValidationSamples // self.BATCH_SIZE,\n",
    "            callbacks=[checkpoint])\n",
    "\n",
    "        # Store the best phase 2 accuracy\n",
    "        best_acc_ph2 = max(history.history[\"val_accuracy\"])\n",
    "        \n",
    "    def run(self):\n",
    "        self.train()"
   ]
  },
  {
   "cell_type": "code",
   "execution_count": 26,
   "metadata": {
    "collapsed": true
   },
   "outputs": [
    {
     "name": "stdout",
     "output_type": "stream",
     "text": [
      "\n",
      "Phase A - Training Fully Connected Layers\n",
      "\n",
      "\n",
      "Restoring best weights and predicting validation set.\n",
      "\n",
      "Loading best accuracy weights.\n",
      "\n",
      "Predicting test set classes.\n",
      "Test set score: [0.4054315388202667, 0.8562156558036804]\n",
      "Done\n",
      "\n",
      "Phase B  - Fine Tune all Layers \n",
      "\n",
      "Epoch 1/10\n",
      "78/78 [==============================] - ETA: 0s - loss: 0.5608 - accuracy: 0.8107\n",
      "Epoch 00001: val_loss improved from inf to 0.37547, saving model to _ph2_weights.hdf5\n",
      "78/78 [==============================] - 304s 4s/step - loss: 0.5608 - accuracy: 0.8107 - val_loss: 0.3755 - val_accuracy: 0.8643\n",
      "Epoch 2/10\n",
      "78/78 [==============================] - ETA: 0s - loss: 0.5635 - accuracy: 0.8104\n",
      "Epoch 00002: val_loss improved from 0.37547 to 0.37193, saving model to _ph2_weights.hdf5\n",
      "78/78 [==============================] - 302s 4s/step - loss: 0.5635 - accuracy: 0.8104 - val_loss: 0.3719 - val_accuracy: 0.8703\n",
      "Epoch 3/10\n",
      "78/78 [==============================] - ETA: 0s - loss: 0.5439 - accuracy: 0.8080\n",
      "Epoch 00003: val_loss improved from 0.37193 to 0.37063, saving model to _ph2_weights.hdf5\n",
      "78/78 [==============================] - 303s 4s/step - loss: 0.5439 - accuracy: 0.8080 - val_loss: 0.3706 - val_accuracy: 0.8703\n",
      "Epoch 4/10\n",
      "78/78 [==============================] - ETA: 0s - loss: 0.5514 - accuracy: 0.8119\n",
      "Epoch 00004: val_loss improved from 0.37063 to 0.36982, saving model to _ph2_weights.hdf5\n",
      "78/78 [==============================] - 301s 4s/step - loss: 0.5514 - accuracy: 0.8119 - val_loss: 0.3698 - val_accuracy: 0.8723\n",
      "Epoch 5/10\n",
      "78/78 [==============================] - ETA: 0s - loss: 0.5557 - accuracy: 0.8109\n",
      "Epoch 00005: val_loss improved from 0.36982 to 0.36869, saving model to _ph2_weights.hdf5\n",
      "78/78 [==============================] - 300s 4s/step - loss: 0.5557 - accuracy: 0.8109 - val_loss: 0.3687 - val_accuracy: 0.8723\n",
      "Epoch 6/10\n",
      "78/78 [==============================] - ETA: 0s - loss: 0.5404 - accuracy: 0.8143\n",
      "Epoch 00006: val_loss improved from 0.36869 to 0.36723, saving model to _ph2_weights.hdf5\n",
      "78/78 [==============================] - 302s 4s/step - loss: 0.5404 - accuracy: 0.8143 - val_loss: 0.3672 - val_accuracy: 0.8743\n",
      "Epoch 7/10\n",
      "78/78 [==============================] - ETA: 0s - loss: 0.5504 - accuracy: 0.8119\n",
      "Epoch 00007: val_loss did not improve from 0.36723\n",
      "78/78 [==============================] - 297s 4s/step - loss: 0.5504 - accuracy: 0.8119 - val_loss: 0.3673 - val_accuracy: 0.8723\n",
      "Epoch 8/10\n",
      "78/78 [==============================] - ETA: 0s - loss: 0.5387 - accuracy: 0.8148\n",
      "Epoch 00008: val_loss did not improve from 0.36723\n",
      "78/78 [==============================] - 311s 4s/step - loss: 0.5387 - accuracy: 0.8148 - val_loss: 0.3673 - val_accuracy: 0.8723\n",
      "Epoch 9/10\n",
      "78/78 [==============================] - ETA: 0s - loss: 0.5424 - accuracy: 0.8120\n",
      "Epoch 00009: val_loss improved from 0.36723 to 0.36579, saving model to _ph2_weights.hdf5\n",
      "78/78 [==============================] - 305s 4s/step - loss: 0.5424 - accuracy: 0.8120 - val_loss: 0.3658 - val_accuracy: 0.8743\n",
      "Epoch 10/10\n",
      "78/78 [==============================] - ETA: 0s - loss: 0.5381 - accuracy: 0.8176\n",
      "Epoch 00010: val_loss did not improve from 0.36579\n",
      "78/78 [==============================] - 314s 4s/step - loss: 0.5381 - accuracy: 0.8176 - val_loss: 0.3661 - val_accuracy: 0.8723\n",
      "\n",
      "\n",
      "Max validation accuracy: 0.8742514848709106\n"
     ]
    }
   ],
   "source": [
    "#Random arbitrary values\n",
    "HIDDEN_LAYERS = [512, 128]\n",
    "BATCH_SIZE_REGULAR = 128\n",
    "BATCH_SIZE_DCNN = 96\n",
    "EPOCHS = 10\n",
    "#ground truth possible classes\n",
    "CLASSES = len(set(ground_truths))\n",
    "\n",
    "#Training phase\n",
    "model = ModelBrain(train_val_test, HIDDEN_LAYERS, CLASSES, EPOCHS, BATCH_SIZE_DCNN)\n",
    "model.run()"
   ]
  },
  {
   "cell_type": "markdown",
   "metadata": {},
   "source": [
    "# Evaluation of Models"
   ]
  },
  {
   "cell_type": "code",
   "execution_count": 14,
   "metadata": {},
   "outputs": [],
   "source": [
    "model_p1 = keras.models.load_model(\"ph1_weights.hdf5\")\n",
    "predictions_p1 = model_p1.predict(train_val_test[4])\n",
    "model_p2 = keras.models.load_model(\"ph2_weights.hdf5\")\n",
    "predictions_p2 = model_p2.predict(train_val_test[4])"
   ]
  },
  {
   "cell_type": "code",
   "execution_count": 67,
   "metadata": {},
   "outputs": [
    {
     "data": {
      "image/png": "[encoded data removed]",
      "text/plain": [
       "<Figure size 432x288 with 2 Axes>"
      ]
     },
     "metadata": {
      "needs_background": "light"
     },
     "output_type": "display_data"
    }
   ],
   "source": [
    "def plot_confusion_matrix(cm, classes, normalize=False, title='Confusion matrix', cmap=plt.cm.Blues):\n",
    "    '''\n",
    "    from shared code available on Kaggle\n",
    "    '''\n",
    "    plt.imshow(cm, interpolation='nearest', cmap=cmap)\n",
    "    plt.title(title)\n",
    "    plt.colorbar()\n",
    "    tick_marks = np.arange(len(classes))\n",
    "    plt.xticks(tick_marks, classes, rotation=45)\n",
    "    plt.yticks(tick_marks, classes)\n",
    "\n",
    "    if normalize:\n",
    "        cm = cm.astype('float') / cm.sum(axis=1)[:, np.newaxis]\n",
    "\n",
    "    thresh = cm.max() / 2.\n",
    "    for i, j in itertools.product(range(cm.shape[0]), range(cm.shape[1])):\n",
    "        plt.text(j, i, cm[i, j],\n",
    "                 horizontalalignment=\"center\",\n",
    "                 color=\"white\" if cm[i, j] > thresh else \"black\")\n",
    "\n",
    "    plt.tight_layout()\n",
    "    plt.ylabel('True label')\n",
    "    plt.xlabel('Predicted label')\n",
    "\n",
    "# one hot encode predictions \n",
    "Y_pred_classes_p1 = np.argmax(predictions_p1,axis = 1)\n",
    "Y_pred_classes_p2 = np.argmax(predictions_p2,axis = 1) \n",
    "# compute the confusion matrix\n",
    "confusion_mtx_p1 = confusion_matrix(y_test, Y_pred_classes_p1)\n",
    "confusion_mtx_p2 = confusion_matrix(y_test, Y_pred_classes_p2)\n",
    "\n",
    "# plot the confusion matrix\n",
    "plot_confusion_matrix(confusion_mtx_p1, classes = range(7))"
   ]
  },
  {
   "cell_type": "code",
   "execution_count": 68,
   "metadata": {
    "scrolled": true
   },
   "outputs": [
    {
     "data": {
      "image/png": "[encoded data removed]",
      "text/plain": [
       "<Figure size 432x288 with 2 Axes>"
      ]
     },
     "metadata": {
      "needs_background": "light"
     },
     "output_type": "display_data"
    }
   ],
   "source": [
    "plot_confusion_matrix(confusion_mtx_p2, classes = range(7))"
   ]
  },
  {
   "cell_type": "code",
   "execution_count": 69,
   "metadata": {
    "scrolled": false
   },
   "outputs": [
    {
     "name": "stdout",
     "output_type": "stream",
     "text": [
      "              precision    recall  f1-score   support\n",
      "\n",
      "           0       0.48      0.76      0.59        42\n",
      "           1       0.58      0.70      0.64        70\n",
      "           2       0.62      0.80      0.70       169\n",
      "           3       0.30      0.80      0.43        10\n",
      "           4       0.99      0.88      0.93      1510\n",
      "           5       0.59      0.75      0.66       183\n",
      "           6       0.74      0.89      0.81        19\n",
      "\n",
      "    accuracy                           0.86      2003\n",
      "   macro avg       0.62      0.80      0.68      2003\n",
      "weighted avg       0.89      0.86      0.87      2003\n",
      "\n"
     ]
    }
   ],
   "source": [
    "print(classification_report(Y_pred_classes_p1, y_test))"
   ]
  },
  {
   "cell_type": "code",
   "execution_count": 71,
   "metadata": {
    "scrolled": true
   },
   "outputs": [
    {
     "name": "stdout",
     "output_type": "stream",
     "text": [
      "              precision    recall  f1-score   support\n",
      "\n",
      "           0       0.55      0.77      0.64        47\n",
      "           1       0.71      0.71      0.71        84\n",
      "           2       0.64      0.81      0.72       172\n",
      "           3       0.26      0.88      0.40         8\n",
      "           4       0.98      0.89      0.94      1483\n",
      "           5       0.61      0.76      0.68       189\n",
      "           6       0.78      0.90      0.84        20\n",
      "\n",
      "    accuracy                           0.86      2003\n",
      "   macro avg       0.65      0.82      0.70      2003\n",
      "weighted avg       0.89      0.86      0.87      2003\n",
      "\n"
     ]
    }
   ],
   "source": [
    "print(classification_report(Y_pred_classes_p2, y_test))"
   ]
  },
  {
   "cell_type": "markdown",
   "metadata": {},
   "source": [
    "# Phase 2 model has better metrics"
   ]
  },
  {
   "cell_type": "markdown",
   "metadata": {},
   "source": [
    "# Percentage predictions"
   ]
  },
  {
   "cell_type": "code",
   "execution_count": 15,
   "metadata": {},
   "outputs": [
    {
     "data": {
      "text/plain": [
       "'98.745026% Actinic keratoses'"
      ]
     },
     "execution_count": 15,
     "metadata": {},
     "output_type": "execute_result"
    }
   ],
   "source": [
    "#7 classes, each have their probabilities\n",
    "#in this case the 0th class has the highest one\n",
    "#hence this prediction is of class 0\n",
    "\n",
    "INDEX_TO_TYPE = {\n",
    "    0: 'Melanocytic nevi',\n",
    "    1: 'Melanoma',\n",
    "    2: 'Benign keratosis-like lesions ',\n",
    "    3: 'Basal cell carcinoma',\n",
    "    4: 'Actinic keratoses',\n",
    "    5: 'Vascular lesions',\n",
    "    6: 'Dermatofibroma'\n",
    "}\n",
    "\n",
    "test_predictions = predictions_p2[0]\n",
    "test_predictions = test_predictions * 100\n",
    "str(np.amax(test_predictions)) + f\"% {INDEX_TO_TYPE[np.argmax(test_predictions)]}\" "
   ]
  }
 ],
 "metadata": {
  "kernelspec": {
   "display_name": "Python 3",
   "language": "python",
   "name": "python3"
  },
  "language_info": {
   "codemirror_mode": {
    "name": "ipython",
    "version": 3
   },
   "file_extension": ".py",
   "mimetype": "text/x-python",
   "name": "python",
   "nbconvert_exporter": "python",
   "pygments_lexer": "ipython3",
   "version": "3.7.4"
  }
 },
 "nbformat": 4,
 "nbformat_minor": 4
}
