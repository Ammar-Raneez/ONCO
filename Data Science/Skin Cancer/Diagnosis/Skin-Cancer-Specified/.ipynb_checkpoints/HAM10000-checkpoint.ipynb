{
 "cells": [
  {
   "cell_type": "code",
   "execution_count": 13,
   "metadata": {},
   "outputs": [],
   "source": [
    "%matplotlib inline\n",
    "import matplotlib.pyplot as plt\n",
    "plt.style.use(\"ggplot\")\n",
    "\n",
    "import numpy as np\n",
    "import pandas as pd\n",
    "import os\n",
    "from tqdm import tqdm\n",
    "from glob import glob\n",
    "import seaborn as sns\n",
    "import pprint as pp\n",
    "\n",
    "from sklearn.model_selection import train_test_split\n",
    "from sklearn.metrics import confusion_matrix\n",
    "from sklearn.utils import resample\n",
    "\n",
    "import tensorflow as tf\n",
    "from tensorflow import keras\n",
    "from tensorflow.keras import layers\n",
    "from keras.utils import np_utils\n",
    "\n",
    "import itertools\n",
    "\n",
    "import cv2\n",
    "from PIL import Image"
   ]
  },
  {
   "cell_type": "code",
   "execution_count": 14,
   "metadata": {},
   "outputs": [],
   "source": [
    "#join both folders into a single dictionary\n",
    "BASE_SKIN_DATASET = os.path.join(\"../../../../../Skin Cancer Stuff/datasets/HAM10000\")\n",
    "\n",
    "ALL_IMAGE_PATH_MAP = {os.path.splitext(os.path.basename(x))[0]: x\n",
    "                         for x in glob(os.path.join(BASE_SKIN_DATASET, '*', '*.jpg'))\n",
    "                     }\n",
    "\n",
    "#Fix the path\n",
    "for k, v in ALL_IMAGE_PATH_MAP.items():\n",
    "    a = ALL_IMAGE_PATH_MAP[k].replace(\"\\\\\\\\\", \"/\")\n",
    "    a = a.replace(\"\\\\\", \"/\")\n",
    "    ALL_IMAGE_PATH_MAP[k] = a\n",
    "\n",
    "#Easy mapping\n",
    "LESION_MAP = {\n",
    "    'nv': 'Melanocytic nevi',\n",
    "    'mel': 'Melanoma',\n",
    "    'bkl': 'Benign keratosis-like lesions ',\n",
    "    'bcc': 'Basal cell carcinoma',\n",
    "    'akiec': 'Actinic keratoses',\n",
    "    'vasc': 'Vascular lesions',\n",
    "    'df': 'Dermatofibroma'\n",
    "}"
   ]
  },
  {
   "cell_type": "code",
   "execution_count": 15,
   "metadata": {},
   "outputs": [
    {
     "data": {
      "text/plain": [
       "10015"
      ]
     },
     "execution_count": 15,
     "metadata": {},
     "output_type": "execute_result"
    }
   ],
   "source": [
    "len(ALL_IMAGE_PATH_MAP)"
   ]
  },
  {
   "cell_type": "code",
   "execution_count": 16,
   "metadata": {},
   "outputs": [],
   "source": [
    "data = pd.read_csv(BASE_SKIN_DATASET + \"/HAM10000_metadata.csv\")"
   ]
  },
  {
   "cell_type": "code",
   "execution_count": 17,
   "metadata": {},
   "outputs": [
    {
     "data": {
      "text/html": [
       "<div>\n",
       "<style scoped>\n",
       "    .dataframe tbody tr th:only-of-type {\n",
       "        vertical-align: middle;\n",
       "    }\n",
       "\n",
       "    .dataframe tbody tr th {\n",
       "        vertical-align: top;\n",
       "    }\n",
       "\n",
       "    .dataframe thead th {\n",
       "        text-align: right;\n",
       "    }\n",
       "</style>\n",
       "<table border=\"1\" class=\"dataframe\">\n",
       "  <thead>\n",
       "    <tr style=\"text-align: right;\">\n",
       "      <th></th>\n",
       "      <th>lesion_id</th>\n",
       "      <th>image_id</th>\n",
       "      <th>dx</th>\n",
       "      <th>dx_type</th>\n",
       "      <th>age</th>\n",
       "      <th>sex</th>\n",
       "      <th>localization</th>\n",
       "    </tr>\n",
       "  </thead>\n",
       "  <tbody>\n",
       "    <tr>\n",
       "      <th>0</th>\n",
       "      <td>HAM_0000118</td>\n",
       "      <td>ISIC_0027419</td>\n",
       "      <td>bkl</td>\n",
       "      <td>histo</td>\n",
       "      <td>80.0</td>\n",
       "      <td>male</td>\n",
       "      <td>scalp</td>\n",
       "    </tr>\n",
       "    <tr>\n",
       "      <th>1</th>\n",
       "      <td>HAM_0000118</td>\n",
       "      <td>ISIC_0025030</td>\n",
       "      <td>bkl</td>\n",
       "      <td>histo</td>\n",
       "      <td>80.0</td>\n",
       "      <td>male</td>\n",
       "      <td>scalp</td>\n",
       "    </tr>\n",
       "    <tr>\n",
       "      <th>2</th>\n",
       "      <td>HAM_0002730</td>\n",
       "      <td>ISIC_0026769</td>\n",
       "      <td>bkl</td>\n",
       "      <td>histo</td>\n",
       "      <td>80.0</td>\n",
       "      <td>male</td>\n",
       "      <td>scalp</td>\n",
       "    </tr>\n",
       "    <tr>\n",
       "      <th>3</th>\n",
       "      <td>HAM_0002730</td>\n",
       "      <td>ISIC_0025661</td>\n",
       "      <td>bkl</td>\n",
       "      <td>histo</td>\n",
       "      <td>80.0</td>\n",
       "      <td>male</td>\n",
       "      <td>scalp</td>\n",
       "    </tr>\n",
       "    <tr>\n",
       "      <th>4</th>\n",
       "      <td>HAM_0001466</td>\n",
       "      <td>ISIC_0031633</td>\n",
       "      <td>bkl</td>\n",
       "      <td>histo</td>\n",
       "      <td>75.0</td>\n",
       "      <td>male</td>\n",
       "      <td>ear</td>\n",
       "    </tr>\n",
       "  </tbody>\n",
       "</table>\n",
       "</div>"
      ],
      "text/plain": [
       "     lesion_id      image_id   dx dx_type   age   sex localization\n",
       "0  HAM_0000118  ISIC_0027419  bkl   histo  80.0  male        scalp\n",
       "1  HAM_0000118  ISIC_0025030  bkl   histo  80.0  male        scalp\n",
       "2  HAM_0002730  ISIC_0026769  bkl   histo  80.0  male        scalp\n",
       "3  HAM_0002730  ISIC_0025661  bkl   histo  80.0  male        scalp\n",
       "4  HAM_0001466  ISIC_0031633  bkl   histo  75.0  male          ear"
      ]
     },
     "execution_count": 17,
     "metadata": {},
     "output_type": "execute_result"
    }
   ],
   "source": [
    "data.head()"
   ]
  },
  {
   "cell_type": "code",
   "execution_count": 18,
   "metadata": {},
   "outputs": [],
   "source": [
    "#create more reader friendly columns\n",
    "data['path'] = data['image_id'].map(ALL_IMAGE_PATH_MAP.get)\n",
    "data['lesion_type'] = data['dx'].map(LESION_MAP.get) \n",
    "data['lesion_type_index'] = pd.Categorical(data['lesion_type']).codes"
   ]
  },
  {
   "cell_type": "code",
   "execution_count": 19,
   "metadata": {},
   "outputs": [
    {
     "data": {
      "text/html": [
       "<div>\n",
       "<style scoped>\n",
       "    .dataframe tbody tr th:only-of-type {\n",
       "        vertical-align: middle;\n",
       "    }\n",
       "\n",
       "    .dataframe tbody tr th {\n",
       "        vertical-align: top;\n",
       "    }\n",
       "\n",
       "    .dataframe thead th {\n",
       "        text-align: right;\n",
       "    }\n",
       "</style>\n",
       "<table border=\"1\" class=\"dataframe\">\n",
       "  <thead>\n",
       "    <tr style=\"text-align: right;\">\n",
       "      <th></th>\n",
       "      <th>lesion_id</th>\n",
       "      <th>image_id</th>\n",
       "      <th>dx</th>\n",
       "      <th>dx_type</th>\n",
       "      <th>age</th>\n",
       "      <th>sex</th>\n",
       "      <th>localization</th>\n",
       "      <th>path</th>\n",
       "      <th>lesion_type</th>\n",
       "      <th>lesion_type_index</th>\n",
       "    </tr>\n",
       "  </thead>\n",
       "  <tbody>\n",
       "    <tr>\n",
       "      <th>0</th>\n",
       "      <td>HAM_0000118</td>\n",
       "      <td>ISIC_0027419</td>\n",
       "      <td>bkl</td>\n",
       "      <td>histo</td>\n",
       "      <td>80.0</td>\n",
       "      <td>male</td>\n",
       "      <td>scalp</td>\n",
       "      <td>../../../../../Skin Cancer Stuff/datasets/HAM1...</td>\n",
       "      <td>Benign keratosis-like lesions</td>\n",
       "      <td>2</td>\n",
       "    </tr>\n",
       "    <tr>\n",
       "      <th>1</th>\n",
       "      <td>HAM_0000118</td>\n",
       "      <td>ISIC_0025030</td>\n",
       "      <td>bkl</td>\n",
       "      <td>histo</td>\n",
       "      <td>80.0</td>\n",
       "      <td>male</td>\n",
       "      <td>scalp</td>\n",
       "      <td>../../../../../Skin Cancer Stuff/datasets/HAM1...</td>\n",
       "      <td>Benign keratosis-like lesions</td>\n",
       "      <td>2</td>\n",
       "    </tr>\n",
       "    <tr>\n",
       "      <th>2</th>\n",
       "      <td>HAM_0002730</td>\n",
       "      <td>ISIC_0026769</td>\n",
       "      <td>bkl</td>\n",
       "      <td>histo</td>\n",
       "      <td>80.0</td>\n",
       "      <td>male</td>\n",
       "      <td>scalp</td>\n",
       "      <td>../../../../../Skin Cancer Stuff/datasets/HAM1...</td>\n",
       "      <td>Benign keratosis-like lesions</td>\n",
       "      <td>2</td>\n",
       "    </tr>\n",
       "    <tr>\n",
       "      <th>3</th>\n",
       "      <td>HAM_0002730</td>\n",
       "      <td>ISIC_0025661</td>\n",
       "      <td>bkl</td>\n",
       "      <td>histo</td>\n",
       "      <td>80.0</td>\n",
       "      <td>male</td>\n",
       "      <td>scalp</td>\n",
       "      <td>../../../../../Skin Cancer Stuff/datasets/HAM1...</td>\n",
       "      <td>Benign keratosis-like lesions</td>\n",
       "      <td>2</td>\n",
       "    </tr>\n",
       "    <tr>\n",
       "      <th>4</th>\n",
       "      <td>HAM_0001466</td>\n",
       "      <td>ISIC_0031633</td>\n",
       "      <td>bkl</td>\n",
       "      <td>histo</td>\n",
       "      <td>75.0</td>\n",
       "      <td>male</td>\n",
       "      <td>ear</td>\n",
       "      <td>../../../../../Skin Cancer Stuff/datasets/HAM1...</td>\n",
       "      <td>Benign keratosis-like lesions</td>\n",
       "      <td>2</td>\n",
       "    </tr>\n",
       "  </tbody>\n",
       "</table>\n",
       "</div>"
      ],
      "text/plain": [
       "     lesion_id      image_id   dx dx_type   age   sex localization  \\\n",
       "0  HAM_0000118  ISIC_0027419  bkl   histo  80.0  male        scalp   \n",
       "1  HAM_0000118  ISIC_0025030  bkl   histo  80.0  male        scalp   \n",
       "2  HAM_0002730  ISIC_0026769  bkl   histo  80.0  male        scalp   \n",
       "3  HAM_0002730  ISIC_0025661  bkl   histo  80.0  male        scalp   \n",
       "4  HAM_0001466  ISIC_0031633  bkl   histo  75.0  male          ear   \n",
       "\n",
       "                                                path  \\\n",
       "0  ../../../../../Skin Cancer Stuff/datasets/HAM1...   \n",
       "1  ../../../../../Skin Cancer Stuff/datasets/HAM1...   \n",
       "2  ../../../../../Skin Cancer Stuff/datasets/HAM1...   \n",
       "3  ../../../../../Skin Cancer Stuff/datasets/HAM1...   \n",
       "4  ../../../../../Skin Cancer Stuff/datasets/HAM1...   \n",
       "\n",
       "                      lesion_type  lesion_type_index  \n",
       "0  Benign keratosis-like lesions                   2  \n",
       "1  Benign keratosis-like lesions                   2  \n",
       "2  Benign keratosis-like lesions                   2  \n",
       "3  Benign keratosis-like lesions                   2  \n",
       "4  Benign keratosis-like lesions                   2  "
      ]
     },
     "execution_count": 19,
     "metadata": {},
     "output_type": "execute_result"
    }
   ],
   "source": [
    "data.head()"
   ]
  },
  {
   "cell_type": "code",
   "execution_count": 20,
   "metadata": {},
   "outputs": [
    {
     "data": {
      "text/plain": [
       "lesion_id             0\n",
       "image_id              0\n",
       "dx                    0\n",
       "dx_type               0\n",
       "age                  57\n",
       "sex                   0\n",
       "localization          0\n",
       "path                  0\n",
       "lesion_type           0\n",
       "lesion_type_index     0\n",
       "dtype: int64"
      ]
     },
     "execution_count": 20,
     "metadata": {},
     "output_type": "execute_result"
    }
   ],
   "source": [
    "#Check for any null values\n",
    "data.isna().sum()"
   ]
  },
  {
   "cell_type": "code",
   "execution_count": 21,
   "metadata": {},
   "outputs": [
    {
     "data": {
      "text/plain": [
       "Melanocytic nevi                  6705\n",
       "Melanoma                          1113\n",
       "Benign keratosis-like lesions     1099\n",
       "Basal cell carcinoma               514\n",
       "Actinic keratoses                  327\n",
       "Vascular lesions                   142\n",
       "Dermatofibroma                     115\n",
       "Name: lesion_type, dtype: int64"
      ]
     },
     "execution_count": 21,
     "metadata": {},
     "output_type": "execute_result"
    }
   ],
   "source": [
    "data['lesion_type'].value_counts()"
   ]
  },
  {
   "cell_type": "code",
   "execution_count": 22,
   "metadata": {
    "scrolled": false
   },
   "outputs": [
    {
     "data": {
      "text/plain": [
       "<AxesSubplot:>"
      ]
     },
     "execution_count": 22,
     "metadata": {},
     "output_type": "execute_result"
    },
    {
     "data": {
      "image/png": "[encoded data removed]",
      "text/plain": [
       "<Figure size 720x360 with 1 Axes>"
      ]
     },
     "metadata": {},
     "output_type": "display_data"
    }
   ],
   "source": [
    "figure, axis_1 = plt.subplots(1, 1, figsize= (10, 5))\n",
    "data['lesion_type'].value_counts().plot(kind='bar', ax=axis_1)"
   ]
  },
  {
   "cell_type": "code",
   "execution_count": 26,
   "metadata": {},
   "outputs": [],
   "source": [
    "def balanced_dataset(df):\n",
    "    df_balanced = pd.DataFrame()\n",
    "    \n",
    "    for cat in df['lesion_type_index'].unique():\n",
    "        #sample dataset, due to unbalanceness\n",
    "        #sample it to match majority class\n",
    "        temp = resample(df[df['lesion_type_index'] == cat], \n",
    "                        replace=True,     \n",
    "                        n_samples=7000,   \n",
    "                        random_state=123) \n",
    "\n",
    "        # Combine majority class with upsampled minority class\n",
    "        df_balanced = pd.concat([df_balanced, temp])\n",
    " \n",
    "    df_balanced['lesion_type'].value_counts()\n",
    "\n",
    "    return df_balanced"
   ]
  },
  {
   "cell_type": "code",
   "execution_count": 27,
   "metadata": {},
   "outputs": [],
   "source": [
    "#load all images, and normalize\n",
    "def load_img_data(size, df, balanced=False):   \n",
    "    img_h, img_w = size, size\n",
    "    imgs = []\n",
    "    \n",
    "    if balanced:\n",
    "        df = balanced_dataset(df)\n",
    "    \n",
    "    image_paths = list(df['path'])\n",
    "\n",
    "    for i in tqdm(range(len(image_paths))):\n",
    "        img = cv2.imread(image_paths[i])\n",
    "        img = cv2.resize(img, (img_h, img_w))\n",
    "        img = img.astype(np.float32) / 255.\n",
    "        imgs.append(img)\n",
    "\n",
    "    imgs = np.stack(imgs, axis=0)\n",
    "    print(imgs.shape)    \n",
    "    return imgs, df['lesion_type_index'].values"
   ]
  },
  {
   "cell_type": "code",
   "execution_count": 28,
   "metadata": {},
   "outputs": [
    {
     "name": "stderr",
     "output_type": "stream",
     "text": [
      "100%|██████████| 10015/10015 [14:01<00:00, 11.90it/s] \n"
     ]
    },
    {
     "name": "stdout",
     "output_type": "stream",
     "text": [
      "(10015, 128, 128, 3)\n"
     ]
    }
   ],
   "source": [
    "input_images, ground_truths = load_img_data(128, data, balanced=False)"
   ]
  },
  {
   "cell_type": "code",
   "execution_count": 29,
   "metadata": {},
   "outputs": [
    {
     "data": {
      "text/plain": [
       "[(9514, 128, 128, 3), (501, 128, 128, 3), (2003, 128, 128, 3)]"
      ]
     },
     "execution_count": 29,
     "metadata": {},
     "output_type": "execute_result"
    }
   ],
   "source": [
    "#split data into train, validation and test (for training and evaluation)\n",
    "x_train, x_test, y_train, y_test = train_test_split(input_images, ground_truths, test_size=0.20)\n",
    "x_train, x_val, y_train, y_val = train_test_split(input_images, ground_truths, test_size=0.05)\n",
    "\n",
    "train_val_test = (x_train, y_train, x_val, y_val, x_test, y_test)\n",
    "\n",
    "[x_train.shape, x_val.shape, x_test.shape]"
   ]
  },
  {
   "cell_type": "code",
   "execution_count": 38,
   "metadata": {},
   "outputs": [],
   "source": [
    "class Tuner():\n",
    "    def __init__(self, data, hidden_layers, classes, epochs, batch_size):\n",
    "        self.input_shape = data[0][0].shape\n",
    "        self.dcnn = self.download_network()\n",
    "        self.dcnn.trainable = False\n",
    "        self.hidden_layers = hidden_layers\n",
    "        self.classes = classes\n",
    "\n",
    "        self.trainX = data[0]\n",
    "        self.trainY = data[1]\n",
    "        self.valX = data[2]\n",
    "        self.valY = data[3]\n",
    "        self.testX = data[4]\n",
    "        self.testY = data[5]\n",
    "\n",
    "        self.EPOCHS = epochs\n",
    "        self.BATCH_SIZE = batch_size\n",
    "\n",
    "        self.model = self.build_model()\n",
    "        self.train_generator = self.data_augmentation()\n",
    "        \n",
    "        self.predictions = None\n",
    "        self.score = None\n",
    "        self.best_weights = None\n",
    "        \n",
    "    def run(self):\n",
    "        self.fine_tune()\n",
    "\n",
    "    def download_network(self):\n",
    "        return tf.keras.applications.DenseNet201(weights='imagenet', include_top=False, input_shape=self.input_shape)\n",
    "\n",
    "    def build_model(self):\n",
    "        model = tf.keras.models.Sequential()\n",
    "        model.add(self.dcnn)\n",
    "        model.add(tf.keras.layers.Flatten())\n",
    "        model.add(tf.keras.layers.Dropout(0.25))\n",
    "        \n",
    "        for layer in self.hidden_layers:\n",
    "            model.add(tf.keras.layers.Dense(layer, activation='relu'))\n",
    "            model.add(tf.keras.layers.BatchNormalization())\n",
    "            model.add(tf.keras.layers.Dropout(0.46))  \n",
    "\n",
    "        model.add(tf.keras.layers.Dense(self.classes, activation='softmax'))\n",
    "        return model\n",
    "    \n",
    "    def data_augmentation(self):\n",
    "        data_gen_args = dict(\n",
    "                rotation_range=10,\n",
    "                zoom_range=0.1,\n",
    "                shear_range=0.1,\n",
    "                width_shift_range=0.1, \n",
    "                height_shift_range=0.1,\n",
    "                horizontal_flip=True,\n",
    "                vertical_flip=True,\n",
    "            )\n",
    "\n",
    "        train_gen = tf.keras.preprocessing.image.ImageDataGenerator(**data_gen_args)\n",
    "        train_generator = train_gen.flow(self.trainX, self.trainY, batch_size=self.BATCH_SIZE)\n",
    "        return train_generator\n",
    "    \n",
    "    def load_weights(self, name):\n",
    "        print('\\nLoading best accuracy weights.')\n",
    "        self.model.load_weights(name)\n",
    "\n",
    "    def fine_tune(self):\n",
    "        numTrainingSamples = self.trainX.shape[0]\n",
    "        numValidationSamples = self.valX.shape[0]\n",
    "\n",
    "        print (\"\\nPhase A - Training Fully Connected Layers\\n\")\n",
    "        self.model.compile(loss='sparse_categorical_crossentropy', optimizer=tf.keras.optimizers.Adam(lr=0.001), metrics=['accuracy'])\n",
    "\n",
    "#         # Define checkpoint to save best Phase 1 weights\n",
    "        best_weights_ph1 = \"_ph1_weights.hdf5\"\n",
    "        checkpoint = tf.keras.callbacks.ModelCheckpoint(best_weights_ph1, monitor=\"val_loss\", mode=\"min\", save_best_only=True, verbose=1)\n",
    "        \n",
    "#         history = self.model.fit(\n",
    "#             x_train, y_train,\n",
    "#             steps_per_epoch=numTrainingSamples // self.BATCH_SIZE,\n",
    "#             epochs=self.EPOCHS,\n",
    "#             validation_data=(self.valX, self.valY),\n",
    "#             validation_steps=numValidationSamples // self.BATCH_SIZE,\n",
    "#             callbacks=[checkpoint])\n",
    "        \n",
    "        # Store the best phase 1 accuracy\n",
    "#         best_acc_ph1 = max(history.history[\"val_accuracy\"])\n",
    "#         print('\\n\\nMax validation accuracy:', best_acc_ph1)\n",
    "\n",
    "        print('\\nRestoring best weights and predicting validation set.')\n",
    "        self.load_weights(best_weights_ph1)\n",
    "\n",
    "        # Make predictions based on best phase 1 weights\n",
    "        self.predict()       \n",
    "\n",
    "    \n",
    "        print (\"\\nPhase B  - Fine Tune all Layers \\n\")\n",
    "        # Set full original CNN as trainable\n",
    "        self.dcnn.trainable = True\n",
    "\n",
    "        self.model.compile(loss='sparse_categorical_crossentropy', optimizer=tf.keras.optimizers.Adam(lr=1e-5), metrics=['accuracy'])\n",
    "\n",
    "        # Define checkpoint to save best Phase 2 weights\n",
    "        best_weights_ph2 = \"_ph2_weights.hdf5\"\n",
    "        checkpoint = tf.keras.callbacks.ModelCheckpoint(best_weights_ph2, monitor=\"val_loss\", mode=\"min\", save_best_only=True, verbose=1)\n",
    "\n",
    "        history = self.model.fit(\n",
    "            x_train, y_train,\n",
    "            steps_per_epoch=numTrainingSamples // self.BATCH_SIZE,\n",
    "            epochs=self.EPOCHS,\n",
    "            validation_data=(self.valX, self.valY),\n",
    "            validation_steps=numValidationSamples // self.BATCH_SIZE,\n",
    "            callbacks=[checkpoint])\n",
    "\n",
    "        # Store the best phase 2 accuracy\n",
    "        best_acc_ph2 = max(history.history[\"val_accuracy\"])\n",
    "        print('\\n\\nMax validation accuracy:', best_acc_ph2)\n",
    "\n",
    "        # Only if Phase 2 fine-tuning resulted in a better accuracy than phase 1,\n",
    "        # restore best phase 2 weights and update Tuner predictions.\n",
    "        if best_acc_ph2 > best_acc_ph1:\n",
    "            print('\\nPhase 2 resulted in better accuracy than Phase 1.')\n",
    "            print('Restoring best weights of Ph2 and predicting validation set.')\n",
    "            self.load_weights(best_weights_ph2)\n",
    "            self.predict()\n",
    "    \n",
    "    def predict(self):\n",
    "        print('\\nPredicting test set classes.')\n",
    "        self.score = self.model.evaluate(self.testX, self.testY, verbose=0)\n",
    "        print('Test set score:', self.score)\n",
    "        self.predictions = self.model.predict(self.testX, batch_size=self.BATCH_SIZE)\n",
    "        print('Done')"
   ]
  },
  {
   "cell_type": "code",
   "execution_count": null,
   "metadata": {
    "scrolled": true
   },
   "outputs": [
    {
     "name": "stdout",
     "output_type": "stream",
     "text": [
      "\n",
      "Phase A - Training Fully Connected Layers\n",
      "\n",
      "\n",
      "Restoring best weights and predicting validation set.\n",
      "\n",
      "Loading best accuracy weights.\n",
      "\n",
      "Predicting test set classes.\n",
      "Test set score: [0.3809337615966797, 0.8622066974639893]\n",
      "Done\n",
      "\n",
      "Phase B  - Fine Tune all Layers \n",
      "\n",
      "Epoch 1/10\n"
     ]
    }
   ],
   "source": [
    "HIDDEN_LAYERS = [512, 128]\n",
    "CLASSES = len(set(ground_truths))\n",
    "BATCH_SIZE = 128\n",
    "EPOCHS = 10\n",
    "\n",
    "model = Tuner(train_val_test, HIDDEN_LAYERS, CLASSES, EPOCHS, BATCH_SIZE)\n",
    "model.run()"
   ]
  },
  {
   "cell_type": "code",
   "execution_count": null,
   "metadata": {},
   "outputs": [],
   "source": [
    "def plot_confusion_matrix(cm, classes, normalize=False, title='Confusion matrix', cmap=plt.cm.Blues):\n",
    "\n",
    "    plt.imshow(cm, interpolation='nearest', cmap=cmap)\n",
    "    plt.title(title)\n",
    "    plt.colorbar()\n",
    "    tick_marks = np.arange(len(classes))\n",
    "    plt.xticks(tick_marks, classes, rotation=45)\n",
    "    plt.yticks(tick_marks, classes)\n",
    "\n",
    "    if normalize:\n",
    "        cm = cm.astype('float') / cm.sum(axis=1)[:, np.newaxis]\n",
    "\n",
    "    thresh = cm.max() / 2.\n",
    "    for i, j in itertools.product(range(cm.shape[0]), range(cm.shape[1])):\n",
    "        plt.text(j, i, cm[i, j],\n",
    "                 horizontalalignment=\"center\",\n",
    "                 color=\"white\" if cm[i, j] > thresh else \"black\")\n",
    "\n",
    "    plt.tight_layout()\n",
    "    plt.ylabel('True label')\n",
    "    plt.xlabel('Predicted label')\n",
    "\n",
    "\n",
    "# Predict the values from the validation dataset\n",
    "Y_pred = model.predictions\n",
    "# Convert predictions classes to one hot vectors \n",
    "Y_pred_classes = np.argmax(Y_pred,axis = 1) \n",
    "# compute the confusion matrix\n",
    "confusion_mtx = confusion_matrix(y_test, Y_pred_classes)\n",
    "\n",
    "# plot the confusion matrix\n",
    "plot_confusion_matrix(confusion_mtx, classes = range(7))"
   ]
  }
 ],
 "metadata": {
  "kernelspec": {
   "display_name": "Python 3",
   "language": "python",
   "name": "python3"
  },
  "language_info": {
   "codemirror_mode": {
    "name": "ipython",
    "version": 3
   },
   "file_extension": ".py",
   "mimetype": "text/x-python",
   "name": "python",
   "nbconvert_exporter": "python",
   "pygments_lexer": "ipython3",
   "version": "3.7.4"
  }
 },
 "nbformat": 4,
 "nbformat_minor": 4
}
