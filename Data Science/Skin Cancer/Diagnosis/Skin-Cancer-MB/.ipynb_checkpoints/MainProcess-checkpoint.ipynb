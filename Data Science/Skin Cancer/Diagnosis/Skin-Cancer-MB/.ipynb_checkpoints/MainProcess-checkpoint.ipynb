{
 "cells": [
  {
   "cell_type": "code",
   "execution_count": 1,
   "metadata": {},
   "outputs": [],
   "source": [
    "#Inception Model\n",
    "from utils import *\n",
    "from InceptionModel import *\n",
    "\n",
    "ft_inception = fine_tuned_inception()"
   ]
  },
  {
   "cell_type": "code",
   "execution_count": 2,
   "metadata": {},
   "outputs": [
    {
     "name": "stdout",
     "output_type": "stream",
     "text": [
      "Epoch 1/30\n",
      "36/36 [==============================] - 173s 5s/step - loss: 1.0962 - accuracy: 0.6332 - val_loss: 0.4409 - val_accuracy: 0.7980\n",
      "Epoch 2/30\n",
      "36/36 [==============================] - 148s 4s/step - loss: 0.6666 - accuracy: 0.7541 - val_loss: 0.3793 - val_accuracy: 0.8005\n",
      "Epoch 3/30\n",
      "36/36 [==============================] - 147s 4s/step - loss: 0.4956 - accuracy: 0.7809 - val_loss: 0.3633 - val_accuracy: 0.7929\n",
      "Epoch 4/30\n",
      "36/36 [==============================] - 148s 4s/step - loss: 0.4155 - accuracy: 0.8237 - val_loss: 0.3619 - val_accuracy: 0.8131\n",
      "Epoch 5/30\n",
      "36/36 [==============================] - 149s 4s/step - loss: 0.3680 - accuracy: 0.8380 - val_loss: 0.3620 - val_accuracy: 0.8258\n",
      "Epoch 6/30\n",
      "36/36 [==============================] - 151s 4s/step - loss: 0.3565 - accuracy: 0.8447 - val_loss: 0.3449 - val_accuracy: 0.8131\n",
      "Epoch 7/30\n",
      "36/36 [==============================] - 150s 4s/step - loss: 0.3043 - accuracy: 0.8715 - val_loss: 0.3409 - val_accuracy: 0.8182\n",
      "Epoch 8/30\n",
      "36/36 [==============================] - 149s 4s/step - loss: 0.2732 - accuracy: 0.8795 - val_loss: 0.3381 - val_accuracy: 0.8308\n",
      "Epoch 9/30\n",
      "36/36 [==============================] - 150s 4s/step - loss: 0.2603 - accuracy: 0.8925 - val_loss: 0.3386 - val_accuracy: 0.8384\n",
      "Epoch 10/30\n",
      "36/36 [==============================] - 149s 4s/step - loss: 0.2643 - accuracy: 0.8835 - val_loss: 0.3312 - val_accuracy: 0.8460\n",
      "Epoch 11/30\n",
      "36/36 [==============================] - 150s 4s/step - loss: 0.2413 - accuracy: 0.9018 - val_loss: 0.3287 - val_accuracy: 0.8359\n",
      "Epoch 12/30\n",
      "36/36 [==============================] - 149s 4s/step - loss: 0.2279 - accuracy: 0.9058 - val_loss: 0.3311 - val_accuracy: 0.8258\n",
      "Epoch 13/30\n",
      "36/36 [==============================] - 149s 4s/step - loss: 0.1932 - accuracy: 0.9237 - val_loss: 0.3230 - val_accuracy: 0.8434\n",
      "Epoch 14/30\n",
      "36/36 [==============================] - 148s 4s/step - loss: 0.1830 - accuracy: 0.9273 - val_loss: 0.3290 - val_accuracy: 0.8359\n",
      "Epoch 15/30\n",
      "36/36 [==============================] - 149s 4s/step - loss: 0.1637 - accuracy: 0.9384 - val_loss: 0.3268 - val_accuracy: 0.8384\n",
      "Epoch 16/30\n",
      "36/36 [==============================] - 148s 4s/step - loss: 0.1528 - accuracy: 0.9456 - val_loss: 0.3176 - val_accuracy: 0.8409\n",
      "Epoch 17/30\n",
      "36/36 [==============================] - 150s 4s/step - loss: 0.1533 - accuracy: 0.9424 - val_loss: 0.3193 - val_accuracy: 0.8409\n",
      "Epoch 18/30\n",
      "36/36 [==============================] - 148s 4s/step - loss: 0.1327 - accuracy: 0.9603 - val_loss: 0.3292 - val_accuracy: 0.8561\n",
      "Epoch 19/30\n",
      "36/36 [==============================] - 146s 4s/step - loss: 0.1213 - accuracy: 0.9558 - val_loss: 0.3189 - val_accuracy: 0.8434\n",
      "Epoch 20/30\n",
      "36/36 [==============================] - 148s 4s/step - loss: 0.1172 - accuracy: 0.9594 - val_loss: 0.3136 - val_accuracy: 0.8586\n",
      "Epoch 21/30\n",
      "36/36 [==============================] - 148s 4s/step - loss: 0.1077 - accuracy: 0.9656 - val_loss: 0.3193 - val_accuracy: 0.8460\n",
      "Epoch 22/30\n",
      "36/36 [==============================] - 148s 4s/step - loss: 0.1030 - accuracy: 0.9661 - val_loss: 0.3204 - val_accuracy: 0.8434\n",
      "Epoch 23/30\n",
      "36/36 [==============================] - 138s 4s/step - loss: 0.1317 - accuracy: 0.9514 - val_loss: 0.3199 - val_accuracy: 0.8384\n",
      "Epoch 24/30\n",
      "36/36 [==============================] - 116s 3s/step - loss: 0.1015 - accuracy: 0.9665 - val_loss: 0.3143 - val_accuracy: 0.8434\n",
      "Epoch 25/30\n",
      "36/36 [==============================] - 116s 3s/step - loss: 0.0872 - accuracy: 0.9750 - val_loss: 0.3332 - val_accuracy: 0.8485\n"
     ]
    },
    {
     "data": {
      "text/plain": [
       "<tensorflow.python.keras.callbacks.History at 0x2430ece3548>"
      ]
     },
     "execution_count": 2,
     "metadata": {},
     "output_type": "execute_result"
    }
   ],
   "source": [
    "from keras.optimizers import Adam\n",
    "from keras.callbacks import EarlyStopping\n",
    "\n",
    "earlystopper = EarlyStopping(\n",
    "    monitor='val_loss',\n",
    "    mode='auto',\n",
    "    verbose=0,\n",
    "    patience=5\n",
    ")\n",
    "\n",
    "ft_inception.compile(\n",
    "    optimizer= Adam(learning_rate=1e-5),\n",
    "    loss ='binary_crossentropy',\n",
    "    metrics = ['accuracy']\n",
    ")\n",
    "\n",
    "ft_inception.fit(\n",
    "    X_train,\n",
    "    y_train,\n",
    "    epochs=30,\n",
    "    batch_size=64,\n",
    "    callbacks=[earlystopper],\n",
    "    validation_split=0.15,\n",
    "    verbose=1\n",
    ")"
   ]
  },
  {
   "cell_type": "code",
   "execution_count": 3,
   "metadata": {},
   "outputs": [],
   "source": [
    "ft_inception.save(\"models/InceptionModel_acc_97.5_val_84.h5\")"
   ]
  },
  {
   "cell_type": "code",
   "execution_count": 4,
   "metadata": {},
   "outputs": [],
   "source": [
    "y_pred = ft_inception.predict(X_test)"
   ]
  },
  {
   "cell_type": "code",
   "execution_count": 5,
   "metadata": {},
   "outputs": [
    {
     "name": "stdout",
     "output_type": "stream",
     "text": [
      "(660,)\n",
      "[1 0 1 0 0 0 1 0 0 0 1 0 1 0 1 1 0 0 0 0 0 0 1 0 0 0 0 0 0 0 0 1 0 0 0 1 1\n",
      " 1 1 0 0 1 0 1 0 0 0 0 0 1 0 0 0 1 1 0 1 1 0 0 0 0 0 1 0 1 0 1 1 1 1 0 0 0\n",
      " 1 0 1 0 1 0 1 1 0 0 1 1 1 0 1 0 0 1 0 1 1 1 1 0 0 1 0 0 1 1 1 1 0 1 0 1 1\n",
      " 1 0 1 1 0 0 1 0 0 0 0 1 1 1 1 0 0 0 0 0 1 0 0 0 1 0 0 1 0 0 0 1 0 0 1 1 0\n",
      " 1 1 1 0 0 0 0 1 0 0 0 0 0 1 1 1 0 1 0 0 0 0 0 1 1 0 1 1 0 0 0 1 0 0 0 0 0\n",
      " 0 0 0 1 0 0 1 0 0 1 0 0 1 0 0 1 1 1 1 0 0 0 1 1 1 0 0 0 0 0 1 0 0 1 1 0 0\n",
      " 0 0 1 0 0 0 0 0 0 0 1 0 1 1 0 0 1 0 0 0 0 1 0 1 0 1 0 1 0 0 1 1 0 0 0 0 1\n",
      " 0 1 0 0 0 1 0 0 0 0 0 1 0 0 0 1 0 1 0 0 0 1 0 1 0 1 0 0 1 1 1 0 1 0 0 0 0\n",
      " 0 1 0 0 0 1 1 1 0 1 1 1 0 1 1 0 0 1 0 0 0 0 1 0 1 1 0 0 0 0 0 0 0 1 1 1 1\n",
      " 0 0 0 0 0 1 0 0 1 1 1 0 1 1 1 0 0 1 0 0 0 1 1 0 0 0 1 1 0 0 1 0 1 0 0 0 1\n",
      " 1 0 0 1 0 1 0 0 0 0 0 0 0 1 0 0 1 1 0 1 0 1 1 0 0 1 1 1 0 0 1 0 1 1 0 0 0\n",
      " 1 0 1 0 0 1 0 0 0 0 0 0 1 0 1 0 0 1 1 1 1 1 1 0 0 0 0 0 0 0 0 0 1 1 0 1 1\n",
      " 1 0 1 1 1 0 0 0 0 0 0 1 0 0 1 0 1 0 1 0 0 1 1 1 0 0 0 1 0 1 0 0 1 1 1 0 1\n",
      " 1 1 1 1 0 1 0 0 0 1 1 0 0 0 1 1 0 1 0 0 1 1 0 1 0 0 0 0 0 0 0 0 1 0 0 1 0\n",
      " 1 0 0 1 1 1 1 1 0 1 0 1 0 1 1 1 0 1 0 0 0 0 0 0 0 1 1 1 0 1 0 0 0 1 1 0 0\n",
      " 1 1 1 0 0 0 0 0 1 1 0 1 1 0 0 0 0 1 1 1 1 1 0 1 0 0 0 0 0 0 0 0 1 0 1 1 0\n",
      " 1 0 0 0 1 1 0 1 1 0 1 1 1 0 1 0 0 1 0 0 0 0 0 0 0 1 1 1 1 1 0 1 1 0 0 0 1\n",
      " 0 0 0 1 1 1 0 0 1 0 0 1 0 1 0 0 0 1 1 0 1 0 0 1 0 1 1 0 0 0 1]\n"
     ]
    }
   ],
   "source": [
    "print(np.argmax(y_pred, axis=1).shape)\n",
    "print(np.argmax(y_pred, axis=1))"
   ]
  },
  {
   "cell_type": "code",
   "execution_count": 6,
   "metadata": {},
   "outputs": [
    {
     "name": "stdout",
     "output_type": "stream",
     "text": [
      "(660,)\n",
      "[1. 1. 1. 0. 0. 0. 1. 1. 0. 0. 1. 1. 1. 1. 1. 1. 0. 0. 0. 0. 0. 0. 1. 0.\n",
      " 0. 0. 0. 1. 0. 0. 1. 1. 1. 0. 0. 1. 1. 1. 1. 0. 0. 1. 0. 1. 0. 0. 0. 1.\n",
      " 1. 1. 0. 0. 0. 0. 1. 0. 1. 1. 0. 0. 0. 0. 0. 1. 0. 0. 0. 1. 1. 1. 0. 1.\n",
      " 1. 0. 1. 0. 1. 0. 1. 0. 1. 1. 0. 0. 1. 1. 1. 0. 1. 0. 0. 1. 0. 1. 1. 1.\n",
      " 0. 0. 1. 1. 0. 0. 1. 1. 1. 1. 0. 1. 0. 1. 1. 1. 0. 1. 1. 1. 0. 1. 0. 0.\n",
      " 0. 0. 1. 1. 1. 1. 1. 0. 0. 0. 0. 1. 0. 0. 1. 1. 0. 0. 1. 0. 0. 0. 1. 0.\n",
      " 0. 0. 0. 0. 0. 1. 1. 0. 0. 0. 0. 1. 0. 0. 0. 0. 1. 1. 1. 0. 0. 1. 0. 0.\n",
      " 0. 0. 0. 1. 0. 0. 1. 0. 0. 0. 0. 1. 0. 0. 0. 0. 0. 0. 0. 0. 1. 0. 0. 1.\n",
      " 1. 0. 1. 0. 0. 1. 0. 0. 1. 1. 1. 1. 0. 0. 0. 1. 0. 1. 0. 0. 1. 0. 0. 1.\n",
      " 0. 0. 0. 1. 0. 0. 0. 0. 1. 0. 1. 0. 0. 0. 0. 0. 1. 0. 1. 1. 0. 0. 1. 0.\n",
      " 0. 0. 0. 1. 0. 1. 0. 0. 0. 1. 0. 0. 0. 1. 0. 0. 1. 0. 0. 0. 1. 1. 0. 0.\n",
      " 1. 0. 0. 0. 0. 0. 1. 1. 0. 0. 0. 0. 1. 0. 0. 0. 1. 0. 1. 0. 1. 0. 0. 1.\n",
      " 1. 0. 0. 0. 0. 0. 0. 0. 0. 1. 0. 0. 0. 1. 1. 1. 1. 0. 1. 1. 0. 1. 1. 0.\n",
      " 0. 1. 0. 0. 0. 0. 1. 0. 1. 1. 0. 0. 0. 0. 0. 0. 0. 1. 1. 1. 1. 0. 1. 0.\n",
      " 1. 0. 1. 0. 0. 1. 1. 1. 0. 1. 0. 1. 0. 0. 1. 0. 0. 0. 1. 1. 1. 0. 0. 1.\n",
      " 1. 1. 0. 1. 0. 1. 0. 0. 0. 1. 1. 0. 0. 1. 1. 1. 0. 0. 0. 0. 0. 0. 1. 1.\n",
      " 0. 0. 1. 1. 0. 1. 1. 0. 1. 0. 0. 1. 1. 1. 0. 0. 1. 0. 1. 1. 0. 0. 0. 1.\n",
      " 0. 1. 0. 0. 1. 0. 0. 0. 0. 0. 0. 1. 0. 0. 0. 0. 1. 0. 1. 0. 0. 1. 0. 1.\n",
      " 0. 0. 1. 0. 1. 1. 0. 1. 1. 1. 0. 1. 1. 0. 1. 1. 1. 0. 0. 0. 1. 0. 0. 1.\n",
      " 1. 0. 1. 0. 1. 0. 1. 0. 0. 1. 1. 1. 0. 0. 1. 1. 0. 0. 0. 0. 1. 1. 1. 1.\n",
      " 1. 1. 1. 1. 1. 0. 1. 1. 0. 0. 1. 1. 1. 0. 1. 1. 1. 1. 1. 0. 0. 1. 1. 1.\n",
      " 1. 0. 1. 0. 1. 0. 1. 0. 0. 1. 0. 0. 1. 1. 0. 0. 0. 1. 1. 1. 1. 0. 0. 0.\n",
      " 0. 0. 0. 1. 1. 1. 0. 0. 0. 0. 0. 1. 0. 0. 1. 1. 1. 1. 1. 0. 0. 0. 1. 1.\n",
      " 1. 0. 0. 1. 1. 1. 0. 0. 0. 0. 1. 1. 1. 0. 1. 1. 0. 0. 0. 0. 1. 1. 0. 1.\n",
      " 1. 0. 1. 0. 1. 0. 0. 1. 0. 0. 0. 1. 0. 1. 1. 0. 1. 0. 1. 0. 0. 1. 1. 1.\n",
      " 1. 0. 1. 1. 1. 0. 1. 1. 0. 1. 0. 1. 1. 0. 1. 1. 0. 1. 1. 1. 1. 1. 0. 1.\n",
      " 1. 0. 1. 0. 1. 0. 0. 0. 1. 0. 0. 0. 0. 1. 0. 0. 1. 0. 1. 0. 0. 1. 1. 1.\n",
      " 0. 1. 0. 1. 1. 0. 0. 1. 0. 0. 1. 1.]\n"
     ]
    }
   ],
   "source": [
    "print(y_test.shape)\n",
    "print(y_test)"
   ]
  },
  {
   "cell_type": "code",
   "execution_count": 9,
   "metadata": {
    "scrolled": true
   },
   "outputs": [
    {
     "name": "stdout",
     "output_type": "stream",
     "text": [
      "Confusion Matrix :\n",
      "[[322  38]\n",
      " [ 66 234]]\n",
      "Accuracy Score : 0.8424242424242424\n",
      "Report : \n",
      "              precision    recall  f1-score   support\n",
      "\n",
      "         0.0       0.83      0.89      0.86       360\n",
      "         1.0       0.86      0.78      0.82       300\n",
      "\n",
      "    accuracy                           0.84       660\n",
      "   macro avg       0.85      0.84      0.84       660\n",
      "weighted avg       0.84      0.84      0.84       660\n",
      "\n"
     ]
    }
   ],
   "source": [
    "#generate confusion matrix\n",
    "from sklearn.metrics import accuracy_score \n",
    "from sklearn.metrics import classification_report \n",
    "from sklearn.metrics import confusion_matrix\n",
    "\n",
    "predictions = np.argmax(y_pred, axis=1)\n",
    "results = confusion_matrix(y_test, predictions) \n",
    "print ('Confusion Matrix :')\n",
    "print(results)\n",
    "print ('Accuracy Score :',accuracy_score(y_test, predictions))\n",
    "print ('Report : ')\n",
    "print (classification_report(y_test, predictions))"
   ]
  },
  {
   "cell_type": "code",
   "execution_count": 1,
   "metadata": {},
   "outputs": [],
   "source": [
    "#VGG16 Model\n",
    "from utils import *\n",
    "from VGG16Model import *\n",
    "\n",
    "ft_vgg = fine_tuned_vgg()"
   ]
  },
  {
   "cell_type": "code",
   "execution_count": 2,
   "metadata": {
    "scrolled": true
   },
   "outputs": [
    {
     "name": "stdout",
     "output_type": "stream",
     "text": [
      "Epoch 1/10\n",
      "36/36 [==============================] - 584s 16s/step - loss: 0.8032 - accuracy: 0.6051 - val_loss: 0.4254 - val_accuracy: 0.8258\n",
      "Epoch 2/10\n",
      "36/36 [==============================] - 550s 15s/step - loss: 0.5396 - accuracy: 0.7586 - val_loss: 0.3656 - val_accuracy: 0.8434\n",
      "Epoch 3/10\n",
      "36/36 [==============================] - 549s 15s/step - loss: 0.4662 - accuracy: 0.7965 - val_loss: 0.3421 - val_accuracy: 0.8535\n",
      "Epoch 4/10\n",
      "36/36 [==============================] - 720s 20s/step - loss: 0.4083 - accuracy: 0.8126 - val_loss: 0.3373 - val_accuracy: 0.8510\n",
      "Epoch 5/10\n",
      "36/36 [==============================] - 723s 20s/step - loss: 0.3852 - accuracy: 0.8184 - val_loss: 0.3414 - val_accuracy: 0.8359\n",
      "Epoch 6/10\n",
      "36/36 [==============================] - 724s 20s/step - loss: 0.3465 - accuracy: 0.8492 - val_loss: 0.3214 - val_accuracy: 0.8535\n",
      "Epoch 7/10\n",
      "36/36 [==============================] - 724s 20s/step - loss: 0.3291 - accuracy: 0.8505 - val_loss: 0.3132 - val_accuracy: 0.8586\n",
      "Epoch 8/10\n",
      "36/36 [==============================] - 724s 20s/step - loss: 0.3207 - accuracy: 0.8545 - val_loss: 0.3296 - val_accuracy: 0.8485\n",
      "Epoch 9/10\n",
      "36/36 [==============================] - 722s 20s/step - loss: 0.3358 - accuracy: 0.8478 - val_loss: 0.3117 - val_accuracy: 0.8561\n",
      "Epoch 10/10\n",
      "36/36 [==============================] - 724s 20s/step - loss: 0.3075 - accuracy: 0.8585 - val_loss: 0.3128 - val_accuracy: 0.8611\n"
     ]
    },
    {
     "data": {
      "text/plain": [
       "<tensorflow.python.keras.callbacks.History at 0x2a38c532208>"
      ]
     },
     "execution_count": 2,
     "metadata": {},
     "output_type": "execute_result"
    }
   ],
   "source": [
    "from keras.optimizers import Adam\n",
    "from keras.callbacks import EarlyStopping\n",
    "\n",
    "earlystopper = EarlyStopping(\n",
    "    monitor='val_accuracy',\n",
    "    mode='auto',\n",
    "    verbose=0,\n",
    "    patience=5\n",
    ")\n",
    "\n",
    "ft_vgg.compile(\n",
    "    optimizer= Adam(learning_rate=1e-5),\n",
    "    loss ='binary_crossentropy',\n",
    "    metrics = ['accuracy']\n",
    ")\n",
    "\n",
    "ft_vgg.fit(\n",
    "    X_train,\n",
    "    y_train,\n",
    "    epochs=10,\n",
    "    batch_size=64,\n",
    "    callbacks=[earlystopper],\n",
    "    validation_split=0.15,\n",
    "    verbose=1\n",
    ")"
   ]
  },
  {
   "cell_type": "code",
   "execution_count": 3,
   "metadata": {},
   "outputs": [],
   "source": [
    "ft_vgg.save(\"models/VGGModel_acc_86_val_86.h5\")"
   ]
  },
  {
   "cell_type": "code",
   "execution_count": 4,
   "metadata": {},
   "outputs": [],
   "source": [
    "y_pred_vgg = ft_vgg.predict(X_test)"
   ]
  },
  {
   "cell_type": "code",
   "execution_count": 6,
   "metadata": {},
   "outputs": [
    {
     "name": "stdout",
     "output_type": "stream",
     "text": [
      "Confusion Matrix :\n",
      "[[295  65]\n",
      " [ 33 267]]\n",
      "Accuracy Score : 0.8515151515151516\n",
      "Report : \n",
      "              precision    recall  f1-score   support\n",
      "\n",
      "         0.0       0.90      0.82      0.86       360\n",
      "         1.0       0.80      0.89      0.84       300\n",
      "\n",
      "    accuracy                           0.85       660\n",
      "   macro avg       0.85      0.85      0.85       660\n",
      "weighted avg       0.86      0.85      0.85       660\n",
      "\n"
     ]
    }
   ],
   "source": [
    "#generate confusion matrix\n",
    "from sklearn.metrics import accuracy_score \n",
    "from sklearn.metrics import classification_report \n",
    "from sklearn.metrics import confusion_matrix\n",
    "\n",
    "predictions = np.argmax(y_pred_vgg, axis=1)\n",
    "results = confusion_matrix(y_test, predictions) \n",
    "print ('Confusion Matrix :')\n",
    "print(results)\n",
    "print ('Accuracy Score :',accuracy_score(y_test, predictions))\n",
    "print ('Report : ')\n",
    "print (classification_report(y_test, predictions))"
   ]
  },
  {
   "cell_type": "code",
   "execution_count": 1,
   "metadata": {},
   "outputs": [],
   "source": [
    "#InceptionResnet Model\n",
    "from utils import *\n",
    "from InceptionResnetModel import *\n",
    "\n",
    "ft_ir = fine_tuned_ir()"
   ]
  },
  {
   "cell_type": "code",
   "execution_count": 2,
   "metadata": {
    "scrolled": true
   },
   "outputs": [
    {
     "name": "stdout",
     "output_type": "stream",
     "text": [
      "Epoch 1/20\n",
      "36/36 [==============================] - 362s 10s/step - loss: 0.8484 - accuracy: 0.6435 - val_loss: 0.6698 - val_accuracy: 0.7374\n",
      "Epoch 2/20\n",
      "36/36 [==============================] - 351s 10s/step - loss: 0.5799 - accuracy: 0.7613 - val_loss: 0.5754 - val_accuracy: 0.7778\n",
      "Epoch 3/20\n",
      "36/36 [==============================] - 353s 10s/step - loss: 0.4704 - accuracy: 0.8014 - val_loss: 0.4586 - val_accuracy: 0.8106\n",
      "Epoch 4/20\n",
      "36/36 [==============================] - 348s 10s/step - loss: 0.4319 - accuracy: 0.8086 - val_loss: 0.4125 - val_accuracy: 0.8182\n",
      "Epoch 5/20\n",
      "36/36 [==============================] - 349s 10s/step - loss: 0.3732 - accuracy: 0.8309 - val_loss: 0.3925 - val_accuracy: 0.8283\n",
      "Epoch 6/20\n",
      "36/36 [==============================] - 347s 10s/step - loss: 0.3324 - accuracy: 0.8527 - val_loss: 0.4112 - val_accuracy: 0.8359\n",
      "Epoch 7/20\n",
      "36/36 [==============================] - 344s 10s/step - loss: 0.2980 - accuracy: 0.8728 - val_loss: 0.3864 - val_accuracy: 0.8283\n",
      "Epoch 8/20\n",
      "36/36 [==============================] - 347s 10s/step - loss: 0.2704 - accuracy: 0.8777 - val_loss: 0.3896 - val_accuracy: 0.8283\n",
      "Epoch 9/20\n",
      "36/36 [==============================] - 347s 10s/step - loss: 0.2667 - accuracy: 0.8884 - val_loss: 0.3688 - val_accuracy: 0.8409\n",
      "Epoch 10/20\n",
      "36/36 [==============================] - 347s 10s/step - loss: 0.2364 - accuracy: 0.8992 - val_loss: 0.3658 - val_accuracy: 0.8384\n",
      "Epoch 11/20\n",
      "36/36 [==============================] - 347s 10s/step - loss: 0.2167 - accuracy: 0.9121 - val_loss: 0.3650 - val_accuracy: 0.8384\n",
      "Epoch 12/20\n",
      "36/36 [==============================] - 347s 10s/step - loss: 0.2043 - accuracy: 0.9259 - val_loss: 0.3824 - val_accuracy: 0.8409\n",
      "Epoch 13/20\n",
      "36/36 [==============================] - 346s 10s/step - loss: 0.1984 - accuracy: 0.9206 - val_loss: 0.3784 - val_accuracy: 0.8333\n",
      "Epoch 14/20\n",
      "36/36 [==============================] - 347s 10s/step - loss: 0.1902 - accuracy: 0.9299 - val_loss: 0.3681 - val_accuracy: 0.8333\n"
     ]
    },
    {
     "data": {
      "text/plain": [
       "<tensorflow.python.keras.callbacks.History at 0x1ec8e74d5c8>"
      ]
     },
     "execution_count": 2,
     "metadata": {},
     "output_type": "execute_result"
    }
   ],
   "source": [
    "from keras.optimizers import Adam\n",
    "from keras.callbacks import EarlyStopping\n",
    "\n",
    "earlystopper = EarlyStopping(\n",
    "    monitor='val_accuracy',\n",
    "    mode='auto',\n",
    "    verbose=0,\n",
    "    patience=5\n",
    ")\n",
    "\n",
    "ft_ir.compile(\n",
    "    optimizer= Adam(learning_rate=1e-5),\n",
    "    loss ='binary_crossentropy',\n",
    "    metrics = ['accuracy']\n",
    ")\n",
    "\n",
    "ft_ir.fit(\n",
    "    X_train,\n",
    "    y_train,\n",
    "    epochs=20,\n",
    "    batch_size=64,\n",
    "    callbacks=[earlystopper],\n",
    "    validation_split=0.15,\n",
    "    verbose=1\n",
    ")"
   ]
  },
  {
   "cell_type": "code",
   "execution_count": 3,
   "metadata": {},
   "outputs": [],
   "source": [
    "ft_ir.save(\"models/InceptionResnetModel.h5\")"
   ]
  },
  {
   "cell_type": "code",
   "execution_count": 4,
   "metadata": {},
   "outputs": [],
   "source": [
    "y_pred_ir = ft_ir.predict(X_test)"
   ]
  },
  {
   "cell_type": "code",
   "execution_count": 5,
   "metadata": {},
   "outputs": [
    {
     "name": "stdout",
     "output_type": "stream",
     "text": [
      "Confusion Matrix :\n",
      "[[307  53]\n",
      " [ 51 249]]\n",
      "Accuracy Score : 0.8424242424242424\n",
      "Report : \n",
      "              precision    recall  f1-score   support\n",
      "\n",
      "         0.0       0.86      0.85      0.86       360\n",
      "         1.0       0.82      0.83      0.83       300\n",
      "\n",
      "    accuracy                           0.84       660\n",
      "   macro avg       0.84      0.84      0.84       660\n",
      "weighted avg       0.84      0.84      0.84       660\n",
      "\n"
     ]
    }
   ],
   "source": [
    "#generate confusion matrix\n",
    "from sklearn.metrics import accuracy_score \n",
    "from sklearn.metrics import classification_report \n",
    "from sklearn.metrics import confusion_matrix\n",
    "\n",
    "predictions = np.argmax(y_pred_ir, axis=1)\n",
    "results = confusion_matrix(y_test, predictions) \n",
    "print ('Confusion Matrix :')\n",
    "print(results)\n",
    "print ('Accuracy Score :',accuracy_score(y_test, predictions))\n",
    "print ('Report : ')\n",
    "print (classification_report(y_test, predictions))"
   ]
  }
 ],
 "metadata": {
  "kernelspec": {
   "display_name": "Python 3",
   "language": "python",
   "name": "python3"
  },
  "language_info": {
   "codemirror_mode": {
    "name": "ipython",
    "version": 3
   },
   "file_extension": ".py",
   "mimetype": "text/x-python",
   "name": "python",
   "nbconvert_exporter": "python",
   "pygments_lexer": "ipython3",
   "version": "3.7.4"
  }
 },
 "nbformat": 4,
 "nbformat_minor": 4
}
