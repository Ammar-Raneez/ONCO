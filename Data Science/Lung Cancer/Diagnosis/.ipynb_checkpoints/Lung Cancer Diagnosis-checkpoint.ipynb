{
 "cells": [
  {
   "cell_type": "markdown",
   "metadata": {},
   "source": [
    "##### CODE TO FILTER THE NUMBER OF NO FINDINGS IMAGES AND CANCER (MASS) LUNG IMAGES TO ROUGHLY (5700) IMAGES"
   ]
  },
  {
   "cell_type": "code",
   "execution_count": 1,
   "metadata": {},
   "outputs": [],
   "source": [
    "# Importing Libs\n",
    "\n",
    "import glob\n",
    "import shutil\n",
    "import os"
   ]
  },
  {
   "cell_type": "code",
   "execution_count": 37,
   "metadata": {},
   "outputs": [],
   "source": [
    "# # This piece of code is to extract 5700 images from the MASS IMAGES\n",
    "\n",
    "# src_dir = \"D:/IIT/2nd Year/SDGP/Lung Cancer/Lung Cancer Detection/Nih All d/Mass\"\n",
    "# dst_dir = \"D:/IIT/2nd Year/SDGP/Lung Cancer/Lung Cancer Detection/mass_images\"   # create an empty folder and add the location\n",
    "\n",
    "# counter = 0\n",
    "\n",
    "# for jpgfile in glob.iglob(os.path.join(src_dir, \"*.png\")):\n",
    "#     shutil.copy(jpgfile, dst_dir)\n",
    "#     counter += 1\n",
    "#     if(counter == 5700):\n",
    "#         break"
   ]
  },
  {
   "cell_type": "code",
   "execution_count": 38,
   "metadata": {},
   "outputs": [],
   "source": [
    "# This piece of code is to extract 5700 images from the NO FINDINGS IMAGES\n",
    "\n",
    "src_dir = \"D:/IIT/2nd Year/SDGP/Lung Cancer/Lung Cancer Detection/Nih All d/No Finding\"\n",
    "dst_dir = \"D:/IIT/2nd Year/SDGP/Lung Cancer/Lung Cancer Detection/noFindigs_images\"   # create an empty folder and add the location\n",
    "\n",
    "counter = 0\n",
    "\n",
    "for jpgfile in glob.iglob(os.path.join(src_dir, \"*.png\")):\n",
    "    shutil.copy(jpgfile, dst_dir)\n",
    "    counter += 1\n",
    "    if(counter == 5700):\n",
    "        break\n"
   ]
  },
  {
   "cell_type": "code",
   "execution_count": 2,
   "metadata": {},
   "outputs": [],
   "source": [
    "# This piece of code is to split the Mass Lungs dataset into Testing and Training folders\n",
    "\n",
    "# Train Folder (80%) = 1260 images\n",
    "src_dir = \"D:/IIT/2nd Year/SDGP/Lung Cancer/Lung Cancer Detection/Model/chest_xray/Train/Masses\"\n",
    "dst_dir = \"C:/Users/hamma/Desktop/New Lung Cancer Detection Model/chest_xray/Train/Masses\"\n",
    "\n",
    "counter = 0\n",
    "\n",
    "for jpgfile in glob.iglob(os.path.join(src_dir, \"*.png\")):\n",
    "    shutil.move(jpgfile, dst_dir)\n",
    "    counter += 1\n",
    "    if(counter == 1260):\n",
    "        break\n",
    "\n",
    "\n",
    "# Test Folder (20%) = 315 images\n",
    "src_dir = \"D:/IIT/2nd Year/SDGP/Lung Cancer/Lung Cancer Detection/Model/chest_xray/Test/Masses\"\n",
    "dst_dir = \"C:/Users/hamma/Desktop/New Lung Cancer Detection Model/chest_xray/Test/Masses\"\n",
    "\n",
    "counter = 0\n",
    "\n",
    "for jpgfile in glob.iglob(os.path.join(src_dir, \"*.png\")):\n",
    "    shutil.move(jpgfile, dst_dir)\n",
    "    counter += 1\n",
    "    if(counter == 315):\n",
    "        break\n"
   ]
  },
  {
   "cell_type": "code",
   "execution_count": 5,
   "metadata": {},
   "outputs": [],
   "source": [
    "# This piece of code is to split the Healthy Lungs dataset into Testing and Training folders\n",
    "\n",
    "# Train Folder (80%) = 1260 images\n",
    "\n",
    "counter = 0\n",
    "\n",
    "for jpgfile in glob.iglob(os.path.join(src_dir, \"*.jpeg\")):\n",
    "    shutil.move(jpgfile, dst_dir)\n",
    "    counter += 1\n",
    "    if(counter == 1260):\n",
    "        break\n",
    "\n",
    "\n",
    "# Test Folder (20%) = 315 images\n",
    "src_dir = \"C:/Users/hamma/Desktop/Healthy Lungs\"\n",
    "dst_dir = \"C:/Users/hamma/Desktop/New Lung Cancer Detection Model/chest_xray/Test/Healthy\"\n",
    "\n",
    "counter = 0\n",
    "\n",
    "for jpgfile in glob.iglob(os.path.join(src_dir, \"*.jpeg\")):\n",
    "    shutil.move(jpgfile, dst_dir)\n",
    "    counter += 1\n",
    "    if(counter == 315):\n",
    "        break\n"
   ]
  },
  {
   "cell_type": "markdown",
   "metadata": {},
   "source": [
    "## Lung Cancer Detection"
   ]
  },
  {
   "cell_type": "code",
   "execution_count": 6,
   "metadata": {},
   "outputs": [
    {
     "data": {
      "text/plain": [
       "['Test', 'Train']"
      ]
     },
     "execution_count": 6,
     "metadata": {},
     "output_type": "execute_result"
    }
   ],
   "source": [
    "import os\n",
    "os.listdir('./chest_xray/')"
   ]
  },
  {
   "cell_type": "markdown",
   "metadata": {},
   "source": [
    "## Importing libraries"
   ]
  },
  {
   "cell_type": "code",
   "execution_count": 7,
   "metadata": {},
   "outputs": [],
   "source": [
    "from keras.layers import Input, Lambda, Dense, Flatten \n",
    "from keras.models import Model\n",
    "from keras.applications.vgg16 import VGG16\n",
    "from keras.applications.vgg16 import preprocess_input\n",
    "from keras.preprocessing import image\n",
    "from keras.preprocessing.image import ImageDataGenerator\n",
    "from keras.models import Sequential\n",
    "import numpy as np\n",
    "from glob import glob\n",
    "import matplotlib.pyplot as plt\n",
    "import os"
   ]
  },
  {
   "cell_type": "markdown",
   "metadata": {},
   "source": [
    "## Re-sizing all the images"
   ]
  },
  {
   "cell_type": "code",
   "execution_count": 8,
   "metadata": {},
   "outputs": [],
   "source": [
    "IMAGE_SIZE = [224, 224]\n",
    "\n",
    "train_path = './chest_xray/Train'\n",
    "test_path = './chest_xray/Test'"
   ]
  },
  {
   "cell_type": "markdown",
   "metadata": {},
   "source": [
    "## Using VGG16 to create the model"
   ]
  },
  {
   "cell_type": "code",
   "execution_count": 9,
   "metadata": {},
   "outputs": [],
   "source": [
    "vgg = VGG16(input_shape=IMAGE_SIZE + [3], weights='imagenet', include_top = False)"
   ]
  },
  {
   "cell_type": "markdown",
   "metadata": {},
   "source": [
    "### This is to NOT train existing weights"
   ]
  },
  {
   "cell_type": "code",
   "execution_count": 10,
   "metadata": {},
   "outputs": [],
   "source": [
    "for layer in vgg.layers:\n",
    "    layer.trainable = False"
   ]
  },
  {
   "cell_type": "markdown",
   "metadata": {},
   "source": [
    "### Getting the number of folders which are my output classes"
   ]
  },
  {
   "cell_type": "code",
   "execution_count": 11,
   "metadata": {},
   "outputs": [
    {
     "data": {
      "text/plain": [
       "['./chest_xray/Train\\\\Healthy', './chest_xray/Train\\\\Masses']"
      ]
     },
     "execution_count": 11,
     "metadata": {},
     "output_type": "execute_result"
    }
   ],
   "source": [
    "folders = glob(train_path + '/*')\n",
    "folders"
   ]
  },
  {
   "cell_type": "markdown",
   "metadata": {},
   "source": [
    "### Creating a flatten layer to flatten the current vgg output"
   ]
  },
  {
   "cell_type": "code",
   "execution_count": null,
   "metadata": {},
   "outputs": [],
   "source": [
    "x = Flatten()(vgg.output)"
   ]
  },
  {
   "cell_type": "markdown",
   "metadata": {},
   "source": [
    "### Adding our last layer"
   ]
  },
  {
   "cell_type": "code",
   "execution_count": 13,
   "metadata": {},
   "outputs": [],
   "source": [
    "prediction = Dense(len(folders), activation='softmax')(x)"
   ]
  },
  {
   "cell_type": "markdown",
   "metadata": {},
   "source": [
    "### Creating a model object"
   ]
  },
  {
   "cell_type": "code",
   "execution_count": 14,
   "metadata": {},
   "outputs": [],
   "source": [
    "model = Model(inputs=vgg.input, outputs=prediction)"
   ]
  },
  {
   "cell_type": "markdown",
   "metadata": {},
   "source": [
    "### View the structure of the model"
   ]
  },
  {
   "cell_type": "code",
   "execution_count": 15,
   "metadata": {},
   "outputs": [
    {
     "name": "stdout",
     "output_type": "stream",
     "text": [
      "Model: \"functional_1\"\n",
      "_________________________________________________________________\n",
      "Layer (type)                 Output Shape              Param #   \n",
      "=================================================================\n",
      "input_1 (InputLayer)         [(None, 224, 224, 3)]     0         \n",
      "_________________________________________________________________\n",
      "block1_conv1 (Conv2D)        (None, 224, 224, 64)      1792      \n",
      "_________________________________________________________________\n",
      "block1_conv2 (Conv2D)        (None, 224, 224, 64)      36928     \n",
      "_________________________________________________________________\n",
      "block1_pool (MaxPooling2D)   (None, 112, 112, 64)      0         \n",
      "_________________________________________________________________\n",
      "block2_conv1 (Conv2D)        (None, 112, 112, 128)     73856     \n",
      "_________________________________________________________________\n",
      "block2_conv2 (Conv2D)        (None, 112, 112, 128)     147584    \n",
      "_________________________________________________________________\n",
      "block2_pool (MaxPooling2D)   (None, 56, 56, 128)       0         \n",
      "_________________________________________________________________\n",
      "block3_conv1 (Conv2D)        (None, 56, 56, 256)       295168    \n",
      "_________________________________________________________________\n",
      "block3_conv2 (Conv2D)        (None, 56, 56, 256)       590080    \n",
      "_________________________________________________________________\n",
      "block3_conv3 (Conv2D)        (None, 56, 56, 256)       590080    \n",
      "_________________________________________________________________\n",
      "block3_pool (MaxPooling2D)   (None, 28, 28, 256)       0         \n",
      "_________________________________________________________________\n",
      "block4_conv1 (Conv2D)        (None, 28, 28, 512)       1180160   \n",
      "_________________________________________________________________\n",
      "block4_conv2 (Conv2D)        (None, 28, 28, 512)       2359808   \n",
      "_________________________________________________________________\n",
      "block4_conv3 (Conv2D)        (None, 28, 28, 512)       2359808   \n",
      "_________________________________________________________________\n",
      "block4_pool (MaxPooling2D)   (None, 14, 14, 512)       0         \n",
      "_________________________________________________________________\n",
      "block5_conv1 (Conv2D)        (None, 14, 14, 512)       2359808   \n",
      "_________________________________________________________________\n",
      "block5_conv2 (Conv2D)        (None, 14, 14, 512)       2359808   \n",
      "_________________________________________________________________\n",
      "block5_conv3 (Conv2D)        (None, 14, 14, 512)       2359808   \n",
      "_________________________________________________________________\n",
      "block5_pool (MaxPooling2D)   (None, 7, 7, 512)         0         \n",
      "_________________________________________________________________\n",
      "flatten (Flatten)            (None, 25088)             0         \n",
      "_________________________________________________________________\n",
      "dense (Dense)                (None, 2)                 50178     \n",
      "=================================================================\n",
      "Total params: 14,764,866\n",
      "Trainable params: 50,178\n",
      "Non-trainable params: 14,714,688\n",
      "_________________________________________________________________\n"
     ]
    }
   ],
   "source": [
    "model.summary()"
   ]
  },
  {
   "cell_type": "markdown",
   "metadata": {},
   "source": [
    "### Telling the model what cost and optimization method to use"
   ]
  },
  {
   "cell_type": "code",
   "execution_count": 16,
   "metadata": {},
   "outputs": [],
   "source": [
    "model.compile(\n",
    "    loss='categorical_crossentropy',\n",
    "    optimizer = 'adam',\n",
    "    metrics = ['accuracy']\n",
    ")"
   ]
  },
  {
   "cell_type": "markdown",
   "metadata": {},
   "source": [
    "### Use the Image Data Generator to import the images from the dataset"
   ]
  },
  {
   "cell_type": "code",
   "execution_count": 17,
   "metadata": {},
   "outputs": [],
   "source": [
    "train_datagen = ImageDataGenerator(rescale=1./255, shear_range=0.2, zoom_range=0.2, horizontal_flip=True)\n",
    "test_datagen = ImageDataGenerator(rescale=1./255)"
   ]
  },
  {
   "cell_type": "code",
   "execution_count": 18,
   "metadata": {
    "scrolled": true
   },
   "outputs": [
    {
     "name": "stdout",
     "output_type": "stream",
     "text": [
      "Found 2520 images belonging to 2 classes.\n"
     ]
    }
   ],
   "source": [
    "training_set = train_datagen.flow_from_directory(train_path, target_size=(224,224), batch_size=32, class_mode='categorical')"
   ]
  },
  {
   "cell_type": "code",
   "execution_count": 19,
   "metadata": {
    "scrolled": true
   },
   "outputs": [
    {
     "data": {
      "text/plain": [
       "{'Healthy': 0, 'Masses': 1}"
      ]
     },
     "execution_count": 19,
     "metadata": {},
     "output_type": "execute_result"
    }
   ],
   "source": [
    "training_set.class_indices"
   ]
  },
  {
   "cell_type": "code",
   "execution_count": 20,
   "metadata": {
    "scrolled": true
   },
   "outputs": [
    {
     "name": "stdout",
     "output_type": "stream",
     "text": [
      "Found 630 images belonging to 2 classes.\n"
     ]
    }
   ],
   "source": [
    "testing_set = test_datagen.flow_from_directory(test_path, target_size=(224,224), batch_size=32, class_mode='categorical')"
   ]
  },
  {
   "cell_type": "code",
   "execution_count": 21,
   "metadata": {},
   "outputs": [
    {
     "data": {
      "text/plain": [
       "{'Healthy': 0, 'Masses': 1}"
      ]
     },
     "execution_count": 21,
     "metadata": {},
     "output_type": "execute_result"
    }
   ],
   "source": [
    "testing_set.class_indices"
   ]
  },
  {
   "cell_type": "code",
   "execution_count": 22,
   "metadata": {},
   "outputs": [
    {
     "name": "stdout",
     "output_type": "stream",
     "text": [
      "WARNING:tensorflow:From <ipython-input-22-25adfb2c0849>:6: Model.fit_generator (from tensorflow.python.keras.engine.training) is deprecated and will be removed in a future version.\n",
      "Instructions for updating:\n",
      "Please use Model.fit, which supports generators.\n",
      "Epoch 1/10\n",
      "79/79 [==============================] - 930s 12s/step - loss: 0.1411 - accuracy: 0.9413 - val_loss: 0.0172 - val_accuracy: 0.9937\n",
      "Epoch 2/10\n",
      "79/79 [==============================] - 929s 12s/step - loss: 0.0111 - accuracy: 0.9964 - val_loss: 0.0113 - val_accuracy: 0.9984\n",
      "Epoch 3/10\n",
      "79/79 [==============================] - 1083s 14s/step - loss: 0.0090 - accuracy: 0.9972 - val_loss: 0.0095 - val_accuracy: 0.9984\n",
      "Epoch 4/10\n",
      "79/79 [==============================] - 1089s 14s/step - loss: 0.0068 - accuracy: 0.9980 - val_loss: 0.0054 - val_accuracy: 1.0000\n",
      "Epoch 5/10\n",
      "79/79 [==============================] - 1047s 13s/step - loss: 0.0042 - accuracy: 1.0000 - val_loss: 0.0077 - val_accuracy: 0.9984\n",
      "Epoch 6/10\n",
      "79/79 [==============================] - 1001s 13s/step - loss: 0.0038 - accuracy: 0.9992 - val_loss: 0.0100 - val_accuracy: 0.9937\n",
      "Epoch 7/10\n",
      "79/79 [==============================] - 1020s 13s/step - loss: 0.0041 - accuracy: 0.9988 - val_loss: 0.0161 - val_accuracy: 0.9921\n",
      "Epoch 8/10\n",
      "79/79 [==============================] - 1018s 13s/step - loss: 0.0024 - accuracy: 1.0000 - val_loss: 0.0046 - val_accuracy: 1.0000\n",
      "Epoch 9/10\n",
      "79/79 [==============================] - 975s 12s/step - loss: 0.0014 - accuracy: 1.0000 - val_loss: 0.0032 - val_accuracy: 1.0000\n",
      "Epoch 10/10\n",
      "79/79 [==============================] - 945s 12s/step - loss: 0.0018 - accuracy: 0.9996 - val_loss: 0.0057 - val_accuracy: 0.9984\n"
     ]
    }
   ],
   "source": [
    "result = model.fit_generator(\n",
    "    training_set,\n",
    "    validation_data=testing_set,\n",
    "    epochs=10,\n",
    "    steps_per_epoch=len(training_set),\n",
    "    validation_steps=len(testing_set)\n",
    ")\n",
    "# val_accuracy: 100%\n",
    "# accuracy: 99%"
   ]
  },
  {
   "cell_type": "code",
   "execution_count": 23,
   "metadata": {},
   "outputs": [
    {
     "name": "stdout",
     "output_type": "stream",
     "text": [
      "WARNING:tensorflow:From <ipython-input-23-fc5093320328>:2: Model.evaluate_generator (from tensorflow.python.keras.engine.training) is deprecated and will be removed in a future version.\n",
      "Instructions for updating:\n",
      "Please use Model.evaluate, which supports generators.\n"
     ]
    },
    {
     "data": {
      "text/plain": [
       "[0.0014946934534236789, 1.0]"
      ]
     },
     "execution_count": 23,
     "metadata": {},
     "output_type": "execute_result"
    }
   ],
   "source": [
    "#getting the accuracy\n",
    "model.evaluate_generator(training_set)\n",
    "# output [loss, accuracy]"
   ]
  },
  {
   "cell_type": "code",
   "execution_count": 24,
   "metadata": {},
   "outputs": [
    {
     "data": {
      "text/plain": [
       "[0.005709246266633272, 0.9984126687049866]"
      ]
     },
     "execution_count": 24,
     "metadata": {},
     "output_type": "execute_result"
    }
   ],
   "source": [
    "#getting the validation accuracy\n",
    "model.evaluate_generator(testing_set)\n",
    "# output [val_loss, val_acc]"
   ]
  },
  {
   "cell_type": "code",
   "execution_count": 43,
   "metadata": {
    "scrolled": true
   },
   "outputs": [
    {
     "name": "stdout",
     "output_type": "stream",
     "text": [
      "[[315   0]\n",
      " [ 26 289]]\n",
      "Testing Accuracy: 0.9587301587301588\n",
      "Sensitivity: 0.9237536656891495\n",
      "Specificity: 1.0\n"
     ]
    },
    {
     "data": {
      "image/png": "[encoded data removed]",
      "text/plain": [
       "<Figure size 432x288 with 2 Axes>"
      ]
     },
     "metadata": {
      "needs_background": "light"
     },
     "output_type": "display_data"
    }
   ],
   "source": [
    "# Generate Confusion Matrix\n",
    "import tensorflow as tf\n",
    "y_actual = []\n",
    "y_test = []\n",
    "\n",
    "for i in os.listdir('./chest_xray/Test/Healthy/'):\n",
    "    img = image.load_img('./chest_xray/Test/Healthy/'+i, target_size=(224,224))\n",
    "    img = image.img_to_array(img)\n",
    "    img = np.expand_dims(img, axis=0)\n",
    "    p = model.predict(img)\n",
    "    p = np.argmax(p,axis=1)\n",
    "    y_test.append(p[0])\n",
    "    y_actual.append(0)\n",
    "    \n",
    "for i in os.listdir('./chest_xray/Test/Masses/'):\n",
    "    img = image.load_img('./chest_xray/Test/Masses/'+i, target_size=(224,224))\n",
    "    img = image.img_to_array(img)\n",
    "    img = np.expand_dims(img, axis=0)\n",
    "    p = model.predict(img)\n",
    "    p = np.argmax(p,axis=1)\n",
    "    y_test.append(p[0])\n",
    "    y_actual.append(1)\n",
    "    \n",
    "y_actual = np.array(y_actual)\n",
    "y_test = np.array(y_test)\n",
    "\n",
    "from sklearn.metrics import confusion_matrix\n",
    "cm = confusion_matrix(y_actual, y_test)\n",
    "\n",
    "import seaborn as sns\n",
    "sns.heatmap(cm, cmap=\"plasma\", annot=True)\n",
    "\n",
    "model_TP = cm[0][0]\n",
    "model_TN = cm[1][1]\n",
    "model_FN = cm[1][0]\n",
    "model_FP = cm[0][1]\n",
    "\n",
    "print(cm)\n",
    "print(\"Testing Accuracy:\", (model_TP + model_TN) / (model_TP + model_TN + model_FP + model_FN))\n",
    "print(\"Sensitivity:\", (model_TP) / (model_TP + model_FN))\n",
    "print(\"Specificity:\", (model_TN) / (model_TN + model_FP))"
   ]
  },
  {
   "cell_type": "markdown",
   "metadata": {},
   "source": [
    "### Plot the loss"
   ]
  },
  {
   "cell_type": "code",
   "execution_count": 28,
   "metadata": {
    "scrolled": true
   },
   "outputs": [
    {
     "data": {
      "image/png": "[encoded data removed]",
      "text/plain": [
       "<Figure size 432x288 with 1 Axes>"
      ]
     },
     "metadata": {
      "needs_background": "light"
     },
     "output_type": "display_data"
    },
    {
     "data": {
      "text/plain": [
       "<Figure size 432x288 with 0 Axes>"
      ]
     },
     "metadata": {},
     "output_type": "display_data"
    }
   ],
   "source": [
    "plt.plot(result.history['loss'], label='train loss')\n",
    "plt.plot(result.history['val_loss'], label='val loss')\n",
    "plt.legend()\n",
    "plt.show()\n",
    "plt.savefig('LossVal_loss')"
   ]
  },
  {
   "cell_type": "markdown",
   "metadata": {},
   "source": [
    "### Plot the accuracy"
   ]
  },
  {
   "cell_type": "code",
   "execution_count": 29,
   "metadata": {
    "scrolled": true
   },
   "outputs": [
    {
     "data": {
      "image/png": "[encoded data removed]",
      "text/plain": [
       "<Figure size 432x288 with 1 Axes>"
      ]
     },
     "metadata": {
      "needs_background": "light"
     },
     "output_type": "display_data"
    },
    {
     "data": {
      "text/plain": [
       "<Figure size 432x288 with 0 Axes>"
      ]
     },
     "metadata": {},
     "output_type": "display_data"
    }
   ],
   "source": [
    "plt.plot(result.history['accuracy'], label='train acc')\n",
    "plt.plot(result.history['val_accuracy'], label='val acc')\n",
    "plt.legend()\n",
    "plt.show()\n",
    "plt.savefig('AccVal_acc')"
   ]
  },
  {
   "cell_type": "code",
   "execution_count": 30,
   "metadata": {},
   "outputs": [
    {
     "data": {
      "text/plain": [
       "{'loss': [0.14106357097625732,\n",
       "  0.011060341261327267,\n",
       "  0.009037978015840054,\n",
       "  0.006788343656808138,\n",
       "  0.004171081352978945,\n",
       "  0.0037762464489787817,\n",
       "  0.004097997210919857,\n",
       "  0.0023687260691076517,\n",
       "  0.0013582390965893865,\n",
       "  0.0017788930563256145],\n",
       " 'accuracy': [0.9412698149681091,\n",
       "  0.9964285492897034,\n",
       "  0.9972222447395325,\n",
       "  0.9980158805847168,\n",
       "  1.0,\n",
       "  0.9992063641548157,\n",
       "  0.9988095164299011,\n",
       "  1.0,\n",
       "  1.0,\n",
       "  0.9996031522750854],\n",
       " 'val_loss': [0.017220767214894295,\n",
       "  0.01134504284709692,\n",
       "  0.009545917622745037,\n",
       "  0.00535456370562315,\n",
       "  0.007662530988454819,\n",
       "  0.009992381557822227,\n",
       "  0.01606817916035652,\n",
       "  0.004552628844976425,\n",
       "  0.0031598687637597322,\n",
       "  0.005709247197955847],\n",
       " 'val_accuracy': [0.9936507940292358,\n",
       "  0.9984126687049866,\n",
       "  0.9984126687049866,\n",
       "  1.0,\n",
       "  0.9984126687049866,\n",
       "  0.9936507940292358,\n",
       "  0.9920634627342224,\n",
       "  1.0,\n",
       "  1.0,\n",
       "  0.9984126687049866]}"
      ]
     },
     "execution_count": 30,
     "metadata": {},
     "output_type": "execute_result"
    }
   ],
   "source": [
    "result.history"
   ]
  },
  {
   "cell_type": "markdown",
   "metadata": {},
   "source": [
    "### Saving the model which used VGG16"
   ]
  },
  {
   "cell_type": "code",
   "execution_count": 31,
   "metadata": {},
   "outputs": [],
   "source": [
    "import tensorflow as tf\n",
    "from keras.models import load_model\n",
    "\n",
    "model.save('model_vgg16.h5')"
   ]
  }
 ],
 "metadata": {
  "kernelspec": {
   "display_name": "Python 3",
   "language": "python",
   "name": "python3"
  },
  "language_info": {
   "codemirror_mode": {
    "name": "ipython",
    "version": 3
   },
   "file_extension": ".py",
   "mimetype": "text/x-python",
   "name": "python",
   "nbconvert_exporter": "python",
   "pygments_lexer": "ipython3",
   "version": "3.9.3"
  }
 },
 "nbformat": 4,
 "nbformat_minor": 4
}
